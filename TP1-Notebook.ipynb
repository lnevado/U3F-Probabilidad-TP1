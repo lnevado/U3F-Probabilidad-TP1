{
 "cells": [
  {
   "cell_type": "markdown",
   "metadata": {},
   "source": [
    "<center>\n",
    "    <h1>\n",
    "            Probabilidad y Estadística\n",
    "    </h1>\n",
    "    <h2>\n",
    "            Trabajo Práctico\n",
    "    </h2>\n",
    "</center>\n",
    "\n",
    "<table>\n",
    "<thead>\n",
    "  <tr>\n",
    "    <th>Integrante</th>\n",
    "    <th>Legajo</th>\n",
    "  </tr>\n",
    "</thead>\n",
    "<tbody>\n",
    "  <tr>\n",
    "    <td>Cintia Capece</td>\n",
    "    <td>xxxxx</td>\n",
    "  </tr>\n",
    "  <tr>\n",
    "    <td>Nicolás Bellesi</td>\n",
    "    <td>xxxxx</td>\n",
    "  </tr>\n",
    "  <tr>\n",
    "    <td>Lucas Nevado</td>\n",
    "    <td>40768</td>\n",
    "  </tr>\n",
    "</tbody>\n",
    "</table>"
   ]
  },
  {
   "cell_type": "markdown",
   "metadata": {},
   "source": [
    "## Índice\n",
    "\n",
    "* [Setup](#setup)\n",
    "* [Parte 1: Simulación](#parte_1)\n",
    "    * [1.1 Generador Bernoulli](#p_1_1)\n",
    "    * [1.2 Generador Binomial](#p_1_2)\n",
    "    * [1.3 Generador Exponencial](#p_1_3)\n",
    "    * [1.4 Generador Normal (y Normal Estándar)](#p_1_4)\n",
    "* [Bibliografía](#bibliografia)\n",
    "\n",
    "---"
   ]
  },
  {
   "cell_type": "markdown",
   "metadata": {},
   "source": [
    "## Setup<a class=\"anchor\" id=\"setup\"></a>"
   ]
  },
  {
   "cell_type": "code",
   "execution_count": 12,
   "metadata": {},
   "outputs": [],
   "source": [
    "import random\n",
    "import math"
   ]
  },
  {
   "cell_type": "markdown",
   "metadata": {},
   "source": [
    "## Parte 1: Simulación<a class=\"anchor\" id=\"parte_1\"></a>"
   ]
  },
  {
   "cell_type": "markdown",
   "metadata": {},
   "source": [
    "### 1) Generador Bernoulli<a class=\"anchor\" id=\"p_1_1\"></a>"
   ]
  },
  {
   "cell_type": "code",
   "execution_count": 13,
   "metadata": {},
   "outputs": [],
   "source": [
    "def bernoulli_gen(p):\n",
    "    uniforme = random.uniform(0, 1)\n",
    "    if uniforme < p:\n",
    "        return 1\n",
    "    else:\n",
    "        return 0"
   ]
  },
  {
   "cell_type": "code",
   "execution_count": 14,
   "metadata": {},
   "outputs": [
    {
     "data": {
      "text/plain": [
       "1"
      ]
     },
     "execution_count": 14,
     "metadata": {},
     "output_type": "execute_result"
    }
   ],
   "source": [
    "bernoulli_gen(0.75)"
   ]
  },
  {
   "cell_type": "markdown",
   "metadata": {},
   "source": [
    "### 2) Generador Binomial<a class=\"anchor\" id=\"p_1_2\"></a>"
   ]
  },
  {
   "cell_type": "code",
   "execution_count": 15,
   "metadata": {},
   "outputs": [],
   "source": [
    "def binomial_gen(n, p):\n",
    "    exitos = 0\n",
    "    for i in range(n):\n",
    "        exitos += bernoulli_gen(p)\n",
    "\n",
    "    return exitos"
   ]
  },
  {
   "cell_type": "code",
   "execution_count": 16,
   "metadata": {},
   "outputs": [
    {
     "data": {
      "text/plain": [
       "7"
      ]
     },
     "execution_count": 16,
     "metadata": {},
     "output_type": "execute_result"
    }
   ],
   "source": [
    "binomial_gen(10, 0.5)"
   ]
  },
  {
   "cell_type": "markdown",
   "metadata": {},
   "source": [
    "### 3) Generador Exponencial<a class=\"anchor\" id=\"p_1_3\"></a>"
   ]
  },
  {
   "cell_type": "code",
   "execution_count": 17,
   "metadata": {},
   "outputs": [],
   "source": [
    "def exponencial_gen(λ):\n",
    "    uniforme = random.uniform(0, 1)\n",
    "    \n",
    "    exponencial = - (1 / λ) * math.log(uniforme)\n",
    "\n",
    "    return exponencial"
   ]
  },
  {
   "cell_type": "code",
   "execution_count": 18,
   "metadata": {},
   "outputs": [
    {
     "data": {
      "text/plain": [
       "0.18578955234327377"
      ]
     },
     "execution_count": 18,
     "metadata": {},
     "output_type": "execute_result"
    }
   ],
   "source": [
    "exponencial_gen(3)"
   ]
  },
  {
   "cell_type": "markdown",
   "metadata": {},
   "source": [
    "### 4) Generador Normal (y Normal Estándar)<a class=\"anchor\" id=\"p_1_4\"></a>"
   ]
  },
  {
   "cell_type": "code",
   "execution_count": 19,
   "metadata": {},
   "outputs": [],
   "source": [
    "def std_normal_gen():\n",
    "    uniforme_U = random.uniform(0, 1)\n",
    "    uniforme_V = random.uniform(0, 1)\n",
    "\n",
    "    std_normal = math.sqrt(-2 * math.log(uniforme_U)) * math.cos(2 * math.pi * uniforme_V)\n",
    "    \n",
    "    return std_normal"
   ]
  },
  {
   "cell_type": "code",
   "execution_count": 20,
   "metadata": {},
   "outputs": [
    {
     "data": {
      "text/plain": [
       "0.48303401445036154"
      ]
     },
     "execution_count": 20,
     "metadata": {},
     "output_type": "execute_result"
    }
   ],
   "source": [
    "std_normal_gen()"
   ]
  },
  {
   "cell_type": "code",
   "execution_count": 21,
   "metadata": {},
   "outputs": [],
   "source": [
    "def normal_gen(μ = 0, σ = 1):\n",
    "    normal = std_normal_gen() * σ + μ\n",
    "\n",
    "    return normal"
   ]
  },
  {
   "cell_type": "code",
   "execution_count": 22,
   "metadata": {},
   "outputs": [
    {
     "data": {
      "text/plain": [
       "-0.3606311689267714"
      ]
     },
     "execution_count": 22,
     "metadata": {},
     "output_type": "execute_result"
    }
   ],
   "source": [
    "normal_gen(1, 1)"
   ]
  },
  {
   "cell_type": "markdown",
   "metadata": {},
   "source": [
    "## Bibliografía<a class=\"anchor\" id=\"bibliografia\"></a>"
   ]
  }
 ],
 "metadata": {
  "kernelspec": {
   "display_name": "Python 3",
   "language": "python",
   "name": "python3"
  },
  "language_info": {
   "codemirror_mode": {
    "name": "ipython",
    "version": 3
   },
   "file_extension": ".py",
   "mimetype": "text/x-python",
   "name": "python",
   "nbconvert_exporter": "python",
   "pygments_lexer": "ipython3",
   "version": "3.7.4"
  }
 },
 "nbformat": 4,
 "nbformat_minor": 4
}
