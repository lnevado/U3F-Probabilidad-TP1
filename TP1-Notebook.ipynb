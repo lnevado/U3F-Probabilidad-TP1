{
 "cells": [
  {
   "cell_type": "markdown",
   "metadata": {},
   "source": [
    "<center>\n",
    "    <h1>\n",
    "            Probabilidad y Estadística\n",
    "    </h1>\n",
    "    <h2>\n",
    "            Trabajo Práctico\n",
    "    </h2>\n",
    "</center>\n",
    "\n",
    "<table>\n",
    "<thead>\n",
    "  <tr>\n",
    "    <th>Integrante</th>\n",
    "    <th>Legajo</th>\n",
    "  </tr>\n",
    "</thead>\n",
    "<tbody>\n",
    "  <tr>\n",
    "    <td>Cintia Capece</td>\n",
    "    <td>xxxxx</td>\n",
    "  </tr>\n",
    "  <tr>\n",
    "    <td>Nicolás Bellesi</td>\n",
    "    <td>xxxxx</td>\n",
    "  </tr>\n",
    "  <tr>\n",
    "    <td>Lucas Nevado</td>\n",
    "    <td>40768</td>\n",
    "  </tr>\n",
    "</tbody>\n",
    "</table>"
   ]
  },
  {
   "cell_type": "markdown",
   "metadata": {},
   "source": [
    "## Índice\n",
    "\n",
    "* [Setup](#setup)\n",
    "* [Parte 1: Simulación](#parte_1)\n",
    "    * [1.1 Generador Bernoulli](#p_1_1)\n",
    "    * [1.2 Generador Binomial](#p_1_2)\n",
    "    * [1.3 Generador Exponencial](#p_1_3)\n",
    "    * [1.4 Generador Normal (y Normal Estándar)](#p_1_4)\n",
    "* [Parte 2: Estadística descriptiva](#parte_2)\n",
    "    * [2.1 Muestras Exp(0.5)](#p_2_1)\n",
    "    * [2.3 Histogramas Exp(0.5)](#p_2_2)\n",
    "    * [2.3 Muestra n=50 Bin(10, 0.3) y función de distribución empírica](#p_2_3)\n",
    "    * [2.4 Nueva muestra a partir de la función de distribución empírica. Media y varianza muestral](#p_2_4)\n",
    "    * [2.5 Repetición del experimento](#p_2_5)\n",
    "* [Parte 3: Convergencia](#parte_3)\n",
    "    * [3.1 Histogramas Binomial p=0.40](#p_3_1)\n",
    "    * [3.2 Normalización Bin(200, 0.40)](#p_3_2)\n",
    "    * [3.3 Medias muestrales Binomial p=0.40](#p_3_3)\n",
    "* [Parte 4: Estadística inferencial](#parte_4)\n",
    "    * [4.1 Estimaciones puntuales N(100, 5)](#p_4_1)\n",
    "    * [4.2 Intervalos de confianza con varianza conocida](#p_4_2)\n",
    "    * [4.3 Intervalos de confianza con varianza desconocida](#p_4_3)\n",
    "    * [4.4 Probabilidad de cometer un error de tipo II](#p_4_4)\n",
    "    * [4.5 Muestra proveniente de una distribución normal](#p_4_5)\n",
    "* [Bibliografía](#bibliografia)\n",
    "\n",
    "---"
   ]
  },
  {
   "cell_type": "markdown",
   "metadata": {},
   "source": [
    "## Setup<a class=\"anchor\" id=\"setup\"></a>"
   ]
  },
  {
   "cell_type": "code",
   "execution_count": 1,
   "metadata": {},
   "outputs": [
    {
     "data": {
      "text/html": [
       "\n",
       "    <div class=\"bk-root\">\n",
       "        <a href=\"https://bokeh.org\" target=\"_blank\" class=\"bk-logo bk-logo-small bk-logo-notebook\"></a>\n",
       "        <span id=\"1001\">Loading BokehJS ...</span>\n",
       "    </div>"
      ]
     },
     "metadata": {},
     "output_type": "display_data"
    },
    {
     "data": {
      "application/javascript": [
       "\n",
       "(function(root) {\n",
       "  function now() {\n",
       "    return new Date();\n",
       "  }\n",
       "\n",
       "  var force = true;\n",
       "\n",
       "  if (typeof root._bokeh_onload_callbacks === \"undefined\" || force === true) {\n",
       "    root._bokeh_onload_callbacks = [];\n",
       "    root._bokeh_is_loading = undefined;\n",
       "  }\n",
       "\n",
       "  var JS_MIME_TYPE = 'application/javascript';\n",
       "  var HTML_MIME_TYPE = 'text/html';\n",
       "  var EXEC_MIME_TYPE = 'application/vnd.bokehjs_exec.v0+json';\n",
       "  var CLASS_NAME = 'output_bokeh rendered_html';\n",
       "\n",
       "  /**\n",
       "   * Render data to the DOM node\n",
       "   */\n",
       "  function render(props, node) {\n",
       "    var script = document.createElement(\"script\");\n",
       "    node.appendChild(script);\n",
       "  }\n",
       "\n",
       "  /**\n",
       "   * Handle when an output is cleared or removed\n",
       "   */\n",
       "  function handleClearOutput(event, handle) {\n",
       "    var cell = handle.cell;\n",
       "\n",
       "    var id = cell.output_area._bokeh_element_id;\n",
       "    var server_id = cell.output_area._bokeh_server_id;\n",
       "    // Clean up Bokeh references\n",
       "    if (id != null && id in Bokeh.index) {\n",
       "      Bokeh.index[id].model.document.clear();\n",
       "      delete Bokeh.index[id];\n",
       "    }\n",
       "\n",
       "    if (server_id !== undefined) {\n",
       "      // Clean up Bokeh references\n",
       "      var cmd = \"from bokeh.io.state import curstate; print(curstate().uuid_to_server['\" + server_id + \"'].get_sessions()[0].document.roots[0]._id)\";\n",
       "      cell.notebook.kernel.execute(cmd, {\n",
       "        iopub: {\n",
       "          output: function(msg) {\n",
       "            var id = msg.content.text.trim();\n",
       "            if (id in Bokeh.index) {\n",
       "              Bokeh.index[id].model.document.clear();\n",
       "              delete Bokeh.index[id];\n",
       "            }\n",
       "          }\n",
       "        }\n",
       "      });\n",
       "      // Destroy server and session\n",
       "      var cmd = \"import bokeh.io.notebook as ion; ion.destroy_server('\" + server_id + \"')\";\n",
       "      cell.notebook.kernel.execute(cmd);\n",
       "    }\n",
       "  }\n",
       "\n",
       "  /**\n",
       "   * Handle when a new output is added\n",
       "   */\n",
       "  function handleAddOutput(event, handle) {\n",
       "    var output_area = handle.output_area;\n",
       "    var output = handle.output;\n",
       "\n",
       "    // limit handleAddOutput to display_data with EXEC_MIME_TYPE content only\n",
       "    if ((output.output_type != \"display_data\") || (!output.data.hasOwnProperty(EXEC_MIME_TYPE))) {\n",
       "      return\n",
       "    }\n",
       "\n",
       "    var toinsert = output_area.element.find(\".\" + CLASS_NAME.split(' ')[0]);\n",
       "\n",
       "    if (output.metadata[EXEC_MIME_TYPE][\"id\"] !== undefined) {\n",
       "      toinsert[toinsert.length - 1].firstChild.textContent = output.data[JS_MIME_TYPE];\n",
       "      // store reference to embed id on output_area\n",
       "      output_area._bokeh_element_id = output.metadata[EXEC_MIME_TYPE][\"id\"];\n",
       "    }\n",
       "    if (output.metadata[EXEC_MIME_TYPE][\"server_id\"] !== undefined) {\n",
       "      var bk_div = document.createElement(\"div\");\n",
       "      bk_div.innerHTML = output.data[HTML_MIME_TYPE];\n",
       "      var script_attrs = bk_div.children[0].attributes;\n",
       "      for (var i = 0; i < script_attrs.length; i++) {\n",
       "        toinsert[toinsert.length - 1].firstChild.setAttribute(script_attrs[i].name, script_attrs[i].value);\n",
       "        toinsert[toinsert.length - 1].firstChild.textContent = bk_div.children[0].textContent\n",
       "      }\n",
       "      // store reference to server id on output_area\n",
       "      output_area._bokeh_server_id = output.metadata[EXEC_MIME_TYPE][\"server_id\"];\n",
       "    }\n",
       "  }\n",
       "\n",
       "  function register_renderer(events, OutputArea) {\n",
       "\n",
       "    function append_mime(data, metadata, element) {\n",
       "      // create a DOM node to render to\n",
       "      var toinsert = this.create_output_subarea(\n",
       "        metadata,\n",
       "        CLASS_NAME,\n",
       "        EXEC_MIME_TYPE\n",
       "      );\n",
       "      this.keyboard_manager.register_events(toinsert);\n",
       "      // Render to node\n",
       "      var props = {data: data, metadata: metadata[EXEC_MIME_TYPE]};\n",
       "      render(props, toinsert[toinsert.length - 1]);\n",
       "      element.append(toinsert);\n",
       "      return toinsert\n",
       "    }\n",
       "\n",
       "    /* Handle when an output is cleared or removed */\n",
       "    events.on('clear_output.CodeCell', handleClearOutput);\n",
       "    events.on('delete.Cell', handleClearOutput);\n",
       "\n",
       "    /* Handle when a new output is added */\n",
       "    events.on('output_added.OutputArea', handleAddOutput);\n",
       "\n",
       "    /**\n",
       "     * Register the mime type and append_mime function with output_area\n",
       "     */\n",
       "    OutputArea.prototype.register_mime_type(EXEC_MIME_TYPE, append_mime, {\n",
       "      /* Is output safe? */\n",
       "      safe: true,\n",
       "      /* Index of renderer in `output_area.display_order` */\n",
       "      index: 0\n",
       "    });\n",
       "  }\n",
       "\n",
       "  // register the mime type if in Jupyter Notebook environment and previously unregistered\n",
       "  if (root.Jupyter !== undefined) {\n",
       "    var events = require('base/js/events');\n",
       "    var OutputArea = require('notebook/js/outputarea').OutputArea;\n",
       "\n",
       "    if (OutputArea.prototype.mime_types().indexOf(EXEC_MIME_TYPE) == -1) {\n",
       "      register_renderer(events, OutputArea);\n",
       "    }\n",
       "  }\n",
       "\n",
       "  \n",
       "  if (typeof (root._bokeh_timeout) === \"undefined\" || force === true) {\n",
       "    root._bokeh_timeout = Date.now() + 5000;\n",
       "    root._bokeh_failed_load = false;\n",
       "  }\n",
       "\n",
       "  var NB_LOAD_WARNING = {'data': {'text/html':\n",
       "     \"<div style='background-color: #fdd'>\\n\"+\n",
       "     \"<p>\\n\"+\n",
       "     \"BokehJS does not appear to have successfully loaded. If loading BokehJS from CDN, this \\n\"+\n",
       "     \"may be due to a slow or bad network connection. Possible fixes:\\n\"+\n",
       "     \"</p>\\n\"+\n",
       "     \"<ul>\\n\"+\n",
       "     \"<li>re-rerun `output_notebook()` to attempt to load from CDN again, or</li>\\n\"+\n",
       "     \"<li>use INLINE resources instead, as so:</li>\\n\"+\n",
       "     \"</ul>\\n\"+\n",
       "     \"<code>\\n\"+\n",
       "     \"from bokeh.resources import INLINE\\n\"+\n",
       "     \"output_notebook(resources=INLINE)\\n\"+\n",
       "     \"</code>\\n\"+\n",
       "     \"</div>\"}};\n",
       "\n",
       "  function display_loaded() {\n",
       "    var el = document.getElementById(\"1001\");\n",
       "    if (el != null) {\n",
       "      el.textContent = \"BokehJS is loading...\";\n",
       "    }\n",
       "    if (root.Bokeh !== undefined) {\n",
       "      if (el != null) {\n",
       "        el.textContent = \"BokehJS \" + root.Bokeh.version + \" successfully loaded.\";\n",
       "      }\n",
       "    } else if (Date.now() < root._bokeh_timeout) {\n",
       "      setTimeout(display_loaded, 100)\n",
       "    }\n",
       "  }\n",
       "\n",
       "\n",
       "  function run_callbacks() {\n",
       "    try {\n",
       "      root._bokeh_onload_callbacks.forEach(function(callback) {\n",
       "        if (callback != null)\n",
       "          callback();\n",
       "      });\n",
       "    } finally {\n",
       "      delete root._bokeh_onload_callbacks\n",
       "    }\n",
       "    console.debug(\"Bokeh: all callbacks have finished\");\n",
       "  }\n",
       "\n",
       "  function load_libs(css_urls, js_urls, callback) {\n",
       "    if (css_urls == null) css_urls = [];\n",
       "    if (js_urls == null) js_urls = [];\n",
       "\n",
       "    root._bokeh_onload_callbacks.push(callback);\n",
       "    if (root._bokeh_is_loading > 0) {\n",
       "      console.debug(\"Bokeh: BokehJS is being loaded, scheduling callback at\", now());\n",
       "      return null;\n",
       "    }\n",
       "    if (js_urls == null || js_urls.length === 0) {\n",
       "      run_callbacks();\n",
       "      return null;\n",
       "    }\n",
       "    console.debug(\"Bokeh: BokehJS not loaded, scheduling load and callback at\", now());\n",
       "    root._bokeh_is_loading = css_urls.length + js_urls.length;\n",
       "\n",
       "    function on_load() {\n",
       "      root._bokeh_is_loading--;\n",
       "      if (root._bokeh_is_loading === 0) {\n",
       "        console.debug(\"Bokeh: all BokehJS libraries/stylesheets loaded\");\n",
       "        run_callbacks()\n",
       "      }\n",
       "    }\n",
       "\n",
       "    function on_error() {\n",
       "      console.error(\"failed to load \" + url);\n",
       "    }\n",
       "\n",
       "    for (var i = 0; i < css_urls.length; i++) {\n",
       "      var url = css_urls[i];\n",
       "      const element = document.createElement(\"link\");\n",
       "      element.onload = on_load;\n",
       "      element.onerror = on_error;\n",
       "      element.rel = \"stylesheet\";\n",
       "      element.type = \"text/css\";\n",
       "      element.href = url;\n",
       "      console.debug(\"Bokeh: injecting link tag for BokehJS stylesheet: \", url);\n",
       "      document.body.appendChild(element);\n",
       "    }\n",
       "\n",
       "    const hashes = {\"https://cdn.bokeh.org/bokeh/release/bokeh-2.2.3.min.js\": \"T2yuo9Oe71Cz/I4X9Ac5+gpEa5a8PpJCDlqKYO0CfAuEszu1JrXLl8YugMqYe3sM\", \"https://cdn.bokeh.org/bokeh/release/bokeh-widgets-2.2.3.min.js\": \"98GDGJ0kOMCUMUePhksaQ/GYgB3+NH9h996V88sh3aOiUNX3N+fLXAtry6xctSZ6\", \"https://cdn.bokeh.org/bokeh/release/bokeh-tables-2.2.3.min.js\": \"89bArO+nlbP3sgakeHjCo1JYxYR5wufVgA3IbUvDY+K7w4zyxJqssu7wVnfeKCq8\"};\n",
       "\n",
       "    for (var i = 0; i < js_urls.length; i++) {\n",
       "      var url = js_urls[i];\n",
       "      var element = document.createElement('script');\n",
       "      element.onload = on_load;\n",
       "      element.onerror = on_error;\n",
       "      element.async = false;\n",
       "      element.src = url;\n",
       "      if (url in hashes) {\n",
       "        element.crossOrigin = \"anonymous\";\n",
       "        element.integrity = \"sha384-\" + hashes[url];\n",
       "      }\n",
       "      console.debug(\"Bokeh: injecting script tag for BokehJS library: \", url);\n",
       "      document.head.appendChild(element);\n",
       "    }\n",
       "  };\n",
       "\n",
       "  function inject_raw_css(css) {\n",
       "    const element = document.createElement(\"style\");\n",
       "    element.appendChild(document.createTextNode(css));\n",
       "    document.body.appendChild(element);\n",
       "  }\n",
       "\n",
       "  \n",
       "  var js_urls = [\"https://cdn.bokeh.org/bokeh/release/bokeh-2.2.3.min.js\", \"https://cdn.bokeh.org/bokeh/release/bokeh-widgets-2.2.3.min.js\", \"https://cdn.bokeh.org/bokeh/release/bokeh-tables-2.2.3.min.js\"];\n",
       "  var css_urls = [];\n",
       "  \n",
       "\n",
       "  var inline_js = [\n",
       "    function(Bokeh) {\n",
       "      Bokeh.set_log_level(\"info\");\n",
       "    },\n",
       "    function(Bokeh) {\n",
       "    \n",
       "    \n",
       "    }\n",
       "  ];\n",
       "\n",
       "  function run_inline_js() {\n",
       "    \n",
       "    if (root.Bokeh !== undefined || force === true) {\n",
       "      \n",
       "    for (var i = 0; i < inline_js.length; i++) {\n",
       "      inline_js[i].call(root, root.Bokeh);\n",
       "    }\n",
       "    if (force === true) {\n",
       "        display_loaded();\n",
       "      }} else if (Date.now() < root._bokeh_timeout) {\n",
       "      setTimeout(run_inline_js, 100);\n",
       "    } else if (!root._bokeh_failed_load) {\n",
       "      console.log(\"Bokeh: BokehJS failed to load within specified timeout.\");\n",
       "      root._bokeh_failed_load = true;\n",
       "    } else if (force !== true) {\n",
       "      var cell = $(document.getElementById(\"1001\")).parents('.cell').data().cell;\n",
       "      cell.output_area.append_execute_result(NB_LOAD_WARNING)\n",
       "    }\n",
       "\n",
       "  }\n",
       "\n",
       "  if (root._bokeh_is_loading === 0) {\n",
       "    console.debug(\"Bokeh: BokehJS loaded, going straight to plotting\");\n",
       "    run_inline_js();\n",
       "  } else {\n",
       "    load_libs(css_urls, js_urls, function() {\n",
       "      console.debug(\"Bokeh: BokehJS plotting callback run at\", now());\n",
       "      run_inline_js();\n",
       "    });\n",
       "  }\n",
       "}(window));"
      ],
      "application/vnd.bokehjs_load.v0+json": "\n(function(root) {\n  function now() {\n    return new Date();\n  }\n\n  var force = true;\n\n  if (typeof root._bokeh_onload_callbacks === \"undefined\" || force === true) {\n    root._bokeh_onload_callbacks = [];\n    root._bokeh_is_loading = undefined;\n  }\n\n  \n\n  \n  if (typeof (root._bokeh_timeout) === \"undefined\" || force === true) {\n    root._bokeh_timeout = Date.now() + 5000;\n    root._bokeh_failed_load = false;\n  }\n\n  var NB_LOAD_WARNING = {'data': {'text/html':\n     \"<div style='background-color: #fdd'>\\n\"+\n     \"<p>\\n\"+\n     \"BokehJS does not appear to have successfully loaded. If loading BokehJS from CDN, this \\n\"+\n     \"may be due to a slow or bad network connection. Possible fixes:\\n\"+\n     \"</p>\\n\"+\n     \"<ul>\\n\"+\n     \"<li>re-rerun `output_notebook()` to attempt to load from CDN again, or</li>\\n\"+\n     \"<li>use INLINE resources instead, as so:</li>\\n\"+\n     \"</ul>\\n\"+\n     \"<code>\\n\"+\n     \"from bokeh.resources import INLINE\\n\"+\n     \"output_notebook(resources=INLINE)\\n\"+\n     \"</code>\\n\"+\n     \"</div>\"}};\n\n  function display_loaded() {\n    var el = document.getElementById(\"1001\");\n    if (el != null) {\n      el.textContent = \"BokehJS is loading...\";\n    }\n    if (root.Bokeh !== undefined) {\n      if (el != null) {\n        el.textContent = \"BokehJS \" + root.Bokeh.version + \" successfully loaded.\";\n      }\n    } else if (Date.now() < root._bokeh_timeout) {\n      setTimeout(display_loaded, 100)\n    }\n  }\n\n\n  function run_callbacks() {\n    try {\n      root._bokeh_onload_callbacks.forEach(function(callback) {\n        if (callback != null)\n          callback();\n      });\n    } finally {\n      delete root._bokeh_onload_callbacks\n    }\n    console.debug(\"Bokeh: all callbacks have finished\");\n  }\n\n  function load_libs(css_urls, js_urls, callback) {\n    if (css_urls == null) css_urls = [];\n    if (js_urls == null) js_urls = [];\n\n    root._bokeh_onload_callbacks.push(callback);\n    if (root._bokeh_is_loading > 0) {\n      console.debug(\"Bokeh: BokehJS is being loaded, scheduling callback at\", now());\n      return null;\n    }\n    if (js_urls == null || js_urls.length === 0) {\n      run_callbacks();\n      return null;\n    }\n    console.debug(\"Bokeh: BokehJS not loaded, scheduling load and callback at\", now());\n    root._bokeh_is_loading = css_urls.length + js_urls.length;\n\n    function on_load() {\n      root._bokeh_is_loading--;\n      if (root._bokeh_is_loading === 0) {\n        console.debug(\"Bokeh: all BokehJS libraries/stylesheets loaded\");\n        run_callbacks()\n      }\n    }\n\n    function on_error() {\n      console.error(\"failed to load \" + url);\n    }\n\n    for (var i = 0; i < css_urls.length; i++) {\n      var url = css_urls[i];\n      const element = document.createElement(\"link\");\n      element.onload = on_load;\n      element.onerror = on_error;\n      element.rel = \"stylesheet\";\n      element.type = \"text/css\";\n      element.href = url;\n      console.debug(\"Bokeh: injecting link tag for BokehJS stylesheet: \", url);\n      document.body.appendChild(element);\n    }\n\n    const hashes = {\"https://cdn.bokeh.org/bokeh/release/bokeh-2.2.3.min.js\": \"T2yuo9Oe71Cz/I4X9Ac5+gpEa5a8PpJCDlqKYO0CfAuEszu1JrXLl8YugMqYe3sM\", \"https://cdn.bokeh.org/bokeh/release/bokeh-widgets-2.2.3.min.js\": \"98GDGJ0kOMCUMUePhksaQ/GYgB3+NH9h996V88sh3aOiUNX3N+fLXAtry6xctSZ6\", \"https://cdn.bokeh.org/bokeh/release/bokeh-tables-2.2.3.min.js\": \"89bArO+nlbP3sgakeHjCo1JYxYR5wufVgA3IbUvDY+K7w4zyxJqssu7wVnfeKCq8\"};\n\n    for (var i = 0; i < js_urls.length; i++) {\n      var url = js_urls[i];\n      var element = document.createElement('script');\n      element.onload = on_load;\n      element.onerror = on_error;\n      element.async = false;\n      element.src = url;\n      if (url in hashes) {\n        element.crossOrigin = \"anonymous\";\n        element.integrity = \"sha384-\" + hashes[url];\n      }\n      console.debug(\"Bokeh: injecting script tag for BokehJS library: \", url);\n      document.head.appendChild(element);\n    }\n  };\n\n  function inject_raw_css(css) {\n    const element = document.createElement(\"style\");\n    element.appendChild(document.createTextNode(css));\n    document.body.appendChild(element);\n  }\n\n  \n  var js_urls = [\"https://cdn.bokeh.org/bokeh/release/bokeh-2.2.3.min.js\", \"https://cdn.bokeh.org/bokeh/release/bokeh-widgets-2.2.3.min.js\", \"https://cdn.bokeh.org/bokeh/release/bokeh-tables-2.2.3.min.js\"];\n  var css_urls = [];\n  \n\n  var inline_js = [\n    function(Bokeh) {\n      Bokeh.set_log_level(\"info\");\n    },\n    function(Bokeh) {\n    \n    \n    }\n  ];\n\n  function run_inline_js() {\n    \n    if (root.Bokeh !== undefined || force === true) {\n      \n    for (var i = 0; i < inline_js.length; i++) {\n      inline_js[i].call(root, root.Bokeh);\n    }\n    if (force === true) {\n        display_loaded();\n      }} else if (Date.now() < root._bokeh_timeout) {\n      setTimeout(run_inline_js, 100);\n    } else if (!root._bokeh_failed_load) {\n      console.log(\"Bokeh: BokehJS failed to load within specified timeout.\");\n      root._bokeh_failed_load = true;\n    } else if (force !== true) {\n      var cell = $(document.getElementById(\"1001\")).parents('.cell').data().cell;\n      cell.output_area.append_execute_result(NB_LOAD_WARNING)\n    }\n\n  }\n\n  if (root._bokeh_is_loading === 0) {\n    console.debug(\"Bokeh: BokehJS loaded, going straight to plotting\");\n    run_inline_js();\n  } else {\n    load_libs(css_urls, js_urls, function() {\n      console.debug(\"Bokeh: BokehJS plotting callback run at\", now());\n      run_inline_js();\n    });\n  }\n}(window));"
     },
     "metadata": {},
     "output_type": "display_data"
    }
   ],
   "source": [
    "import random\n",
    "import math\n",
    "import numpy as np\n",
    "import scipy.stats as st\n",
    "from scipy.integrate import quad\n",
    "from bokeh.io import output_notebook\n",
    "from bokeh.plotting import figure, show\n",
    "from bokeh.layouts import row\n",
    "from bokeh.models import Legend, LegendItem\n",
    "\n",
    "\n",
    "output_notebook()\n",
    "\n",
    "def muestra_gen(muestra_tam, distribucion_gen, *distribucion_args):\n",
    "    \"\"\"\n",
    "    muestra_tam: Tamaño de la muestra\n",
    "    distribucion_gen: Generador de una distribución, ej: exponencial_gen\n",
    "    distribucion_args: Argumentos necesarios para la distribución, ej: 0.5\n",
    "    \"\"\"\n",
    "    muestra = []\n",
    "    for i in range(muestra_tam):\n",
    "        valor = distribucion_gen(*distribucion_args)\n",
    "        muestra.append(valor)\n",
    "\n",
    "    return muestra\n",
    "\n",
    "def crear_histograma(muestra, alto=400, ancho=400, ancho_de_banda = 0, normalizado=True, titulo=\"\", eje_x=\"\", eje_y=\"\"):\n",
    "    \"\"\"\n",
    "    A partir de una muestra, devuelve una histograma de bokeh.\n",
    "    Salvo la muestra, todos los demás parámetros son opcionales.\n",
    "    \"\"\"\n",
    "    if ancho_de_banda == 0:\n",
    "        hist, edges = np.histogram(muestra, density=normalizado)\n",
    "    else:\n",
    "        hist, edges = np.histogram(muestra, density=normalizado, bins=math.floor((max(muestra) - min(muestra)) / ancho_de_banda))\n",
    "\n",
    "    p = figure(title=titulo, plot_height=alto, plot_width=ancho, x_axis_label=eje_x, y_axis_label=eje_y)\n",
    "    p.quad(top=hist, bottom=0, left=edges[:-1], right=edges[1:], line_color=\"white\")\n",
    "    return p\n",
    "\n",
    "def agregar_media(histograma, media):\n",
    "    histograma.ray(x=[media], y=[0], length=0, angle=(np.pi) / 2, line_width=3, line_color=\"red\", legend_label=\"x̄ = \" + str(media))\n",
    "    return histograma\n",
    "\n",
    "def media_muestral(muestra):\n",
    "    return sum(muestra) / len(muestra)\n",
    "\n",
    "def varianza_muestral(muestra):\n",
    "    media = media_muestral(muestra)\n",
    "    return sum([(x - media) ** 2 for x in muestra]) / (len(muestra) - 1)\n",
    "    "
   ]
  },
  {
   "cell_type": "markdown",
   "metadata": {},
   "source": [
    "## Parte 1: Simulación<a class=\"anchor\" id=\"parte_1\"></a>"
   ]
  },
  {
   "cell_type": "markdown",
   "metadata": {},
   "source": [
    "### 1) Generador Bernoulli<a class=\"anchor\" id=\"p_1_1\"></a>"
   ]
  },
  {
   "cell_type": "code",
   "execution_count": 2,
   "metadata": {},
   "outputs": [],
   "source": [
    "def bernoulli_gen(p):\n",
    "    uniforme = random.uniform(0, 1)\n",
    "    if uniforme < p:\n",
    "        return 1\n",
    "    else:\n",
    "        return 0"
   ]
  },
  {
   "cell_type": "code",
   "execution_count": 3,
   "metadata": {},
   "outputs": [
    {
     "data": {
      "text/plain": [
       "0"
      ]
     },
     "execution_count": 3,
     "metadata": {},
     "output_type": "execute_result"
    }
   ],
   "source": [
    "bernoulli_gen(0.75)"
   ]
  },
  {
   "cell_type": "markdown",
   "metadata": {},
   "source": [
    "### 2) Generador Binomial<a class=\"anchor\" id=\"p_1_2\"></a>"
   ]
  },
  {
   "cell_type": "code",
   "execution_count": 4,
   "metadata": {},
   "outputs": [],
   "source": [
    "def binomial_gen(n, p):\n",
    "    exitos = 0\n",
    "    for i in range(n):\n",
    "        exitos += bernoulli_gen(p)\n",
    "\n",
    "    return exitos"
   ]
  },
  {
   "cell_type": "code",
   "execution_count": 5,
   "metadata": {},
   "outputs": [
    {
     "data": {
      "text/plain": [
       "3"
      ]
     },
     "execution_count": 5,
     "metadata": {},
     "output_type": "execute_result"
    }
   ],
   "source": [
    "binomial_gen(10, 0.5)"
   ]
  },
  {
   "cell_type": "markdown",
   "metadata": {},
   "source": [
    "### 3) Generador Exponencial<a class=\"anchor\" id=\"p_1_3\"></a>"
   ]
  },
  {
   "cell_type": "code",
   "execution_count": 6,
   "metadata": {},
   "outputs": [],
   "source": [
    "def exponencial_gen(λ):\n",
    "    \"\"\"\n",
    "    Utilizamos el método de la función inversa\n",
    "    \"\"\"\n",
    "    uniforme = random.uniform(0, 1)\n",
    "    \n",
    "    exponencial = - (1 / λ) * math.log(uniforme)\n",
    "\n",
    "    return exponencial"
   ]
  },
  {
   "cell_type": "code",
   "execution_count": 7,
   "metadata": {},
   "outputs": [
    {
     "data": {
      "text/plain": [
       "0.6205980258558702"
      ]
     },
     "execution_count": 7,
     "metadata": {},
     "output_type": "execute_result"
    }
   ],
   "source": [
    "exponencial_gen(3)"
   ]
  },
  {
   "cell_type": "markdown",
   "metadata": {},
   "source": [
    "### 4) Generador Normal (y Normal Estándar)<a class=\"anchor\" id=\"p_1_4\"></a>"
   ]
  },
  {
   "cell_type": "code",
   "execution_count": 8,
   "metadata": {},
   "outputs": [],
   "source": [
    "def std_normal_gen():\n",
    "    \"\"\"\n",
    "    Utilizamos el método de Box-Muller\n",
    "    \"\"\"\n",
    "    uniforme_U = random.uniform(0, 1)\n",
    "    uniforme_V = random.uniform(0, 1)\n",
    "\n",
    "    std_normal = math.sqrt(-2 * math.log(uniforme_U)) * math.cos(2 * math.pi * uniforme_V)\n",
    "    \n",
    "    return std_normal"
   ]
  },
  {
   "cell_type": "code",
   "execution_count": 9,
   "metadata": {},
   "outputs": [
    {
     "data": {
      "text/plain": [
       "-0.9819901422552955"
      ]
     },
     "execution_count": 9,
     "metadata": {},
     "output_type": "execute_result"
    }
   ],
   "source": [
    "std_normal_gen()"
   ]
  },
  {
   "cell_type": "code",
   "execution_count": 10,
   "metadata": {},
   "outputs": [],
   "source": [
    "def normal_gen(μ = 0, σ_2 = 1):\n",
    "    σ = math.sqrt(σ_2)\n",
    "    normal = std_normal_gen() * σ + μ\n",
    "\n",
    "    return normal"
   ]
  },
  {
   "cell_type": "code",
   "execution_count": 11,
   "metadata": {},
   "outputs": [
    {
     "data": {
      "text/plain": [
       "0.6900032369309956"
      ]
     },
     "execution_count": 11,
     "metadata": {},
     "output_type": "execute_result"
    }
   ],
   "source": [
    "normal_gen(1, 1)"
   ]
  },
  {
   "cell_type": "markdown",
   "metadata": {},
   "source": [
    "## Parte 2: Estadística descriptiva<a class=\"anchor\" id=\"parte_2\"></a>"
   ]
  },
  {
   "cell_type": "markdown",
   "metadata": {},
   "source": [
    "### 1) Muestras Exp(0.5)<a class=\"anchor\" id=\"p_2_1\"></a>"
   ]
  },
  {
   "cell_type": "code",
   "execution_count": 12,
   "metadata": {},
   "outputs": [
    {
     "name": "stdout",
     "output_type": "stream",
     "text": [
      "Media Muestral Exp(0.5), n = 10:  1.948\n",
      "Varianza Muestral Exp(0.5), n = 10:  3.931\n",
      "Media Muestral Exp(0.5), n = 30:  1.72\n",
      "Varianza Muestral Exp(0.5), n = 30:  4.154\n",
      "Media Muestral Exp(0.5), n = 200:  2.008\n",
      "Varianza Muestral Exp(0.5), n = 200:  4.081\n"
     ]
    }
   ],
   "source": [
    "exp_n_10 = muestra_gen(10, exponencial_gen, 0.5)\n",
    "exp_n_30 = muestra_gen(30, exponencial_gen, 0.5)\n",
    "exp_n_200 = muestra_gen(20000, exponencial_gen, 0.5)\n",
    "\n",
    "print(\"Media Muestral Exp(0.5), n = 10: \", round(media_muestral(exp_n_10), 3))\n",
    "print(\"Varianza Muestral Exp(0.5), n = 10: \", round(varianza_muestral(exp_n_10), 3))\n",
    "\n",
    "print(\"Media Muestral Exp(0.5), n = 30: \", round(media_muestral(exp_n_30), 3))\n",
    "print(\"Varianza Muestral Exp(0.5), n = 30: \", round(varianza_muestral(exp_n_30), 3))\n",
    "\n",
    "print(\"Media Muestral Exp(0.5), n = 200: \", round(media_muestral(exp_n_200), 3))\n",
    "print(\"Varianza Muestral Exp(0.5), n = 200: \", round(varianza_muestral(exp_n_200), 3))"
   ]
  },
  {
   "cell_type": "markdown",
   "metadata": {},
   "source": [
    "La media y la varianza muestral se aproximan mejor a la media y varianza de la distribución con un mayor tamaño de muestra. Aunque, por el sesgo del estimador de la varianza, podemos llegar a tener valores dispares."
   ]
  },
  {
   "cell_type": "markdown",
   "metadata": {},
   "source": [
    "### 2) Histogramas Exp(0.5)<a class=\"anchor\" id=\"p_2_2\"></a>"
   ]
  },
  {
   "cell_type": "code",
   "execution_count": 13,
   "metadata": {},
   "outputs": [
    {
     "data": {
      "text/html": [
       "\n",
       "\n",
       "\n",
       "\n",
       "\n",
       "\n",
       "  <div class=\"bk-root\" id=\"714a2d09-f472-41ca-90fa-965b64b5f6be\" data-root-id=\"1116\"></div>\n"
      ]
     },
     "metadata": {},
     "output_type": "display_data"
    },
    {
     "data": {
      "application/javascript": [
       "(function(root) {\n",
       "  function embed_document(root) {\n",
       "    \n",
       "  var docs_json = {\"f84d6d0c-dbf8-40a8-b244-f9465dada605\":{\"roots\":{\"references\":[{\"attributes\":{\"children\":[{\"id\":\"1002\"},{\"id\":\"1040\"},{\"id\":\"1078\"}],\"sizing_mode\":\"scale_both\"},\"id\":\"1116\",\"type\":\"Row\"},{\"attributes\":{},\"id\":\"1140\",\"type\":\"UnionRenderers\"},{\"attributes\":{\"bottom\":{\"value\":0},\"fill_color\":{\"value\":\"#1f77b4\"},\"left\":{\"field\":\"left\"},\"line_color\":{\"value\":\"white\"},\"right\":{\"field\":\"right\"},\"top\":{\"field\":\"top\"}},\"id\":\"1074\",\"type\":\"Quad\"},{\"attributes\":{},\"id\":\"1125\",\"type\":\"BasicTickFormatter\"},{\"attributes\":{\"axis\":{\"id\":\"1013\"},\"ticker\":null},\"id\":\"1016\",\"type\":\"Grid\"},{\"attributes\":{\"axis\":{\"id\":\"1093\"},\"dimension\":1,\"ticker\":null},\"id\":\"1096\",\"type\":\"Grid\"},{\"attributes\":{\"bottom\":{\"value\":0},\"fill_alpha\":{\"value\":0.1},\"fill_color\":{\"value\":\"#1f77b4\"},\"left\":{\"field\":\"left\"},\"line_alpha\":{\"value\":0.1},\"line_color\":{\"value\":\"white\"},\"right\":{\"field\":\"right\"},\"top\":{\"field\":\"top\"}},\"id\":\"1075\",\"type\":\"Quad\"},{\"attributes\":{\"data_source\":{\"id\":\"1073\"},\"glyph\":{\"id\":\"1074\"},\"hover_glyph\":null,\"muted_glyph\":null,\"nonselection_glyph\":{\"id\":\"1075\"},\"selection_glyph\":null,\"view\":{\"id\":\"1077\"}},\"id\":\"1076\",\"type\":\"GlyphRenderer\"},{\"attributes\":{},\"id\":\"1127\",\"type\":\"BasicTickFormatter\"},{\"attributes\":{},\"id\":\"1129\",\"type\":\"BasicTickFormatter\"},{\"attributes\":{},\"id\":\"1059\",\"type\":\"PanTool\"},{\"attributes\":{\"bottom\":{\"value\":0},\"fill_alpha\":{\"value\":0.1},\"fill_color\":{\"value\":\"#1f77b4\"},\"left\":{\"field\":\"left\"},\"line_alpha\":{\"value\":0.1},\"line_color\":{\"value\":\"white\"},\"right\":{\"field\":\"right\"},\"top\":{\"field\":\"top\"}},\"id\":\"1113\",\"type\":\"Quad\"},{\"attributes\":{\"data_source\":{\"id\":\"1111\"},\"glyph\":{\"id\":\"1112\"},\"hover_glyph\":null,\"muted_glyph\":null,\"nonselection_glyph\":{\"id\":\"1113\"},\"selection_glyph\":null,\"view\":{\"id\":\"1115\"}},\"id\":\"1114\",\"type\":\"GlyphRenderer\"},{\"attributes\":{\"data\":{\"left\":{\"__ndarray__\":\"73JGjmdpoj/U29h5uPHbP6V09AAiy+o/rz1+4rPO8z8NQYLE1jf6PzYiQ9N8UABA5CNFRA6FA0CTJUe1n7kGQEInSSYx7glA8ShLl8IiDUBQlSYEqisQQCeWp7zyxRFA/pYodTtgE0DWl6kthPoUQA==\",\"dtype\":\"float64\",\"order\":\"little\",\"shape\":[14]},\"right\":{\"__ndarray__\":\"1NvYebjx2z+ldPQAIsvqP689fuKzzvM/DUGCxNY3+j82IkPTfFAAQOQjRUQOhQNAkyVHtZ+5BkBCJ0kmMe4JQPEoS5fCIg1AUJUmBKorEEAnlqe88sURQP6WKHU7YBNA1pepLYT6FECtmCrmzJQWQA==\",\"dtype\":\"float64\",\"order\":\"little\",\"shape\":[14]},\"top\":{\"__ndarray__\":\"ZjajkcH15z8AAAAAAAAAAGo2o5HB9ec/AAAAAAAAAAAAAAAAAAAAAOWd2WxX8s8/AAAAAAAAAADbndlsV/LPPwAAAAAAAAAAAAAAAAAAAAAAAAAAAAAAAAAAAAAAAAAA0J3ZbFfyzz/lndlsV/LPPw==\",\"dtype\":\"float64\",\"order\":\"little\",\"shape\":[14]}},\"selected\":{\"id\":\"1133\"},\"selection_policy\":{\"id\":\"1134\"}},\"id\":\"1035\",\"type\":\"ColumnDataSource\"},{\"attributes\":{},\"id\":\"1063\",\"type\":\"ResetTool\"},{\"attributes\":{},\"id\":\"1060\",\"type\":\"WheelZoomTool\"},{\"attributes\":{\"overlay\":{\"id\":\"1065\"}},\"id\":\"1061\",\"type\":\"BoxZoomTool\"},{\"attributes\":{},\"id\":\"1097\",\"type\":\"PanTool\"},{\"attributes\":{},\"id\":\"1062\",\"type\":\"SaveTool\"},{\"attributes\":{},\"id\":\"1101\",\"type\":\"ResetTool\"},{\"attributes\":{},\"id\":\"1098\",\"type\":\"WheelZoomTool\"},{\"attributes\":{\"formatter\":{\"id\":\"1121\"},\"ticker\":{\"id\":\"1018\"}},\"id\":\"1017\",\"type\":\"LinearAxis\"},{\"attributes\":{\"overlay\":{\"id\":\"1103\"}},\"id\":\"1099\",\"type\":\"BoxZoomTool\"},{\"attributes\":{},\"id\":\"1064\",\"type\":\"HelpTool\"},{\"attributes\":{},\"id\":\"1100\",\"type\":\"SaveTool\"},{\"attributes\":{\"bottom\":{\"value\":0},\"fill_color\":{\"value\":\"#1f77b4\"},\"left\":{\"field\":\"left\"},\"line_color\":{\"value\":\"white\"},\"right\":{\"field\":\"right\"},\"top\":{\"field\":\"top\"}},\"id\":\"1112\",\"type\":\"Quad\"},{\"attributes\":{},\"id\":\"1018\",\"type\":\"BasicTicker\"},{\"attributes\":{},\"id\":\"1102\",\"type\":\"HelpTool\"},{\"attributes\":{},\"id\":\"1137\",\"type\":\"UnionRenderers\"},{\"attributes\":{},\"id\":\"1021\",\"type\":\"PanTool\"},{\"attributes\":{},\"id\":\"1131\",\"type\":\"BasicTickFormatter\"},{\"attributes\":{},\"id\":\"1133\",\"type\":\"Selection\"},{\"attributes\":{\"bottom_units\":\"screen\",\"fill_alpha\":0.5,\"fill_color\":\"lightgrey\",\"left_units\":\"screen\",\"level\":\"overlay\",\"line_alpha\":1.0,\"line_color\":\"black\",\"line_dash\":[4,4],\"line_width\":2,\"right_units\":\"screen\",\"top_units\":\"screen\"},\"id\":\"1065\",\"type\":\"BoxAnnotation\"},{\"attributes\":{\"active_drag\":\"auto\",\"active_inspect\":\"auto\",\"active_multi\":null,\"active_scroll\":\"auto\",\"active_tap\":\"auto\",\"tools\":[{\"id\":\"1097\"},{\"id\":\"1098\"},{\"id\":\"1099\"},{\"id\":\"1100\"},{\"id\":\"1101\"},{\"id\":\"1102\"}]},\"id\":\"1104\",\"type\":\"Toolbar\"},{\"attributes\":{},\"id\":\"1056\",\"type\":\"BasicTicker\"},{\"attributes\":{},\"id\":\"1136\",\"type\":\"Selection\"},{\"attributes\":{},\"id\":\"1134\",\"type\":\"UnionRenderers\"},{\"attributes\":{\"bottom_units\":\"screen\",\"fill_alpha\":0.5,\"fill_color\":\"lightgrey\",\"left_units\":\"screen\",\"level\":\"overlay\",\"line_alpha\":1.0,\"line_color\":\"black\",\"line_dash\":[4,4],\"line_width\":2,\"right_units\":\"screen\",\"top_units\":\"screen\"},\"id\":\"1103\",\"type\":\"BoxAnnotation\"},{\"attributes\":{\"text\":\"Exp(0.5), n = 10, ancho de banda = 0.1\"},\"id\":\"1079\",\"type\":\"Title\"},{\"attributes\":{\"formatter\":{\"id\":\"1125\"},\"ticker\":{\"id\":\"1056\"}},\"id\":\"1055\",\"type\":\"LinearAxis\"},{\"attributes\":{\"source\":{\"id\":\"1073\"}},\"id\":\"1077\",\"type\":\"CDSView\"},{\"attributes\":{},\"id\":\"1085\",\"type\":\"LinearScale\"},{\"attributes\":{\"text\":\"Exp(0.5), n = 10, ancho de banda = 0.4\"},\"id\":\"1003\",\"type\":\"Title\"},{\"attributes\":{\"axis\":{\"id\":\"1017\"},\"dimension\":1,\"ticker\":null},\"id\":\"1020\",\"type\":\"Grid\"},{\"attributes\":{},\"id\":\"1081\",\"type\":\"DataRange1d\"},{\"attributes\":{},\"id\":\"1005\",\"type\":\"DataRange1d\"},{\"attributes\":{},\"id\":\"1009\",\"type\":\"LinearScale\"},{\"attributes\":{},\"id\":\"1024\",\"type\":\"SaveTool\"},{\"attributes\":{\"axis\":{\"id\":\"1055\"},\"dimension\":1,\"ticker\":null},\"id\":\"1058\",\"type\":\"Grid\"},{\"attributes\":{},\"id\":\"1083\",\"type\":\"DataRange1d\"},{\"attributes\":{},\"id\":\"1007\",\"type\":\"DataRange1d\"},{\"attributes\":{},\"id\":\"1087\",\"type\":\"LinearScale\"},{\"attributes\":{},\"id\":\"1011\",\"type\":\"LinearScale\"},{\"attributes\":{},\"id\":\"1090\",\"type\":\"BasicTicker\"},{\"attributes\":{\"active_drag\":\"auto\",\"active_inspect\":\"auto\",\"active_multi\":null,\"active_scroll\":\"auto\",\"active_tap\":\"auto\",\"tools\":[{\"id\":\"1059\"},{\"id\":\"1060\"},{\"id\":\"1061\"},{\"id\":\"1062\"},{\"id\":\"1063\"},{\"id\":\"1064\"}]},\"id\":\"1066\",\"type\":\"Toolbar\"},{\"attributes\":{\"source\":{\"id\":\"1111\"}},\"id\":\"1115\",\"type\":\"CDSView\"},{\"attributes\":{\"formatter\":{\"id\":\"1131\"},\"ticker\":{\"id\":\"1090\"}},\"id\":\"1089\",\"type\":\"LinearAxis\"},{\"attributes\":{},\"id\":\"1014\",\"type\":\"BasicTicker\"},{\"attributes\":{\"formatter\":{\"id\":\"1123\"},\"ticker\":{\"id\":\"1014\"}},\"id\":\"1013\",\"type\":\"LinearAxis\"},{\"attributes\":{\"axis\":{\"id\":\"1089\"},\"ticker\":null},\"id\":\"1092\",\"type\":\"Grid\"},{\"attributes\":{},\"id\":\"1121\",\"type\":\"BasicTickFormatter\"},{\"attributes\":{\"formatter\":{\"id\":\"1129\"},\"ticker\":{\"id\":\"1094\"}},\"id\":\"1093\",\"type\":\"LinearAxis\"},{\"attributes\":{\"bottom_units\":\"screen\",\"fill_alpha\":0.5,\"fill_color\":\"lightgrey\",\"left_units\":\"screen\",\"level\":\"overlay\",\"line_alpha\":1.0,\"line_color\":\"black\",\"line_dash\":[4,4],\"line_width\":2,\"right_units\":\"screen\",\"top_units\":\"screen\"},\"id\":\"1027\",\"type\":\"BoxAnnotation\"},{\"attributes\":{},\"id\":\"1094\",\"type\":\"BasicTicker\"},{\"attributes\":{},\"id\":\"1123\",\"type\":\"BasicTickFormatter\"},{\"attributes\":{\"text\":\"Exp(0.5), n = 10, ancho de banda = 0.2\"},\"id\":\"1041\",\"type\":\"Title\"},{\"attributes\":{},\"id\":\"1047\",\"type\":\"LinearScale\"},{\"attributes\":{},\"id\":\"1022\",\"type\":\"WheelZoomTool\"},{\"attributes\":{\"axis\":{\"id\":\"1051\"},\"ticker\":null},\"id\":\"1054\",\"type\":\"Grid\"},{\"attributes\":{\"below\":[{\"id\":\"1013\"}],\"center\":[{\"id\":\"1016\"},{\"id\":\"1020\"}],\"left\":[{\"id\":\"1017\"}],\"plot_height\":400,\"plot_width\":400,\"renderers\":[{\"id\":\"1038\"}],\"sizing_mode\":\"scale_both\",\"title\":{\"id\":\"1003\"},\"toolbar\":{\"id\":\"1028\"},\"x_range\":{\"id\":\"1005\"},\"x_scale\":{\"id\":\"1009\"},\"y_range\":{\"id\":\"1007\"},\"y_scale\":{\"id\":\"1011\"}},\"id\":\"1002\",\"subtype\":\"Figure\",\"type\":\"Plot\"},{\"attributes\":{\"below\":[{\"id\":\"1051\"}],\"center\":[{\"id\":\"1054\"},{\"id\":\"1058\"}],\"left\":[{\"id\":\"1055\"}],\"plot_height\":400,\"plot_width\":400,\"renderers\":[{\"id\":\"1076\"}],\"sizing_mode\":\"scale_both\",\"title\":{\"id\":\"1041\"},\"toolbar\":{\"id\":\"1066\"},\"x_range\":{\"id\":\"1043\"},\"x_scale\":{\"id\":\"1047\"},\"y_range\":{\"id\":\"1045\"},\"y_scale\":{\"id\":\"1049\"}},\"id\":\"1040\",\"subtype\":\"Figure\",\"type\":\"Plot\"},{\"attributes\":{},\"id\":\"1139\",\"type\":\"Selection\"},{\"attributes\":{\"data\":{\"left\":{\"__ndarray__\":\"73JGjmdpoj93o5mnn2zBPzKqoWvlPs4/dtjUl5WI1T/U29h5uPHbP5lv7q1tLeE/R3HwHv9h5D/2cvKPkJbnP6V09AAiy+o/VHb2cbP/7T8BPHxxIprwP9g8/SlrNPI/rz1+4rPO8z+HPv+a/Gj1P14/gFNFA/c/NkABDI6d+D8NQYLE1jf6P+RBA30f0vs/vEKENWhs/T+TQwXusAb/PzYiQ9N8UABAoaKDL6EdAUANI8SLxeoBQHmjBOjptwJA5CNFRA6FA0BQpIWgMlIEQLwkxvxWHwVAKKUGWXvsBUCTJUe1n7kGQP+lhxHEhgdAaybIbehTCEDWpgjKDCEJQEInSSYx7glArqeJglW7CkAZKMreeYgLQIWoCjueVQxA8ShLl8IiDUBcqYvz5u8NQMgpzE8LvQ5ANKoMrC+KD0BQlSYEqisQQIbVRjI8khBAuxVnYM74EEDxVYeOYF8RQCeWp7zyxRFAXdbH6oQsEkCTFugYF5MSQMlWCEep+RJA/pYodTtgE0A010ijzcYTQGoXadFfLRRAoFeJ//GTFEDWl6kthPoUQAzYyVsWYRVAQhjqiajHFUB3WAq4Oi4WQA==\",\"dtype\":\"float64\",\"order\":\"little\",\"shape\":[56]},\"right\":{\"__ndarray__\":\"d6OZp59swT8yqqFr5T7OP3bY1JeViNU/1NvYebjx2z+Zb+6tbS3hP0dx8B7/YeQ/9nLyj5CW5z+ldPQAIsvqP1R29nGz/+0/ATx8cSKa8D/YPP0pazTyP689fuKzzvM/hz7/mvxo9T9eP4BTRQP3PzZAAQyOnfg/DUGCxNY3+j/kQQN9H9L7P7xChDVobP0/k0MF7rAG/z82IkPTfFAAQKGigy+hHQFADSPEi8XqAUB5owTo6bcCQOQjRUQOhQNAUKSFoDJSBEC8JMb8Vh8FQCilBll77AVAkyVHtZ+5BkD/pYcRxIYHQGsmyG3oUwhA1qYIygwhCUBCJ0kmMe4JQK6niYJVuwpAGSjK3nmIC0CFqAo7nlUMQPEoS5fCIg1AXKmL8+bvDUDIKcxPC70OQDSqDKwvig9AUJUmBKorEECG1UYyPJIQQLsVZ2DO+BBA8VWHjmBfEUAnlqe88sURQF3Wx+qELBJAkxboGBeTEkDJVghHqfkSQP6WKHU7YBNANNdIo83GE0BqF2nRXy0UQKBXif/xkxRA1pepLYT6FEAM2MlbFmEVQEIY6omoxxVAd1gKuDouFkCtmCrmzJQWQA==\",\"dtype\":\"float64\",\"order\":\"little\",\"shape\":[56]},\"top\":{\"__ndarray__\":\"3Z3ZbFfy7z8AAAAAAAAAAOCd2WxX8v8/AAAAAAAAAAAAAAAAAAAAAAAAAAAAAAAAAAAAAAAAAAAAAAAAAAAAANud2WxX8v8/AAAAAAAAAAAAAAAAAAAAAOWd2WxX8u8/AAAAAAAAAAAAAAAAAAAAAAAAAAAAAAAAAAAAAAAAAAAAAAAAAAAAAAAAAAAAAAAAAAAAAAAAAAAAAAAAAAAAAAAAAAAAAAAAAAAAAAAAAAAAAAAAAAAAAPid2WxX8u8/AAAAAAAAAAAAAAAAAAAAAAAAAAAAAAAAAAAAAAAAAADQndlsV/LvPwAAAAAAAAAAAAAAAAAAAAAAAAAAAAAAAAAAAAAAAAAAAAAAAAAAAAAAAAAAAAAAAAAAAAAAAAAAAAAAAAAAAAAAAAAAAAAAAAAAAAAAAAAAAAAAAAAAAAAAAAAAAAAAAAAAAAAAAAAAAAAAAAAAAAAAAAAAAAAAAAAAAAAAAAAAAAAAAAAAAAAAAAAAAAAAAAAAAAAAAAAA0J3ZbFfy7z8AAAAAAAAAAAAAAAAAAAAAAAAAAAAAAAAAAAAAAAAAAAAAAAAAAAAAAAAAAAAAAADQndlsV/LvPw==\",\"dtype\":\"float64\",\"order\":\"little\",\"shape\":[56]}},\"selected\":{\"id\":\"1139\"},\"selection_policy\":{\"id\":\"1140\"}},\"id\":\"1111\",\"type\":\"ColumnDataSource\"},{\"attributes\":{\"below\":[{\"id\":\"1089\"}],\"center\":[{\"id\":\"1092\"},{\"id\":\"1096\"}],\"left\":[{\"id\":\"1093\"}],\"plot_height\":400,\"plot_width\":400,\"renderers\":[{\"id\":\"1114\"}],\"sizing_mode\":\"scale_both\",\"title\":{\"id\":\"1079\"},\"toolbar\":{\"id\":\"1104\"},\"x_range\":{\"id\":\"1081\"},\"x_scale\":{\"id\":\"1085\"},\"y_range\":{\"id\":\"1083\"},\"y_scale\":{\"id\":\"1087\"}},\"id\":\"1078\",\"subtype\":\"Figure\",\"type\":\"Plot\"},{\"attributes\":{},\"id\":\"1026\",\"type\":\"HelpTool\"},{\"attributes\":{},\"id\":\"1043\",\"type\":\"DataRange1d\"},{\"attributes\":{},\"id\":\"1025\",\"type\":\"ResetTool\"},{\"attributes\":{},\"id\":\"1045\",\"type\":\"DataRange1d\"},{\"attributes\":{\"bottom\":{\"value\":0},\"fill_alpha\":{\"value\":0.1},\"fill_color\":{\"value\":\"#1f77b4\"},\"left\":{\"field\":\"left\"},\"line_alpha\":{\"value\":0.1},\"line_color\":{\"value\":\"white\"},\"right\":{\"field\":\"right\"},\"top\":{\"field\":\"top\"}},\"id\":\"1037\",\"type\":\"Quad\"},{\"attributes\":{\"source\":{\"id\":\"1035\"}},\"id\":\"1039\",\"type\":\"CDSView\"},{\"attributes\":{\"data\":{\"left\":{\"__ndarray__\":\"73JGjmdpoj8yqqFr5T7OP9Tb2Hm48ds/R3HwHv9h5D+ldPQAIsvqPwE8fHEimvA/rz1+4rPO8z9eP4BTRQP3Pw1BgsTWN/o/vEKENWhs/T82IkPTfFAAQA0jxIvF6gFA5CNFRA6FA0C8JMb8Vh8FQJMlR7WfuQZAaybIbehTCEBCJ0kmMe4JQBkoyt55iAtA8ShLl8IiDUDIKcxPC70OQFCVJgSqKxBAuxVnYM74EEAnlqe88sURQJMW6BgXkxJA/pYodTtgE0BqF2nRXy0UQNaXqS2E+hRAQhjqiajHFUA=\",\"dtype\":\"float64\",\"order\":\"little\",\"shape\":[28]},\"right\":{\"__ndarray__\":\"Mqqha+U+zj/U29h5uPHbP0dx8B7/YeQ/pXT0ACLL6j8BPHxxIprwP689fuKzzvM/Xj+AU0UD9z8NQYLE1jf6P7xChDVobP0/NiJD03xQAEANI8SLxeoBQOQjRUQOhQNAvCTG/FYfBUCTJUe1n7kGQGsmyG3oUwhAQidJJjHuCUAZKMreeYgLQPEoS5fCIg1AyCnMTwu9DkBQlSYEqisQQLsVZ2DO+BBAJ5anvPLFEUCTFugYF5MSQP6WKHU7YBNAahdp0V8tFEDWl6kthPoUQEIY6omoxxVArZgq5syUFkA=\",\"dtype\":\"float64\",\"order\":\"little\",\"shape\":[28]},\"top\":{\"__ndarray__\":\"3Z3ZbFfy3z/dndlsV/LvPwAAAAAAAAAAAAAAAAAAAADgndlsV/LvP+Wd2WxX8t8/AAAAAAAAAAAAAAAAAAAAAAAAAAAAAAAAAAAAAAAAAAAAAAAAAAAAAOWd2WxX8t8/AAAAAAAAAAAAAAAAAAAAANCd2WxX8t8/AAAAAAAAAAAAAAAAAAAAAAAAAAAAAAAAAAAAAAAAAAAAAAAAAAAAAAAAAAAAAAAAAAAAAAAAAAAAAAAAAAAAAAAAAAAAAAAA0J3ZbFfy3z8AAAAAAAAAAAAAAAAAAAAA+J3ZbFfy3z8=\",\"dtype\":\"float64\",\"order\":\"little\",\"shape\":[28]}},\"selected\":{\"id\":\"1136\"},\"selection_policy\":{\"id\":\"1137\"}},\"id\":\"1073\",\"type\":\"ColumnDataSource\"},{\"attributes\":{\"active_drag\":\"auto\",\"active_inspect\":\"auto\",\"active_multi\":null,\"active_scroll\":\"auto\",\"active_tap\":\"auto\",\"tools\":[{\"id\":\"1021\"},{\"id\":\"1022\"},{\"id\":\"1023\"},{\"id\":\"1024\"},{\"id\":\"1025\"},{\"id\":\"1026\"}]},\"id\":\"1028\",\"type\":\"Toolbar\"},{\"attributes\":{},\"id\":\"1052\",\"type\":\"BasicTicker\"},{\"attributes\":{\"formatter\":{\"id\":\"1127\"},\"ticker\":{\"id\":\"1052\"}},\"id\":\"1051\",\"type\":\"LinearAxis\"},{\"attributes\":{\"bottom\":{\"value\":0},\"fill_color\":{\"value\":\"#1f77b4\"},\"left\":{\"field\":\"left\"},\"line_color\":{\"value\":\"white\"},\"right\":{\"field\":\"right\"},\"top\":{\"field\":\"top\"}},\"id\":\"1036\",\"type\":\"Quad\"},{\"attributes\":{\"data_source\":{\"id\":\"1035\"},\"glyph\":{\"id\":\"1036\"},\"hover_glyph\":null,\"muted_glyph\":null,\"nonselection_glyph\":{\"id\":\"1037\"},\"selection_glyph\":null,\"view\":{\"id\":\"1039\"}},\"id\":\"1038\",\"type\":\"GlyphRenderer\"},{\"attributes\":{},\"id\":\"1049\",\"type\":\"LinearScale\"},{\"attributes\":{\"overlay\":{\"id\":\"1027\"}},\"id\":\"1023\",\"type\":\"BoxZoomTool\"}],\"root_ids\":[\"1116\"]},\"title\":\"Bokeh Application\",\"version\":\"2.2.3\"}};\n",
       "  var render_items = [{\"docid\":\"f84d6d0c-dbf8-40a8-b244-f9465dada605\",\"root_ids\":[\"1116\"],\"roots\":{\"1116\":\"714a2d09-f472-41ca-90fa-965b64b5f6be\"}}];\n",
       "  root.Bokeh.embed.embed_items_notebook(docs_json, render_items);\n",
       "\n",
       "  }\n",
       "  if (root.Bokeh !== undefined) {\n",
       "    embed_document(root);\n",
       "  } else {\n",
       "    var attempts = 0;\n",
       "    var timer = setInterval(function(root) {\n",
       "      if (root.Bokeh !== undefined) {\n",
       "        clearInterval(timer);\n",
       "        embed_document(root);\n",
       "      } else {\n",
       "        attempts++;\n",
       "        if (attempts > 100) {\n",
       "          clearInterval(timer);\n",
       "          console.log(\"Bokeh: ERROR: Unable to run BokehJS code because BokehJS library is missing\");\n",
       "        }\n",
       "      }\n",
       "    }, 10, root)\n",
       "  }\n",
       "})(window);"
      ],
      "application/vnd.bokehjs_exec.v0+json": ""
     },
     "metadata": {
      "application/vnd.bokehjs_exec.v0+json": {
       "id": "1116"
      }
     },
     "output_type": "display_data"
    },
    {
     "data": {
      "text/html": [
       "\n",
       "\n",
       "\n",
       "\n",
       "\n",
       "\n",
       "  <div class=\"bk-root\" id=\"8b634bb4-0fee-4ac7-aabc-60f1e16e00f8\" data-root-id=\"1375\"></div>\n"
      ]
     },
     "metadata": {},
     "output_type": "display_data"
    },
    {
     "data": {
      "application/javascript": [
       "(function(root) {\n",
       "  function embed_document(root) {\n",
       "    \n",
       "  var docs_json = {\"29a911ea-2951-44dc-be89-05e2329db586\":{\"roots\":{\"references\":[{\"attributes\":{\"children\":[{\"id\":\"1261\"},{\"id\":\"1299\"},{\"id\":\"1337\"}],\"sizing_mode\":\"scale_both\"},\"id\":\"1375\",\"type\":\"Row\"},{\"attributes\":{},\"id\":\"1404\",\"type\":\"BasicTickFormatter\"},{\"attributes\":{},\"id\":\"1412\",\"type\":\"BasicTickFormatter\"},{\"attributes\":{},\"id\":\"1308\",\"type\":\"LinearScale\"},{\"attributes\":{},\"id\":\"1344\",\"type\":\"LinearScale\"},{\"attributes\":{},\"id\":\"1340\",\"type\":\"DataRange1d\"},{\"attributes\":{},\"id\":\"1414\",\"type\":\"BasicTickFormatter\"},{\"attributes\":{},\"id\":\"1304\",\"type\":\"DataRange1d\"},{\"attributes\":{},\"id\":\"1306\",\"type\":\"LinearScale\"},{\"attributes\":{},\"id\":\"1360\",\"type\":\"ResetTool\"},{\"attributes\":{},\"id\":\"1302\",\"type\":\"DataRange1d\"},{\"attributes\":{},\"id\":\"1342\",\"type\":\"DataRange1d\"},{\"attributes\":{},\"id\":\"1311\",\"type\":\"BasicTicker\"},{\"attributes\":{},\"id\":\"1357\",\"type\":\"WheelZoomTool\"},{\"attributes\":{\"formatter\":{\"id\":\"1410\"},\"ticker\":{\"id\":\"1311\"}},\"id\":\"1310\",\"type\":\"LinearAxis\"},{\"attributes\":{},\"id\":\"1406\",\"type\":\"BasicTickFormatter\"},{\"attributes\":{\"overlay\":{\"id\":\"1362\"}},\"id\":\"1358\",\"type\":\"BoxZoomTool\"},{\"attributes\":{\"formatter\":{\"id\":\"1404\"},\"ticker\":{\"id\":\"1277\"}},\"id\":\"1276\",\"type\":\"LinearAxis\"},{\"attributes\":{},\"id\":\"1356\",\"type\":\"PanTool\"},{\"attributes\":{},\"id\":\"1416\",\"type\":\"Selection\"},{\"attributes\":{\"data\":{\"left\":{\"__ndarray__\":\"BRPdbxMHlD+/KYso1QXbPydBDI2cZeo/t3bpQiek8z/bzEw/gBX6P38R2J1sQwBAkbwJHBl8A0CjZzuaxbQGQLUSbRhy7QlAx72elh4mDUBsNGiKZS8QQPUJgcm7yxFAft+ZCBJoE0AHtbJHaAQVQJCKy4a+oBZAGWDkxRQ9GECiNf0Ea9kZQCsLFkTBdRtAtOAugxcSHUA9tkfCba4eQONFsABiJSBAqLA8II3zIEBsG8k/uMEhQA==\",\"dtype\":\"float64\",\"order\":\"little\",\"shape\":[23]},\"right\":{\"__ndarray__\":\"vymLKNUF2z8nQQyNnGXqP7d26UInpPM/28xMP4AV+j9/EdidbEMAQJG8CRwZfANAo2c7msW0BkC1Em0Ycu0JQMe9npYeJg1AbDRoimUvEED1CYHJu8sRQH7fmQgSaBNAB7WyR2gEFUCQisuGvqAWQBlg5MUUPRhAojX9BGvZGUArCxZEwXUbQLTgLoMXEh1APbZHwm2uHkDjRbAAYiUgQKiwPCCN8yBAbBvJP7jBIUAxhlVf448iQA==\",\"dtype\":\"float64\",\"order\":\"little\",\"shape\":[23]},\"top\":{\"__ndarray__\":\"RYvjtvKK4j/QfSC8Wn3aP9F9ILxafdo/cjFNYxUx1T8AAAAAAAAAAHIxTWMVMcU/cjFNYxUxxT9yMU1jFTG1PwAAAAAAAAAAAAAAAAAAAAAAAAAAAAAAAHIxTWMVMbU/AAAAAAAAAAByMU1jFTHFPwAAAAAAAAAAAAAAAAAAAAAAAAAAAAAAAAAAAAAAAAAAAAAAAAAAAAAAAAAAAAAAAAAAAAAAAAAAAAAAAAAAAABlMU1jFTG1Pw==\",\"dtype\":\"float64\",\"order\":\"little\",\"shape\":[23]}},\"selected\":{\"id\":\"1416\"},\"selection_policy\":{\"id\":\"1417\"}},\"id\":\"1294\",\"type\":\"ColumnDataSource\"},{\"attributes\":{},\"id\":\"1315\",\"type\":\"BasicTicker\"},{\"attributes\":{},\"id\":\"1359\",\"type\":\"SaveTool\"},{\"attributes\":{\"formatter\":{\"id\":\"1408\"},\"ticker\":{\"id\":\"1315\"}},\"id\":\"1314\",\"type\":\"LinearAxis\"},{\"attributes\":{},\"id\":\"1408\",\"type\":\"BasicTickFormatter\"},{\"attributes\":{\"axis\":{\"id\":\"1310\"},\"ticker\":null},\"id\":\"1313\",\"type\":\"Grid\"},{\"attributes\":{\"source\":{\"id\":\"1332\"}},\"id\":\"1336\",\"type\":\"CDSView\"},{\"attributes\":{},\"id\":\"1361\",\"type\":\"HelpTool\"},{\"attributes\":{\"axis\":{\"id\":\"1314\"},\"dimension\":1,\"ticker\":null},\"id\":\"1317\",\"type\":\"Grid\"},{\"attributes\":{},\"id\":\"1318\",\"type\":\"PanTool\"},{\"attributes\":{\"bottom\":{\"value\":0},\"fill_color\":{\"value\":\"#1f77b4\"},\"left\":{\"field\":\"left\"},\"line_color\":{\"value\":\"white\"},\"right\":{\"field\":\"right\"},\"top\":{\"field\":\"top\"}},\"id\":\"1371\",\"type\":\"Quad\"},{\"attributes\":{\"overlay\":{\"id\":\"1324\"}},\"id\":\"1320\",\"type\":\"BoxZoomTool\"},{\"attributes\":{},\"id\":\"1319\",\"type\":\"WheelZoomTool\"},{\"attributes\":{\"active_drag\":\"auto\",\"active_inspect\":\"auto\",\"active_multi\":null,\"active_scroll\":\"auto\",\"active_tap\":\"auto\",\"tools\":[{\"id\":\"1356\"},{\"id\":\"1357\"},{\"id\":\"1358\"},{\"id\":\"1359\"},{\"id\":\"1360\"},{\"id\":\"1361\"}]},\"id\":\"1363\",\"type\":\"Toolbar\"},{\"attributes\":{},\"id\":\"1322\",\"type\":\"ResetTool\"},{\"attributes\":{},\"id\":\"1321\",\"type\":\"SaveTool\"},{\"attributes\":{},\"id\":\"1417\",\"type\":\"UnionRenderers\"},{\"attributes\":{},\"id\":\"1410\",\"type\":\"BasicTickFormatter\"},{\"attributes\":{\"data\":{\"left\":{\"__ndarray__\":\"BRPdbxMHlD9QnYTNKMe+P/D6iF9GRsw/m9MnLHyU1D+/KYso1QXbP/E/dxKXu+A/A+uokEP04z8VltoO8CznPydBDI2cZeo/Oew9C0me7T+ly7fEemvwPy6h0APRB/I/t3bpQiek8z9ATAKCfUD1P8khG8HT3PY/UvczACp5+D/bzEw/gBX6P2SiZX7Wsfs/7Xd+vSxO/T92TZf8gur+P38R2J1sQwBARHxkvZcRAUAI5/Dcwt8BQM1RffztrQJAkbwJHBl8A0BWJ5Y7REoEQBqSIltvGAVA3/yueprmBUCjZzuaxbQGQGjSx7nwggdALD1U2RtRCEDxp+D4Rh8JQLUSbRhy7QlAeX35N527CkA+6IVXyIkLQAJTEnfzVwxAx72elh4mDUCLKCu2SfQNQFCTt9V0wg5AFP5D9Z+QD0BsNGiKZS8QQM9pLhp7lhBAMZ/0qZD9EECT1Lo5pmQRQPUJgcm7yxFAWD9HWdEyEkC6dA3p5pkSQByq03j8ABNAft+ZCBJoE0DgFGCYJ88TQENKJig9NhRApX/st1KdFEAHtbJHaAQVQGnqeNd9axVAzB8/Z5PSFUAuVQX3qDkWQJCKy4a+oBZA8r+RFtQHF0BV9Vem6W4XQLcqHjb/1RdAGWDkxRQ9GEB7lapVKqQYQN7KcOU/CxlAQAA3dVVyGUCiNf0Ea9kZQARrw5SAQBpAZqCJJJanGkDJ1U+0qw4bQCsLFkTBdRtAjUDc09bcG0DvdaJj7EMcQFKraPMBqxxAtOAugxcSHUAWFvUSLXkdQHhLu6JC4B1A24CBMlhHHkA9tkfCba4eQJ/rDVKDFR9AASHU4Zh8H0BkVppxruMfQONFsABiJSBAlGCTyOxYIEBGe3aQd4wgQPeVWVgCwCBAqLA8II3zIEBZyx/oFychQArmArCiWiFAuwDmdy2OIUBsG8k/uMEhQB02rAdD9SFAz1CPz80oIkCAa3KXWFwiQA==\",\"dtype\":\"float64\",\"order\":\"little\",\"shape\":[92]},\"right\":{\"__ndarray__\":\"UJ2EzSjHvj/w+ohfRkbMP5vTJyx8lNQ/vymLKNUF2z/xP3cSl7vgPwPrqJBD9OM/FZbaDvAs5z8nQQyNnGXqPznsPQtJnu0/pcu3xHpr8D8uodAD0QfyP7d26UInpPM/QEwCgn1A9T/JIRvB09z2P1L3MwAqefg/28xMP4AV+j9komV+1rH7P+13fr0sTv0/dk2X/ILq/j9/EdidbEMAQER8ZL2XEQFACOfw3MLfAUDNUX387a0CQJG8CRwZfANAVieWO0RKBEAakiJbbxgFQN/8rnqa5gVAo2c7msW0BkBo0se58IIHQCw9VNkbUQhA8afg+EYfCUC1Em0Ycu0JQHl9+TeduwpAPuiFV8iJC0ACUxJ381cMQMe9npYeJg1Aiygrtkn0DUBQk7fVdMIOQBT+Q/WfkA9AbDRoimUvEEDPaS4ae5YQQDGf9KmQ/RBAk9S6OaZkEUD1CYHJu8sRQFg/R1nRMhJAunQN6eaZEkAcqtN4/AATQH7fmQgSaBNA4BRgmCfPE0BDSiYoPTYUQKV/7LdSnRRAB7WyR2gEFUBp6njXfWsVQMwfP2eT0hVALlUF96g5FkCQisuGvqAWQPK/kRbUBxdAVfVXpuluF0C3Kh42/9UXQBlg5MUUPRhAe5WqVSqkGEDeynDlPwsZQEAAN3VVchlAojX9BGvZGUAEa8OUgEAaQGagiSSWpxpAydVPtKsOG0ArCxZEwXUbQI1A3NPW3BtA73WiY+xDHEBSq2jzAascQLTgLoMXEh1AFhb1Ei15HUB4S7uiQuAdQNuAgTJYRx5APbZHwm2uHkCf6w1SgxUfQAEh1OGYfB9AZFaaca7jH0DjRbAAYiUgQJRgk8jsWCBARnt2kHeMIED3lVlYAsAgQKiwPCCN8yBAWcsf6BcnIUAK5gKwolohQLsA5nctjiFAbBvJP7jBIUAdNqwHQ/UhQM9Qj8/NKCJAgGtyl1hcIkAxhlVf448iQA==\",\"dtype\":\"float64\",\"order\":\"little\",\"shape\":[92]},\"top\":{\"__ndarray__\":\"czFNYxUx9T8AAAAAAAAAAHUxTWMVMdU/cjFNYxUx5T91MU1jFTHVP3IxTWMVMdU/LMrzFKDJ7z8AAAAAAAAAACzK8xSgye8/AAAAAAAAAAByMU1jFTHVP3IxTWMVMdU/cjFNYxUx5T9yMU1jFTHVP3IxTWMVMdU/AAAAAAAAAAAAAAAAAAAAAAAAAAAAAAAAAAAAAAAAAAAAAAAAAAAAAAAAAAAAAAAAgDFNYxUx1T9lMU1jFTHVPwAAAAAAAAAAZTFNYxUx1T+AMU1jFTHVPwAAAAAAAAAAAAAAAAAAAABlMU1jFTHVPwAAAAAAAAAAAAAAAAAAAAAAAAAAAAAAAAAAAAAAAAAAAAAAAAAAAAAAAAAAAAAAAAAAAAAAAAAAAAAAAAAAAAAAAAAAAAAAAAAAAAAAAAAAAAAAAAAAAAAAAAAAAAAAAAAAAAAAAAAAAAAAAAAAAAAAAAAAAAAAAAAAAAAAAAAAgDFNYxUx1T8AAAAAAAAAAAAAAAAAAAAAAAAAAAAAAAAAAAAAAAAAAAAAAAAAAAAAAAAAAAAAAACAMU1jFTHlPwAAAAAAAAAAAAAAAAAAAAAAAAAAAAAAAAAAAAAAAAAAAAAAAAAAAAAAAAAAAAAAAAAAAAAAAAAAAAAAAAAAAAAAAAAAAAAAAAAAAAAAAAAAAAAAAAAAAAAAAAAAAAAAAAAAAAAAAAAAAAAAAAAAAAAAAAAAAAAAAAAAAAAAAAAAAAAAAAAAAAAAAAAAAAAAAAAAAAAAAAAAAAAAAAAAAAAAAAAAAAAAAAAAAAAAAAAAAAAAAAAAAAAAAAAAAAAAAAAAAAAAAAAAAAAAAAAAAAAAAAAAAAAAAAAAAAAAAAAAAAAAAAAAAAAAAAAAAAAAAAAAAAAAAAAAAAAAAAAAAAAAAAAAAAAAAAAAAAAAAAAAAAAAAAAAAAAAAAAAAAAAAAAAAAAAAAAAAAAAAAAAAACAMU1jFTHVPw==\",\"dtype\":\"float64\",\"order\":\"little\",\"shape\":[92]}},\"selected\":{\"id\":\"1422\"},\"selection_policy\":{\"id\":\"1423\"}},\"id\":\"1370\",\"type\":\"ColumnDataSource\"},{\"attributes\":{\"bottom_units\":\"screen\",\"fill_alpha\":0.5,\"fill_color\":\"lightgrey\",\"left_units\":\"screen\",\"level\":\"overlay\",\"line_alpha\":1.0,\"line_color\":\"black\",\"line_dash\":[4,4],\"line_width\":2,\"right_units\":\"screen\",\"top_units\":\"screen\"},\"id\":\"1362\",\"type\":\"BoxAnnotation\"},{\"attributes\":{\"below\":[{\"id\":\"1348\"}],\"center\":[{\"id\":\"1351\"},{\"id\":\"1355\"}],\"left\":[{\"id\":\"1352\"}],\"plot_height\":400,\"plot_width\":400,\"renderers\":[{\"id\":\"1373\"}],\"sizing_mode\":\"scale_both\",\"title\":{\"id\":\"1338\"},\"toolbar\":{\"id\":\"1363\"},\"x_range\":{\"id\":\"1340\"},\"x_scale\":{\"id\":\"1344\"},\"y_range\":{\"id\":\"1342\"},\"y_scale\":{\"id\":\"1346\"}},\"id\":\"1337\",\"subtype\":\"Figure\",\"type\":\"Plot\"},{\"attributes\":{},\"id\":\"1323\",\"type\":\"HelpTool\"},{\"attributes\":{},\"id\":\"1268\",\"type\":\"LinearScale\"},{\"attributes\":{\"bottom\":{\"value\":0},\"fill_color\":{\"value\":\"#1f77b4\"},\"left\":{\"field\":\"left\"},\"line_color\":{\"value\":\"white\"},\"right\":{\"field\":\"right\"},\"top\":{\"field\":\"top\"}},\"id\":\"1295\",\"type\":\"Quad\"},{\"attributes\":{\"source\":{\"id\":\"1370\"}},\"id\":\"1374\",\"type\":\"CDSView\"},{\"attributes\":{},\"id\":\"1264\",\"type\":\"DataRange1d\"},{\"attributes\":{\"formatter\":{\"id\":\"1412\"},\"ticker\":{\"id\":\"1353\"}},\"id\":\"1352\",\"type\":\"LinearAxis\"},{\"attributes\":{\"formatter\":{\"id\":\"1414\"},\"ticker\":{\"id\":\"1349\"}},\"id\":\"1348\",\"type\":\"LinearAxis\"},{\"attributes\":{\"axis\":{\"id\":\"1348\"},\"ticker\":null},\"id\":\"1351\",\"type\":\"Grid\"},{\"attributes\":{\"active_drag\":\"auto\",\"active_inspect\":\"auto\",\"active_multi\":null,\"active_scroll\":\"auto\",\"active_tap\":\"auto\",\"tools\":[{\"id\":\"1318\"},{\"id\":\"1319\"},{\"id\":\"1320\"},{\"id\":\"1321\"},{\"id\":\"1322\"},{\"id\":\"1323\"}]},\"id\":\"1325\",\"type\":\"Toolbar\"},{\"attributes\":{\"text\":\"Exp(0.5), n = 30, ancho de banda = 0.2\"},\"id\":\"1300\",\"type\":\"Title\"},{\"attributes\":{\"text\":\"Exp(0.5), n = 30, ancho de banda = 0.4\"},\"id\":\"1262\",\"type\":\"Title\"},{\"attributes\":{},\"id\":\"1346\",\"type\":\"LinearScale\"},{\"attributes\":{},\"id\":\"1419\",\"type\":\"Selection\"},{\"attributes\":{},\"id\":\"1349\",\"type\":\"BasicTicker\"},{\"attributes\":{\"bottom_units\":\"screen\",\"fill_alpha\":0.5,\"fill_color\":\"lightgrey\",\"left_units\":\"screen\",\"level\":\"overlay\",\"line_alpha\":1.0,\"line_color\":\"black\",\"line_dash\":[4,4],\"line_width\":2,\"right_units\":\"screen\",\"top_units\":\"screen\"},\"id\":\"1324\",\"type\":\"BoxAnnotation\"},{\"attributes\":{\"bottom\":{\"value\":0},\"fill_alpha\":{\"value\":0.1},\"fill_color\":{\"value\":\"#1f77b4\"},\"left\":{\"field\":\"left\"},\"line_alpha\":{\"value\":0.1},\"line_color\":{\"value\":\"white\"},\"right\":{\"field\":\"right\"},\"top\":{\"field\":\"top\"}},\"id\":\"1334\",\"type\":\"Quad\"},{\"attributes\":{\"data_source\":{\"id\":\"1332\"},\"glyph\":{\"id\":\"1333\"},\"hover_glyph\":null,\"muted_glyph\":null,\"nonselection_glyph\":{\"id\":\"1334\"},\"selection_glyph\":null,\"view\":{\"id\":\"1336\"}},\"id\":\"1335\",\"type\":\"GlyphRenderer\"},{\"attributes\":{},\"id\":\"1420\",\"type\":\"UnionRenderers\"},{\"attributes\":{\"formatter\":{\"id\":\"1406\"},\"ticker\":{\"id\":\"1273\"}},\"id\":\"1272\",\"type\":\"LinearAxis\"},{\"attributes\":{},\"id\":\"1266\",\"type\":\"DataRange1d\"},{\"attributes\":{},\"id\":\"1270\",\"type\":\"LinearScale\"},{\"attributes\":{},\"id\":\"1273\",\"type\":\"BasicTicker\"},{\"attributes\":{\"text\":\"Exp(0.5), n = 30, ancho de banda = 0.1\"},\"id\":\"1338\",\"type\":\"Title\"},{\"attributes\":{\"below\":[{\"id\":\"1272\"}],\"center\":[{\"id\":\"1275\"},{\"id\":\"1279\"}],\"left\":[{\"id\":\"1276\"}],\"plot_height\":400,\"plot_width\":400,\"renderers\":[{\"id\":\"1297\"}],\"sizing_mode\":\"scale_both\",\"title\":{\"id\":\"1262\"},\"toolbar\":{\"id\":\"1287\"},\"x_range\":{\"id\":\"1264\"},\"x_scale\":{\"id\":\"1268\"},\"y_range\":{\"id\":\"1266\"},\"y_scale\":{\"id\":\"1270\"}},\"id\":\"1261\",\"subtype\":\"Figure\",\"type\":\"Plot\"},{\"attributes\":{\"data_source\":{\"id\":\"1370\"},\"glyph\":{\"id\":\"1371\"},\"hover_glyph\":null,\"muted_glyph\":null,\"nonselection_glyph\":{\"id\":\"1372\"},\"selection_glyph\":null,\"view\":{\"id\":\"1374\"}},\"id\":\"1373\",\"type\":\"GlyphRenderer\"},{\"attributes\":{\"overlay\":{\"id\":\"1286\"}},\"id\":\"1282\",\"type\":\"BoxZoomTool\"},{\"attributes\":{},\"id\":\"1281\",\"type\":\"WheelZoomTool\"},{\"attributes\":{},\"id\":\"1284\",\"type\":\"ResetTool\"},{\"attributes\":{},\"id\":\"1280\",\"type\":\"PanTool\"},{\"attributes\":{},\"id\":\"1283\",\"type\":\"SaveTool\"},{\"attributes\":{},\"id\":\"1422\",\"type\":\"Selection\"},{\"attributes\":{\"below\":[{\"id\":\"1310\"}],\"center\":[{\"id\":\"1313\"},{\"id\":\"1317\"}],\"left\":[{\"id\":\"1314\"}],\"plot_height\":400,\"plot_width\":400,\"renderers\":[{\"id\":\"1335\"}],\"sizing_mode\":\"scale_both\",\"title\":{\"id\":\"1300\"},\"toolbar\":{\"id\":\"1325\"},\"x_range\":{\"id\":\"1302\"},\"x_scale\":{\"id\":\"1306\"},\"y_range\":{\"id\":\"1304\"},\"y_scale\":{\"id\":\"1308\"}},\"id\":\"1299\",\"subtype\":\"Figure\",\"type\":\"Plot\"},{\"attributes\":{\"axis\":{\"id\":\"1272\"},\"ticker\":null},\"id\":\"1275\",\"type\":\"Grid\"},{\"attributes\":{\"axis\":{\"id\":\"1276\"},\"dimension\":1,\"ticker\":null},\"id\":\"1279\",\"type\":\"Grid\"},{\"attributes\":{},\"id\":\"1423\",\"type\":\"UnionRenderers\"},{\"attributes\":{},\"id\":\"1277\",\"type\":\"BasicTicker\"},{\"attributes\":{\"bottom\":{\"value\":0},\"fill_alpha\":{\"value\":0.1},\"fill_color\":{\"value\":\"#1f77b4\"},\"left\":{\"field\":\"left\"},\"line_alpha\":{\"value\":0.1},\"line_color\":{\"value\":\"white\"},\"right\":{\"field\":\"right\"},\"top\":{\"field\":\"top\"}},\"id\":\"1296\",\"type\":\"Quad\"},{\"attributes\":{\"data_source\":{\"id\":\"1294\"},\"glyph\":{\"id\":\"1295\"},\"hover_glyph\":null,\"muted_glyph\":null,\"nonselection_glyph\":{\"id\":\"1296\"},\"selection_glyph\":null,\"view\":{\"id\":\"1298\"}},\"id\":\"1297\",\"type\":\"GlyphRenderer\"},{\"attributes\":{\"data\":{\"left\":{\"__ndarray__\":\"BRPdbxMHlD/w+ohfRkbMP78piyjVBds/A+uokEP04z8nQQyNnGXqP6XLt8R6a/A/t3bpQiek8z/JIRvB09z2P9vMTD+AFfo/7Xd+vSxO/T9/EdidbEMAQAjn8NzC3wFAkbwJHBl8A0AakiJbbxgFQKNnO5rFtAZALD1U2RtRCEC1Em0Ycu0JQD7ohVfIiQtAx72elh4mDUBQk7fVdMIOQGw0aIplLxBAMZ/0qZD9EED1CYHJu8sRQLp0DenmmRJAft+ZCBJoE0BDSiYoPTYUQAe1skdoBBVAzB8/Z5PSFUCQisuGvqAWQFX1V6bpbhdAGWDkxRQ9GEDeynDlPwsZQKI1/QRr2RlAZqCJJJanGkArCxZEwXUbQO91omPsQxxAtOAugxcSHUB4S7uiQuAdQD22R8Jtrh5AASHU4Zh8H0DjRbAAYiUgQEZ7dpB3jCBAqLA8II3zIEAK5gKwolohQGwbyT+4wSFAz1CPz80oIkA=\",\"dtype\":\"float64\",\"order\":\"little\",\"shape\":[46]},\"right\":{\"__ndarray__\":\"8PqIX0ZGzD+/KYso1QXbPwPrqJBD9OM/J0EMjZxl6j+ly7fEemvwP7d26UInpPM/ySEbwdPc9j/bzEw/gBX6P+13fr0sTv0/fxHYnWxDAEAI5/Dcwt8BQJG8CRwZfANAGpIiW28YBUCjZzuaxbQGQCw9VNkbUQhAtRJtGHLtCUA+6IVXyIkLQMe9npYeJg1AUJO31XTCDkBsNGiKZS8QQDGf9KmQ/RBA9QmBybvLEUC6dA3p5pkSQH7fmQgSaBNAQ0omKD02FEAHtbJHaAQVQMwfP2eT0hVAkIrLhr6gFkBV9Vem6W4XQBlg5MUUPRhA3spw5T8LGUCiNf0Ea9kZQGagiSSWpxpAKwsWRMF1G0DvdaJj7EMcQLTgLoMXEh1AeEu7okLgHUA9tkfCba4eQAEh1OGYfB9A40WwAGIlIEBGe3aQd4wgQKiwPCCN8yBACuYCsKJaIUBsG8k/uMEhQM9Qj8/NKCJAMYZVX+OPIkA=\",\"dtype\":\"float64\",\"order\":\"little\",\"shape\":[46]},\"top\":{\"__ndarray__\":\"czFNYxUx5T8uyvMUoMnfP3QxTWMVMdU/LMrzFKDJ3z8xyvMUoMnfP3IxTWMVMdU/LMrzFKDJ3z9yMU1jFTHFPwAAAAAAAAAAAAAAAAAAAAByMU1jFTHFP3IxTWMVMcU/cjFNYxUx1T8AAAAAAAAAAHIxTWMVMcU/AAAAAAAAAAAAAAAAAAAAAAAAAAAAAAAAAAAAAAAAAAAAAAAAAAAAAAAAAAAAAAAAAAAAAAAAAABlMU1jFTHFPwAAAAAAAAAAAAAAAAAAAAAAAAAAAAAAAGUxTWMVMdU/AAAAAAAAAAAAAAAAAAAAAAAAAAAAAAAAAAAAAAAAAAAAAAAAAAAAAAAAAAAAAAAAAAAAAAAAAAAAAAAAAAAAAAAAAAAAAAAAAAAAAAAAAAAAAAAAAAAAAAAAAAAAAAAAAAAAAAAAAAAAAAAAAAAAAAAAAAAAAAAAAAAAAAAAAAAAAAAAAAAAAAAAAAAAAAAAgDFNYxUxxT8=\",\"dtype\":\"float64\",\"order\":\"little\",\"shape\":[46]}},\"selected\":{\"id\":\"1419\"},\"selection_policy\":{\"id\":\"1420\"}},\"id\":\"1332\",\"type\":\"ColumnDataSource\"},{\"attributes\":{},\"id\":\"1353\",\"type\":\"BasicTicker\"},{\"attributes\":{\"active_drag\":\"auto\",\"active_inspect\":\"auto\",\"active_multi\":null,\"active_scroll\":\"auto\",\"active_tap\":\"auto\",\"tools\":[{\"id\":\"1280\"},{\"id\":\"1281\"},{\"id\":\"1282\"},{\"id\":\"1283\"},{\"id\":\"1284\"},{\"id\":\"1285\"}]},\"id\":\"1287\",\"type\":\"Toolbar\"},{\"attributes\":{\"source\":{\"id\":\"1294\"}},\"id\":\"1298\",\"type\":\"CDSView\"},{\"attributes\":{\"axis\":{\"id\":\"1352\"},\"dimension\":1,\"ticker\":null},\"id\":\"1355\",\"type\":\"Grid\"},{\"attributes\":{},\"id\":\"1285\",\"type\":\"HelpTool\"},{\"attributes\":{\"bottom\":{\"value\":0},\"fill_alpha\":{\"value\":0.1},\"fill_color\":{\"value\":\"#1f77b4\"},\"left\":{\"field\":\"left\"},\"line_alpha\":{\"value\":0.1},\"line_color\":{\"value\":\"white\"},\"right\":{\"field\":\"right\"},\"top\":{\"field\":\"top\"}},\"id\":\"1372\",\"type\":\"Quad\"},{\"attributes\":{\"bottom_units\":\"screen\",\"fill_alpha\":0.5,\"fill_color\":\"lightgrey\",\"left_units\":\"screen\",\"level\":\"overlay\",\"line_alpha\":1.0,\"line_color\":\"black\",\"line_dash\":[4,4],\"line_width\":2,\"right_units\":\"screen\",\"top_units\":\"screen\"},\"id\":\"1286\",\"type\":\"BoxAnnotation\"},{\"attributes\":{\"bottom\":{\"value\":0},\"fill_color\":{\"value\":\"#1f77b4\"},\"left\":{\"field\":\"left\"},\"line_color\":{\"value\":\"white\"},\"right\":{\"field\":\"right\"},\"top\":{\"field\":\"top\"}},\"id\":\"1333\",\"type\":\"Quad\"}],\"root_ids\":[\"1375\"]},\"title\":\"Bokeh Application\",\"version\":\"2.2.3\"}};\n",
       "  var render_items = [{\"docid\":\"29a911ea-2951-44dc-be89-05e2329db586\",\"root_ids\":[\"1375\"],\"roots\":{\"1375\":\"8b634bb4-0fee-4ac7-aabc-60f1e16e00f8\"}}];\n",
       "  root.Bokeh.embed.embed_items_notebook(docs_json, render_items);\n",
       "\n",
       "  }\n",
       "  if (root.Bokeh !== undefined) {\n",
       "    embed_document(root);\n",
       "  } else {\n",
       "    var attempts = 0;\n",
       "    var timer = setInterval(function(root) {\n",
       "      if (root.Bokeh !== undefined) {\n",
       "        clearInterval(timer);\n",
       "        embed_document(root);\n",
       "      } else {\n",
       "        attempts++;\n",
       "        if (attempts > 100) {\n",
       "          clearInterval(timer);\n",
       "          console.log(\"Bokeh: ERROR: Unable to run BokehJS code because BokehJS library is missing\");\n",
       "        }\n",
       "      }\n",
       "    }, 10, root)\n",
       "  }\n",
       "})(window);"
      ],
      "application/vnd.bokehjs_exec.v0+json": ""
     },
     "metadata": {
      "application/vnd.bokehjs_exec.v0+json": {
       "id": "1375"
      }
     },
     "output_type": "display_data"
    },
    {
     "data": {
      "text/html": [
       "\n",
       "\n",
       "\n",
       "\n",
       "\n",
       "\n",
       "  <div class=\"bk-root\" id=\"123cae65-9548-43ea-a4a4-f630dfb9361a\" data-root-id=\"1658\"></div>\n"
      ]
     },
     "metadata": {},
     "output_type": "display_data"
    },
    {
     "data": {
      "application/javascript": [
       "(function(root) {\n",
       "  function embed_document(root) {\n",
       "    \n",
       "  var docs_json = {\"d75933e4-67d2-475f-a07e-f21e7117a18d\":{\"roots\":{\"references\":[{\"attributes\":{\"children\":[{\"id\":\"1544\"},{\"id\":\"1582\"},{\"id\":\"1620\"}],\"sizing_mode\":\"scale_both\"},\"id\":\"1658\",\"type\":\"Row\"},{\"attributes\":{\"data_source\":{\"id\":\"1653\"},\"glyph\":{\"id\":\"1654\"},\"hover_glyph\":null,\"muted_glyph\":null,\"nonselection_glyph\":{\"id\":\"1655\"},\"selection_glyph\":null,\"view\":{\"id\":\"1657\"}},\"id\":\"1656\",\"type\":\"GlyphRenderer\"},{\"attributes\":{\"source\":{\"id\":\"1653\"}},\"id\":\"1657\",\"type\":\"CDSView\"},{\"attributes\":{\"axis\":{\"id\":\"1593\"},\"ticker\":null},\"id\":\"1596\",\"type\":\"Grid\"},{\"attributes\":{},\"id\":\"1643\",\"type\":\"ResetTool\"},{\"attributes\":{},\"id\":\"1642\",\"type\":\"SaveTool\"},{\"attributes\":{},\"id\":\"1640\",\"type\":\"WheelZoomTool\"},{\"attributes\":{\"active_drag\":\"auto\",\"active_inspect\":\"auto\",\"active_multi\":null,\"active_scroll\":\"auto\",\"active_tap\":\"auto\",\"tools\":[{\"id\":\"1563\"},{\"id\":\"1564\"},{\"id\":\"1565\"},{\"id\":\"1566\"},{\"id\":\"1567\"},{\"id\":\"1568\"}]},\"id\":\"1570\",\"type\":\"Toolbar\"},{\"attributes\":{},\"id\":\"1639\",\"type\":\"PanTool\"},{\"attributes\":{\"data_source\":{\"id\":\"1577\"},\"glyph\":{\"id\":\"1578\"},\"hover_glyph\":null,\"muted_glyph\":null,\"nonselection_glyph\":{\"id\":\"1579\"},\"selection_glyph\":null,\"view\":{\"id\":\"1581\"}},\"id\":\"1580\",\"type\":\"GlyphRenderer\"},{\"attributes\":{\"overlay\":{\"id\":\"1645\"}},\"id\":\"1641\",\"type\":\"BoxZoomTool\"},{\"attributes\":{},\"id\":\"1629\",\"type\":\"LinearScale\"},{\"attributes\":{},\"id\":\"1644\",\"type\":\"HelpTool\"},{\"attributes\":{\"source\":{\"id\":\"1577\"}},\"id\":\"1581\",\"type\":\"CDSView\"},{\"attributes\":{},\"id\":\"1587\",\"type\":\"DataRange1d\"},{\"attributes\":{},\"id\":\"1589\",\"type\":\"LinearScale\"},{\"attributes\":{},\"id\":\"1585\",\"type\":\"DataRange1d\"},{\"attributes\":{\"axis\":{\"id\":\"1597\"},\"dimension\":1,\"ticker\":null},\"id\":\"1600\",\"type\":\"Grid\"},{\"attributes\":{\"text\":\"Exp(0.5), n = 200, ancho de banda = 0.2\"},\"id\":\"1583\",\"type\":\"Title\"},{\"attributes\":{\"below\":[{\"id\":\"1593\"}],\"center\":[{\"id\":\"1596\"},{\"id\":\"1600\"}],\"left\":[{\"id\":\"1597\"}],\"plot_height\":400,\"plot_width\":400,\"renderers\":[{\"id\":\"1618\"}],\"sizing_mode\":\"scale_both\",\"title\":{\"id\":\"1583\"},\"toolbar\":{\"id\":\"1608\"},\"x_range\":{\"id\":\"1585\"},\"x_scale\":{\"id\":\"1589\"},\"y_range\":{\"id\":\"1587\"},\"y_scale\":{\"id\":\"1591\"}},\"id\":\"1582\",\"subtype\":\"Figure\",\"type\":\"Plot\"},{\"attributes\":{\"data\":{\"left\":{\"__ndarray__\":\"XqkeGZr+Bj8V8/cHLp3JPx8qJxN2nNk/Wy0pkSo14z+lxb4YGpzpP/cuKtCEAfA/Hfv0k/w08z9Cx79XdGj2P2eTihvsm/k/jF9V32PP/D/ZFZDRbQEAQOx7dbMpmwFA/+FaleU0A0ARSEB3oc4EQCSuJVldaAZANhQLOxkCCEBJevAc1ZsJQFzg1f6QNQtAbka74EzPDECBrKDCCGkOQEkJQ1JiARBAU7w1Q0DOEEBcbyg0HpsRQGUiGyX8ZxJAb9UNFto0E0B4iAAHuAEUQIE78/eVzhRAiu7l6HObFUCUodjZUWgWQJ1Uy8ovNRdApge+uw0CGECwurCs684YQLlto53JmxlAwiCWjqdoGkDM04h/hTUbQNWGe3BjAhxA3jluYUHPHEDo7GBSH5wdQPGfU0P9aB5A+lJGNNs1H0ACg5ySXAEgQIfcFYvLZyBADDaPgzrOIECQjwh8qTQhQBXpgXQYmyFAmkL7bIcBIkAenHRl9mciQKP17V1lziJAKE9nVtQ0I0CsqOBOQ5sjQDECWkeyASRAtVvTPyFoJEA6tUw4kM4kQL8OxjD/NCVAQ2g/KW6bJUDIwbgh3QEmQE0bMhpMaCZA0XSrErvOJkBWziQLKjUnQNsnngOZmydAX4EX/AcCKEDk2pD0dmgoQGk0Cu3lzihA7Y2D5VQ1KUBy5/zdw5spQPdAdtYyAipAe5rvzqFoKkAA9GjHEM8qQIVN4r9/NStACadbuO6bK0COANWwXQIsQBNaTqnMaCxAl7PHoTvPLEAcDUGaqjUtQKFmupIZnC1AJcAzi4gCLkCqGa2D92guQC9zJnxmzy5As8yfdNU1L0A4JhltRJwvQN4/ybJZATBAoewFL5E0MEBjmUKryGcwQCVGfycAmzBA6PK7ozfOMECqn/gfbwExQGxMNZymNDFAL/lxGN5nMUDxpa6UFZsxQLNS6xBNzjFAdv8njYQBMkA4rGQJvDQyQPpYoYXzZzJAvQXeASubMkB/shp+Ys4yQEFfV/qZATNABAyUdtE0M0DGuNDyCGgzQIhlDW9AmzNAShJK63fOM0ANv4ZnrwE0QM9rw+PmNDRAkRgAYB5oNEBUxTzcVZs0QBZyeViNzjRA2B621MQBNUCby/JQ/DQ1QF14L80zaDVAHyVsSWubNUDi0ajFos41QKR+5UHaATZAZisivhE1NkAp2F46SWg2QOuEm7aAmzZArTHYMrjONkBw3hSv7wE3QDKLUSsnNTdA9DeOp15oN0C35Mojlps3QHmRB6DNzjdAOz5EHAUCOED+6oCYPDU4QMCXvRR0aDhAgkT6kKubOEA=\",\"dtype\":\"float64\",\"order\":\"little\",\"shape\":[124]},\"right\":{\"__ndarray__\":\"FfP3By6dyT8fKicTdpzZP1stKZEqNeM/pcW+GBqc6T/3LirQhAHwPx379JP8NPM/Qse/V3Ro9j9nk4ob7Jv5P4xfVd9jz/w/2RWQ0W0BAEDse3WzKZsBQP/hWpXlNANAEUhAd6HOBEAkriVZXWgGQDYUCzsZAghASXrwHNWbCUBc4NX+kDULQG5Gu+BMzwxAgaygwghpDkBJCUNSYgEQQFO8NUNAzhBAXG8oNB6bEUBlIhsl/GcSQG/VDRbaNBNAeIgAB7gBFECBO/P3lc4UQIru5ehzmxVAlKHY2VFoFkCdVMvKLzUXQKYHvrsNAhhAsLqwrOvOGEC5baOdyZsZQMIglo6naBpAzNOIf4U1G0DVhntwYwIcQN45bmFBzxxA6OxgUh+cHUDxn1ND/WgeQPpSRjTbNR9AAoOcklwBIECH3BWLy2cgQAw2j4M6ziBAkI8IfKk0IUAV6YF0GJshQJpC+2yHASJAHpx0ZfZnIkCj9e1dZc4iQChPZ1bUNCNArKjgTkObI0AxAlpHsgEkQLVb0z8haCRAOrVMOJDOJEC/DsYw/zQlQENoPylumyVAyMG4Id0BJkBNGzIaTGgmQNF0qxK7ziZAVs4kCyo1J0DbJ54DmZsnQF+BF/wHAihA5NqQ9HZoKEBpNArt5c4oQO2Ng+VUNSlAcuf83cObKUD3QHbWMgIqQHua786haCpAAPRoxxDPKkCFTeK/fzUrQAmnW7jumytAjgDVsF0CLEATWk6pzGgsQJezx6E7zyxAHA1Bmqo1LUChZrqSGZwtQCXAM4uIAi5Aqhmtg/doLkAvcyZ8Zs8uQLPMn3TVNS9AOCYZbUScL0DeP8myWQEwQKHsBS+RNDBAY5lCq8hnMEAlRn8nAJswQOjyu6M3zjBAqp/4H28BMUBsTDWcpjQxQC/5cRjeZzFA8aWulBWbMUCzUusQTc4xQHb/J42EATJAOKxkCbw0MkD6WKGF82cyQL0F3gErmzJAf7IafmLOMkBBX1f6mQEzQAQMlHbRNDNAxrjQ8ghoM0CIZQ1vQJszQEoSSut3zjNADb+GZ68BNEDPa8Pj5jQ0QJEYAGAeaDRAVMU83FWbNEAWcnlYjc40QNgettTEATVAm8vyUPw0NUBdeC/NM2g1QB8lbElrmzVA4tGoxaLONUCkfuVB2gE2QGYrIr4RNTZAKdheOkloNkDrhJu2gJs2QK0x2DK4zjZAcN4Ur+8BN0Ayi1ErJzU3QPQ3jqdeaDdAt+TKI5abN0B5kQegzc43QDs+RBwFAjhA/uqAmDw1OEDAl70UdGg4QIJE+pCrmzhARfE2DePOOEA=\",\"dtype\":\"float64\",\"order\":\"little\",\"shape\":[124]},\"top\":{\"__ndarray__\":\"IQjQLRPv3j+cox6F+zbcP4S90362INk/eBD4IlZc1j8qzu9GYdXTP4ODNzdm+tE/iUrIjIGo0T867taU9hHOPwBZZnUAXMo/jYUJM3q8xz/wAeJ4mo/FPwd2Cou0DsQ/RHuHA2Cmwj+BZgvj7mDAP3Qsw7eG+7w/kRQU3Lr5uT+KL240HtG1PwEfDs0RKbc/u21aV666tD8yP+WdIJixP3mDNzdm+rE/qzIpLjx0rj8Sd3vHgdauP7OLb6kvNak/l/b+iTl/pT8Dkewh28ynP8Ol4AOJK6I/EnhUSAXqoT+laq/aFuWbPwCtL3hIhZY/S2NgZleLlz/8yHLOtT2VPytcEfKXMZM/3hw80f1mkT+uFubXzruPP8DBI1r245A/SJvmEjL8hD/RGZFUZpGIP2hjYGZXi4c/5nSpy20UiT/krC94SIWGPxJ4VEgF6oE/bGC16b+1fj989v6JOX91PxRAzpsqeXQ/bGC16b+1fj8fYLXpv7VuP0bTbL8MbXI/8BmRVGaReD8UQM6bKnl0P6BmC+PuYFA/d2YL4+5gYD9R81MNoqlcP6BmC+PuYHA/UfNTDaKpXD8UQM6bKnlUP0hAzpsqeVQ/FEDOmyp5VD93Zgvj7mBQP0hAzpsqeVQ/FEDOmyp5VD93Zgvj7mBgP6BmC+PuYGA/shmRVGaRWD+yGZFUZpFIP/AZkVRmkUg/shmRVGaRSD+yGZFUZpFIP/AZkVRmkUg/AAAAAAAAAAB3Zgvj7mBAP/AZkVRmkUg/d2YL4+5gMD93Zgvj7mAwPwAAAAAAAAAAd2YL4+5gMD8AAAAAAAAAAAAAAAAAAAAAd2YL4+5gQD+gZgvj7mAwP05mC+PuYDA/AAAAAAAAAACgZgvj7mAwPwAAAAAAAAAAoGYL4+5gMD8AAAAAAAAAAAAAAAAAAAAAAAAAAAAAAAAAAAAAAAAAAE5mC+PuYDA/AAAAAAAAAAAAAAAAAAAAAAAAAAAAAAAAAAAAAAAAAAAAAAAAAAAAAAAAAAAAAAAAAAAAAAAAAACgZgvj7mAwPwAAAAAAAAAAAAAAAAAAAAAAAAAAAAAAAAAAAAAAAAAAAAAAAAAAAAAAAAAAAAAAAAAAAAAAAAAAAAAAAAAAAAAAAAAAAAAAAAAAAAAAAAAAAAAAAAAAAAAAAAAAAAAAAAAAAAAAAAAAAAAAAAAAAAAAAAAAAAAAAAAAAAAAAAAAAAAAAAAAAAAAAAAAAAAAAAAAAAAAAAAAAAAAAAAAAAAAAAAAAAAAAAAAAAAAAAAAAAAAAAAAAAAAAAAAAAAAAAAAAAAAAAAATmYL4+5gMD8=\",\"dtype\":\"float64\",\"order\":\"little\",\"shape\":[124]}},\"selected\":{\"id\":\"1726\"},\"selection_policy\":{\"id\":\"1727\"}},\"id\":\"1615\",\"type\":\"ColumnDataSource\"},{\"attributes\":{\"bottom_units\":\"screen\",\"fill_alpha\":0.5,\"fill_color\":\"lightgrey\",\"left_units\":\"screen\",\"level\":\"overlay\",\"line_alpha\":1.0,\"line_color\":\"black\",\"line_dash\":[4,4],\"line_width\":2,\"right_units\":\"screen\",\"top_units\":\"screen\"},\"id\":\"1645\",\"type\":\"BoxAnnotation\"},{\"attributes\":{\"below\":[{\"id\":\"1631\"}],\"center\":[{\"id\":\"1634\"},{\"id\":\"1638\"}],\"left\":[{\"id\":\"1635\"}],\"plot_height\":400,\"plot_width\":400,\"renderers\":[{\"id\":\"1656\"}],\"sizing_mode\":\"scale_both\",\"title\":{\"id\":\"1621\"},\"toolbar\":{\"id\":\"1646\"},\"x_range\":{\"id\":\"1623\"},\"x_scale\":{\"id\":\"1627\"},\"y_range\":{\"id\":\"1625\"},\"y_scale\":{\"id\":\"1629\"}},\"id\":\"1620\",\"subtype\":\"Figure\",\"type\":\"Plot\"},{\"attributes\":{},\"id\":\"1598\",\"type\":\"BasicTicker\"},{\"attributes\":{\"formatter\":{\"id\":\"1715\"},\"ticker\":{\"id\":\"1598\"}},\"id\":\"1597\",\"type\":\"LinearAxis\"},{\"attributes\":{\"formatter\":{\"id\":\"1717\"},\"ticker\":{\"id\":\"1594\"}},\"id\":\"1593\",\"type\":\"LinearAxis\"},{\"attributes\":{},\"id\":\"1594\",\"type\":\"BasicTicker\"},{\"attributes\":{\"below\":[{\"id\":\"1555\"}],\"center\":[{\"id\":\"1558\"},{\"id\":\"1562\"}],\"left\":[{\"id\":\"1559\"}],\"plot_height\":400,\"plot_width\":400,\"renderers\":[{\"id\":\"1580\"}],\"sizing_mode\":\"scale_both\",\"title\":{\"id\":\"1545\"},\"toolbar\":{\"id\":\"1570\"},\"x_range\":{\"id\":\"1547\"},\"x_scale\":{\"id\":\"1551\"},\"y_range\":{\"id\":\"1549\"},\"y_scale\":{\"id\":\"1553\"}},\"id\":\"1544\",\"subtype\":\"Figure\",\"type\":\"Plot\"},{\"attributes\":{},\"id\":\"1591\",\"type\":\"LinearScale\"},{\"attributes\":{\"overlay\":{\"id\":\"1607\"}},\"id\":\"1603\",\"type\":\"BoxZoomTool\"},{\"attributes\":{\"active_drag\":\"auto\",\"active_inspect\":\"auto\",\"active_multi\":null,\"active_scroll\":\"auto\",\"active_tap\":\"auto\",\"tools\":[{\"id\":\"1639\"},{\"id\":\"1640\"},{\"id\":\"1641\"},{\"id\":\"1642\"},{\"id\":\"1643\"},{\"id\":\"1644\"}]},\"id\":\"1646\",\"type\":\"Toolbar\"},{\"attributes\":{},\"id\":\"1602\",\"type\":\"WheelZoomTool\"},{\"attributes\":{},\"id\":\"1601\",\"type\":\"PanTool\"},{\"attributes\":{\"bottom\":{\"value\":0},\"fill_color\":{\"value\":\"#1f77b4\"},\"left\":{\"field\":\"left\"},\"line_color\":{\"value\":\"white\"},\"right\":{\"field\":\"right\"},\"top\":{\"field\":\"top\"}},\"id\":\"1654\",\"type\":\"Quad\"},{\"attributes\":{\"formatter\":{\"id\":\"1721\"},\"ticker\":{\"id\":\"1632\"}},\"id\":\"1631\",\"type\":\"LinearAxis\"},{\"attributes\":{\"formatter\":{\"id\":\"1713\"},\"ticker\":{\"id\":\"1556\"}},\"id\":\"1555\",\"type\":\"LinearAxis\"},{\"attributes\":{\"axis\":{\"id\":\"1559\"},\"dimension\":1,\"ticker\":null},\"id\":\"1562\",\"type\":\"Grid\"},{\"attributes\":{},\"id\":\"1711\",\"type\":\"BasicTickFormatter\"},{\"attributes\":{},\"id\":\"1717\",\"type\":\"BasicTickFormatter\"},{\"attributes\":{},\"id\":\"1551\",\"type\":\"LinearScale\"},{\"attributes\":{},\"id\":\"1719\",\"type\":\"BasicTickFormatter\"},{\"attributes\":{},\"id\":\"1556\",\"type\":\"BasicTicker\"},{\"attributes\":{},\"id\":\"1547\",\"type\":\"DataRange1d\"},{\"attributes\":{},\"id\":\"1636\",\"type\":\"BasicTicker\"},{\"attributes\":{},\"id\":\"1553\",\"type\":\"LinearScale\"},{\"attributes\":{},\"id\":\"1604\",\"type\":\"SaveTool\"},{\"attributes\":{},\"id\":\"1726\",\"type\":\"Selection\"},{\"attributes\":{},\"id\":\"1560\",\"type\":\"BasicTicker\"},{\"attributes\":{\"formatter\":{\"id\":\"1719\"},\"ticker\":{\"id\":\"1636\"}},\"id\":\"1635\",\"type\":\"LinearAxis\"},{\"attributes\":{\"text\":\"Exp(0.5), n = 200, ancho de banda = 0.4\"},\"id\":\"1545\",\"type\":\"Title\"},{\"attributes\":{\"axis\":{\"id\":\"1635\"},\"dimension\":1,\"ticker\":null},\"id\":\"1638\",\"type\":\"Grid\"},{\"attributes\":{},\"id\":\"1727\",\"type\":\"UnionRenderers\"},{\"attributes\":{},\"id\":\"1549\",\"type\":\"DataRange1d\"},{\"attributes\":{\"bottom\":{\"value\":0},\"fill_color\":{\"value\":\"#1f77b4\"},\"left\":{\"field\":\"left\"},\"line_color\":{\"value\":\"white\"},\"right\":{\"field\":\"right\"},\"top\":{\"field\":\"top\"}},\"id\":\"1616\",\"type\":\"Quad\"},{\"attributes\":{\"data\":{\"left\":{\"__ndarray__\":\"XqkeGZr+Bj8fKicTdpzZP6XFvhganOk/Hfv0k/w08z9nk4ob7Jv5P9kVkNFtAQBA/+FaleU0A0AkriVZXWgGQEl68BzVmwlAbka74EzPDEBJCUNSYgEQQFxvKDQemxFAb9UNFto0E0CBO/P3lc4UQJSh2NlRaBZApge+uw0CGEC5baOdyZsZQMzTiH+FNRtA3jluYUHPHEDxn1ND/WgeQAKDnJJcASBADDaPgzrOIEAV6YF0GJshQB6cdGX2ZyJAKE9nVtQ0I0AxAlpHsgEkQDq1TDiQziRAQ2g/KW6bJUBNGzIaTGgmQFbOJAsqNSdAX4EX/AcCKEBpNArt5c4oQHLn/N3DmylAe5rvzqFoKkCFTeK/fzUrQI4A1bBdAixAl7PHoTvPLEChZrqSGZwtQKoZrYP3aC5As8yfdNU1L0DeP8myWQEwQGOZQqvIZzBA6PK7ozfOMEBsTDWcpjQxQPGlrpQVmzFAdv8njYQBMkD6WKGF82cyQH+yGn5izjJABAyUdtE0M0CIZQ1vQJszQA2/hmevATRAkRgAYB5oNEAWcnlYjc40QJvL8lD8NDVAHyVsSWubNUCkfuVB2gE2QCnYXjpJaDZArTHYMrjONkAyi1ErJzU3QLfkyiOWmzdAOz5EHAUCOEDAl70UdGg4QA==\",\"dtype\":\"float64\",\"order\":\"little\",\"shape\":[62]},\"right\":{\"__ndarray__\":\"HyonE3ac2T+lxb4YGpzpPx379JP8NPM/Z5OKG+yb+T/ZFZDRbQEAQP/hWpXlNANAJK4lWV1oBkBJevAc1ZsJQG5Gu+BMzwxASQlDUmIBEEBcbyg0HpsRQG/VDRbaNBNAgTvz95XOFECUodjZUWgWQKYHvrsNAhhAuW2jncmbGUDM04h/hTUbQN45bmFBzxxA8Z9TQ/1oHkACg5ySXAEgQAw2j4M6ziBAFemBdBibIUAenHRl9mciQChPZ1bUNCNAMQJaR7IBJEA6tUw4kM4kQENoPylumyVATRsyGkxoJkBWziQLKjUnQF+BF/wHAihAaTQK7eXOKEBy5/zdw5spQHua786haCpAhU3iv381K0COANWwXQIsQJezx6E7zyxAoWa6khmcLUCqGa2D92guQLPMn3TVNS9A3j/JslkBMEBjmUKryGcwQOjyu6M3zjBAbEw1nKY0MUDxpa6UFZsxQHb/J42EATJA+lihhfNnMkB/shp+Ys4yQAQMlHbRNDNAiGUNb0CbM0ANv4ZnrwE0QJEYAGAeaDRAFnJ5WI3ONECby/JQ/DQ1QB8lbElrmzVApH7lQdoBNkAp2F46SWg2QK0x2DK4zjZAMotRKyc1N0C35Mojlps3QDs+RBwFAjhAwJe9FHRoOEBF8TYN4844QA==\",\"dtype\":\"float64\",\"order\":\"little\",\"shape\":[62]},\"top\":{\"__ndarray__\":\"3VV3WQeT3T//5uVQhr7XP9eoE7/j59I/0+CZa75Y0D9G7zdUPQzJP/w79oEnz8Q/4nBJc6eDwT+BoOvJoHq7P0UnvgAYfbY/eNafemcpsz9oDiYnQpqwP2CBdbjYBaw/zMP1VQqmpj/qjhomxwqiP9KLb6kvNZk/JZZpmoZklj+EvKbhSkySP4tmC+PuYJA/i9q7M8zGhj8n7ASZ4k+IP3sSQuCmN4Q/bivauXwaej850MFCdZd5P6vBI1r243A/AK0veEiFdj/RGZFUZpFYP2hjYGZXi2c/shmRVGaRWD8uQM6bKnlUP13TbL8MbVI/gYbyMISdWj9z81MNoqlcP9EZkVRmkUg/shmRVGaRSD/RGZFUZpE4Py5AzpsqeUQ/d2YL4+5gMD+LZgvj7mAgPwAAAAAAAAAA0RmRVGaROD93Zgvj7mAgP3dmC+PuYCA/oGYL4+5gID8AAAAAAAAAAHdmC+PuYCA/AAAAAAAAAAAAAAAAAAAAAAAAAAAAAAAAoGYL4+5gID8AAAAAAAAAAAAAAAAAAAAAAAAAAAAAAAAAAAAAAAAAAAAAAAAAAAAAAAAAAAAAAAAAAAAAAAAAAAAAAAAAAAAAAAAAAAAAAAAAAAAAAAAAAAAAAAAAAAAAAAAAAAAAAAB3Zgvj7mAgPw==\",\"dtype\":\"float64\",\"order\":\"little\",\"shape\":[62]}},\"selected\":{\"id\":\"1723\"},\"selection_policy\":{\"id\":\"1724\"}},\"id\":\"1577\",\"type\":\"ColumnDataSource\"},{\"attributes\":{},\"id\":\"1606\",\"type\":\"HelpTool\"},{\"attributes\":{\"formatter\":{\"id\":\"1711\"},\"ticker\":{\"id\":\"1560\"}},\"id\":\"1559\",\"type\":\"LinearAxis\"},{\"attributes\":{\"bottom\":{\"value\":0},\"fill_alpha\":{\"value\":0.1},\"fill_color\":{\"value\":\"#1f77b4\"},\"left\":{\"field\":\"left\"},\"line_alpha\":{\"value\":0.1},\"line_color\":{\"value\":\"white\"},\"right\":{\"field\":\"right\"},\"top\":{\"field\":\"top\"}},\"id\":\"1617\",\"type\":\"Quad\"},{\"attributes\":{},\"id\":\"1721\",\"type\":\"BasicTickFormatter\"},{\"attributes\":{\"axis\":{\"id\":\"1555\"},\"ticker\":null},\"id\":\"1558\",\"type\":\"Grid\"},{\"attributes\":{},\"id\":\"1605\",\"type\":\"ResetTool\"},{\"attributes\":{\"axis\":{\"id\":\"1631\"},\"ticker\":null},\"id\":\"1634\",\"type\":\"Grid\"},{\"attributes\":{},\"id\":\"1632\",\"type\":\"BasicTicker\"},{\"attributes\":{\"bottom\":{\"value\":0},\"fill_color\":{\"value\":\"#1f77b4\"},\"left\":{\"field\":\"left\"},\"line_color\":{\"value\":\"white\"},\"right\":{\"field\":\"right\"},\"top\":{\"field\":\"top\"}},\"id\":\"1578\",\"type\":\"Quad\"},{\"attributes\":{\"bottom_units\":\"screen\",\"fill_alpha\":0.5,\"fill_color\":\"lightgrey\",\"left_units\":\"screen\",\"level\":\"overlay\",\"line_alpha\":1.0,\"line_color\":\"black\",\"line_dash\":[4,4],\"line_width\":2,\"right_units\":\"screen\",\"top_units\":\"screen\"},\"id\":\"1607\",\"type\":\"BoxAnnotation\"},{\"attributes\":{},\"id\":\"1715\",\"type\":\"BasicTickFormatter\"},{\"attributes\":{},\"id\":\"1729\",\"type\":\"Selection\"},{\"attributes\":{\"bottom\":{\"value\":0},\"fill_alpha\":{\"value\":0.1},\"fill_color\":{\"value\":\"#1f77b4\"},\"left\":{\"field\":\"left\"},\"line_alpha\":{\"value\":0.1},\"line_color\":{\"value\":\"white\"},\"right\":{\"field\":\"right\"},\"top\":{\"field\":\"top\"}},\"id\":\"1655\",\"type\":\"Quad\"},{\"attributes\":{},\"id\":\"1564\",\"type\":\"WheelZoomTool\"},{\"attributes\":{},\"id\":\"1567\",\"type\":\"ResetTool\"},{\"attributes\":{},\"id\":\"1563\",\"type\":\"PanTool\"},{\"attributes\":{},\"id\":\"1730\",\"type\":\"UnionRenderers\"},{\"attributes\":{\"overlay\":{\"id\":\"1569\"}},\"id\":\"1565\",\"type\":\"BoxZoomTool\"},{\"attributes\":{\"bottom\":{\"value\":0},\"fill_alpha\":{\"value\":0.1},\"fill_color\":{\"value\":\"#1f77b4\"},\"left\":{\"field\":\"left\"},\"line_alpha\":{\"value\":0.1},\"line_color\":{\"value\":\"white\"},\"right\":{\"field\":\"right\"},\"top\":{\"field\":\"top\"}},\"id\":\"1579\",\"type\":\"Quad\"},{\"attributes\":{\"active_drag\":\"auto\",\"active_inspect\":\"auto\",\"active_multi\":null,\"active_scroll\":\"auto\",\"active_tap\":\"auto\",\"tools\":[{\"id\":\"1601\"},{\"id\":\"1602\"},{\"id\":\"1603\"},{\"id\":\"1604\"},{\"id\":\"1605\"},{\"id\":\"1606\"}]},\"id\":\"1608\",\"type\":\"Toolbar\"},{\"attributes\":{},\"id\":\"1713\",\"type\":\"BasicTickFormatter\"},{\"attributes\":{},\"id\":\"1568\",\"type\":\"HelpTool\"},{\"attributes\":{},\"id\":\"1723\",\"type\":\"Selection\"},{\"attributes\":{\"text\":\"Exp(0.5), n = 200, ancho de banda = 0.1\"},\"id\":\"1621\",\"type\":\"Title\"},{\"attributes\":{},\"id\":\"1566\",\"type\":\"SaveTool\"},{\"attributes\":{},\"id\":\"1623\",\"type\":\"DataRange1d\"},{\"attributes\":{\"data\":{\"left\":{\"__ndarray__\":\"XqkeGZr+Bj//hJnxnZ65PxXz9wcunck/1ZGRi4Y10z8fKicTdpzZPzVhXs2yAeA/Wy0pkSo14z+A+fNUomjmP6XFvhganOk/ypGJ3JHP7D/3LirQhAHwPwqVD7JAm/E/Hfv0k/w08z8vYdp1uM70P0LHv1d0aPY/VC2lOTAC+D9nk4ob7Jv5P3r5b/2nNfs/jF9V32PP/D+fxTrBH2n+P9kVkNFtAQBA48iCwkvOAEDse3WzKZsBQPUuaKQHaAJA/+FaleU0A0AIlU2GwwEEQBFIQHehzgRAGvsyaH+bBUAkriVZXWgGQC1hGEo7NQdANhQLOxkCCEBAx/0r984IQEl68BzVmwlAUi3jDbNoCkBc4NX+kDULQGWTyO9uAgxAbka74EzPDEB4+a3RKpwNQIGsoMIIaQ5Ail+Ts+Y1D0BJCUNSYgEQQM5ivErRZxBAU7w1Q0DOEEDXFa87rzQRQFxvKDQemxFA4cihLI0BEkBlIhsl/GcSQOp7lB1rzhJAb9UNFto0E0DzLocOSZsTQHiIAAe4ARRA/OF5/yZoFECBO/P3lc4UQAaVbPAENRVAiu7l6HObFUAPSF/h4gEWQJSh2NlRaBZAGPtR0sDOFkCdVMvKLzUXQCKuRMOemxdApge+uw0CGEArYTe0fGgYQLC6sKzrzhhANBQqpVo1GUC5baOdyZsZQD7HHJY4AhpAwiCWjqdoGkBHeg+HFs8aQMzTiH+FNRtAUC0CePSbG0DVhntwYwIcQFrg9GjSaBxA3jluYUHPHEBjk+dZsDUdQOjsYFIfnB1AbEbaSo4CHkDxn1ND/WgeQHb5zDtszx5A+lJGNNs1H0B/rL8sSpwfQAKDnJJcASBAxS/ZDpQ0IECH3BWLy2cgQEmJUgcDmyBADDaPgzrOIEDO4sv/cQEhQJCPCHypNCFAUzxF+OBnIUAV6YF0GJshQNeVvvBPziFAmkL7bIcBIkBc7zfpvjQiQB6cdGX2ZyJA4Uix4S2bIkCj9e1dZc4iQGWiKtqcASNAKE9nVtQ0I0Dq+6PSC2gjQKyo4E5DmyNAblUdy3rOI0AxAlpHsgEkQPOulsPpNCRAtVvTPyFoJEB4CBC8WJskQDq1TDiQziRA/GGJtMcBJUC/DsYw/zQlQIG7Aq02aCVAQ2g/KW6bJUAGFXylpc4lQMjBuCHdASZAim71nRQ1JkBNGzIaTGgmQA/IbpaDmyZA0XSrErvOJkCUIeiO8gEnQFbOJAsqNSdAGHthh2FoJ0DbJ54DmZsnQJ3U2n/QzidAX4EX/AcCKEAiLlR4PzUoQOTakPR2aChApofNcK6bKEBpNArt5c4oQCvhRmkdAilA7Y2D5VQ1KUCwOsBhjGgpQHLn/N3DmylANJQ5WvvOKUD3QHbWMgIqQLntslJqNSpAe5rvzqFoKkA+RyxL2ZsqQAD0aMcQzypAwqClQ0gCK0CFTeK/fzUrQEf6Hjy3aCtACadbuO6bK0DMU5g0Js8rQI4A1bBdAixAUK0RLZU1LEATWk6pzGgsQNUGiyUEnCxAl7PHoTvPLEBaYAQecwItQBwNQZqqNS1A3rl9FuJoLUChZrqSGZwtQGMT9w5Rzy1AJcAzi4gCLkDobHAHwDUuQKoZrYP3aC5AbMbp/y6cLkAvcyZ8Zs8uQPEfY/idAi9As8yfdNU1L0B2edzwDGkvQDgmGW1EnC9A+tJV6XvPL0DeP8myWQEwQD+W53D1GjBAoewFL5E0MEACQyTtLE4wQGOZQqvIZzBAxO9gaWSBMEAlRn8nAJswQIacneWbtDBA6PK7ozfOMEBJSdph0+cwQKqf+B9vATFAC/YW3gobMUBsTDWcpjQxQM2iU1pCTjFAL/lxGN5nMUCQT5DWeYExQPGlrpQVmzFAUvzMUrG0MUCzUusQTc4xQBSpCc/o5zFAdv8njYQBMkDXVUZLIBsyQDisZAm8NDJAmQKDx1dOMkD6WKGF82cyQFuvv0OPgTJAvQXeASubMkAeXPy/xrQyQH+yGn5izjJA4Ag5PP7nMkBBX1f6mQEzQKK1dbg1GzNABAyUdtE0M0BlYrI0bU4zQMa40PIIaDNAJw/vsKSBM0CIZQ1vQJszQOm7Ky3ctDNAShJK63fOM0CsaGipE+gzQA2/hmevATRAbhWlJUsbNEDPa8Pj5jQ0QDDC4aGCTjRAkRgAYB5oNEDzbh4euoE0QFTFPNxVmzRAtRtbmvG0NEAWcnlYjc40QHfIlxYp6DRA2B621MQBNUA6ddSSYBs1QJvL8lD8NDVA/CERD5hONUBdeC/NM2g1QL7OTYvPgTVAHyVsSWubNUCBe4oHB7U1QOLRqMWizjVAQyjHgz7oNUCkfuVB2gE2QAXVAwB2GzZAZisivhE1NkDIgUB8rU42QCnYXjpJaDZAii59+OSBNkDrhJu2gJs2QEzbuXQctTZArTHYMrjONkAPiPbwU+g2QHDeFK/vATdA0TQzbYsbN0Ayi1ErJzU3QJPhb+nCTjdA9DeOp15oN0BWjqxl+oE3QLfkyiOWmzdAGDvp4TG1N0B5kQegzc43QNrnJV5p6DdAOz5EHAUCOECdlGLaoBs4QP7qgJg8NThAX0GfVthOOEDAl70UdGg4QCHu29IPgjhAgkT6kKubOEDkmhhPR7U4QA==\",\"dtype\":\"float64\",\"order\":\"little\",\"shape\":[248]},\"right\":{\"__ndarray__\":\"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\",\"dtype\":\"float64\",\"order\":\"little\",\"shape\":[248]},\"top\":{\"__ndarray__\":\"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\",\"dtype\":\"float64\",\"order\":\"little\",\"shape\":[248]}},\"selected\":{\"id\":\"1729\"},\"selection_policy\":{\"id\":\"1730\"}},\"id\":\"1653\",\"type\":\"ColumnDataSource\"},{\"attributes\":{},\"id\":\"1724\",\"type\":\"UnionRenderers\"},{\"attributes\":{\"data_source\":{\"id\":\"1615\"},\"glyph\":{\"id\":\"1616\"},\"hover_glyph\":null,\"muted_glyph\":null,\"nonselection_glyph\":{\"id\":\"1617\"},\"selection_glyph\":null,\"view\":{\"id\":\"1619\"}},\"id\":\"1618\",\"type\":\"GlyphRenderer\"},{\"attributes\":{},\"id\":\"1627\",\"type\":\"LinearScale\"},{\"attributes\":{\"source\":{\"id\":\"1615\"}},\"id\":\"1619\",\"type\":\"CDSView\"},{\"attributes\":{\"bottom_units\":\"screen\",\"fill_alpha\":0.5,\"fill_color\":\"lightgrey\",\"left_units\":\"screen\",\"level\":\"overlay\",\"line_alpha\":1.0,\"line_color\":\"black\",\"line_dash\":[4,4],\"line_width\":2,\"right_units\":\"screen\",\"top_units\":\"screen\"},\"id\":\"1569\",\"type\":\"BoxAnnotation\"},{\"attributes\":{},\"id\":\"1625\",\"type\":\"DataRange1d\"}],\"root_ids\":[\"1658\"]},\"title\":\"Bokeh Application\",\"version\":\"2.2.3\"}};\n",
       "  var render_items = [{\"docid\":\"d75933e4-67d2-475f-a07e-f21e7117a18d\",\"root_ids\":[\"1658\"],\"roots\":{\"1658\":\"123cae65-9548-43ea-a4a4-f630dfb9361a\"}}];\n",
       "  root.Bokeh.embed.embed_items_notebook(docs_json, render_items);\n",
       "\n",
       "  }\n",
       "  if (root.Bokeh !== undefined) {\n",
       "    embed_document(root);\n",
       "  } else {\n",
       "    var attempts = 0;\n",
       "    var timer = setInterval(function(root) {\n",
       "      if (root.Bokeh !== undefined) {\n",
       "        clearInterval(timer);\n",
       "        embed_document(root);\n",
       "      } else {\n",
       "        attempts++;\n",
       "        if (attempts > 100) {\n",
       "          clearInterval(timer);\n",
       "          console.log(\"Bokeh: ERROR: Unable to run BokehJS code because BokehJS library is missing\");\n",
       "        }\n",
       "      }\n",
       "    }, 10, root)\n",
       "  }\n",
       "})(window);"
      ],
      "application/vnd.bokehjs_exec.v0+json": ""
     },
     "metadata": {
      "application/vnd.bokehjs_exec.v0+json": {
       "id": "1658"
      }
     },
     "output_type": "display_data"
    }
   ],
   "source": [
    "hist_04 = crear_histograma(exp_n_10, ancho_de_banda=0.4, titulo=\"Exp(0.5), n = 10, ancho de banda = 0.4\")\n",
    "hist_02 = crear_histograma(exp_n_10, ancho_de_banda=0.2, titulo=\"Exp(0.5), n = 10, ancho de banda = 0.2\")\n",
    "hist_01 = crear_histograma(exp_n_10, ancho_de_banda=0.1, titulo=\"Exp(0.5), n = 10, ancho de banda = 0.1\")\n",
    "show(row(hist_04,hist_02,hist_01, sizing_mode='scale_both'))\n",
    "\n",
    "hist_04 = crear_histograma(exp_n_30, ancho_de_banda=0.4, titulo=\"Exp(0.5), n = 30, ancho de banda = 0.4\")\n",
    "hist_02 = crear_histograma(exp_n_30, ancho_de_banda=0.2, titulo=\"Exp(0.5), n = 30, ancho de banda = 0.2\")\n",
    "hist_01 = crear_histograma(exp_n_30, ancho_de_banda=0.1, titulo=\"Exp(0.5), n = 30, ancho de banda = 0.1\")\n",
    "show(row(hist_04,hist_02,hist_01, sizing_mode='scale_both'))\n",
    "\n",
    "hist_04 = crear_histograma(exp_n_200, ancho_de_banda=0.4, titulo=\"Exp(0.5), n = 200, ancho de banda = 0.4\")\n",
    "hist_02 = crear_histograma(exp_n_200, ancho_de_banda=0.2, titulo=\"Exp(0.5), n = 200, ancho de banda = 0.2\")\n",
    "hist_01 = crear_histograma(exp_n_200, ancho_de_banda=0.1, titulo=\"Exp(0.5), n = 200, ancho de banda = 0.1\")\n",
    "show(row(hist_04,hist_02,hist_01, sizing_mode='scale_both'))"
   ]
  },
  {
   "cell_type": "markdown",
   "metadata": {},
   "source": [
    "Se pueden observar dos cosas a partir de los histogramas:\n",
    "\n",
    "En primera instancia, por su asimetría, muestras con distribuciones exponencial necesitan ser de un gran tamaño para notar en un histograma la forma correcta.\n",
    "\n",
    "Por otro lado, también es importante el ancho de banda que se utiliza al graficar el histograma. Un ancho de banda mayor produce una menor cantidad de barras (y viceversa), se debe encontrar un ancho de banda óptimo que permita ver en el histograma información interesante como la forma, las modas y la simetría."
   ]
  },
  {
   "cell_type": "markdown",
   "metadata": {},
   "source": [
    "### 3) Muestra n=50 Bin(10, 0.3) y función de distribución empírica<a class=\"anchor\" id=\"p_2_3\"></a>"
   ]
  },
  {
   "cell_type": "code",
   "execution_count": 14,
   "metadata": {},
   "outputs": [
    {
     "data": {
      "text/plain": [
       "0.36"
      ]
     },
     "execution_count": 14,
     "metadata": {},
     "output_type": "execute_result"
    }
   ],
   "source": [
    "muestra_bin = muestra_gen(50, binomial_gen, 10, 0.3)\n",
    "\n",
    "def fde(muestra, x):\n",
    "    muestra_ordenada = np.sort(muestra)\n",
    "    N = len(muestra)\n",
    "    return np.searchsorted(muestra_ordenada, x) / N\n",
    "\n",
    "fde(muestra_bin, 3)"
   ]
  },
  {
   "cell_type": "markdown",
   "metadata": {},
   "source": [
    "### 4) Nueva muestra a partir de la función de distribución empírica. Media y varianza muestral<a class=\"anchor\" id=\"p_2_4\"></a>"
   ]
  },
  {
   "cell_type": "code",
   "execution_count": 15,
   "metadata": {},
   "outputs": [
    {
     "name": "stdout",
     "output_type": "stream",
     "text": [
      "Media Muestral Bin(10, 0.3):  3.16\n",
      "Media Muestral FDE(Bin(10, 0.3)):  0.396\n",
      "Varianza Muestral Bin(10, 0.3):  2.096\n",
      "Varianza Muestral FDE(Bin(10, 0.3)):  0.093\n"
     ]
    },
    {
     "data": {
      "text/html": [
       "\n",
       "\n",
       "\n",
       "\n",
       "\n",
       "\n",
       "  <div class=\"bk-root\" id=\"74bed681-d3d4-425d-974a-c4c92de26c2f\" data-root-id=\"1961\"></div>\n"
      ]
     },
     "metadata": {},
     "output_type": "display_data"
    },
    {
     "data": {
      "application/javascript": [
       "(function(root) {\n",
       "  function embed_document(root) {\n",
       "    \n",
       "  var docs_json = {\"a5fe9806-84a2-4861-af63-7b80466a90ed\":{\"roots\":{\"references\":[{\"attributes\":{\"children\":[{\"id\":\"1851\"},{\"id\":\"1906\"}],\"sizing_mode\":\"scale_both\"},\"id\":\"1961\",\"type\":\"Row\"},{\"attributes\":{},\"id\":\"1903\",\"type\":\"UnionRenderers\"},{\"attributes\":{\"source\":{\"id\":\"1889\"}},\"id\":\"1893\",\"type\":\"CDSView\"},{\"attributes\":{},\"id\":\"1900\",\"type\":\"Selection\"},{\"attributes\":{},\"id\":\"1902\",\"type\":\"Selection\"},{\"attributes\":{},\"id\":\"1896\",\"type\":\"BasicTickFormatter\"},{\"attributes\":{\"active_drag\":\"auto\",\"active_inspect\":\"auto\",\"active_multi\":null,\"active_scroll\":\"auto\",\"active_tap\":\"auto\",\"tools\":[{\"id\":\"1925\"},{\"id\":\"1926\"},{\"id\":\"1927\"},{\"id\":\"1928\"},{\"id\":\"1929\"},{\"id\":\"1930\"}]},\"id\":\"1932\",\"type\":\"Toolbar\"},{\"attributes\":{},\"id\":\"1898\",\"type\":\"BasicTickFormatter\"},{\"attributes\":{},\"id\":\"1901\",\"type\":\"UnionRenderers\"},{\"attributes\":{\"below\":[{\"id\":\"1917\"}],\"center\":[{\"id\":\"1920\"},{\"id\":\"1924\"},{\"id\":\"1959\"}],\"left\":[{\"id\":\"1921\"}],\"plot_height\":400,\"plot_width\":400,\"renderers\":[{\"id\":\"1942\"},{\"id\":\"1947\"}],\"sizing_mode\":\"scale_both\",\"title\":{\"id\":\"1907\"},\"toolbar\":{\"id\":\"1932\"},\"x_range\":{\"id\":\"1909\"},\"x_scale\":{\"id\":\"1913\"},\"y_range\":{\"id\":\"1911\"},\"y_scale\":{\"id\":\"1915\"}},\"id\":\"1906\",\"subtype\":\"Figure\",\"type\":\"Plot\"},{\"attributes\":{\"items\":[{\"id\":\"1905\"}]},\"id\":\"1904\",\"type\":\"Legend\"},{\"attributes\":{\"bottom_units\":\"screen\",\"fill_alpha\":0.5,\"fill_color\":\"lightgrey\",\"left_units\":\"screen\",\"level\":\"overlay\",\"line_alpha\":1.0,\"line_color\":\"black\",\"line_dash\":[4,4],\"line_width\":2,\"right_units\":\"screen\",\"top_units\":\"screen\"},\"id\":\"1931\",\"type\":\"BoxAnnotation\"},{\"attributes\":{},\"id\":\"1913\",\"type\":\"LinearScale\"},{\"attributes\":{\"label\":{\"value\":\"x\\u0304 = 3.16\"},\"renderers\":[{\"id\":\"1892\"}]},\"id\":\"1905\",\"type\":\"LegendItem\"},{\"attributes\":{\"data\":{\"x\":[0.396],\"y\":[0]},\"selected\":{\"id\":\"1957\"},\"selection_policy\":{\"id\":\"1958\"}},\"id\":\"1944\",\"type\":\"ColumnDataSource\"},{\"attributes\":{\"axis\":{\"id\":\"1917\"},\"ticker\":null},\"id\":\"1920\",\"type\":\"Grid\"},{\"attributes\":{\"bottom\":{\"value\":0},\"fill_alpha\":{\"value\":0.1},\"fill_color\":{\"value\":\"#1f77b4\"},\"left\":{\"field\":\"left\"},\"line_alpha\":{\"value\":0.1},\"line_color\":{\"value\":\"white\"},\"right\":{\"field\":\"right\"},\"top\":{\"field\":\"top\"}},\"id\":\"1941\",\"type\":\"Quad\"},{\"attributes\":{},\"id\":\"1856\",\"type\":\"DataRange1d\"},{\"attributes\":{\"text\":\"FDE(Bin(10, 0.3)), n=50\"},\"id\":\"1907\",\"type\":\"Title\"},{\"attributes\":{},\"id\":\"1867\",\"type\":\"BasicTicker\"},{\"attributes\":{},\"id\":\"1873\",\"type\":\"SaveTool\"},{\"attributes\":{},\"id\":\"1909\",\"type\":\"DataRange1d\"},{\"attributes\":{\"overlay\":{\"id\":\"1876\"}},\"id\":\"1872\",\"type\":\"BoxZoomTool\"},{\"attributes\":{},\"id\":\"1871\",\"type\":\"WheelZoomTool\"},{\"attributes\":{\"source\":{\"id\":\"1939\"}},\"id\":\"1943\",\"type\":\"CDSView\"},{\"attributes\":{\"data_source\":{\"id\":\"1939\"},\"glyph\":{\"id\":\"1940\"},\"hover_glyph\":null,\"muted_glyph\":null,\"nonselection_glyph\":{\"id\":\"1941\"},\"selection_glyph\":null,\"view\":{\"id\":\"1943\"}},\"id\":\"1942\",\"type\":\"GlyphRenderer\"},{\"attributes\":{\"angle\":{\"units\":\"rad\",\"value\":1.5707963267948966},\"length\":{\"units\":\"data\",\"value\":0},\"line_color\":{\"value\":\"red\"},\"line_width\":{\"value\":3},\"x\":{\"field\":\"x\"},\"y\":{\"field\":\"y\"}},\"id\":\"1945\",\"type\":\"Ray\"},{\"attributes\":{},\"id\":\"1870\",\"type\":\"PanTool\"},{\"attributes\":{},\"id\":\"1955\",\"type\":\"Selection\"},{\"attributes\":{},\"id\":\"1911\",\"type\":\"DataRange1d\"},{\"attributes\":{\"bottom\":{\"value\":0},\"fill_color\":{\"value\":\"#1f77b4\"},\"left\":{\"field\":\"left\"},\"line_color\":{\"value\":\"white\"},\"right\":{\"field\":\"right\"},\"top\":{\"field\":\"top\"}},\"id\":\"1885\",\"type\":\"Quad\"},{\"attributes\":{\"data_source\":{\"id\":\"1944\"},\"glyph\":{\"id\":\"1945\"},\"hover_glyph\":null,\"muted_glyph\":null,\"nonselection_glyph\":{\"id\":\"1946\"},\"selection_glyph\":null,\"view\":{\"id\":\"1948\"}},\"id\":\"1947\",\"type\":\"GlyphRenderer\"},{\"attributes\":{},\"id\":\"1915\",\"type\":\"LinearScale\"},{\"attributes\":{\"angle\":{\"units\":\"rad\",\"value\":1.5707963267948966},\"length\":{\"units\":\"data\",\"value\":0},\"line_alpha\":{\"value\":0.1},\"line_color\":{\"value\":\"red\"},\"line_width\":{\"value\":3},\"x\":{\"field\":\"x\"},\"y\":{\"field\":\"y\"}},\"id\":\"1946\",\"type\":\"Ray\"},{\"attributes\":{},\"id\":\"1918\",\"type\":\"BasicTicker\"},{\"attributes\":{},\"id\":\"1958\",\"type\":\"UnionRenderers\"},{\"attributes\":{\"formatter\":{\"id\":\"1953\"},\"ticker\":{\"id\":\"1918\"}},\"id\":\"1917\",\"type\":\"LinearAxis\"},{\"attributes\":{\"formatter\":{\"id\":\"1896\"},\"ticker\":{\"id\":\"1867\"}},\"id\":\"1866\",\"type\":\"LinearAxis\"},{\"attributes\":{\"source\":{\"id\":\"1944\"}},\"id\":\"1948\",\"type\":\"CDSView\"},{\"attributes\":{\"data\":{\"left\":{\"__ndarray__\":\"AAAAAAAAAABKDAIrhxa5P0oMAiuHFsk/OIlBYOXQ0j9KDAIrhxbZP1yPwvUoXN8/OIlBYOXQ4j/ByqFFtvPlP0oMAiuHFuk/001iEFg57D8=\",\"dtype\":\"float64\",\"order\":\"little\",\"shape\":[10]},\"right\":{\"__ndarray__\":\"SgwCK4cWuT9KDAIrhxbJPziJQWDl0NI/SgwCK4cW2T9cj8L1KFzfPziJQWDl0OI/wcqhRbbz5T9KDAIrhxbpP9NNYhBYOew/XI/C9Shc7z8=\",\"dtype\":\"float64\",\"order\":\"little\",\"shape\":[10]},\"top\":{\"__ndarray__\":\"FLycgpdT8D9OwcspeDkFQAAAAAAAAAAAIRrrQ2N9CEAAAAAAAAAAAAAAAAAAAAAAisb60Fgf+j8AAAAAAAAAABa8nIKXU/A/isb60Fgf6j8=\",\"dtype\":\"float64\",\"order\":\"little\",\"shape\":[10]}},\"selected\":{\"id\":\"1955\"},\"selection_policy\":{\"id\":\"1956\"}},\"id\":\"1939\",\"type\":\"ColumnDataSource\"},{\"attributes\":{},\"id\":\"1957\",\"type\":\"Selection\"},{\"attributes\":{},\"id\":\"1951\",\"type\":\"BasicTickFormatter\"},{\"attributes\":{},\"id\":\"1953\",\"type\":\"BasicTickFormatter\"},{\"attributes\":{},\"id\":\"1956\",\"type\":\"UnionRenderers\"},{\"attributes\":{\"items\":[{\"id\":\"1960\"}]},\"id\":\"1959\",\"type\":\"Legend\"},{\"attributes\":{},\"id\":\"1925\",\"type\":\"PanTool\"},{\"attributes\":{},\"id\":\"1929\",\"type\":\"ResetTool\"},{\"attributes\":{},\"id\":\"1926\",\"type\":\"WheelZoomTool\"},{\"attributes\":{\"overlay\":{\"id\":\"1931\"}},\"id\":\"1927\",\"type\":\"BoxZoomTool\"},{\"attributes\":{\"below\":[{\"id\":\"1862\"}],\"center\":[{\"id\":\"1865\"},{\"id\":\"1869\"},{\"id\":\"1904\"}],\"left\":[{\"id\":\"1866\"}],\"plot_height\":400,\"plot_width\":400,\"renderers\":[{\"id\":\"1887\"},{\"id\":\"1892\"}],\"sizing_mode\":\"scale_both\",\"title\":{\"id\":\"1852\"},\"toolbar\":{\"id\":\"1877\"},\"x_range\":{\"id\":\"1854\"},\"x_scale\":{\"id\":\"1858\"},\"y_range\":{\"id\":\"1856\"},\"y_scale\":{\"id\":\"1860\"}},\"id\":\"1851\",\"subtype\":\"Figure\",\"type\":\"Plot\"},{\"attributes\":{},\"id\":\"1928\",\"type\":\"SaveTool\"},{\"attributes\":{\"bottom\":{\"value\":0},\"fill_color\":{\"value\":\"#1f77b4\"},\"left\":{\"field\":\"left\"},\"line_color\":{\"value\":\"white\"},\"right\":{\"field\":\"right\"},\"top\":{\"field\":\"top\"}},\"id\":\"1940\",\"type\":\"Quad\"},{\"attributes\":{\"label\":{\"value\":\"x\\u0304 = 0.396\"},\"renderers\":[{\"id\":\"1947\"}]},\"id\":\"1960\",\"type\":\"LegendItem\"},{\"attributes\":{},\"id\":\"1930\",\"type\":\"HelpTool\"},{\"attributes\":{\"axis\":{\"id\":\"1862\"},\"ticker\":null},\"id\":\"1865\",\"type\":\"Grid\"},{\"attributes\":{\"axis\":{\"id\":\"1866\"},\"dimension\":1,\"ticker\":null},\"id\":\"1869\",\"type\":\"Grid\"},{\"attributes\":{},\"id\":\"1875\",\"type\":\"HelpTool\"},{\"attributes\":{\"bottom\":{\"value\":0},\"fill_alpha\":{\"value\":0.1},\"fill_color\":{\"value\":\"#1f77b4\"},\"left\":{\"field\":\"left\"},\"line_alpha\":{\"value\":0.1},\"line_color\":{\"value\":\"white\"},\"right\":{\"field\":\"right\"},\"top\":{\"field\":\"top\"}},\"id\":\"1886\",\"type\":\"Quad\"},{\"attributes\":{\"data_source\":{\"id\":\"1889\"},\"glyph\":{\"id\":\"1890\"},\"hover_glyph\":null,\"muted_glyph\":null,\"nonselection_glyph\":{\"id\":\"1891\"},\"selection_glyph\":null,\"view\":{\"id\":\"1893\"}},\"id\":\"1892\",\"type\":\"GlyphRenderer\"},{\"attributes\":{},\"id\":\"1858\",\"type\":\"LinearScale\"},{\"attributes\":{},\"id\":\"1863\",\"type\":\"BasicTicker\"},{\"attributes\":{\"axis\":{\"id\":\"1921\"},\"dimension\":1,\"ticker\":null},\"id\":\"1924\",\"type\":\"Grid\"},{\"attributes\":{\"text\":\"Bin(10, 0.3), n=50\"},\"id\":\"1852\",\"type\":\"Title\"},{\"attributes\":{\"active_drag\":\"auto\",\"active_inspect\":\"auto\",\"active_multi\":null,\"active_scroll\":\"auto\",\"active_tap\":\"auto\",\"tools\":[{\"id\":\"1870\"},{\"id\":\"1871\"},{\"id\":\"1872\"},{\"id\":\"1873\"},{\"id\":\"1874\"},{\"id\":\"1875\"}]},\"id\":\"1877\",\"type\":\"Toolbar\"},{\"attributes\":{\"formatter\":{\"id\":\"1951\"},\"ticker\":{\"id\":\"1922\"}},\"id\":\"1921\",\"type\":\"LinearAxis\"},{\"attributes\":{},\"id\":\"1854\",\"type\":\"DataRange1d\"},{\"attributes\":{\"bottom_units\":\"screen\",\"fill_alpha\":0.5,\"fill_color\":\"lightgrey\",\"left_units\":\"screen\",\"level\":\"overlay\",\"line_alpha\":1.0,\"line_color\":\"black\",\"line_dash\":[4,4],\"line_width\":2,\"right_units\":\"screen\",\"top_units\":\"screen\"},\"id\":\"1876\",\"type\":\"BoxAnnotation\"},{\"attributes\":{},\"id\":\"1860\",\"type\":\"LinearScale\"},{\"attributes\":{\"data\":{\"left\":{\"__ndarray__\":\"AAAAAAAA8D+amZmZmZn5P5qZmZmZmQFAZmZmZmZmBkAzMzMzMzMLQAAAAAAAABBAZmZmZmZmEkDNzMzMzMwUQDMzMzMzMxdAmZmZmZmZGUA=\",\"dtype\":\"float64\",\"order\":\"little\",\"shape\":[10]},\"right\":{\"__ndarray__\":\"mpmZmZmZ+T+amZmZmZkBQGZmZmZmZgZAMzMzMzMzC0AAAAAAAAAQQGZmZmZmZhJAzczMzMzMFEAzMzMzMzMXQJmZmZmZmRlAAAAAAAAAHEA=\",\"dtype\":\"float64\",\"order\":\"little\",\"shape\":[10]},\"top\":{\"__ndarray__\":\"VFVVVVVVxT+7u7u7u7vbPwAAAAAAAAAA////////3z8AAAAAAAAAABQREREREdE/UVVVVVVVxT8AAAAAAAAAAJ2ZmZmZmbk/DRERERERoT8=\",\"dtype\":\"float64\",\"order\":\"little\",\"shape\":[10]}},\"selected\":{\"id\":\"1900\"},\"selection_policy\":{\"id\":\"1901\"}},\"id\":\"1884\",\"type\":\"ColumnDataSource\"},{\"attributes\":{},\"id\":\"1922\",\"type\":\"BasicTicker\"},{\"attributes\":{\"formatter\":{\"id\":\"1898\"},\"ticker\":{\"id\":\"1863\"}},\"id\":\"1862\",\"type\":\"LinearAxis\"},{\"attributes\":{\"data\":{\"x\":[3.16],\"y\":[0]},\"selected\":{\"id\":\"1902\"},\"selection_policy\":{\"id\":\"1903\"}},\"id\":\"1889\",\"type\":\"ColumnDataSource\"},{\"attributes\":{\"source\":{\"id\":\"1884\"}},\"id\":\"1888\",\"type\":\"CDSView\"},{\"attributes\":{\"data_source\":{\"id\":\"1884\"},\"glyph\":{\"id\":\"1885\"},\"hover_glyph\":null,\"muted_glyph\":null,\"nonselection_glyph\":{\"id\":\"1886\"},\"selection_glyph\":null,\"view\":{\"id\":\"1888\"}},\"id\":\"1887\",\"type\":\"GlyphRenderer\"},{\"attributes\":{\"angle\":{\"units\":\"rad\",\"value\":1.5707963267948966},\"length\":{\"units\":\"data\",\"value\":0},\"line_alpha\":{\"value\":0.1},\"line_color\":{\"value\":\"red\"},\"line_width\":{\"value\":3},\"x\":{\"field\":\"x\"},\"y\":{\"field\":\"y\"}},\"id\":\"1891\",\"type\":\"Ray\"},{\"attributes\":{\"angle\":{\"units\":\"rad\",\"value\":1.5707963267948966},\"length\":{\"units\":\"data\",\"value\":0},\"line_color\":{\"value\":\"red\"},\"line_width\":{\"value\":3},\"x\":{\"field\":\"x\"},\"y\":{\"field\":\"y\"}},\"id\":\"1890\",\"type\":\"Ray\"},{\"attributes\":{},\"id\":\"1874\",\"type\":\"ResetTool\"}],\"root_ids\":[\"1961\"]},\"title\":\"Bokeh Application\",\"version\":\"2.2.3\"}};\n",
       "  var render_items = [{\"docid\":\"a5fe9806-84a2-4861-af63-7b80466a90ed\",\"root_ids\":[\"1961\"],\"roots\":{\"1961\":\"74bed681-d3d4-425d-974a-c4c92de26c2f\"}}];\n",
       "  root.Bokeh.embed.embed_items_notebook(docs_json, render_items);\n",
       "\n",
       "  }\n",
       "  if (root.Bokeh !== undefined) {\n",
       "    embed_document(root);\n",
       "  } else {\n",
       "    var attempts = 0;\n",
       "    var timer = setInterval(function(root) {\n",
       "      if (root.Bokeh !== undefined) {\n",
       "        clearInterval(timer);\n",
       "        embed_document(root);\n",
       "      } else {\n",
       "        attempts++;\n",
       "        if (attempts > 100) {\n",
       "          clearInterval(timer);\n",
       "          console.log(\"Bokeh: ERROR: Unable to run BokehJS code because BokehJS library is missing\");\n",
       "        }\n",
       "      }\n",
       "    }, 10, root)\n",
       "  }\n",
       "})(window);"
      ],
      "application/vnd.bokehjs_exec.v0+json": ""
     },
     "metadata": {
      "application/vnd.bokehjs_exec.v0+json": {
       "id": "1961"
      }
     },
     "output_type": "display_data"
    }
   ],
   "source": [
    "def muestra_fde(muestra):\n",
    "    muestra_fde = []\n",
    "    for i in muestra_bin:\n",
    "        v = fde(muestra_bin, i)\n",
    "        muestra_fde.append(v)\n",
    "    return muestra_fde\n",
    "\n",
    "muestra_fde_bin = muestra_fde(muestra_bin)\n",
    "\n",
    "media_muestral_bin = round(media_muestral(muestra_bin), 3)\n",
    "media_muestral_fde_bin = round(media_muestral(muestra_fde_bin), 3)\n",
    "varianza_muestral_bin = round(varianza_muestral(muestra_bin), 3)\n",
    "varianza_muestral_fde_bin = round(varianza_muestral(muestra_fde_bin), 3)\n",
    "\n",
    "print(\"Media Muestral Bin(10, 0.3): \", media_muestral_bin)\n",
    "print(\"Media Muestral FDE(Bin(10, 0.3)): \", media_muestral_fde_bin)\n",
    "\n",
    "print(\"Varianza Muestral Bin(10, 0.3): \", varianza_muestral_bin)\n",
    "print(\"Varianza Muestral FDE(Bin(10, 0.3)): \", varianza_muestral_fde_bin)\n",
    "\n",
    "hist1 = crear_histograma(muestra_bin, titulo=\"Bin(10, 0.3), n=50\")\n",
    "agregar_media(hist1, media_muestral_bin)\n",
    "\n",
    "hist2 = crear_histograma(muestra_fde_bin, titulo=\"FDE(Bin(10, 0.3)), n=50\")\n",
    "agregar_media(hist2, media_muestral_fde_bin)\n",
    "\n",
    "show(row(hist1, hist2, sizing_mode='scale_both'))"
   ]
  },
  {
   "cell_type": "markdown",
   "metadata": {},
   "source": [
    "### 5) Repetición del experimento<a class=\"anchor\" id=\"p_2_5\"></a>"
   ]
  },
  {
   "cell_type": "code",
   "execution_count": 16,
   "metadata": {},
   "outputs": [
    {
     "name": "stdout",
     "output_type": "stream",
     "text": [
      "2 - Media Muestral Bin(10, 0.3):  3.0\n",
      "2 - Media Muestral FDE(Bin(10, 0.3)):  0.397\n",
      "2 - Varianza Muestral Bin(10, 0.3):  2.408\n",
      "2 - Varianza Muestral FDE(Bin(10, 0.3)):  0.088\n"
     ]
    },
    {
     "data": {
      "text/html": [
       "\n",
       "\n",
       "\n",
       "\n",
       "\n",
       "\n",
       "  <div class=\"bk-root\" id=\"54072ea6-8723-40ce-bc4f-05d5261f0ff3\" data-root-id=\"2264\"></div>\n"
      ]
     },
     "metadata": {},
     "output_type": "display_data"
    },
    {
     "data": {
      "application/javascript": [
       "(function(root) {\n",
       "  function embed_document(root) {\n",
       "    \n",
       "  var docs_json = {\"b128e12d-ded1-4670-8dd6-4cb55f8784e5\":{\"roots\":{\"references\":[{\"attributes\":{\"children\":[{\"id\":\"2154\"},{\"id\":\"2209\"}],\"sizing_mode\":\"scale_both\"},\"id\":\"2264\",\"type\":\"Row\"},{\"attributes\":{\"below\":[{\"id\":\"2165\"}],\"center\":[{\"id\":\"2168\"},{\"id\":\"2172\"},{\"id\":\"2207\"}],\"left\":[{\"id\":\"2169\"}],\"plot_height\":400,\"plot_width\":400,\"renderers\":[{\"id\":\"2190\"},{\"id\":\"2195\"}],\"sizing_mode\":\"scale_both\",\"title\":{\"id\":\"2155\"},\"toolbar\":{\"id\":\"2180\"},\"x_range\":{\"id\":\"2157\"},\"x_scale\":{\"id\":\"2161\"},\"y_range\":{\"id\":\"2159\"},\"y_scale\":{\"id\":\"2163\"}},\"id\":\"2154\",\"subtype\":\"Figure\",\"type\":\"Plot\"},{\"attributes\":{\"data_source\":{\"id\":\"2247\"},\"glyph\":{\"id\":\"2248\"},\"hover_glyph\":null,\"muted_glyph\":null,\"nonselection_glyph\":{\"id\":\"2249\"},\"selection_glyph\":null,\"view\":{\"id\":\"2251\"}},\"id\":\"2250\",\"type\":\"GlyphRenderer\"},{\"attributes\":{\"items\":[{\"id\":\"2263\"}]},\"id\":\"2262\",\"type\":\"Legend\"},{\"attributes\":{\"source\":{\"id\":\"2192\"}},\"id\":\"2196\",\"type\":\"CDSView\"},{\"attributes\":{},\"id\":\"2170\",\"type\":\"BasicTicker\"},{\"attributes\":{},\"id\":\"2228\",\"type\":\"PanTool\"},{\"attributes\":{},\"id\":\"2232\",\"type\":\"ResetTool\"},{\"attributes\":{\"angle\":{\"units\":\"rad\",\"value\":1.5707963267948966},\"length\":{\"units\":\"data\",\"value\":0},\"line_alpha\":{\"value\":0.1},\"line_color\":{\"value\":\"red\"},\"line_width\":{\"value\":3},\"x\":{\"field\":\"x\"},\"y\":{\"field\":\"y\"}},\"id\":\"2194\",\"type\":\"Ray\"},{\"attributes\":{},\"id\":\"2229\",\"type\":\"WheelZoomTool\"},{\"attributes\":{\"label\":{\"value\":\"x\\u0304 = 0.397\"},\"renderers\":[{\"id\":\"2250\"}]},\"id\":\"2263\",\"type\":\"LegendItem\"},{\"attributes\":{\"axis\":{\"id\":\"2169\"},\"dimension\":1,\"ticker\":null},\"id\":\"2172\",\"type\":\"Grid\"},{\"attributes\":{\"data_source\":{\"id\":\"2192\"},\"glyph\":{\"id\":\"2193\"},\"hover_glyph\":null,\"muted_glyph\":null,\"nonselection_glyph\":{\"id\":\"2194\"},\"selection_glyph\":null,\"view\":{\"id\":\"2196\"}},\"id\":\"2195\",\"type\":\"GlyphRenderer\"},{\"attributes\":{\"overlay\":{\"id\":\"2234\"}},\"id\":\"2230\",\"type\":\"BoxZoomTool\"},{\"attributes\":{},\"id\":\"2231\",\"type\":\"SaveTool\"},{\"attributes\":{},\"id\":\"2206\",\"type\":\"UnionRenderers\"},{\"attributes\":{\"bottom\":{\"value\":0},\"fill_alpha\":{\"value\":0.1},\"fill_color\":{\"value\":\"#1f77b4\"},\"left\":{\"field\":\"left\"},\"line_alpha\":{\"value\":0.1},\"line_color\":{\"value\":\"white\"},\"right\":{\"field\":\"right\"},\"top\":{\"field\":\"top\"}},\"id\":\"2189\",\"type\":\"Quad\"},{\"attributes\":{\"data_source\":{\"id\":\"2187\"},\"glyph\":{\"id\":\"2188\"},\"hover_glyph\":null,\"muted_glyph\":null,\"nonselection_glyph\":{\"id\":\"2189\"},\"selection_glyph\":null,\"view\":{\"id\":\"2191\"}},\"id\":\"2190\",\"type\":\"GlyphRenderer\"},{\"attributes\":{},\"id\":\"2233\",\"type\":\"HelpTool\"},{\"attributes\":{},\"id\":\"2205\",\"type\":\"Selection\"},{\"attributes\":{},\"id\":\"2199\",\"type\":\"BasicTickFormatter\"},{\"attributes\":{},\"id\":\"2173\",\"type\":\"PanTool\"},{\"attributes\":{},\"id\":\"2201\",\"type\":\"BasicTickFormatter\"},{\"attributes\":{},\"id\":\"2177\",\"type\":\"ResetTool\"},{\"attributes\":{},\"id\":\"2203\",\"type\":\"Selection\"},{\"attributes\":{},\"id\":\"2174\",\"type\":\"WheelZoomTool\"},{\"attributes\":{},\"id\":\"2204\",\"type\":\"UnionRenderers\"},{\"attributes\":{\"items\":[{\"id\":\"2208\"}]},\"id\":\"2207\",\"type\":\"Legend\"},{\"attributes\":{\"overlay\":{\"id\":\"2179\"}},\"id\":\"2175\",\"type\":\"BoxZoomTool\"},{\"attributes\":{},\"id\":\"2258\",\"type\":\"Selection\"},{\"attributes\":{},\"id\":\"2176\",\"type\":\"SaveTool\"},{\"attributes\":{\"bottom\":{\"value\":0},\"fill_color\":{\"value\":\"#1f77b4\"},\"left\":{\"field\":\"left\"},\"line_color\":{\"value\":\"white\"},\"right\":{\"field\":\"right\"},\"top\":{\"field\":\"top\"}},\"id\":\"2188\",\"type\":\"Quad\"},{\"attributes\":{},\"id\":\"2178\",\"type\":\"HelpTool\"},{\"attributes\":{},\"id\":\"2216\",\"type\":\"LinearScale\"},{\"attributes\":{\"data_source\":{\"id\":\"2242\"},\"glyph\":{\"id\":\"2243\"},\"hover_glyph\":null,\"muted_glyph\":null,\"nonselection_glyph\":{\"id\":\"2244\"},\"selection_glyph\":null,\"view\":{\"id\":\"2246\"}},\"id\":\"2245\",\"type\":\"GlyphRenderer\"},{\"attributes\":{\"label\":{\"value\":\"x\\u0304 = 3.0\"},\"renderers\":[{\"id\":\"2195\"}]},\"id\":\"2208\",\"type\":\"LegendItem\"},{\"attributes\":{\"active_drag\":\"auto\",\"active_inspect\":\"auto\",\"active_multi\":null,\"active_scroll\":\"auto\",\"active_tap\":\"auto\",\"tools\":[{\"id\":\"2228\"},{\"id\":\"2229\"},{\"id\":\"2230\"},{\"id\":\"2231\"},{\"id\":\"2232\"},{\"id\":\"2233\"}]},\"id\":\"2235\",\"type\":\"Toolbar\"},{\"attributes\":{\"data\":{\"x\":[0.397],\"y\":[0]},\"selected\":{\"id\":\"2260\"},\"selection_policy\":{\"id\":\"2261\"}},\"id\":\"2247\",\"type\":\"ColumnDataSource\"},{\"attributes\":{\"bottom\":{\"value\":0},\"fill_alpha\":{\"value\":0.1},\"fill_color\":{\"value\":\"#1f77b4\"},\"left\":{\"field\":\"left\"},\"line_alpha\":{\"value\":0.1},\"line_color\":{\"value\":\"white\"},\"right\":{\"field\":\"right\"},\"top\":{\"field\":\"top\"}},\"id\":\"2244\",\"type\":\"Quad\"},{\"attributes\":{\"angle\":{\"units\":\"rad\",\"value\":1.5707963267948966},\"length\":{\"units\":\"data\",\"value\":0},\"line_color\":{\"value\":\"red\"},\"line_width\":{\"value\":3},\"x\":{\"field\":\"x\"},\"y\":{\"field\":\"y\"}},\"id\":\"2248\",\"type\":\"Ray\"},{\"attributes\":{\"text\":\"FDE(Bin(10, 0.3)), n=50\"},\"id\":\"2210\",\"type\":\"Title\"},{\"attributes\":{\"bottom_units\":\"screen\",\"fill_alpha\":0.5,\"fill_color\":\"lightgrey\",\"left_units\":\"screen\",\"level\":\"overlay\",\"line_alpha\":1.0,\"line_color\":\"black\",\"line_dash\":[4,4],\"line_width\":2,\"right_units\":\"screen\",\"top_units\":\"screen\"},\"id\":\"2234\",\"type\":\"BoxAnnotation\"},{\"attributes\":{},\"id\":\"2212\",\"type\":\"DataRange1d\"},{\"attributes\":{\"active_drag\":\"auto\",\"active_inspect\":\"auto\",\"active_multi\":null,\"active_scroll\":\"auto\",\"active_tap\":\"auto\",\"tools\":[{\"id\":\"2173\"},{\"id\":\"2174\"},{\"id\":\"2175\"},{\"id\":\"2176\"},{\"id\":\"2177\"},{\"id\":\"2178\"}]},\"id\":\"2180\",\"type\":\"Toolbar\"},{\"attributes\":{\"below\":[{\"id\":\"2220\"}],\"center\":[{\"id\":\"2223\"},{\"id\":\"2227\"},{\"id\":\"2262\"}],\"left\":[{\"id\":\"2224\"}],\"plot_height\":400,\"plot_width\":400,\"renderers\":[{\"id\":\"2245\"},{\"id\":\"2250\"}],\"sizing_mode\":\"scale_both\",\"title\":{\"id\":\"2210\"},\"toolbar\":{\"id\":\"2235\"},\"x_range\":{\"id\":\"2212\"},\"x_scale\":{\"id\":\"2216\"},\"y_range\":{\"id\":\"2214\"},\"y_scale\":{\"id\":\"2218\"}},\"id\":\"2209\",\"subtype\":\"Figure\",\"type\":\"Plot\"},{\"attributes\":{},\"id\":\"2214\",\"type\":\"DataRange1d\"},{\"attributes\":{\"data\":{\"x\":[3.0],\"y\":[0]},\"selected\":{\"id\":\"2205\"},\"selection_policy\":{\"id\":\"2206\"}},\"id\":\"2192\",\"type\":\"ColumnDataSource\"},{\"attributes\":{\"angle\":{\"units\":\"rad\",\"value\":1.5707963267948966},\"length\":{\"units\":\"data\",\"value\":0},\"line_alpha\":{\"value\":0.1},\"line_color\":{\"value\":\"red\"},\"line_width\":{\"value\":3},\"x\":{\"field\":\"x\"},\"y\":{\"field\":\"y\"}},\"id\":\"2249\",\"type\":\"Ray\"},{\"attributes\":{},\"id\":\"2161\",\"type\":\"LinearScale\"},{\"attributes\":{},\"id\":\"2218\",\"type\":\"LinearScale\"},{\"attributes\":{\"data\":{\"left\":{\"__ndarray__\":\"AAAAAAAAAACamZmZmZnpP5qZmZmZmfk/NDMzMzMzA0CamZmZmZkJQAAAAAAAABBANDMzMzMzE0BnZmZmZmYWQJqZmZmZmRlAzczMzMzMHEA=\",\"dtype\":\"float64\",\"order\":\"little\",\"shape\":[10]},\"right\":{\"__ndarray__\":\"mpmZmZmZ6T+amZmZmZn5PzQzMzMzMwNAmpmZmZmZCUAAAAAAAAAQQDQzMzMzMxNAZ2ZmZmZmFkCamZmZmZkZQM3MzMzMzBxAAAAAAAAAIEA=\",\"dtype\":\"float64\",\"order\":\"little\",\"shape\":[10]},\"top\":{\"__ndarray__\":\"mpmZmZmZmT8zMzMzMzPDP8rMzMzMzNQ/aGZmZmZm1j8AAAAAAAAAAPj//////88/NDMzMzMzsz+bmZmZmZmZP5uZmZmZmZk/m5mZmZmZmT8=\",\"dtype\":\"float64\",\"order\":\"little\",\"shape\":[10]}},\"selected\":{\"id\":\"2203\"},\"selection_policy\":{\"id\":\"2204\"}},\"id\":\"2187\",\"type\":\"ColumnDataSource\"},{\"attributes\":{\"bottom_units\":\"screen\",\"fill_alpha\":0.5,\"fill_color\":\"lightgrey\",\"left_units\":\"screen\",\"level\":\"overlay\",\"line_alpha\":1.0,\"line_color\":\"black\",\"line_dash\":[4,4],\"line_width\":2,\"right_units\":\"screen\",\"top_units\":\"screen\"},\"id\":\"2179\",\"type\":\"BoxAnnotation\"},{\"attributes\":{\"text\":\"Bin(10, 0.3), n=50\"},\"id\":\"2155\",\"type\":\"Title\"},{\"attributes\":{},\"id\":\"2221\",\"type\":\"BasicTicker\"},{\"attributes\":{},\"id\":\"2157\",\"type\":\"DataRange1d\"},{\"attributes\":{\"formatter\":{\"id\":\"2256\"},\"ticker\":{\"id\":\"2221\"}},\"id\":\"2220\",\"type\":\"LinearAxis\"},{\"attributes\":{\"bottom\":{\"value\":0},\"fill_color\":{\"value\":\"#1f77b4\"},\"left\":{\"field\":\"left\"},\"line_color\":{\"value\":\"white\"},\"right\":{\"field\":\"right\"},\"top\":{\"field\":\"top\"}},\"id\":\"2243\",\"type\":\"Quad\"},{\"attributes\":{},\"id\":\"2225\",\"type\":\"BasicTicker\"},{\"attributes\":{\"source\":{\"id\":\"2242\"}},\"id\":\"2246\",\"type\":\"CDSView\"},{\"attributes\":{},\"id\":\"2159\",\"type\":\"DataRange1d\"},{\"attributes\":{\"axis\":{\"id\":\"2220\"},\"ticker\":null},\"id\":\"2223\",\"type\":\"Grid\"},{\"attributes\":{\"formatter\":{\"id\":\"2254\"},\"ticker\":{\"id\":\"2225\"}},\"id\":\"2224\",\"type\":\"LinearAxis\"},{\"attributes\":{\"source\":{\"id\":\"2247\"}},\"id\":\"2251\",\"type\":\"CDSView\"},{\"attributes\":{},\"id\":\"2163\",\"type\":\"LinearScale\"},{\"attributes\":{},\"id\":\"2166\",\"type\":\"BasicTicker\"},{\"attributes\":{},\"id\":\"2260\",\"type\":\"Selection\"},{\"attributes\":{\"formatter\":{\"id\":\"2201\"},\"ticker\":{\"id\":\"2166\"}},\"id\":\"2165\",\"type\":\"LinearAxis\"},{\"attributes\":{},\"id\":\"2254\",\"type\":\"BasicTickFormatter\"},{\"attributes\":{\"axis\":{\"id\":\"2224\"},\"dimension\":1,\"ticker\":null},\"id\":\"2227\",\"type\":\"Grid\"},{\"attributes\":{\"source\":{\"id\":\"2187\"}},\"id\":\"2191\",\"type\":\"CDSView\"},{\"attributes\":{},\"id\":\"2256\",\"type\":\"BasicTickFormatter\"},{\"attributes\":{\"formatter\":{\"id\":\"2199\"},\"ticker\":{\"id\":\"2170\"}},\"id\":\"2169\",\"type\":\"LinearAxis\"},{\"attributes\":{},\"id\":\"2259\",\"type\":\"UnionRenderers\"},{\"attributes\":{\"data\":{\"left\":{\"__ndarray__\":\"AAAAAAAAAABKDAIrhxa5P0oMAiuHFsk/OIlBYOXQ0j9KDAIrhxbZP1yPwvUoXN8/OIlBYOXQ4j/ByqFFtvPlP0oMAiuHFuk/001iEFg57D8=\",\"dtype\":\"float64\",\"order\":\"little\",\"shape\":[10]},\"right\":{\"__ndarray__\":\"SgwCK4cWuT9KDAIrhxbJPziJQWDl0NI/SgwCK4cW2T9cj8L1KFzfPziJQWDl0OI/wcqhRbbz5T9KDAIrhxbpP9NNYhBYOew/XI/C9Shc7z8=\",\"dtype\":\"float64\",\"order\":\"little\",\"shape\":[10]},\"top\":{\"__ndarray__\":\"t23btm3b9j9OwcspeDkFQAAAAAAAAAAAAAAAAAAAAAC4bdu2bdsGQAAAAAAAAAAAFrycgpdTAEAAAAAAAAAAAOcUvJyCl+M/5xS8nIKX4z8=\",\"dtype\":\"float64\",\"order\":\"little\",\"shape\":[10]}},\"selected\":{\"id\":\"2258\"},\"selection_policy\":{\"id\":\"2259\"}},\"id\":\"2242\",\"type\":\"ColumnDataSource\"},{\"attributes\":{},\"id\":\"2261\",\"type\":\"UnionRenderers\"},{\"attributes\":{\"axis\":{\"id\":\"2165\"},\"ticker\":null},\"id\":\"2168\",\"type\":\"Grid\"},{\"attributes\":{\"angle\":{\"units\":\"rad\",\"value\":1.5707963267948966},\"length\":{\"units\":\"data\",\"value\":0},\"line_color\":{\"value\":\"red\"},\"line_width\":{\"value\":3},\"x\":{\"field\":\"x\"},\"y\":{\"field\":\"y\"}},\"id\":\"2193\",\"type\":\"Ray\"}],\"root_ids\":[\"2264\"]},\"title\":\"Bokeh Application\",\"version\":\"2.2.3\"}};\n",
       "  var render_items = [{\"docid\":\"b128e12d-ded1-4670-8dd6-4cb55f8784e5\",\"root_ids\":[\"2264\"],\"roots\":{\"2264\":\"54072ea6-8723-40ce-bc4f-05d5261f0ff3\"}}];\n",
       "  root.Bokeh.embed.embed_items_notebook(docs_json, render_items);\n",
       "\n",
       "  }\n",
       "  if (root.Bokeh !== undefined) {\n",
       "    embed_document(root);\n",
       "  } else {\n",
       "    var attempts = 0;\n",
       "    var timer = setInterval(function(root) {\n",
       "      if (root.Bokeh !== undefined) {\n",
       "        clearInterval(timer);\n",
       "        embed_document(root);\n",
       "      } else {\n",
       "        attempts++;\n",
       "        if (attempts > 100) {\n",
       "          clearInterval(timer);\n",
       "          console.log(\"Bokeh: ERROR: Unable to run BokehJS code because BokehJS library is missing\");\n",
       "        }\n",
       "      }\n",
       "    }, 10, root)\n",
       "  }\n",
       "})(window);"
      ],
      "application/vnd.bokehjs_exec.v0+json": ""
     },
     "metadata": {
      "application/vnd.bokehjs_exec.v0+json": {
       "id": "2264"
      }
     },
     "output_type": "display_data"
    },
    {
     "name": "stdout",
     "output_type": "stream",
     "text": [
      "3 - Media Muestral Bin(10, 0.3):  2.7\n",
      "3 - Media Muestral FDE(Bin(10, 0.3)):  0.41\n",
      "3 - Varianza Muestral Bin(10, 0.3):  2.622\n",
      "3 - Varianza Muestral FDE(Bin(10, 0.3)):  0.085\n"
     ]
    },
    {
     "data": {
      "text/html": [
       "\n",
       "\n",
       "\n",
       "\n",
       "\n",
       "\n",
       "  <div class=\"bk-root\" id=\"41b69afa-500e-43cf-b3a3-c659ba444edc\" data-root-id=\"2587\"></div>\n"
      ]
     },
     "metadata": {},
     "output_type": "display_data"
    },
    {
     "data": {
      "application/javascript": [
       "(function(root) {\n",
       "  function embed_document(root) {\n",
       "    \n",
       "  var docs_json = {\"c45c5e08-6612-4bfb-a0f3-b54a5012363e\":{\"roots\":{\"references\":[{\"attributes\":{\"children\":[{\"id\":\"2477\"},{\"id\":\"2532\"}],\"sizing_mode\":\"scale_both\"},\"id\":\"2587\",\"type\":\"Row\"},{\"attributes\":{\"data_source\":{\"id\":\"2510\"},\"glyph\":{\"id\":\"2511\"},\"hover_glyph\":null,\"muted_glyph\":null,\"nonselection_glyph\":{\"id\":\"2512\"},\"selection_glyph\":null,\"view\":{\"id\":\"2514\"}},\"id\":\"2513\",\"type\":\"GlyphRenderer\"},{\"attributes\":{\"angle\":{\"units\":\"rad\",\"value\":1.5707963267948966},\"length\":{\"units\":\"data\",\"value\":0},\"line_color\":{\"value\":\"red\"},\"line_width\":{\"value\":3},\"x\":{\"field\":\"x\"},\"y\":{\"field\":\"y\"}},\"id\":\"2516\",\"type\":\"Ray\"},{\"attributes\":{\"data\":{\"x\":[0.41],\"y\":[0]},\"selected\":{\"id\":\"2583\"},\"selection_policy\":{\"id\":\"2584\"}},\"id\":\"2570\",\"type\":\"ColumnDataSource\"},{\"attributes\":{\"angle\":{\"units\":\"rad\",\"value\":1.5707963267948966},\"length\":{\"units\":\"data\",\"value\":0},\"line_alpha\":{\"value\":0.1},\"line_color\":{\"value\":\"red\"},\"line_width\":{\"value\":3},\"x\":{\"field\":\"x\"},\"y\":{\"field\":\"y\"}},\"id\":\"2517\",\"type\":\"Ray\"},{\"attributes\":{\"bottom\":{\"value\":0},\"fill_color\":{\"value\":\"#1f77b4\"},\"left\":{\"field\":\"left\"},\"line_color\":{\"value\":\"white\"},\"right\":{\"field\":\"right\"},\"top\":{\"field\":\"top\"}},\"id\":\"2566\",\"type\":\"Quad\"},{\"attributes\":{\"formatter\":{\"id\":\"2524\"},\"ticker\":{\"id\":\"2489\"}},\"id\":\"2488\",\"type\":\"LinearAxis\"},{\"attributes\":{\"data_source\":{\"id\":\"2515\"},\"glyph\":{\"id\":\"2516\"},\"hover_glyph\":null,\"muted_glyph\":null,\"nonselection_glyph\":{\"id\":\"2517\"},\"selection_glyph\":null,\"view\":{\"id\":\"2519\"}},\"id\":\"2518\",\"type\":\"GlyphRenderer\"},{\"attributes\":{},\"id\":\"2526\",\"type\":\"Selection\"},{\"attributes\":{\"axis\":{\"id\":\"2492\"},\"dimension\":1,\"ticker\":null},\"id\":\"2495\",\"type\":\"Grid\"},{\"attributes\":{\"source\":{\"id\":\"2515\"}},\"id\":\"2519\",\"type\":\"CDSView\"},{\"attributes\":{\"bottom\":{\"value\":0},\"fill_alpha\":{\"value\":0.1},\"fill_color\":{\"value\":\"#1f77b4\"},\"left\":{\"field\":\"left\"},\"line_alpha\":{\"value\":0.1},\"line_color\":{\"value\":\"white\"},\"right\":{\"field\":\"right\"},\"top\":{\"field\":\"top\"}},\"id\":\"2512\",\"type\":\"Quad\"},{\"attributes\":{},\"id\":\"2529\",\"type\":\"UnionRenderers\"},{\"attributes\":{},\"id\":\"2522\",\"type\":\"BasicTickFormatter\"},{\"attributes\":{},\"id\":\"2500\",\"type\":\"ResetTool\"},{\"attributes\":{},\"id\":\"2496\",\"type\":\"PanTool\"},{\"attributes\":{},\"id\":\"2528\",\"type\":\"Selection\"},{\"attributes\":{\"bottom\":{\"value\":0},\"fill_color\":{\"value\":\"#1f77b4\"},\"left\":{\"field\":\"left\"},\"line_color\":{\"value\":\"white\"},\"right\":{\"field\":\"right\"},\"top\":{\"field\":\"top\"}},\"id\":\"2511\",\"type\":\"Quad\"},{\"attributes\":{},\"id\":\"2501\",\"type\":\"HelpTool\"},{\"attributes\":{},\"id\":\"2524\",\"type\":\"BasicTickFormatter\"},{\"attributes\":{\"items\":[{\"id\":\"2531\"}]},\"id\":\"2530\",\"type\":\"Legend\"},{\"attributes\":{},\"id\":\"2499\",\"type\":\"SaveTool\"},{\"attributes\":{},\"id\":\"2527\",\"type\":\"UnionRenderers\"},{\"attributes\":{},\"id\":\"2497\",\"type\":\"WheelZoomTool\"},{\"attributes\":{\"overlay\":{\"id\":\"2502\"}},\"id\":\"2498\",\"type\":\"BoxZoomTool\"},{\"attributes\":{},\"id\":\"2535\",\"type\":\"DataRange1d\"},{\"attributes\":{\"text\":\"FDE(Bin(10, 0.3)), n=50\"},\"id\":\"2533\",\"type\":\"Title\"},{\"attributes\":{},\"id\":\"2539\",\"type\":\"LinearScale\"},{\"attributes\":{\"bottom_units\":\"screen\",\"fill_alpha\":0.5,\"fill_color\":\"lightgrey\",\"left_units\":\"screen\",\"level\":\"overlay\",\"line_alpha\":1.0,\"line_color\":\"black\",\"line_dash\":[4,4],\"line_width\":2,\"right_units\":\"screen\",\"top_units\":\"screen\"},\"id\":\"2502\",\"type\":\"BoxAnnotation\"},{\"attributes\":{\"data\":{\"left\":{\"__ndarray__\":\"AAAAAAAAAABKDAIrhxa5P0oMAiuHFsk/OIlBYOXQ0j9KDAIrhxbZP1yPwvUoXN8/OIlBYOXQ4j/ByqFFtvPlP0oMAiuHFuk/001iEFg57D8=\",\"dtype\":\"float64\",\"order\":\"little\",\"shape\":[10]},\"right\":{\"__ndarray__\":\"SgwCK4cWuT9KDAIrhxbJPziJQWDl0NI/SgwCK4cW2T9cj8L1KFzfPziJQWDl0OI/wcqhRbbz5T9KDAIrhxbpP9NNYhBYOew/XI/C9Shc7z8=\",\"dtype\":\"float64\",\"order\":\"little\",\"shape\":[10]},\"top\":{\"__ndarray__\":\"TsHLKXg5BUAAAAAAAAAAAFYfGutDY/0/AAAAAAAAAAC4bdu2bdsGQAAAAAAAAAAAAAAAAAAAAAC4bdu2bdv2Pxa8nIKXU/A/isb60Fgf2j8=\",\"dtype\":\"float64\",\"order\":\"little\",\"shape\":[10]}},\"selected\":{\"id\":\"2581\"},\"selection_policy\":{\"id\":\"2582\"}},\"id\":\"2565\",\"type\":\"ColumnDataSource\"},{\"attributes\":{\"label\":{\"value\":\"x\\u0304 = 2.7\"},\"renderers\":[{\"id\":\"2518\"}]},\"id\":\"2531\",\"type\":\"LegendItem\"},{\"attributes\":{\"formatter\":{\"id\":\"2577\"},\"ticker\":{\"id\":\"2548\"}},\"id\":\"2547\",\"type\":\"LinearAxis\"},{\"attributes\":{},\"id\":\"2541\",\"type\":\"LinearScale\"},{\"attributes\":{\"formatter\":{\"id\":\"2522\"},\"ticker\":{\"id\":\"2493\"}},\"id\":\"2492\",\"type\":\"LinearAxis\"},{\"attributes\":{},\"id\":\"2537\",\"type\":\"DataRange1d\"},{\"attributes\":{\"source\":{\"id\":\"2510\"}},\"id\":\"2514\",\"type\":\"CDSView\"},{\"attributes\":{\"bottom\":{\"value\":0},\"fill_alpha\":{\"value\":0.1},\"fill_color\":{\"value\":\"#1f77b4\"},\"left\":{\"field\":\"left\"},\"line_alpha\":{\"value\":0.1},\"line_color\":{\"value\":\"white\"},\"right\":{\"field\":\"right\"},\"top\":{\"field\":\"top\"}},\"id\":\"2567\",\"type\":\"Quad\"},{\"attributes\":{\"active_drag\":\"auto\",\"active_inspect\":\"auto\",\"active_multi\":null,\"active_scroll\":\"auto\",\"active_tap\":\"auto\",\"tools\":[{\"id\":\"2496\"},{\"id\":\"2497\"},{\"id\":\"2498\"},{\"id\":\"2499\"},{\"id\":\"2500\"},{\"id\":\"2501\"}]},\"id\":\"2503\",\"type\":\"Toolbar\"},{\"attributes\":{},\"id\":\"2493\",\"type\":\"BasicTicker\"},{\"attributes\":{},\"id\":\"2548\",\"type\":\"BasicTicker\"},{\"attributes\":{\"data_source\":{\"id\":\"2565\"},\"glyph\":{\"id\":\"2566\"},\"hover_glyph\":null,\"muted_glyph\":null,\"nonselection_glyph\":{\"id\":\"2567\"},\"selection_glyph\":null,\"view\":{\"id\":\"2569\"}},\"id\":\"2568\",\"type\":\"GlyphRenderer\"},{\"attributes\":{\"axis\":{\"id\":\"2547\"},\"dimension\":1,\"ticker\":null},\"id\":\"2550\",\"type\":\"Grid\"},{\"attributes\":{\"source\":{\"id\":\"2565\"}},\"id\":\"2569\",\"type\":\"CDSView\"},{\"attributes\":{\"axis\":{\"id\":\"2543\"},\"ticker\":null},\"id\":\"2546\",\"type\":\"Grid\"},{\"attributes\":{},\"id\":\"2544\",\"type\":\"BasicTicker\"},{\"attributes\":{},\"id\":\"2551\",\"type\":\"PanTool\"},{\"attributes\":{},\"id\":\"2552\",\"type\":\"WheelZoomTool\"},{\"attributes\":{},\"id\":\"2555\",\"type\":\"ResetTool\"},{\"attributes\":{\"overlay\":{\"id\":\"2557\"}},\"id\":\"2553\",\"type\":\"BoxZoomTool\"},{\"attributes\":{},\"id\":\"2554\",\"type\":\"SaveTool\"},{\"attributes\":{},\"id\":\"2556\",\"type\":\"HelpTool\"},{\"attributes\":{\"active_drag\":\"auto\",\"active_inspect\":\"auto\",\"active_multi\":null,\"active_scroll\":\"auto\",\"active_tap\":\"auto\",\"tools\":[{\"id\":\"2551\"},{\"id\":\"2552\"},{\"id\":\"2553\"},{\"id\":\"2554\"},{\"id\":\"2555\"},{\"id\":\"2556\"}]},\"id\":\"2558\",\"type\":\"Toolbar\"},{\"attributes\":{\"bottom_units\":\"screen\",\"fill_alpha\":0.5,\"fill_color\":\"lightgrey\",\"left_units\":\"screen\",\"level\":\"overlay\",\"line_alpha\":1.0,\"line_color\":\"black\",\"line_dash\":[4,4],\"line_width\":2,\"right_units\":\"screen\",\"top_units\":\"screen\"},\"id\":\"2557\",\"type\":\"BoxAnnotation\"},{\"attributes\":{\"angle\":{\"units\":\"rad\",\"value\":1.5707963267948966},\"length\":{\"units\":\"data\",\"value\":0},\"line_color\":{\"value\":\"red\"},\"line_width\":{\"value\":3},\"x\":{\"field\":\"x\"},\"y\":{\"field\":\"y\"}},\"id\":\"2571\",\"type\":\"Ray\"},{\"attributes\":{},\"id\":\"2489\",\"type\":\"BasicTicker\"},{\"attributes\":{\"data_source\":{\"id\":\"2570\"},\"glyph\":{\"id\":\"2571\"},\"hover_glyph\":null,\"muted_glyph\":null,\"nonselection_glyph\":{\"id\":\"2572\"},\"selection_glyph\":null,\"view\":{\"id\":\"2574\"}},\"id\":\"2573\",\"type\":\"GlyphRenderer\"},{\"attributes\":{\"angle\":{\"units\":\"rad\",\"value\":1.5707963267948966},\"length\":{\"units\":\"data\",\"value\":0},\"line_alpha\":{\"value\":0.1},\"line_color\":{\"value\":\"red\"},\"line_width\":{\"value\":3},\"x\":{\"field\":\"x\"},\"y\":{\"field\":\"y\"}},\"id\":\"2572\",\"type\":\"Ray\"},{\"attributes\":{},\"id\":\"2581\",\"type\":\"Selection\"},{\"attributes\":{\"source\":{\"id\":\"2570\"}},\"id\":\"2574\",\"type\":\"CDSView\"},{\"attributes\":{},\"id\":\"2584\",\"type\":\"UnionRenderers\"},{\"attributes\":{},\"id\":\"2583\",\"type\":\"Selection\"},{\"attributes\":{},\"id\":\"2577\",\"type\":\"BasicTickFormatter\"},{\"attributes\":{\"below\":[{\"id\":\"2488\"}],\"center\":[{\"id\":\"2491\"},{\"id\":\"2495\"},{\"id\":\"2530\"}],\"left\":[{\"id\":\"2492\"}],\"plot_height\":400,\"plot_width\":400,\"renderers\":[{\"id\":\"2513\"},{\"id\":\"2518\"}],\"sizing_mode\":\"scale_both\",\"title\":{\"id\":\"2478\"},\"toolbar\":{\"id\":\"2503\"},\"x_range\":{\"id\":\"2480\"},\"x_scale\":{\"id\":\"2484\"},\"y_range\":{\"id\":\"2482\"},\"y_scale\":{\"id\":\"2486\"}},\"id\":\"2477\",\"subtype\":\"Figure\",\"type\":\"Plot\"},{\"attributes\":{},\"id\":\"2579\",\"type\":\"BasicTickFormatter\"},{\"attributes\":{},\"id\":\"2582\",\"type\":\"UnionRenderers\"},{\"attributes\":{\"items\":[{\"id\":\"2586\"}]},\"id\":\"2585\",\"type\":\"Legend\"},{\"attributes\":{\"axis\":{\"id\":\"2488\"},\"ticker\":null},\"id\":\"2491\",\"type\":\"Grid\"},{\"attributes\":{},\"id\":\"2484\",\"type\":\"LinearScale\"},{\"attributes\":{\"label\":{\"value\":\"x\\u0304 = 0.41\"},\"renderers\":[{\"id\":\"2573\"}]},\"id\":\"2586\",\"type\":\"LegendItem\"},{\"attributes\":{\"text\":\"Bin(10, 0.3), n=50\"},\"id\":\"2478\",\"type\":\"Title\"},{\"attributes\":{\"formatter\":{\"id\":\"2579\"},\"ticker\":{\"id\":\"2544\"}},\"id\":\"2543\",\"type\":\"LinearAxis\"},{\"attributes\":{\"data\":{\"x\":[2.7],\"y\":[0]},\"selected\":{\"id\":\"2528\"},\"selection_policy\":{\"id\":\"2529\"}},\"id\":\"2515\",\"type\":\"ColumnDataSource\"},{\"attributes\":{\"below\":[{\"id\":\"2543\"}],\"center\":[{\"id\":\"2546\"},{\"id\":\"2550\"},{\"id\":\"2585\"}],\"left\":[{\"id\":\"2547\"}],\"plot_height\":400,\"plot_width\":400,\"renderers\":[{\"id\":\"2568\"},{\"id\":\"2573\"}],\"sizing_mode\":\"scale_both\",\"title\":{\"id\":\"2533\"},\"toolbar\":{\"id\":\"2558\"},\"x_range\":{\"id\":\"2535\"},\"x_scale\":{\"id\":\"2539\"},\"y_range\":{\"id\":\"2537\"},\"y_scale\":{\"id\":\"2541\"}},\"id\":\"2532\",\"subtype\":\"Figure\",\"type\":\"Plot\"},{\"attributes\":{\"data\":{\"left\":{\"__ndarray__\":\"AAAAAAAAAABmZmZmZmbmP2ZmZmZmZvY/zMzMzMzMAEBmZmZmZmYGQAAAAAAAAAxAzMzMzMzMEECZmZmZmZkTQGZmZmZmZhZAMzMzMzMzGUA=\",\"dtype\":\"float64\",\"order\":\"little\",\"shape\":[10]},\"right\":{\"__ndarray__\":\"ZmZmZmZm5j9mZmZmZmb2P8zMzMzMzABAZmZmZmZmBkAAAAAAAAAMQMzMzMzMzBBAmZmZmZmZE0BmZmZmZmYWQDMzMzMzMxlAAAAAAAAAHEA=\",\"dtype\":\"float64\",\"order\":\"little\",\"shape\":[10]},\"top\":{\"__ndarray__\":\"HdRBHdRBvT9RB3VQB3XQP1IHdVAHddA/AAAAAAAAAACYmZmZmZnZP6GZmZmZmck/AAAAAAAAAACRJEmSJEnCPxvUQR3UQZ0/G9RBHdRBnT8=\",\"dtype\":\"float64\",\"order\":\"little\",\"shape\":[10]}},\"selected\":{\"id\":\"2526\"},\"selection_policy\":{\"id\":\"2527\"}},\"id\":\"2510\",\"type\":\"ColumnDataSource\"},{\"attributes\":{},\"id\":\"2480\",\"type\":\"DataRange1d\"},{\"attributes\":{},\"id\":\"2486\",\"type\":\"LinearScale\"},{\"attributes\":{},\"id\":\"2482\",\"type\":\"DataRange1d\"}],\"root_ids\":[\"2587\"]},\"title\":\"Bokeh Application\",\"version\":\"2.2.3\"}};\n",
       "  var render_items = [{\"docid\":\"c45c5e08-6612-4bfb-a0f3-b54a5012363e\",\"root_ids\":[\"2587\"],\"roots\":{\"2587\":\"41b69afa-500e-43cf-b3a3-c659ba444edc\"}}];\n",
       "  root.Bokeh.embed.embed_items_notebook(docs_json, render_items);\n",
       "\n",
       "  }\n",
       "  if (root.Bokeh !== undefined) {\n",
       "    embed_document(root);\n",
       "  } else {\n",
       "    var attempts = 0;\n",
       "    var timer = setInterval(function(root) {\n",
       "      if (root.Bokeh !== undefined) {\n",
       "        clearInterval(timer);\n",
       "        embed_document(root);\n",
       "      } else {\n",
       "        attempts++;\n",
       "        if (attempts > 100) {\n",
       "          clearInterval(timer);\n",
       "          console.log(\"Bokeh: ERROR: Unable to run BokehJS code because BokehJS library is missing\");\n",
       "        }\n",
       "      }\n",
       "    }, 10, root)\n",
       "  }\n",
       "})(window);"
      ],
      "application/vnd.bokehjs_exec.v0+json": ""
     },
     "metadata": {
      "application/vnd.bokehjs_exec.v0+json": {
       "id": "2587"
      }
     },
     "output_type": "display_data"
    }
   ],
   "source": [
    "# Primera repetición\n",
    "muestra_bin = muestra_gen(50, binomial_gen, 10, 0.3)\n",
    "muestra_fde_bin = muestra_fde(muestra_bin)\n",
    "\n",
    "\n",
    "media_muestral_bin = round(media_muestral(muestra_bin), 3)\n",
    "media_muestral_fde_bin = round(media_muestral(muestra_fde_bin), 3)\n",
    "varianza_muestral_bin = round(varianza_muestral(muestra_bin), 3)\n",
    "varianza_muestral_fde_bin = round(varianza_muestral(muestra_fde_bin), 3)\n",
    "\n",
    "print(\"2 - Media Muestral Bin(10, 0.3): \", media_muestral_bin)\n",
    "print(\"2 - Media Muestral FDE(Bin(10, 0.3)): \", media_muestral_fde_bin)\n",
    "\n",
    "print(\"2 - Varianza Muestral Bin(10, 0.3): \", varianza_muestral_bin)\n",
    "print(\"2 - Varianza Muestral FDE(Bin(10, 0.3)): \", varianza_muestral_fde_bin)\n",
    "\n",
    "hist1 = crear_histograma(muestra_bin, titulo=\"Bin(10, 0.3), n=50\")\n",
    "agregar_media(hist1, media_muestral_bin)\n",
    "\n",
    "hist2 = crear_histograma(muestra_fde_bin, titulo=\"FDE(Bin(10, 0.3)), n=50\")\n",
    "agregar_media(hist2, media_muestral_fde_bin)\n",
    "\n",
    "show(row(hist1, hist2, sizing_mode='scale_both'))\n",
    "\n",
    "# Segunda repetición\n",
    "muestra_bin = muestra_gen(50, binomial_gen, 10, 0.3)\n",
    "muestra_fde_bin = muestra_fde(muestra_bin)\n",
    "\n",
    "media_muestral_bin = round(media_muestral(muestra_bin), 3)\n",
    "media_muestral_fde_bin = round(media_muestral(muestra_fde_bin), 3)\n",
    "varianza_muestral_bin = round(varianza_muestral(muestra_bin), 3)\n",
    "varianza_muestral_fde_bin = round(varianza_muestral(muestra_fde_bin), 3)\n",
    "\n",
    "print(\"3 - Media Muestral Bin(10, 0.3): \", media_muestral_bin)\n",
    "print(\"3 - Media Muestral FDE(Bin(10, 0.3)): \", media_muestral_fde_bin)\n",
    "\n",
    "print(\"3 - Varianza Muestral Bin(10, 0.3): \", varianza_muestral_bin)\n",
    "print(\"3 - Varianza Muestral FDE(Bin(10, 0.3)): \", varianza_muestral_fde_bin)\n",
    "\n",
    "hist1 = crear_histograma(muestra_bin, titulo=\"Bin(10, 0.3), n=50\")\n",
    "agregar_media(hist1, media_muestral_bin)\n",
    "\n",
    "hist2 = crear_histograma(muestra_fde_bin, titulo=\"FDE(Bin(10, 0.3)), n=50\")\n",
    "agregar_media(hist2, media_muestral_fde_bin)\n",
    "\n",
    "show(row(hist1, hist2, sizing_mode='scale_both'))"
   ]
  },
  {
   "cell_type": "markdown",
   "metadata": {},
   "source": [
    "## Parte 3: Convergencia<a class=\"anchor\" id=\"parte_3\"></a>"
   ]
  },
  {
   "cell_type": "markdown",
   "metadata": {},
   "source": [
    "### 1) Histogramas Binomial p=0.40<a class=\"anchor\" id=\"p_3_1\"></a>"
   ]
  },
  {
   "cell_type": "code",
   "execution_count": 17,
   "metadata": {},
   "outputs": [
    {
     "data": {
      "text/html": [
       "\n",
       "\n",
       "\n",
       "\n",
       "\n",
       "\n",
       "  <div class=\"bk-root\" id=\"2ebd3973-1034-4bff-ae50-42d9b427c2e1\" data-root-id=\"2972\"></div>\n"
      ]
     },
     "metadata": {},
     "output_type": "display_data"
    },
    {
     "data": {
      "application/javascript": [
       "(function(root) {\n",
       "  function embed_document(root) {\n",
       "    \n",
       "  var docs_json = {\"8bc6af23-e96c-48a7-9d83-ca44135c9381\":{\"roots\":{\"references\":[{\"attributes\":{\"children\":[{\"id\":\"2820\"},{\"id\":\"2858\"},{\"id\":\"2896\"},{\"id\":\"2934\"}],\"sizing_mode\":\"scale_both\"},\"id\":\"2972\",\"type\":\"Row\"},{\"attributes\":{\"bottom_units\":\"screen\",\"fill_alpha\":0.5,\"fill_color\":\"lightgrey\",\"left_units\":\"screen\",\"level\":\"overlay\",\"line_alpha\":1.0,\"line_color\":\"black\",\"line_dash\":[4,4],\"line_width\":2,\"right_units\":\"screen\",\"top_units\":\"screen\"},\"id\":\"2959\",\"type\":\"BoxAnnotation\"},{\"attributes\":{},\"id\":\"3118\",\"type\":\"BasicTickFormatter\"},{\"attributes\":{\"data\":{\"left\":{\"__ndarray__\":\"AAAAAAAACEAzMzMzMzMPQDMzMzMzMxNAzczMzMzMFkBmZmZmZmYaQAAAAAAAAB5AzczMzMzMIECamZmZmZkiQGZmZmZmZiRAMzMzMzMzJkA=\",\"dtype\":\"float64\",\"order\":\"little\",\"shape\":[10]},\"right\":{\"__ndarray__\":\"MzMzMzMzD0AzMzMzMzMTQM3MzMzMzBZAZmZmZmZmGkAAAAAAAAAeQM3MzMzMzCBAmpmZmZmZIkBmZmZmZmYkQDMzMzMzMyZAAAAAAAAAKEA=\",\"dtype\":\"float64\",\"order\":\"little\",\"shape\":[10]},\"top\":{\"__ndarray__\":\"F2zBFmzBhj8RERERERGxPxrHcRzHcaw/IcdxHMdxvD8ax3Ecx3HMPxRswRZswcY/293d3d3dzT8px3Ecx3G8Pw8REREREbE/GsdxHMdxrD8=\",\"dtype\":\"float64\",\"order\":\"little\",\"shape\":[10]}},\"selected\":{\"id\":\"3129\"},\"selection_policy\":{\"id\":\"3130\"}},\"id\":\"2891\",\"type\":\"ColumnDataSource\"},{\"attributes\":{},\"id\":\"3122\",\"type\":\"BasicTickFormatter\"},{\"attributes\":{},\"id\":\"2878\",\"type\":\"WheelZoomTool\"},{\"attributes\":{},\"id\":\"3124\",\"type\":\"BasicTickFormatter\"},{\"attributes\":{},\"id\":\"3132\",\"type\":\"Selection\"},{\"attributes\":{},\"id\":\"3133\",\"type\":\"UnionRenderers\"},{\"attributes\":{},\"id\":\"3126\",\"type\":\"Selection\"},{\"attributes\":{\"data_source\":{\"id\":\"2891\"},\"glyph\":{\"id\":\"2892\"},\"hover_glyph\":null,\"muted_glyph\":null,\"nonselection_glyph\":{\"id\":\"2893\"},\"selection_glyph\":null,\"view\":{\"id\":\"2895\"}},\"id\":\"2894\",\"type\":\"GlyphRenderer\"},{\"attributes\":{},\"id\":\"3127\",\"type\":\"UnionRenderers\"},{\"attributes\":{},\"id\":\"3135\",\"type\":\"Selection\"},{\"attributes\":{},\"id\":\"2882\",\"type\":\"HelpTool\"},{\"attributes\":{\"axis\":{\"id\":\"2835\"},\"dimension\":1,\"ticker\":null},\"id\":\"2838\",\"type\":\"Grid\"},{\"attributes\":{},\"id\":\"3136\",\"type\":\"UnionRenderers\"},{\"attributes\":{},\"id\":\"2880\",\"type\":\"SaveTool\"},{\"attributes\":{},\"id\":\"2881\",\"type\":\"ResetTool\"},{\"attributes\":{},\"id\":\"3129\",\"type\":\"Selection\"},{\"attributes\":{\"below\":[{\"id\":\"2831\"}],\"center\":[{\"id\":\"2834\"},{\"id\":\"2838\"}],\"left\":[{\"id\":\"2835\"}],\"plot_height\":400,\"plot_width\":400,\"renderers\":[{\"id\":\"2856\"}],\"sizing_mode\":\"scale_both\",\"title\":{\"id\":\"2821\"},\"toolbar\":{\"id\":\"2846\"},\"x_range\":{\"id\":\"2823\"},\"x_scale\":{\"id\":\"2827\"},\"y_range\":{\"id\":\"2825\"},\"y_scale\":{\"id\":\"2829\"}},\"id\":\"2820\",\"subtype\":\"Figure\",\"type\":\"Plot\"},{\"attributes\":{},\"id\":\"3130\",\"type\":\"UnionRenderers\"},{\"attributes\":{},\"id\":\"3110\",\"type\":\"BasicTickFormatter\"},{\"attributes\":{\"below\":[{\"id\":\"2869\"}],\"center\":[{\"id\":\"2872\"},{\"id\":\"2876\"}],\"left\":[{\"id\":\"2873\"}],\"plot_height\":400,\"plot_width\":400,\"renderers\":[{\"id\":\"2894\"}],\"sizing_mode\":\"scale_both\",\"title\":{\"id\":\"2859\"},\"toolbar\":{\"id\":\"2884\"},\"x_range\":{\"id\":\"2861\"},\"x_scale\":{\"id\":\"2865\"},\"y_range\":{\"id\":\"2863\"},\"y_scale\":{\"id\":\"2867\"}},\"id\":\"2858\",\"subtype\":\"Figure\",\"type\":\"Plot\"},{\"attributes\":{\"overlay\":{\"id\":\"2883\"}},\"id\":\"2879\",\"type\":\"BoxZoomTool\"},{\"attributes\":{},\"id\":\"2908\",\"type\":\"BasicTicker\"},{\"attributes\":{},\"id\":\"2840\",\"type\":\"WheelZoomTool\"},{\"attributes\":{\"bottom_units\":\"screen\",\"fill_alpha\":0.5,\"fill_color\":\"lightgrey\",\"left_units\":\"screen\",\"level\":\"overlay\",\"line_alpha\":1.0,\"line_color\":\"black\",\"line_dash\":[4,4],\"line_width\":2,\"right_units\":\"screen\",\"top_units\":\"screen\"},\"id\":\"2883\",\"type\":\"BoxAnnotation\"},{\"attributes\":{},\"id\":\"2912\",\"type\":\"BasicTicker\"},{\"attributes\":{\"active_drag\":\"auto\",\"active_inspect\":\"auto\",\"active_multi\":null,\"active_scroll\":\"auto\",\"active_tap\":\"auto\",\"tools\":[{\"id\":\"2877\"},{\"id\":\"2878\"},{\"id\":\"2879\"},{\"id\":\"2880\"},{\"id\":\"2881\"},{\"id\":\"2882\"}]},\"id\":\"2884\",\"type\":\"Toolbar\"},{\"attributes\":{\"formatter\":{\"id\":\"3120\"},\"ticker\":{\"id\":\"2908\"}},\"id\":\"2907\",\"type\":\"LinearAxis\"},{\"attributes\":{},\"id\":\"2839\",\"type\":\"PanTool\"},{\"attributes\":{\"formatter\":{\"id\":\"3116\"},\"ticker\":{\"id\":\"2870\"}},\"id\":\"2869\",\"type\":\"LinearAxis\"},{\"attributes\":{\"axis\":{\"id\":\"2907\"},\"ticker\":null},\"id\":\"2910\",\"type\":\"Grid\"},{\"attributes\":{\"text\":\"Bin(100, 0.4)\"},\"id\":\"2935\",\"type\":\"Title\"},{\"attributes\":{\"source\":{\"id\":\"2929\"}},\"id\":\"2933\",\"type\":\"CDSView\"},{\"attributes\":{\"data_source\":{\"id\":\"2853\"},\"glyph\":{\"id\":\"2854\"},\"hover_glyph\":null,\"muted_glyph\":null,\"nonselection_glyph\":{\"id\":\"2855\"},\"selection_glyph\":null,\"view\":{\"id\":\"2857\"}},\"id\":\"2856\",\"type\":\"GlyphRenderer\"},{\"attributes\":{},\"id\":\"2874\",\"type\":\"BasicTicker\"},{\"attributes\":{},\"id\":\"2941\",\"type\":\"LinearScale\"},{\"attributes\":{},\"id\":\"2919\",\"type\":\"ResetTool\"},{\"attributes\":{},\"id\":\"2827\",\"type\":\"LinearScale\"},{\"attributes\":{\"formatter\":{\"id\":\"3124\"},\"ticker\":{\"id\":\"2946\"}},\"id\":\"2945\",\"type\":\"LinearAxis\"},{\"attributes\":{},\"id\":\"3114\",\"type\":\"BasicTickFormatter\"},{\"attributes\":{\"bottom\":{\"value\":0},\"fill_alpha\":{\"value\":0.1},\"fill_color\":{\"value\":\"#1f77b4\"},\"left\":{\"field\":\"left\"},\"line_alpha\":{\"value\":0.1},\"line_color\":{\"value\":\"white\"},\"right\":{\"field\":\"right\"},\"top\":{\"field\":\"top\"}},\"id\":\"2893\",\"type\":\"Quad\"},{\"attributes\":{},\"id\":\"2937\",\"type\":\"DataRange1d\"},{\"attributes\":{},\"id\":\"2843\",\"type\":\"ResetTool\"},{\"attributes\":{},\"id\":\"2870\",\"type\":\"BasicTicker\"},{\"attributes\":{},\"id\":\"2915\",\"type\":\"PanTool\"},{\"attributes\":{},\"id\":\"2899\",\"type\":\"DataRange1d\"},{\"attributes\":{\"data_source\":{\"id\":\"2929\"},\"glyph\":{\"id\":\"2930\"},\"hover_glyph\":null,\"muted_glyph\":null,\"nonselection_glyph\":{\"id\":\"2931\"},\"selection_glyph\":null,\"view\":{\"id\":\"2933\"}},\"id\":\"2932\",\"type\":\"GlyphRenderer\"},{\"attributes\":{\"bottom\":{\"value\":0},\"fill_color\":{\"value\":\"#1f77b4\"},\"left\":{\"field\":\"left\"},\"line_color\":{\"value\":\"white\"},\"right\":{\"field\":\"right\"},\"top\":{\"field\":\"top\"}},\"id\":\"2968\",\"type\":\"Quad\"},{\"attributes\":{\"bottom\":{\"value\":0},\"fill_color\":{\"value\":\"#1f77b4\"},\"left\":{\"field\":\"left\"},\"line_color\":{\"value\":\"white\"},\"right\":{\"field\":\"right\"},\"top\":{\"field\":\"top\"}},\"id\":\"2854\",\"type\":\"Quad\"},{\"attributes\":{},\"id\":\"2825\",\"type\":\"DataRange1d\"},{\"attributes\":{},\"id\":\"2939\",\"type\":\"DataRange1d\"},{\"attributes\":{},\"id\":\"2844\",\"type\":\"HelpTool\"},{\"attributes\":{\"source\":{\"id\":\"2891\"}},\"id\":\"2895\",\"type\":\"CDSView\"},{\"attributes\":{\"text\":\"Bin(50, 0.4)\"},\"id\":\"2897\",\"type\":\"Title\"},{\"attributes\":{\"axis\":{\"id\":\"2911\"},\"dimension\":1,\"ticker\":null},\"id\":\"2914\",\"type\":\"Grid\"},{\"attributes\":{},\"id\":\"2877\",\"type\":\"PanTool\"},{\"attributes\":{},\"id\":\"2943\",\"type\":\"LinearScale\"},{\"attributes\":{\"data\":{\"left\":{\"__ndarray__\":\"AAAAAAAA8D8zMzMzMzP7PzMzMzMzMwNAzMzMzMzMCEBmZmZmZmYOQAAAAAAAABJAzMzMzMzMFECZmZmZmZkXQGZmZmZmZhpAMzMzMzMzHUA=\",\"dtype\":\"float64\",\"order\":\"little\",\"shape\":[10]},\"right\":{\"__ndarray__\":\"MzMzMzMz+z8zMzMzMzMDQMzMzMzMzAhAZmZmZmZmDkAAAAAAAAASQMzMzMzMzBRAmZmZmZmZF0BmZmZmZmYaQDMzMzMzMx1AAAAAAAAAIEA=\",\"dtype\":\"float64\",\"order\":\"little\",\"shape\":[10]},\"top\":{\"__ndarray__\":\"HdRBHdRBrT/UQR3UQR3EP1t8xVd8xdc/AAAAAAAAAAAUX/EVX/HVP1UHdVAHddA/AAAAAAAAAABWfMVXfMXHPxvUQR3UQY0/FF/xFV/xpT8=\",\"dtype\":\"float64\",\"order\":\"little\",\"shape\":[10]}},\"selected\":{\"id\":\"3126\"},\"selection_policy\":{\"id\":\"3127\"}},\"id\":\"2853\",\"type\":\"ColumnDataSource\"},{\"attributes\":{\"overlay\":{\"id\":\"2845\"}},\"id\":\"2841\",\"type\":\"BoxZoomTool\"},{\"attributes\":{\"axis\":{\"id\":\"2831\"},\"ticker\":null},\"id\":\"2834\",\"type\":\"Grid\"},{\"attributes\":{},\"id\":\"2842\",\"type\":\"SaveTool\"},{\"attributes\":{\"data\":{\"left\":{\"__ndarray__\":\"AAAAAAAAJkDNzMzMzMwpQJqZmZmZmS1AMzMzMzOzMECamZmZmZkyQAAAAAAAgDRAZmZmZmZmNkDMzMzMzEw4QDMzMzMzMzpAmZmZmZkZPEA=\",\"dtype\":\"float64\",\"order\":\"little\",\"shape\":[10]},\"right\":{\"__ndarray__\":\"zczMzMzMKUCamZmZmZktQDMzMzMzszBAmpmZmZmZMkAAAAAAAIA0QGZmZmZmZjZAzMzMzMxMOEAzMzMzMzM6QJmZmZmZGTxAAAAAAAAAPkA=\",\"dtype\":\"float64\",\"order\":\"little\",\"shape\":[10]},\"top\":{\"__ndarray__\":\"7FiBMNKOdT/sWIEw0o6lP7UCYaQdK6A/A4SRdqxAqD8MI+1YgTDCP30N5TWU18A/gW6JU7/ntj8gr6G8hvKaP/JYgTDSjnU/5liBMNKOdT8=\",\"dtype\":\"float64\",\"order\":\"little\",\"shape\":[10]}},\"selected\":{\"id\":\"3132\"},\"selection_policy\":{\"id\":\"3133\"}},\"id\":\"2929\",\"type\":\"ColumnDataSource\"},{\"attributes\":{},\"id\":\"2946\",\"type\":\"BasicTicker\"},{\"attributes\":{\"below\":[{\"id\":\"2907\"}],\"center\":[{\"id\":\"2910\"},{\"id\":\"2914\"}],\"left\":[{\"id\":\"2911\"}],\"plot_height\":400,\"plot_width\":400,\"renderers\":[{\"id\":\"2932\"}],\"sizing_mode\":\"scale_both\",\"title\":{\"id\":\"2897\"},\"toolbar\":{\"id\":\"2922\"},\"x_range\":{\"id\":\"2899\"},\"x_scale\":{\"id\":\"2903\"},\"y_range\":{\"id\":\"2901\"},\"y_scale\":{\"id\":\"2905\"}},\"id\":\"2896\",\"subtype\":\"Figure\",\"type\":\"Plot\"},{\"attributes\":{\"formatter\":{\"id\":\"3110\"},\"ticker\":{\"id\":\"2836\"}},\"id\":\"2835\",\"type\":\"LinearAxis\"},{\"attributes\":{\"active_drag\":\"auto\",\"active_inspect\":\"auto\",\"active_multi\":null,\"active_scroll\":\"auto\",\"active_tap\":\"auto\",\"tools\":[{\"id\":\"2839\"},{\"id\":\"2840\"},{\"id\":\"2841\"},{\"id\":\"2842\"},{\"id\":\"2843\"},{\"id\":\"2844\"}]},\"id\":\"2846\",\"type\":\"Toolbar\"},{\"attributes\":{\"formatter\":{\"id\":\"3122\"},\"ticker\":{\"id\":\"2950\"}},\"id\":\"2949\",\"type\":\"LinearAxis\"},{\"attributes\":{},\"id\":\"2836\",\"type\":\"BasicTicker\"},{\"attributes\":{\"bottom\":{\"value\":0},\"fill_alpha\":{\"value\":0.1},\"fill_color\":{\"value\":\"#1f77b4\"},\"left\":{\"field\":\"left\"},\"line_alpha\":{\"value\":0.1},\"line_color\":{\"value\":\"white\"},\"right\":{\"field\":\"right\"},\"top\":{\"field\":\"top\"}},\"id\":\"2855\",\"type\":\"Quad\"},{\"attributes\":{},\"id\":\"2950\",\"type\":\"BasicTicker\"},{\"attributes\":{\"formatter\":{\"id\":\"3118\"},\"ticker\":{\"id\":\"2912\"}},\"id\":\"2911\",\"type\":\"LinearAxis\"},{\"attributes\":{\"axis\":{\"id\":\"2873\"},\"dimension\":1,\"ticker\":null},\"id\":\"2876\",\"type\":\"Grid\"},{\"attributes\":{\"axis\":{\"id\":\"2945\"},\"ticker\":null},\"id\":\"2948\",\"type\":\"Grid\"},{\"attributes\":{},\"id\":\"2920\",\"type\":\"HelpTool\"},{\"attributes\":{\"source\":{\"id\":\"2853\"}},\"id\":\"2857\",\"type\":\"CDSView\"},{\"attributes\":{},\"id\":\"2829\",\"type\":\"LinearScale\"},{\"attributes\":{\"bottom\":{\"value\":0},\"fill_alpha\":{\"value\":0.1},\"fill_color\":{\"value\":\"#1f77b4\"},\"left\":{\"field\":\"left\"},\"line_alpha\":{\"value\":0.1},\"line_color\":{\"value\":\"white\"},\"right\":{\"field\":\"right\"},\"top\":{\"field\":\"top\"}},\"id\":\"2931\",\"type\":\"Quad\"},{\"attributes\":{},\"id\":\"2918\",\"type\":\"SaveTool\"},{\"attributes\":{\"axis\":{\"id\":\"2949\"},\"dimension\":1,\"ticker\":null},\"id\":\"2952\",\"type\":\"Grid\"},{\"attributes\":{},\"id\":\"3120\",\"type\":\"BasicTickFormatter\"},{\"attributes\":{\"overlay\":{\"id\":\"2921\"}},\"id\":\"2917\",\"type\":\"BoxZoomTool\"},{\"attributes\":{},\"id\":\"2916\",\"type\":\"WheelZoomTool\"},{\"attributes\":{\"data\":{\"left\":{\"__ndarray__\":\"AAAAAAAAO0DNzMzMzEw9QJqZmZmZmT9AMzMzMzPzQECamZmZmRlCQAAAAAAAQENAZmZmZmZmREDMzMzMzIxFQDMzMzMzs0ZAmpmZmZnZR0A=\",\"dtype\":\"float64\",\"order\":\"little\",\"shape\":[10]},\"right\":{\"__ndarray__\":\"zczMzMxMPUCamZmZmZk/QDMzMzMz80BAmpmZmZkZQkAAAAAAAEBDQGZmZmZmZkRAzMzMzMyMRUAzMzMzM7NGQJqZmZmZ2UdAAAAAAAAASUA=\",\"dtype\":\"float64\",\"order\":\"little\",\"shape\":[10]},\"top\":{\"__ndarray__\":\"HIGirQbPgT8cgaKtBs9xP/1h3K9LKp8/FIGirQbPsT/9YdyvSyqvP5Fxvy6pfKg/o5mZmZmZuT/jYdyvSyqvP+Nh3K9LKp8/bCELWchClj8=\",\"dtype\":\"float64\",\"order\":\"little\",\"shape\":[10]}},\"selected\":{\"id\":\"3135\"},\"selection_policy\":{\"id\":\"3136\"}},\"id\":\"2967\",\"type\":\"ColumnDataSource\"},{\"attributes\":{\"bottom\":{\"value\":0},\"fill_color\":{\"value\":\"#1f77b4\"},\"left\":{\"field\":\"left\"},\"line_color\":{\"value\":\"white\"},\"right\":{\"field\":\"right\"},\"top\":{\"field\":\"top\"}},\"id\":\"2892\",\"type\":\"Quad\"},{\"attributes\":{\"below\":[{\"id\":\"2945\"}],\"center\":[{\"id\":\"2948\"},{\"id\":\"2952\"}],\"left\":[{\"id\":\"2949\"}],\"plot_height\":400,\"plot_width\":400,\"renderers\":[{\"id\":\"2970\"}],\"sizing_mode\":\"scale_both\",\"title\":{\"id\":\"2935\"},\"toolbar\":{\"id\":\"2960\"},\"x_range\":{\"id\":\"2937\"},\"x_scale\":{\"id\":\"2941\"},\"y_range\":{\"id\":\"2939\"},\"y_scale\":{\"id\":\"2943\"}},\"id\":\"2934\",\"subtype\":\"Figure\",\"type\":\"Plot\"},{\"attributes\":{\"formatter\":{\"id\":\"3112\"},\"ticker\":{\"id\":\"2832\"}},\"id\":\"2831\",\"type\":\"LinearAxis\"},{\"attributes\":{},\"id\":\"3116\",\"type\":\"BasicTickFormatter\"},{\"attributes\":{\"bottom_units\":\"screen\",\"fill_alpha\":0.5,\"fill_color\":\"lightgrey\",\"left_units\":\"screen\",\"level\":\"overlay\",\"line_alpha\":1.0,\"line_color\":\"black\",\"line_dash\":[4,4],\"line_width\":2,\"right_units\":\"screen\",\"top_units\":\"screen\"},\"id\":\"2845\",\"type\":\"BoxAnnotation\"},{\"attributes\":{},\"id\":\"2901\",\"type\":\"DataRange1d\"},{\"attributes\":{},\"id\":\"2953\",\"type\":\"PanTool\"},{\"attributes\":{\"bottom\":{\"value\":0},\"fill_alpha\":{\"value\":0.1},\"fill_color\":{\"value\":\"#1f77b4\"},\"left\":{\"field\":\"left\"},\"line_alpha\":{\"value\":0.1},\"line_color\":{\"value\":\"white\"},\"right\":{\"field\":\"right\"},\"top\":{\"field\":\"top\"}},\"id\":\"2969\",\"type\":\"Quad\"},{\"attributes\":{},\"id\":\"3112\",\"type\":\"BasicTickFormatter\"},{\"attributes\":{\"text\":\"Bin(10, 0.4)\"},\"id\":\"2821\",\"type\":\"Title\"},{\"attributes\":{},\"id\":\"2867\",\"type\":\"LinearScale\"},{\"attributes\":{},\"id\":\"2905\",\"type\":\"LinearScale\"},{\"attributes\":{\"overlay\":{\"id\":\"2959\"}},\"id\":\"2955\",\"type\":\"BoxZoomTool\"},{\"attributes\":{},\"id\":\"2823\",\"type\":\"DataRange1d\"},{\"attributes\":{},\"id\":\"2957\",\"type\":\"ResetTool\"},{\"attributes\":{},\"id\":\"2954\",\"type\":\"WheelZoomTool\"},{\"attributes\":{},\"id\":\"2863\",\"type\":\"DataRange1d\"},{\"attributes\":{\"data_source\":{\"id\":\"2967\"},\"glyph\":{\"id\":\"2968\"},\"hover_glyph\":null,\"muted_glyph\":null,\"nonselection_glyph\":{\"id\":\"2969\"},\"selection_glyph\":null,\"view\":{\"id\":\"2971\"}},\"id\":\"2970\",\"type\":\"GlyphRenderer\"},{\"attributes\":{},\"id\":\"2832\",\"type\":\"BasicTicker\"},{\"attributes\":{},\"id\":\"2956\",\"type\":\"SaveTool\"},{\"attributes\":{},\"id\":\"2903\",\"type\":\"LinearScale\"},{\"attributes\":{\"text\":\"Bin(20, 0.4)\"},\"id\":\"2859\",\"type\":\"Title\"},{\"attributes\":{},\"id\":\"2958\",\"type\":\"HelpTool\"},{\"attributes\":{\"bottom\":{\"value\":0},\"fill_color\":{\"value\":\"#1f77b4\"},\"left\":{\"field\":\"left\"},\"line_color\":{\"value\":\"white\"},\"right\":{\"field\":\"right\"},\"top\":{\"field\":\"top\"}},\"id\":\"2930\",\"type\":\"Quad\"},{\"attributes\":{\"source\":{\"id\":\"2967\"}},\"id\":\"2971\",\"type\":\"CDSView\"},{\"attributes\":{\"formatter\":{\"id\":\"3114\"},\"ticker\":{\"id\":\"2874\"}},\"id\":\"2873\",\"type\":\"LinearAxis\"},{\"attributes\":{\"bottom_units\":\"screen\",\"fill_alpha\":0.5,\"fill_color\":\"lightgrey\",\"left_units\":\"screen\",\"level\":\"overlay\",\"line_alpha\":1.0,\"line_color\":\"black\",\"line_dash\":[4,4],\"line_width\":2,\"right_units\":\"screen\",\"top_units\":\"screen\"},\"id\":\"2921\",\"type\":\"BoxAnnotation\"},{\"attributes\":{\"active_drag\":\"auto\",\"active_inspect\":\"auto\",\"active_multi\":null,\"active_scroll\":\"auto\",\"active_tap\":\"auto\",\"tools\":[{\"id\":\"2915\"},{\"id\":\"2916\"},{\"id\":\"2917\"},{\"id\":\"2918\"},{\"id\":\"2919\"},{\"id\":\"2920\"}]},\"id\":\"2922\",\"type\":\"Toolbar\"},{\"attributes\":{},\"id\":\"2861\",\"type\":\"DataRange1d\"},{\"attributes\":{\"active_drag\":\"auto\",\"active_inspect\":\"auto\",\"active_multi\":null,\"active_scroll\":\"auto\",\"active_tap\":\"auto\",\"tools\":[{\"id\":\"2953\"},{\"id\":\"2954\"},{\"id\":\"2955\"},{\"id\":\"2956\"},{\"id\":\"2957\"},{\"id\":\"2958\"}]},\"id\":\"2960\",\"type\":\"Toolbar\"},{\"attributes\":{},\"id\":\"2865\",\"type\":\"LinearScale\"},{\"attributes\":{\"axis\":{\"id\":\"2869\"},\"ticker\":null},\"id\":\"2872\",\"type\":\"Grid\"}],\"root_ids\":[\"2972\"]},\"title\":\"Bokeh Application\",\"version\":\"2.2.3\"}};\n",
       "  var render_items = [{\"docid\":\"8bc6af23-e96c-48a7-9d83-ca44135c9381\",\"root_ids\":[\"2972\"],\"roots\":{\"2972\":\"2ebd3973-1034-4bff-ae50-42d9b427c2e1\"}}];\n",
       "  root.Bokeh.embed.embed_items_notebook(docs_json, render_items);\n",
       "\n",
       "  }\n",
       "  if (root.Bokeh !== undefined) {\n",
       "    embed_document(root);\n",
       "  } else {\n",
       "    var attempts = 0;\n",
       "    var timer = setInterval(function(root) {\n",
       "      if (root.Bokeh !== undefined) {\n",
       "        clearInterval(timer);\n",
       "        embed_document(root);\n",
       "      } else {\n",
       "        attempts++;\n",
       "        if (attempts > 100) {\n",
       "          clearInterval(timer);\n",
       "          console.log(\"Bokeh: ERROR: Unable to run BokehJS code because BokehJS library is missing\");\n",
       "        }\n",
       "      }\n",
       "    }, 10, root)\n",
       "  }\n",
       "})(window);"
      ],
      "application/vnd.bokehjs_exec.v0+json": ""
     },
     "metadata": {
      "application/vnd.bokehjs_exec.v0+json": {
       "id": "2972"
      }
     },
     "output_type": "display_data"
    }
   ],
   "source": [
    "muestra_n10 = muestra_gen(100,binomial_gen,10,0.4);\n",
    "muestra_n20 = muestra_gen(100, binomial_gen, 20, 0.4);\n",
    "muestra_n50 = muestra_gen(100, binomial_gen, 50, 0.4);\n",
    "muestra_n100 = muestra_gen(100, binomial_gen, 100, 0.4);\n",
    "\n",
    "hist1 = crear_histograma(muestra_n10, titulo=\"Bin(10, 0.4)\");\n",
    "hist2 = crear_histograma(muestra_n20, titulo=\"Bin(20, 0.4)\");\n",
    "hist3 = crear_histograma(muestra_n50, titulo=\"Bin(50, 0.4)\");\n",
    "hist4 = crear_histograma(muestra_n100, titulo=\"Bin(100, 0.4)\");\n",
    "show(row(hist1, hist2, hist3, hist4, sizing_mode='scale_both'))"
   ]
  },
  {
   "cell_type": "markdown",
   "metadata": {},
   "source": [
    "Observando los histogramas podemos notar que a medida que crece el $n$ de las distribuciones binomiales, las muestras generadas con dicha distribución van tomando la forma de una distribución normal, esto quiere decir que la distribución normal puede aproximarse por la binomial, aunque no exactamente, debido a la carácter discreto de esta última.\n",
    "\n",
    "Además, las muestras generadas tienen su valor medio en el punto más probable, por lo tanto se deduce que la media es $\\mu = n \\cdot p$."
   ]
  },
  {
   "cell_type": "markdown",
   "metadata": {},
   "source": [
    "### 2) Normalización Bin(200, 0.40)<a class=\"anchor\" id=\"p_3_2\"></a>"
   ]
  },
  {
   "cell_type": "code",
   "execution_count": 18,
   "metadata": {},
   "outputs": [
    {
     "name": "stdout",
     "output_type": "stream",
     "text": [
      "Media Muestral Bin(100, 0.40):  39.9\n",
      "Desviación Estándar Muestral Bin(100, 0.40):  4.939\n"
     ]
    },
    {
     "data": {
      "text/html": [
       "\n",
       "\n",
       "\n",
       "\n",
       "\n",
       "\n",
       "  <div class=\"bk-root\" id=\"fb42a759-b14f-45d0-8b9e-3ea01a8ae1dc\" data-root-id=\"3297\"></div>\n"
      ]
     },
     "metadata": {},
     "output_type": "display_data"
    },
    {
     "data": {
      "application/javascript": [
       "(function(root) {\n",
       "  function embed_document(root) {\n",
       "    \n",
       "  var docs_json = {\"6a92272d-526f-414e-a0ec-2c74eda0bfa8\":{\"roots\":{\"references\":[{\"attributes\":{\"below\":[{\"id\":\"3308\"}],\"center\":[{\"id\":\"3311\"},{\"id\":\"3315\"}],\"left\":[{\"id\":\"3312\"}],\"plot_height\":400,\"plot_width\":400,\"renderers\":[{\"id\":\"3333\"}],\"title\":{\"id\":\"3298\"},\"toolbar\":{\"id\":\"3323\"},\"x_range\":{\"id\":\"3300\"},\"x_scale\":{\"id\":\"3304\"},\"y_range\":{\"id\":\"3302\"},\"y_scale\":{\"id\":\"3306\"}},\"id\":\"3297\",\"subtype\":\"Figure\",\"type\":\"Plot\"},{\"attributes\":{},\"id\":\"3302\",\"type\":\"DataRange1d\"},{\"attributes\":{},\"id\":\"3320\",\"type\":\"ResetTool\"},{\"attributes\":{},\"id\":\"3306\",\"type\":\"LinearScale\"},{\"attributes\":{},\"id\":\"3319\",\"type\":\"SaveTool\"},{\"attributes\":{},\"id\":\"3309\",\"type\":\"BasicTicker\"},{\"attributes\":{},\"id\":\"3321\",\"type\":\"HelpTool\"},{\"attributes\":{\"formatter\":{\"id\":\"3503\"},\"ticker\":{\"id\":\"3309\"}},\"id\":\"3308\",\"type\":\"LinearAxis\"},{\"attributes\":{},\"id\":\"3313\",\"type\":\"BasicTicker\"},{\"attributes\":{\"active_drag\":\"auto\",\"active_inspect\":\"auto\",\"active_multi\":null,\"active_scroll\":\"auto\",\"active_tap\":\"auto\",\"tools\":[{\"id\":\"3316\"},{\"id\":\"3317\"},{\"id\":\"3318\"},{\"id\":\"3319\"},{\"id\":\"3320\"},{\"id\":\"3321\"}]},\"id\":\"3323\",\"type\":\"Toolbar\"},{\"attributes\":{\"axis\":{\"id\":\"3308\"},\"ticker\":null},\"id\":\"3311\",\"type\":\"Grid\"},{\"attributes\":{\"formatter\":{\"id\":\"3501\"},\"ticker\":{\"id\":\"3313\"}},\"id\":\"3312\",\"type\":\"LinearAxis\"},{\"attributes\":{\"bottom_units\":\"screen\",\"fill_alpha\":0.5,\"fill_color\":\"lightgrey\",\"left_units\":\"screen\",\"level\":\"overlay\",\"line_alpha\":1.0,\"line_color\":\"black\",\"line_dash\":[4,4],\"line_width\":2,\"right_units\":\"screen\",\"top_units\":\"screen\"},\"id\":\"3322\",\"type\":\"BoxAnnotation\"},{\"attributes\":{},\"id\":\"3501\",\"type\":\"BasicTickFormatter\"},{\"attributes\":{\"source\":{\"id\":\"3330\"}},\"id\":\"3334\",\"type\":\"CDSView\"},{\"attributes\":{\"data_source\":{\"id\":\"3330\"},\"glyph\":{\"id\":\"3331\"},\"hover_glyph\":null,\"muted_glyph\":null,\"nonselection_glyph\":{\"id\":\"3332\"},\"selection_glyph\":null,\"view\":{\"id\":\"3334\"}},\"id\":\"3333\",\"type\":\"GlyphRenderer\"},{\"attributes\":{\"axis\":{\"id\":\"3312\"},\"dimension\":1,\"ticker\":null},\"id\":\"3315\",\"type\":\"Grid\"},{\"attributes\":{\"bottom\":{\"value\":0},\"fill_color\":{\"value\":\"#1f77b4\"},\"left\":{\"field\":\"left\"},\"line_color\":{\"value\":\"white\"},\"right\":{\"field\":\"right\"},\"top\":{\"field\":\"top\"}},\"id\":\"3331\",\"type\":\"Quad\"},{\"attributes\":{\"data\":{\"left\":{\"__ndarray__\":\"F6tWNxPlBMD323QvXSsBwK4ZJk9O4/q/bntiP+Jv879cuj1f7Pjnv7j7bH8oJNK/kPpCfw9Txz8k+1f/m7vkP9Kbbw860fE/EjozH6ZE+T8=\",\"dtype\":\"float64\",\"order\":\"little\",\"shape\":[10]},\"right\":{\"__ndarray__\":\"99t0L10rAcCuGSZPTuP6v257Yj/ib/O/XLo9X+z457+4+2x/KCTSv5D6Qn8PU8c/JPtX/5u75D/Sm28POtHxPxI6Mx+mRPk/KWx7FwlcAEA=\",\"dtype\":\"float64\",\"order\":\"little\",\"shape\":[10]},\"top\":{\"__ndarray__\":\"GhJlXEj9pT8aEmVcSP2VP9dv2FCfPcM/GhJlXEj91T/Xb9hQnz3TP+T4Cn9DPM4/BUrRBBic3z/Xb9hQnz3TP9dv2FCfPcM/oVZ+c5p8uz8=\",\"dtype\":\"float64\",\"order\":\"little\",\"shape\":[10]}},\"selected\":{\"id\":\"3505\"},\"selection_policy\":{\"id\":\"3506\"}},\"id\":\"3330\",\"type\":\"ColumnDataSource\"},{\"attributes\":{\"text\":\"Bin(100, 0.4) normalizada\"},\"id\":\"3298\",\"type\":\"Title\"},{\"attributes\":{},\"id\":\"3503\",\"type\":\"BasicTickFormatter\"},{\"attributes\":{\"bottom\":{\"value\":0},\"fill_alpha\":{\"value\":0.1},\"fill_color\":{\"value\":\"#1f77b4\"},\"left\":{\"field\":\"left\"},\"line_alpha\":{\"value\":0.1},\"line_color\":{\"value\":\"white\"},\"right\":{\"field\":\"right\"},\"top\":{\"field\":\"top\"}},\"id\":\"3332\",\"type\":\"Quad\"},{\"attributes\":{},\"id\":\"3304\",\"type\":\"LinearScale\"},{\"attributes\":{},\"id\":\"3300\",\"type\":\"DataRange1d\"},{\"attributes\":{},\"id\":\"3316\",\"type\":\"PanTool\"},{\"attributes\":{},\"id\":\"3506\",\"type\":\"UnionRenderers\"},{\"attributes\":{},\"id\":\"3317\",\"type\":\"WheelZoomTool\"},{\"attributes\":{\"overlay\":{\"id\":\"3322\"}},\"id\":\"3318\",\"type\":\"BoxZoomTool\"},{\"attributes\":{},\"id\":\"3505\",\"type\":\"Selection\"}],\"root_ids\":[\"3297\"]},\"title\":\"Bokeh Application\",\"version\":\"2.2.3\"}};\n",
       "  var render_items = [{\"docid\":\"6a92272d-526f-414e-a0ec-2c74eda0bfa8\",\"root_ids\":[\"3297\"],\"roots\":{\"3297\":\"fb42a759-b14f-45d0-8b9e-3ea01a8ae1dc\"}}];\n",
       "  root.Bokeh.embed.embed_items_notebook(docs_json, render_items);\n",
       "\n",
       "  }\n",
       "  if (root.Bokeh !== undefined) {\n",
       "    embed_document(root);\n",
       "  } else {\n",
       "    var attempts = 0;\n",
       "    var timer = setInterval(function(root) {\n",
       "      if (root.Bokeh !== undefined) {\n",
       "        clearInterval(timer);\n",
       "        embed_document(root);\n",
       "      } else {\n",
       "        attempts++;\n",
       "        if (attempts > 100) {\n",
       "          clearInterval(timer);\n",
       "          console.log(\"Bokeh: ERROR: Unable to run BokehJS code because BokehJS library is missing\");\n",
       "        }\n",
       "      }\n",
       "    }, 10, root)\n",
       "  }\n",
       "})(window);"
      ],
      "application/vnd.bokehjs_exec.v0+json": ""
     },
     "metadata": {
      "application/vnd.bokehjs_exec.v0+json": {
       "id": "3297"
      }
     },
     "output_type": "display_data"
    }
   ],
   "source": [
    "def normalizar_elementos_de_muestra(muestra):\n",
    "\n",
    "    lista_normalizada = [];\n",
    "    mediamuestral = media_muestral(muestra);\n",
    "    desviacion_muestral = math.sqrt(varianza_muestral(muestra));\n",
    "    for x in range(0,len(muestra)):\n",
    "        normal = (muestra[x]-mediamuestral)/desviacion_muestral;\n",
    "        lista_normalizada.append(normal);\n",
    "    return lista_normalizada;\n",
    "\n",
    "normaln100 = normalizar_elementos_de_muestra(muestra_n100);\n",
    "\n",
    "print(\"Media Muestral Bin(100, 0.40): \", round(media_muestral(muestra_n100), 3))\n",
    "print(\"Desviación Estándar Muestral Bin(100, 0.40): \", round(math.sqrt(varianza_muestral(muestra_n100)), 3))\n",
    "\n",
    "hist1 = crear_histograma(normaln100, titulo=\"Bin(100, 0.4) normalizada\");\n",
    "show(hist1)"
   ]
  },
  {
   "cell_type": "markdown",
   "metadata": {},
   "source": [
    "Para este gráfico, observamos que tiene la forma de una distribución $N(0, 1)$. Esto se explica con el Teorema de DeMoivre-Laplace, el cual es un caso especial del Teorema del Límite Central y dice que:\n",
    "\n",
    "Sean $X_1, X_2, ..., X_n$ variables aleatorias independientes e idénticamente distribuidas, entonces: $\\frac{S_n - \\mu}{\\sigma} \\rightarrow Z \\sim N(0, 1)$, cuando $n \\rightarrow +\\infty$.\n",
    "\n",
    "Donde $S_n$ es una sucesión de variables aleatorias con distribución binomial. \n",
    "\n",
    "Esto quiere decir que al normalizar las muestras, convergen en distribución a una normal con media 0 y desviación estándar 1 cuando $n$ se hace cada vez más grande.\n",
    "\n",
    "En el caso del ejercicio, usamos los estadísticos media muestral y varianza muestral como $\\mu$ y $\\sigma$ respectivamente y no trabajamos con la sucesión ya que normalizamos cada dato por separado para finalmente ver cómo converge a una $N(0, 1)$ .\n",
    "El gráfico será cada vez más parecido y preciso respecto a una Normal cuando se toman valores de $n$ grandes, como por ejemplo 100000"
   ]
  },
  {
   "cell_type": "markdown",
   "metadata": {},
   "source": [
    "### 3) Medias muestrales Binomial p=0.40<a class=\"anchor\" id=\"p_3_3\"></a>"
   ]
  },
  {
   "cell_type": "code",
   "execution_count": 19,
   "metadata": {},
   "outputs": [
    {
     "name": "stdout",
     "output_type": "stream",
     "text": [
      "Media Muestral Bin(10, 0.40):  3.99\n",
      "Media Muestral Bin(20, 0.40):  7.95\n",
      "Media Muestral Bin(50, 0.40):  20.2\n",
      "Media Muestral Bin(100, 0.40):  39.9\n"
     ]
    }
   ],
   "source": [
    "print(\"Media Muestral Bin(10, 0.40): \", round(media_muestral(muestra_n10), 3))\n",
    "print(\"Media Muestral Bin(20, 0.40): \", round(media_muestral(muestra_n20), 3))\n",
    "print(\"Media Muestral Bin(50, 0.40): \", round(media_muestral(muestra_n50), 3))\n",
    "print(\"Media Muestral Bin(100, 0.40): \", round(media_muestral(muestra_n100), 3))"
   ]
  },
  {
   "cell_type": "markdown",
   "metadata": {},
   "source": [
    "Calculando las medias muestrales podemos notar que se aproximan bastante a las medias poblacionales $n \\cdot p$. Esto se debe a que si se toman muestras de una población y se aplica el estadístico $\\overline{X} = \\frac{1}{n} \\cdot \\sum_{i = 1}^{n} X_i$ para la media muestral, se tiene una buena estimación de la media poblacional."
   ]
  },
  {
   "cell_type": "markdown",
   "metadata": {},
   "source": [
    "## Parte 4: Estadística inferencial<a class=\"anchor\" id=\"parte_4\"></a>"
   ]
  },
  {
   "cell_type": "markdown",
   "metadata": {},
   "source": [
    "### 1) Estimaciones puntuales N(100, 5)<a class=\"anchor\" id=\"p_4_1\"></a>"
   ]
  },
  {
   "cell_type": "code",
   "execution_count": 20,
   "metadata": {},
   "outputs": [
    {
     "name": "stdout",
     "output_type": "stream",
     "text": [
      "Media Muestral N(100, 5), n=10:  100.211\n",
      "Media Muestral N(100, 5), n=30:  100.466\n",
      "Varianza Muestral N(100, 5), n=10:  10.212\n",
      "Varianza Muestral N(100, 5), n=30:  3.551\n"
     ]
    }
   ],
   "source": [
    "muestra_N_100_5_10 = muestra_gen(10, normal_gen, 100, 5)\n",
    "muestra_N_100_5_30 = muestra_gen(30, normal_gen, 100, 5)\n",
    "\n",
    "print(\"Media Muestral N(100, 5), n=10: \", round(media_muestral(muestra_N_100_5_10), 3))\n",
    "print(\"Media Muestral N(100, 5), n=30: \", round(media_muestral(muestra_N_100_5_30), 3))\n",
    "\n",
    "print(\"Varianza Muestral N(100, 5), n=10: \", round(varianza_muestral(muestra_N_100_5_10), 3))\n",
    "print(\"Varianza Muestral N(100, 5), n=30: \", round(varianza_muestral(muestra_N_100_5_30), 3))"
   ]
  },
  {
   "cell_type": "markdown",
   "metadata": {},
   "source": [
    "### 2) Intervalos de confianza con varianza conocida<a class=\"anchor\" id=\"p_4_2\"></a>"
   ]
  },
  {
   "cell_type": "code",
   "execution_count": 21,
   "metadata": {},
   "outputs": [
    {
     "name": "stdout",
     "output_type": "stream",
     "text": [
      "Intervalo de confianza del 95%, N(100, 5), n=10:  [98.825, 101.597]\n",
      "Intervalo de confianza del 98%, N(100, 5), n=10:  [98.566, 101.856]\n",
      "Intervalo de confianza del 95%, N(100, 5), n=30:  [99.666, 101.266]\n",
      "Intervalo de confianza del 98%, N(100, 5), n=30:  [99.517, 101.416]\n"
     ]
    }
   ],
   "source": [
    "def intervalo_de_confianza_mu_varianza_conocida(nivel_porcentaje, muestra, varianza):\n",
    "    p = 1 - ( (100 - nivel_porcentaje) / (100 * 2) ) \n",
    "    z = st.norm.ppf(p)\n",
    "    n = len(muestra)\n",
    "    σ = math.sqrt(varianza)\n",
    "    limite_inferior = round(media_muestral(muestra) - z * (σ / math.sqrt(n)), 3)\n",
    "    limite_superior = round(media_muestral(muestra) + z * (σ / math.sqrt(n)), 3)\n",
    "    return [limite_inferior, limite_superior]\n",
    "\n",
    "print(\"Intervalo de confianza del 95%, N(100, 5), n=10: \", intervalo_de_confianza_mu_varianza_conocida(95, muestra_N_100_5_10, 5))\n",
    "print(\"Intervalo de confianza del 98%, N(100, 5), n=10: \", intervalo_de_confianza_mu_varianza_conocida(98, muestra_N_100_5_10, 5))\n",
    "\n",
    "print(\"Intervalo de confianza del 95%, N(100, 5), n=30: \", intervalo_de_confianza_mu_varianza_conocida(95, muestra_N_100_5_30, 5))\n",
    "print(\"Intervalo de confianza del 98%, N(100, 5), n=30: \", intervalo_de_confianza_mu_varianza_conocida(98, muestra_N_100_5_30, 5))"
   ]
  },
  {
   "cell_type": "markdown",
   "metadata": {},
   "source": [
    "### 3) Intervalos de confianza con varianza desconocida<a class=\"anchor\" id=\"p_4_3\"></a>"
   ]
  },
  {
   "cell_type": "code",
   "execution_count": 22,
   "metadata": {},
   "outputs": [
    {
     "name": "stdout",
     "output_type": "stream",
     "text": [
      "Intervalo de confianza del 95%, N(100, 5), n=10:  [97.925, 102.497]\n",
      "Intervalo de confianza del 98%, N(100, 5), n=10:  [97.36, 103.062]\n",
      "Intervalo de confianza del 95% N(100, 5), n=30:  [99.763, 101.17]\n",
      "Intervalo de confianza del 98% N(100, 5), n=30:  [99.619, 101.313]\n"
     ]
    }
   ],
   "source": [
    "def intervalo_de_confianza_mu_varianza_desconocida(nivel_porcentaje, muestra):\n",
    "    n = len(muestra)\n",
    "    p = 1 - ( (100 - nivel_porcentaje) / (100 * 2) )\n",
    "    t = st.t.ppf(p, n - 1)\n",
    "    S = math.sqrt(varianza_muestral(muestra))\n",
    "    limite_inferior = round(media_muestral(muestra) - t * (S / math.sqrt(n)), 3)\n",
    "    limite_superior = round(media_muestral(muestra) + t * (S / math.sqrt(n)), 3)\n",
    "    return [limite_inferior, limite_superior]\n",
    "\n",
    "print(\"Intervalo de confianza del 95%, N(100, 5), n=10: \", intervalo_de_confianza_mu_varianza_desconocida(95, muestra_N_100_5_10))\n",
    "print(\"Intervalo de confianza del 98%, N(100, 5), n=10: \", intervalo_de_confianza_mu_varianza_desconocida(98, muestra_N_100_5_10))\n",
    "\n",
    "print(\"Intervalo de confianza del 95% N(100, 5), n=30: \", intervalo_de_confianza_mu_varianza_desconocida(95, muestra_N_100_5_30))\n",
    "print(\"Intervalo de confianza del 98% N(100, 5), n=30: \", intervalo_de_confianza_mu_varianza_desconocida(98, muestra_N_100_5_30))"
   ]
  },
  {
   "cell_type": "markdown",
   "metadata": {},
   "source": [
    "### 4) Probabilidad de cometer un error de tipo II<a class=\"anchor\" id=\"p_4_4\"></a>"
   ]
  },
  {
   "cell_type": "code",
   "execution_count": 23,
   "metadata": {},
   "outputs": [
    {
     "name": "stdout",
     "output_type": "stream",
     "text": [
      "La varianza muestral es:  3.794\n",
      "Prueba de hipotesis con nivel de significancia 0.01\n",
      "H0: la varianza es mayor a 5\n",
      "H1: La varianza es menor que 5\n",
      "\n",
      "El valor crítico es:  49.588\n",
      "El valor X observado en distribucion chi cuadrado es X=  22.003 \n",
      "\n",
      "Como el X observado es menor que el valor crítico, se rechaza H0\n",
      "\n",
      "Probabilidad de cometer error tipo 2 si la varianza era 6\n",
      "Ya que el error de tipo II es aceptar H0 cuando era falsa, entonces busco la P(X > 41.323 ), es decir, el nuevo valor critico.\n",
      "Por la tabla de chi cuadrado, esa probabilidad da aprox:  0.065  o  6.5 %\n"
     ]
    }
   ],
   "source": [
    "muestra_n30 = muestra_gen(30, normal_gen, 100, 5)\n",
    "n = len(muestra_n30)\n",
    "chi = st.chi2.ppf(0.99, n - 1)\n",
    "varmuestral = varianza_muestral(muestra_n30);\n",
    "x_obs = ( (n-1) * varmuestral ) / 5;\n",
    "print(\"La varianza muestral es: \", round(varmuestral, 3));\n",
    "print(\"Prueba de hipotesis con nivel de significancia 0.01\");\n",
    "print(\"H0: la varianza es mayor a 5\\nH1: La varianza es menor que 5\\n\");\n",
    "print(\"El valor crítico es: \", round(chi, 3));\n",
    "print(\"El valor X observado en distribucion chi cuadrado es X= \", round(x_obs, 3), \"\\n\");\n",
    "print(\"Como el X observado es menor que el valor crítico, se rechaza H0\\n\");\n",
    "\n",
    "print(\"Probabilidad de cometer error tipo 2 si la varianza era 6\");\n",
    "varianza_limite = (chi * 5) / (n-1); #despejo la varianza limite para reemplazar en el estadistico y sacar el nuevo valor critico\n",
    "nuevo_x_critico = ( (n-1) * varianza_limite ) / 6; #busco el nuevo valor critico X con distribucion chi cuadrado\n",
    "p = st.chi2.sf(nuevo_x_critico, n - 1)\n",
    "print(\"Ya que el error de tipo II es aceptar H0 cuando era falsa, entonces busco la P(X >\", round(nuevo_x_critico, 3), \"), es decir, el nuevo valor critico.\\nPor la tabla de chi cuadrado, esa probabilidad da aprox: \", round(p, 3), \" o \", round(p, 3) * 100, \"%\");"
   ]
  },
  {
   "cell_type": "markdown",
   "metadata": {},
   "source": [
    "### 5) Muestra proveniente de una distribución normal<a class=\"anchor\" id=\"p_4_5\"></a>"
   ]
  },
  {
   "cell_type": "code",
   "execution_count": 24,
   "metadata": {},
   "outputs": [
    {
     "name": "stdout",
     "output_type": "stream",
     "text": [
      "Como el estadístico de prueba  21.774  es menor al estadístico teórico 49.58, se distribuye normalmente\n"
     ]
    }
   ],
   "source": [
    "def estandarizar(x,media,desviacion):\n",
    "    return (x-media)/desviacion;\n",
    "\n",
    "def calculadora_normal(z):\n",
    "    inf = -np.inf\n",
    "    cte = 1/math.sqrt(2*math.pi);\n",
    "    fx = lambda x: cte*pow(math.e,-(x**2)/2);\n",
    "    resultado = quad(fx,inf,z)\n",
    "    return resultado;\n",
    "\n",
    "muestra_30 = muestra_gen(30, normal_gen, 100, 5)\n",
    "n = len(muestra_30)\n",
    "minimo = min(muestra_30);\n",
    "maximo = max(muestra_30);\n",
    "\n",
    "\n",
    "## LIMITES\n",
    "limites = [[-1 for i in range(2)] for j in range(25)] #COLUMNAS Y FILAS\n",
    "acum = minimo;\n",
    "i=0;\n",
    "while(maximo>=acum):\n",
    "    limites[i][0]=acum;\n",
    "    acum+=0.5;\n",
    "    limites[i][1]=acum;\n",
    "    i += 1;\n",
    "\n",
    "##ESPERADOS:\n",
    "\n",
    "i=0\n",
    "observados=[];\n",
    "\n",
    "while (limites[i][0] != -1):\n",
    "    contador = 0;\n",
    "    for pos in range(0,len(muestra_30)):\n",
    "        if(muestra_30[pos]>limites[i][0] and muestra_30[pos]<limites[i][1]):\n",
    "            contador+=1\n",
    "    observados.append(contador);\n",
    "    i+=1;\n",
    "\n",
    "\n",
    "#PROBABILIDADES\n",
    "a=0\n",
    "probabilidades=[]\n",
    "while(limites[a][0]!=-1):\n",
    "    z1 = estandarizar(limites[a][0],100,math.sqrt(5));\n",
    "    z2 = estandarizar(limites[a][1],100,math.sqrt(5));\n",
    "\n",
    "    proba = calculadora_normal(z2)[0]-calculadora_normal(z1)[0]\n",
    "    probabilidades.append(proba);\n",
    "    a+=1\n",
    "\n",
    "#ESTADISTICO\n",
    "estadisticos=[];\n",
    "for k in range(0,len(observados)):\n",
    "    esperado = probabilidades[k]*30;\n",
    "    est = pow(observados[k]-esperado,2)/esperado\n",
    "    estadisticos.append(est);\n",
    "\n",
    "chi = sum(estadisticos);\n",
    "\n",
    "if(chi < 49.58):\n",
    "    print(\"Como el estadístico de prueba \", round(chi, 3), \" es menor al estadístico teórico 49.58, se distribuye normalmente\");\n",
    "else:\n",
    "    print(\"Como el estadístico de prueba \", round(chi, 3), \" es mayor al estadístico teórico 49.58, no se distribuye normalmente\");"
   ]
  },
  {
   "cell_type": "markdown",
   "metadata": {},
   "source": [
    "## Bibliografía<a class=\"anchor\" id=\"bibliografia\"></a>"
   ]
  },
  {
   "cell_type": "code",
   "execution_count": null,
   "metadata": {},
   "outputs": [],
   "source": []
  }
 ],
 "metadata": {
  "kernelspec": {
   "display_name": "Python 3",
   "language": "python",
   "name": "python3"
  },
  "language_info": {
   "codemirror_mode": {
    "name": "ipython",
    "version": 3
   },
   "file_extension": ".py",
   "mimetype": "text/x-python",
   "name": "python",
   "nbconvert_exporter": "python",
   "pygments_lexer": "ipython3",
   "version": "3.7.4"
  }
 },
 "nbformat": 4,
 "nbformat_minor": 4
}
