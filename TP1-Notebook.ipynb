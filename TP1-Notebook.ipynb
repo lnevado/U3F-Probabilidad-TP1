{
 "cells": [
  {
   "cell_type": "markdown",
   "metadata": {},
   "source": [
    "<center>\n",
    "    <h1>\n",
    "            Probabilidad y Estadística\n",
    "    </h1>\n",
    "    <h2>\n",
    "            Trabajo Práctico\n",
    "    </h2>\n",
    "</center>\n",
    "\n",
    "<table>\n",
    "<thead>\n",
    "  <tr>\n",
    "    <th>Integrante</th>\n",
    "    <th>Legajo</th>\n",
    "  </tr>\n",
    "</thead>\n",
    "<tbody>\n",
    "  <tr>\n",
    "    <td>Cintia Capece</td>\n",
    "    <td>xxxxx</td>\n",
    "  </tr>\n",
    "  <tr>\n",
    "    <td>Nicolás Bellesi</td>\n",
    "    <td>xxxxx</td>\n",
    "  </tr>\n",
    "  <tr>\n",
    "    <td>Lucas Nevado</td>\n",
    "    <td>40768</td>\n",
    "  </tr>\n",
    "</tbody>\n",
    "</table>"
   ]
  },
  {
   "cell_type": "markdown",
   "metadata": {},
   "source": [
    "## Índice\n",
    "\n",
    "* [Setup](#setup)\n",
    "* [Parte 1: Simulación](#parte_1)\n",
    "    * [1.1 Generador Bernoulli](#p_1_1)\n",
    "    * [1.2 Generador Binomial](#p_1_2)\n",
    "    * [1.3 Generador Exponencial](#p_1_3)\n",
    "    * [1.4 Generador Normal (y Normal Estándar)](#p_1_4)\n",
    "* [Parte 2: Estadística descriptiva](#parte_2)\n",
    "    * [2.3 Muestra n=50 Bin(10, 0.3) y función de distribución empírica](#p_2_3)\n",
    "    * [2.4 Nueva muestra a partir de la función de distribución empírica. Media y varianza muestral](#p_2_4)\n",
    "    * [2.5 Repetición del experimento](#p_2_5)\n",
    "* [Parte 4: Estadística inferencial](#parte_4)\n",
    "* [Bibliografía](#bibliografia)\n",
    "\n",
    "---"
   ]
  },
  {
   "cell_type": "markdown",
   "metadata": {},
   "source": [
    "## Setup<a class=\"anchor\" id=\"setup\"></a>"
   ]
  },
  {
   "cell_type": "code",
   "execution_count": 1,
   "metadata": {},
   "outputs": [
    {
     "data": {
      "text/html": [
       "\n",
       "    <div class=\"bk-root\">\n",
       "        <a href=\"https://bokeh.org\" target=\"_blank\" class=\"bk-logo bk-logo-small bk-logo-notebook\"></a>\n",
       "        <span id=\"1001\">Loading BokehJS ...</span>\n",
       "    </div>"
      ]
     },
     "metadata": {},
     "output_type": "display_data"
    },
    {
     "data": {
      "application/javascript": [
       "\n",
       "(function(root) {\n",
       "  function now() {\n",
       "    return new Date();\n",
       "  }\n",
       "\n",
       "  var force = true;\n",
       "\n",
       "  if (typeof root._bokeh_onload_callbacks === \"undefined\" || force === true) {\n",
       "    root._bokeh_onload_callbacks = [];\n",
       "    root._bokeh_is_loading = undefined;\n",
       "  }\n",
       "\n",
       "  var JS_MIME_TYPE = 'application/javascript';\n",
       "  var HTML_MIME_TYPE = 'text/html';\n",
       "  var EXEC_MIME_TYPE = 'application/vnd.bokehjs_exec.v0+json';\n",
       "  var CLASS_NAME = 'output_bokeh rendered_html';\n",
       "\n",
       "  /**\n",
       "   * Render data to the DOM node\n",
       "   */\n",
       "  function render(props, node) {\n",
       "    var script = document.createElement(\"script\");\n",
       "    node.appendChild(script);\n",
       "  }\n",
       "\n",
       "  /**\n",
       "   * Handle when an output is cleared or removed\n",
       "   */\n",
       "  function handleClearOutput(event, handle) {\n",
       "    var cell = handle.cell;\n",
       "\n",
       "    var id = cell.output_area._bokeh_element_id;\n",
       "    var server_id = cell.output_area._bokeh_server_id;\n",
       "    // Clean up Bokeh references\n",
       "    if (id != null && id in Bokeh.index) {\n",
       "      Bokeh.index[id].model.document.clear();\n",
       "      delete Bokeh.index[id];\n",
       "    }\n",
       "\n",
       "    if (server_id !== undefined) {\n",
       "      // Clean up Bokeh references\n",
       "      var cmd = \"from bokeh.io.state import curstate; print(curstate().uuid_to_server['\" + server_id + \"'].get_sessions()[0].document.roots[0]._id)\";\n",
       "      cell.notebook.kernel.execute(cmd, {\n",
       "        iopub: {\n",
       "          output: function(msg) {\n",
       "            var id = msg.content.text.trim();\n",
       "            if (id in Bokeh.index) {\n",
       "              Bokeh.index[id].model.document.clear();\n",
       "              delete Bokeh.index[id];\n",
       "            }\n",
       "          }\n",
       "        }\n",
       "      });\n",
       "      // Destroy server and session\n",
       "      var cmd = \"import bokeh.io.notebook as ion; ion.destroy_server('\" + server_id + \"')\";\n",
       "      cell.notebook.kernel.execute(cmd);\n",
       "    }\n",
       "  }\n",
       "\n",
       "  /**\n",
       "   * Handle when a new output is added\n",
       "   */\n",
       "  function handleAddOutput(event, handle) {\n",
       "    var output_area = handle.output_area;\n",
       "    var output = handle.output;\n",
       "\n",
       "    // limit handleAddOutput to display_data with EXEC_MIME_TYPE content only\n",
       "    if ((output.output_type != \"display_data\") || (!output.data.hasOwnProperty(EXEC_MIME_TYPE))) {\n",
       "      return\n",
       "    }\n",
       "\n",
       "    var toinsert = output_area.element.find(\".\" + CLASS_NAME.split(' ')[0]);\n",
       "\n",
       "    if (output.metadata[EXEC_MIME_TYPE][\"id\"] !== undefined) {\n",
       "      toinsert[toinsert.length - 1].firstChild.textContent = output.data[JS_MIME_TYPE];\n",
       "      // store reference to embed id on output_area\n",
       "      output_area._bokeh_element_id = output.metadata[EXEC_MIME_TYPE][\"id\"];\n",
       "    }\n",
       "    if (output.metadata[EXEC_MIME_TYPE][\"server_id\"] !== undefined) {\n",
       "      var bk_div = document.createElement(\"div\");\n",
       "      bk_div.innerHTML = output.data[HTML_MIME_TYPE];\n",
       "      var script_attrs = bk_div.children[0].attributes;\n",
       "      for (var i = 0; i < script_attrs.length; i++) {\n",
       "        toinsert[toinsert.length - 1].firstChild.setAttribute(script_attrs[i].name, script_attrs[i].value);\n",
       "        toinsert[toinsert.length - 1].firstChild.textContent = bk_div.children[0].textContent\n",
       "      }\n",
       "      // store reference to server id on output_area\n",
       "      output_area._bokeh_server_id = output.metadata[EXEC_MIME_TYPE][\"server_id\"];\n",
       "    }\n",
       "  }\n",
       "\n",
       "  function register_renderer(events, OutputArea) {\n",
       "\n",
       "    function append_mime(data, metadata, element) {\n",
       "      // create a DOM node to render to\n",
       "      var toinsert = this.create_output_subarea(\n",
       "        metadata,\n",
       "        CLASS_NAME,\n",
       "        EXEC_MIME_TYPE\n",
       "      );\n",
       "      this.keyboard_manager.register_events(toinsert);\n",
       "      // Render to node\n",
       "      var props = {data: data, metadata: metadata[EXEC_MIME_TYPE]};\n",
       "      render(props, toinsert[toinsert.length - 1]);\n",
       "      element.append(toinsert);\n",
       "      return toinsert\n",
       "    }\n",
       "\n",
       "    /* Handle when an output is cleared or removed */\n",
       "    events.on('clear_output.CodeCell', handleClearOutput);\n",
       "    events.on('delete.Cell', handleClearOutput);\n",
       "\n",
       "    /* Handle when a new output is added */\n",
       "    events.on('output_added.OutputArea', handleAddOutput);\n",
       "\n",
       "    /**\n",
       "     * Register the mime type and append_mime function with output_area\n",
       "     */\n",
       "    OutputArea.prototype.register_mime_type(EXEC_MIME_TYPE, append_mime, {\n",
       "      /* Is output safe? */\n",
       "      safe: true,\n",
       "      /* Index of renderer in `output_area.display_order` */\n",
       "      index: 0\n",
       "    });\n",
       "  }\n",
       "\n",
       "  // register the mime type if in Jupyter Notebook environment and previously unregistered\n",
       "  if (root.Jupyter !== undefined) {\n",
       "    var events = require('base/js/events');\n",
       "    var OutputArea = require('notebook/js/outputarea').OutputArea;\n",
       "\n",
       "    if (OutputArea.prototype.mime_types().indexOf(EXEC_MIME_TYPE) == -1) {\n",
       "      register_renderer(events, OutputArea);\n",
       "    }\n",
       "  }\n",
       "\n",
       "  \n",
       "  if (typeof (root._bokeh_timeout) === \"undefined\" || force === true) {\n",
       "    root._bokeh_timeout = Date.now() + 5000;\n",
       "    root._bokeh_failed_load = false;\n",
       "  }\n",
       "\n",
       "  var NB_LOAD_WARNING = {'data': {'text/html':\n",
       "     \"<div style='background-color: #fdd'>\\n\"+\n",
       "     \"<p>\\n\"+\n",
       "     \"BokehJS does not appear to have successfully loaded. If loading BokehJS from CDN, this \\n\"+\n",
       "     \"may be due to a slow or bad network connection. Possible fixes:\\n\"+\n",
       "     \"</p>\\n\"+\n",
       "     \"<ul>\\n\"+\n",
       "     \"<li>re-rerun `output_notebook()` to attempt to load from CDN again, or</li>\\n\"+\n",
       "     \"<li>use INLINE resources instead, as so:</li>\\n\"+\n",
       "     \"</ul>\\n\"+\n",
       "     \"<code>\\n\"+\n",
       "     \"from bokeh.resources import INLINE\\n\"+\n",
       "     \"output_notebook(resources=INLINE)\\n\"+\n",
       "     \"</code>\\n\"+\n",
       "     \"</div>\"}};\n",
       "\n",
       "  function display_loaded() {\n",
       "    var el = document.getElementById(\"1001\");\n",
       "    if (el != null) {\n",
       "      el.textContent = \"BokehJS is loading...\";\n",
       "    }\n",
       "    if (root.Bokeh !== undefined) {\n",
       "      if (el != null) {\n",
       "        el.textContent = \"BokehJS \" + root.Bokeh.version + \" successfully loaded.\";\n",
       "      }\n",
       "    } else if (Date.now() < root._bokeh_timeout) {\n",
       "      setTimeout(display_loaded, 100)\n",
       "    }\n",
       "  }\n",
       "\n",
       "\n",
       "  function run_callbacks() {\n",
       "    try {\n",
       "      root._bokeh_onload_callbacks.forEach(function(callback) {\n",
       "        if (callback != null)\n",
       "          callback();\n",
       "      });\n",
       "    } finally {\n",
       "      delete root._bokeh_onload_callbacks\n",
       "    }\n",
       "    console.debug(\"Bokeh: all callbacks have finished\");\n",
       "  }\n",
       "\n",
       "  function load_libs(css_urls, js_urls, callback) {\n",
       "    if (css_urls == null) css_urls = [];\n",
       "    if (js_urls == null) js_urls = [];\n",
       "\n",
       "    root._bokeh_onload_callbacks.push(callback);\n",
       "    if (root._bokeh_is_loading > 0) {\n",
       "      console.debug(\"Bokeh: BokehJS is being loaded, scheduling callback at\", now());\n",
       "      return null;\n",
       "    }\n",
       "    if (js_urls == null || js_urls.length === 0) {\n",
       "      run_callbacks();\n",
       "      return null;\n",
       "    }\n",
       "    console.debug(\"Bokeh: BokehJS not loaded, scheduling load and callback at\", now());\n",
       "    root._bokeh_is_loading = css_urls.length + js_urls.length;\n",
       "\n",
       "    function on_load() {\n",
       "      root._bokeh_is_loading--;\n",
       "      if (root._bokeh_is_loading === 0) {\n",
       "        console.debug(\"Bokeh: all BokehJS libraries/stylesheets loaded\");\n",
       "        run_callbacks()\n",
       "      }\n",
       "    }\n",
       "\n",
       "    function on_error() {\n",
       "      console.error(\"failed to load \" + url);\n",
       "    }\n",
       "\n",
       "    for (var i = 0; i < css_urls.length; i++) {\n",
       "      var url = css_urls[i];\n",
       "      const element = document.createElement(\"link\");\n",
       "      element.onload = on_load;\n",
       "      element.onerror = on_error;\n",
       "      element.rel = \"stylesheet\";\n",
       "      element.type = \"text/css\";\n",
       "      element.href = url;\n",
       "      console.debug(\"Bokeh: injecting link tag for BokehJS stylesheet: \", url);\n",
       "      document.body.appendChild(element);\n",
       "    }\n",
       "\n",
       "    const hashes = {\"https://cdn.bokeh.org/bokeh/release/bokeh-2.2.3.min.js\": \"T2yuo9Oe71Cz/I4X9Ac5+gpEa5a8PpJCDlqKYO0CfAuEszu1JrXLl8YugMqYe3sM\", \"https://cdn.bokeh.org/bokeh/release/bokeh-widgets-2.2.3.min.js\": \"98GDGJ0kOMCUMUePhksaQ/GYgB3+NH9h996V88sh3aOiUNX3N+fLXAtry6xctSZ6\", \"https://cdn.bokeh.org/bokeh/release/bokeh-tables-2.2.3.min.js\": \"89bArO+nlbP3sgakeHjCo1JYxYR5wufVgA3IbUvDY+K7w4zyxJqssu7wVnfeKCq8\"};\n",
       "\n",
       "    for (var i = 0; i < js_urls.length; i++) {\n",
       "      var url = js_urls[i];\n",
       "      var element = document.createElement('script');\n",
       "      element.onload = on_load;\n",
       "      element.onerror = on_error;\n",
       "      element.async = false;\n",
       "      element.src = url;\n",
       "      if (url in hashes) {\n",
       "        element.crossOrigin = \"anonymous\";\n",
       "        element.integrity = \"sha384-\" + hashes[url];\n",
       "      }\n",
       "      console.debug(\"Bokeh: injecting script tag for BokehJS library: \", url);\n",
       "      document.head.appendChild(element);\n",
       "    }\n",
       "  };\n",
       "\n",
       "  function inject_raw_css(css) {\n",
       "    const element = document.createElement(\"style\");\n",
       "    element.appendChild(document.createTextNode(css));\n",
       "    document.body.appendChild(element);\n",
       "  }\n",
       "\n",
       "  \n",
       "  var js_urls = [\"https://cdn.bokeh.org/bokeh/release/bokeh-2.2.3.min.js\", \"https://cdn.bokeh.org/bokeh/release/bokeh-widgets-2.2.3.min.js\", \"https://cdn.bokeh.org/bokeh/release/bokeh-tables-2.2.3.min.js\"];\n",
       "  var css_urls = [];\n",
       "  \n",
       "\n",
       "  var inline_js = [\n",
       "    function(Bokeh) {\n",
       "      Bokeh.set_log_level(\"info\");\n",
       "    },\n",
       "    function(Bokeh) {\n",
       "    \n",
       "    \n",
       "    }\n",
       "  ];\n",
       "\n",
       "  function run_inline_js() {\n",
       "    \n",
       "    if (root.Bokeh !== undefined || force === true) {\n",
       "      \n",
       "    for (var i = 0; i < inline_js.length; i++) {\n",
       "      inline_js[i].call(root, root.Bokeh);\n",
       "    }\n",
       "    if (force === true) {\n",
       "        display_loaded();\n",
       "      }} else if (Date.now() < root._bokeh_timeout) {\n",
       "      setTimeout(run_inline_js, 100);\n",
       "    } else if (!root._bokeh_failed_load) {\n",
       "      console.log(\"Bokeh: BokehJS failed to load within specified timeout.\");\n",
       "      root._bokeh_failed_load = true;\n",
       "    } else if (force !== true) {\n",
       "      var cell = $(document.getElementById(\"1001\")).parents('.cell').data().cell;\n",
       "      cell.output_area.append_execute_result(NB_LOAD_WARNING)\n",
       "    }\n",
       "\n",
       "  }\n",
       "\n",
       "  if (root._bokeh_is_loading === 0) {\n",
       "    console.debug(\"Bokeh: BokehJS loaded, going straight to plotting\");\n",
       "    run_inline_js();\n",
       "  } else {\n",
       "    load_libs(css_urls, js_urls, function() {\n",
       "      console.debug(\"Bokeh: BokehJS plotting callback run at\", now());\n",
       "      run_inline_js();\n",
       "    });\n",
       "  }\n",
       "}(window));"
      ],
      "application/vnd.bokehjs_load.v0+json": "\n(function(root) {\n  function now() {\n    return new Date();\n  }\n\n  var force = true;\n\n  if (typeof root._bokeh_onload_callbacks === \"undefined\" || force === true) {\n    root._bokeh_onload_callbacks = [];\n    root._bokeh_is_loading = undefined;\n  }\n\n  \n\n  \n  if (typeof (root._bokeh_timeout) === \"undefined\" || force === true) {\n    root._bokeh_timeout = Date.now() + 5000;\n    root._bokeh_failed_load = false;\n  }\n\n  var NB_LOAD_WARNING = {'data': {'text/html':\n     \"<div style='background-color: #fdd'>\\n\"+\n     \"<p>\\n\"+\n     \"BokehJS does not appear to have successfully loaded. If loading BokehJS from CDN, this \\n\"+\n     \"may be due to a slow or bad network connection. Possible fixes:\\n\"+\n     \"</p>\\n\"+\n     \"<ul>\\n\"+\n     \"<li>re-rerun `output_notebook()` to attempt to load from CDN again, or</li>\\n\"+\n     \"<li>use INLINE resources instead, as so:</li>\\n\"+\n     \"</ul>\\n\"+\n     \"<code>\\n\"+\n     \"from bokeh.resources import INLINE\\n\"+\n     \"output_notebook(resources=INLINE)\\n\"+\n     \"</code>\\n\"+\n     \"</div>\"}};\n\n  function display_loaded() {\n    var el = document.getElementById(\"1001\");\n    if (el != null) {\n      el.textContent = \"BokehJS is loading...\";\n    }\n    if (root.Bokeh !== undefined) {\n      if (el != null) {\n        el.textContent = \"BokehJS \" + root.Bokeh.version + \" successfully loaded.\";\n      }\n    } else if (Date.now() < root._bokeh_timeout) {\n      setTimeout(display_loaded, 100)\n    }\n  }\n\n\n  function run_callbacks() {\n    try {\n      root._bokeh_onload_callbacks.forEach(function(callback) {\n        if (callback != null)\n          callback();\n      });\n    } finally {\n      delete root._bokeh_onload_callbacks\n    }\n    console.debug(\"Bokeh: all callbacks have finished\");\n  }\n\n  function load_libs(css_urls, js_urls, callback) {\n    if (css_urls == null) css_urls = [];\n    if (js_urls == null) js_urls = [];\n\n    root._bokeh_onload_callbacks.push(callback);\n    if (root._bokeh_is_loading > 0) {\n      console.debug(\"Bokeh: BokehJS is being loaded, scheduling callback at\", now());\n      return null;\n    }\n    if (js_urls == null || js_urls.length === 0) {\n      run_callbacks();\n      return null;\n    }\n    console.debug(\"Bokeh: BokehJS not loaded, scheduling load and callback at\", now());\n    root._bokeh_is_loading = css_urls.length + js_urls.length;\n\n    function on_load() {\n      root._bokeh_is_loading--;\n      if (root._bokeh_is_loading === 0) {\n        console.debug(\"Bokeh: all BokehJS libraries/stylesheets loaded\");\n        run_callbacks()\n      }\n    }\n\n    function on_error() {\n      console.error(\"failed to load \" + url);\n    }\n\n    for (var i = 0; i < css_urls.length; i++) {\n      var url = css_urls[i];\n      const element = document.createElement(\"link\");\n      element.onload = on_load;\n      element.onerror = on_error;\n      element.rel = \"stylesheet\";\n      element.type = \"text/css\";\n      element.href = url;\n      console.debug(\"Bokeh: injecting link tag for BokehJS stylesheet: \", url);\n      document.body.appendChild(element);\n    }\n\n    const hashes = {\"https://cdn.bokeh.org/bokeh/release/bokeh-2.2.3.min.js\": \"T2yuo9Oe71Cz/I4X9Ac5+gpEa5a8PpJCDlqKYO0CfAuEszu1JrXLl8YugMqYe3sM\", \"https://cdn.bokeh.org/bokeh/release/bokeh-widgets-2.2.3.min.js\": \"98GDGJ0kOMCUMUePhksaQ/GYgB3+NH9h996V88sh3aOiUNX3N+fLXAtry6xctSZ6\", \"https://cdn.bokeh.org/bokeh/release/bokeh-tables-2.2.3.min.js\": \"89bArO+nlbP3sgakeHjCo1JYxYR5wufVgA3IbUvDY+K7w4zyxJqssu7wVnfeKCq8\"};\n\n    for (var i = 0; i < js_urls.length; i++) {\n      var url = js_urls[i];\n      var element = document.createElement('script');\n      element.onload = on_load;\n      element.onerror = on_error;\n      element.async = false;\n      element.src = url;\n      if (url in hashes) {\n        element.crossOrigin = \"anonymous\";\n        element.integrity = \"sha384-\" + hashes[url];\n      }\n      console.debug(\"Bokeh: injecting script tag for BokehJS library: \", url);\n      document.head.appendChild(element);\n    }\n  };\n\n  function inject_raw_css(css) {\n    const element = document.createElement(\"style\");\n    element.appendChild(document.createTextNode(css));\n    document.body.appendChild(element);\n  }\n\n  \n  var js_urls = [\"https://cdn.bokeh.org/bokeh/release/bokeh-2.2.3.min.js\", \"https://cdn.bokeh.org/bokeh/release/bokeh-widgets-2.2.3.min.js\", \"https://cdn.bokeh.org/bokeh/release/bokeh-tables-2.2.3.min.js\"];\n  var css_urls = [];\n  \n\n  var inline_js = [\n    function(Bokeh) {\n      Bokeh.set_log_level(\"info\");\n    },\n    function(Bokeh) {\n    \n    \n    }\n  ];\n\n  function run_inline_js() {\n    \n    if (root.Bokeh !== undefined || force === true) {\n      \n    for (var i = 0; i < inline_js.length; i++) {\n      inline_js[i].call(root, root.Bokeh);\n    }\n    if (force === true) {\n        display_loaded();\n      }} else if (Date.now() < root._bokeh_timeout) {\n      setTimeout(run_inline_js, 100);\n    } else if (!root._bokeh_failed_load) {\n      console.log(\"Bokeh: BokehJS failed to load within specified timeout.\");\n      root._bokeh_failed_load = true;\n    } else if (force !== true) {\n      var cell = $(document.getElementById(\"1001\")).parents('.cell').data().cell;\n      cell.output_area.append_execute_result(NB_LOAD_WARNING)\n    }\n\n  }\n\n  if (root._bokeh_is_loading === 0) {\n    console.debug(\"Bokeh: BokehJS loaded, going straight to plotting\");\n    run_inline_js();\n  } else {\n    load_libs(css_urls, js_urls, function() {\n      console.debug(\"Bokeh: BokehJS plotting callback run at\", now());\n      run_inline_js();\n    });\n  }\n}(window));"
     },
     "metadata": {},
     "output_type": "display_data"
    }
   ],
   "source": [
    "import random\n",
    "import math\n",
    "import numpy as np\n",
    "from bokeh.io import output_notebook\n",
    "from bokeh.plotting import figure, show\n",
    "from bokeh.layouts import row\n",
    "from bokeh.models import Legend, LegendItem\n",
    "\n",
    "\n",
    "output_notebook()\n",
    "\n",
    "def muestra_gen(muestra_tam, distribucion_gen, *distribucion_args):\n",
    "    \"\"\"\n",
    "    muestra_tam: Tamaño de la muestra\n",
    "    distribucion_gen: Generador de una distribución, ej: exponencial_gen\n",
    "    distribucion_args: Argumentos necesarios para la distribución, ej: 0.5\n",
    "    \"\"\"\n",
    "    muestra = []\n",
    "    for i in range(muestra_tam):\n",
    "        valor = distribucion_gen(*distribucion_args)\n",
    "        muestra.append(valor)\n",
    "\n",
    "    return muestra\n",
    "\n",
    "def crear_histograma(muestra, ancho_de_banda = 0):\n",
    "    \"\"\"\n",
    "    A partir de una muestra, devuelve una histograma de bokeh\n",
    "    El ancho de banda es opcional\n",
    "    \"\"\"\n",
    "    if ancho_de_banda == 0:\n",
    "        hist, edges = np.histogram(muestra, density=True)\n",
    "    else:\n",
    "        hist, edges = np.histogram(muestra, density=True, bins=math.floor((max(muestra) - min(muestra)) / ancho_de_banda))\n",
    "\n",
    "    p = figure()\n",
    "    p.quad(top=hist, bottom=0, left=edges[:-1], right=edges[1:], line_color=\"white\")\n",
    "    return p\n",
    "\n",
    "def agregar_media(histograma, media):\n",
    "    histograma.ray(x=[media], y=[0], length=0, angle=(np.pi) / 2, line_width=3, line_color=\"red\", legend_label=\"x̄ = \" + str(media))\n",
    "    return histograma\n",
    "    "
   ]
  },
  {
   "cell_type": "markdown",
   "metadata": {},
   "source": [
    "## Parte 1: Simulación<a class=\"anchor\" id=\"parte_1\"></a>"
   ]
  },
  {
   "cell_type": "markdown",
   "metadata": {},
   "source": [
    "### 1) Generador Bernoulli<a class=\"anchor\" id=\"p_1_1\"></a>"
   ]
  },
  {
   "cell_type": "code",
   "execution_count": 2,
   "metadata": {},
   "outputs": [],
   "source": [
    "def bernoulli_gen(p):\n",
    "    uniforme = random.uniform(0, 1)\n",
    "    if uniforme < p:\n",
    "        return 1\n",
    "    else:\n",
    "        return 0"
   ]
  },
  {
   "cell_type": "code",
   "execution_count": 3,
   "metadata": {},
   "outputs": [
    {
     "data": {
      "text/plain": [
       "1"
      ]
     },
     "execution_count": 3,
     "metadata": {},
     "output_type": "execute_result"
    }
   ],
   "source": [
    "bernoulli_gen(0.75)"
   ]
  },
  {
   "cell_type": "markdown",
   "metadata": {},
   "source": [
    "### 2) Generador Binomial<a class=\"anchor\" id=\"p_1_2\"></a>"
   ]
  },
  {
   "cell_type": "code",
   "execution_count": 4,
   "metadata": {},
   "outputs": [],
   "source": [
    "def binomial_gen(n, p):\n",
    "    exitos = 0\n",
    "    for i in range(n):\n",
    "        exitos += bernoulli_gen(p)\n",
    "\n",
    "    return exitos"
   ]
  },
  {
   "cell_type": "code",
   "execution_count": 5,
   "metadata": {},
   "outputs": [
    {
     "data": {
      "text/plain": [
       "7"
      ]
     },
     "execution_count": 5,
     "metadata": {},
     "output_type": "execute_result"
    }
   ],
   "source": [
    "binomial_gen(10, 0.5)"
   ]
  },
  {
   "cell_type": "markdown",
   "metadata": {},
   "source": [
    "### 3) Generador Exponencial<a class=\"anchor\" id=\"p_1_3\"></a>"
   ]
  },
  {
   "cell_type": "code",
   "execution_count": 6,
   "metadata": {},
   "outputs": [],
   "source": [
    "def exponencial_gen(λ):\n",
    "    \"\"\"\n",
    "    Utilizamos el método de la función inversa\n",
    "    \"\"\"\n",
    "    uniforme = random.uniform(0, 1)\n",
    "    \n",
    "    exponencial = - (1 / λ) * math.log(uniforme)\n",
    "\n",
    "    return exponencial"
   ]
  },
  {
   "cell_type": "code",
   "execution_count": 7,
   "metadata": {},
   "outputs": [
    {
     "data": {
      "text/plain": [
       "0.9048601736211248"
      ]
     },
     "execution_count": 7,
     "metadata": {},
     "output_type": "execute_result"
    }
   ],
   "source": [
    "exponencial_gen(3)"
   ]
  },
  {
   "cell_type": "markdown",
   "metadata": {},
   "source": [
    "### 4) Generador Normal (y Normal Estándar)<a class=\"anchor\" id=\"p_1_4\"></a>"
   ]
  },
  {
   "cell_type": "code",
   "execution_count": 8,
   "metadata": {},
   "outputs": [],
   "source": [
    "def std_normal_gen():\n",
    "    \"\"\"\n",
    "    Utilizamos el método de Box-Muller\n",
    "    \"\"\"\n",
    "    uniforme_U = random.uniform(0, 1)\n",
    "    uniforme_V = random.uniform(0, 1)\n",
    "\n",
    "    std_normal = math.sqrt(-2 * math.log(uniforme_U)) * math.cos(2 * math.pi * uniforme_V)\n",
    "    \n",
    "    return std_normal"
   ]
  },
  {
   "cell_type": "code",
   "execution_count": 9,
   "metadata": {},
   "outputs": [
    {
     "data": {
      "text/plain": [
       "0.8214923167777632"
      ]
     },
     "execution_count": 9,
     "metadata": {},
     "output_type": "execute_result"
    }
   ],
   "source": [
    "std_normal_gen()"
   ]
  },
  {
   "cell_type": "code",
   "execution_count": 10,
   "metadata": {},
   "outputs": [],
   "source": [
    "def normal_gen(μ = 0, σ_2 = 1):\n",
    "    σ = math.sqrt(σ_2)\n",
    "    normal = std_normal_gen() * σ + μ\n",
    "\n",
    "    return normal"
   ]
  },
  {
   "cell_type": "code",
   "execution_count": 11,
   "metadata": {},
   "outputs": [
    {
     "data": {
      "text/plain": [
       "1.0691950668708032"
      ]
     },
     "execution_count": 11,
     "metadata": {},
     "output_type": "execute_result"
    }
   ],
   "source": [
    "normal_gen(1, 1)"
   ]
  },
  {
   "cell_type": "markdown",
   "metadata": {},
   "source": [
    "## Parte 2: Estadística descriptiva<a class=\"anchor\" id=\"parte_2\"></a>"
   ]
  },
  {
   "cell_type": "markdown",
   "metadata": {},
   "source": [
    "### 3) Muestra n=50 Bin(10, 0.3) y función de distribución empírica<a class=\"anchor\" id=\"p_2_3\"></a>"
   ]
  },
  {
   "cell_type": "code",
   "execution_count": 12,
   "metadata": {},
   "outputs": [
    {
     "data": {
      "text/plain": [
       "0.42"
      ]
     },
     "execution_count": 12,
     "metadata": {},
     "output_type": "execute_result"
    }
   ],
   "source": [
    "muestra_bin = muestra_gen(50, binomial_gen, 10, 0.3)\n",
    "\n",
    "def fde(muestra, x):\n",
    "    muestra_ordenada = np.sort(muestra)\n",
    "    N = len(muestra)\n",
    "    return np.searchsorted(muestra_ordenada, x) / N\n",
    "\n",
    "fde(muestra_bin, 3)"
   ]
  },
  {
   "cell_type": "markdown",
   "metadata": {},
   "source": [
    "### 4) Nueva muestra a partir de la función de distribución empírica. Media y varianza muestral<a class=\"anchor\" id=\"p_2_4\"></a>"
   ]
  },
  {
   "cell_type": "code",
   "execution_count": 13,
   "metadata": {},
   "outputs": [
    {
     "name": "stdout",
     "output_type": "stream",
     "text": [
      "Media Muestral Bin(10, 0.3):  2.98\n",
      "Media Muestral FDE(Bin(10, 0.3)):  0.405\n",
      "Varianza Muestral Bin(10, 0.3):  2.265\n",
      "Varianza Muestral FDE(Bin(10, 0.3)):  0.09\n"
     ]
    },
    {
     "data": {
      "text/html": [
       "\n",
       "\n",
       "\n",
       "\n",
       "\n",
       "\n",
       "  <div class=\"bk-root\" id=\"992755c8-c136-4aac-a229-94440384385b\" data-root-id=\"1110\"></div>\n"
      ]
     },
     "metadata": {},
     "output_type": "display_data"
    },
    {
     "data": {
      "application/javascript": [
       "(function(root) {\n",
       "  function embed_document(root) {\n",
       "    \n",
       "  var docs_json = {\"7b9a585d-b27b-47c6-8a81-e067722453e7\":{\"roots\":{\"references\":[{\"attributes\":{\"children\":[{\"id\":\"1002\"},{\"id\":\"1056\"}],\"sizing_mode\":\"scale_both\"},\"id\":\"1110\",\"type\":\"Row\"},{\"attributes\":{\"axis\":{\"id\":\"1011\"},\"ticker\":null},\"id\":\"1014\",\"type\":\"Grid\"},{\"attributes\":{\"active_drag\":\"auto\",\"active_inspect\":\"auto\",\"active_multi\":null,\"active_scroll\":\"auto\",\"active_tap\":\"auto\",\"tools\":[{\"id\":\"1073\"},{\"id\":\"1074\"},{\"id\":\"1075\"},{\"id\":\"1076\"},{\"id\":\"1077\"},{\"id\":\"1078\"}]},\"id\":\"1080\",\"type\":\"Toolbar\"},{\"attributes\":{\"angle\":{\"units\":\"rad\",\"value\":1.5707963267948966},\"length\":{\"units\":\"data\",\"value\":0},\"line_alpha\":{\"value\":0.1},\"line_color\":{\"value\":\"red\"},\"line_width\":{\"value\":3},\"x\":{\"field\":\"x\"},\"y\":{\"field\":\"y\"}},\"id\":\"1040\",\"type\":\"Ray\"},{\"attributes\":{\"angle\":{\"units\":\"rad\",\"value\":1.5707963267948966},\"length\":{\"units\":\"data\",\"value\":0},\"line_color\":{\"value\":\"red\"},\"line_width\":{\"value\":3},\"x\":{\"field\":\"x\"},\"y\":{\"field\":\"y\"}},\"id\":\"1039\",\"type\":\"Ray\"},{\"attributes\":{\"bottom\":{\"value\":0},\"fill_color\":{\"value\":\"#1f77b4\"},\"left\":{\"field\":\"left\"},\"line_color\":{\"value\":\"white\"},\"right\":{\"field\":\"right\"},\"top\":{\"field\":\"top\"}},\"id\":\"1034\",\"type\":\"Quad\"},{\"attributes\":{\"data_source\":{\"id\":\"1087\"},\"glyph\":{\"id\":\"1088\"},\"hover_glyph\":null,\"muted_glyph\":null,\"nonselection_glyph\":{\"id\":\"1089\"},\"selection_glyph\":null,\"view\":{\"id\":\"1091\"}},\"id\":\"1090\",\"type\":\"GlyphRenderer\"},{\"attributes\":{\"bottom_units\":\"screen\",\"fill_alpha\":0.5,\"fill_color\":\"lightgrey\",\"left_units\":\"screen\",\"level\":\"overlay\",\"line_alpha\":1.0,\"line_color\":\"black\",\"line_dash\":[4,4],\"line_width\":2,\"right_units\":\"screen\",\"top_units\":\"screen\"},\"id\":\"1079\",\"type\":\"BoxAnnotation\"},{\"attributes\":{},\"id\":\"1019\",\"type\":\"PanTool\"},{\"attributes\":{},\"id\":\"1012\",\"type\":\"BasicTicker\"},{\"attributes\":{\"source\":{\"id\":\"1087\"}},\"id\":\"1091\",\"type\":\"CDSView\"},{\"attributes\":{},\"id\":\"1016\",\"type\":\"BasicTicker\"},{\"attributes\":{},\"id\":\"1045\",\"type\":\"BasicTickFormatter\"},{\"attributes\":{\"data_source\":{\"id\":\"1092\"},\"glyph\":{\"id\":\"1093\"},\"hover_glyph\":null,\"muted_glyph\":null,\"nonselection_glyph\":{\"id\":\"1094\"},\"selection_glyph\":null,\"view\":{\"id\":\"1096\"}},\"id\":\"1095\",\"type\":\"GlyphRenderer\"},{\"attributes\":{\"axis\":{\"id\":\"1015\"},\"dimension\":1,\"ticker\":null},\"id\":\"1018\",\"type\":\"Grid\"},{\"attributes\":{\"source\":{\"id\":\"1033\"}},\"id\":\"1037\",\"type\":\"CDSView\"},{\"attributes\":{\"data_source\":{\"id\":\"1033\"},\"glyph\":{\"id\":\"1034\"},\"hover_glyph\":null,\"muted_glyph\":null,\"nonselection_glyph\":{\"id\":\"1035\"},\"selection_glyph\":null,\"view\":{\"id\":\"1037\"}},\"id\":\"1036\",\"type\":\"GlyphRenderer\"},{\"attributes\":{\"angle\":{\"units\":\"rad\",\"value\":1.5707963267948966},\"length\":{\"units\":\"data\",\"value\":0},\"line_alpha\":{\"value\":0.1},\"line_color\":{\"value\":\"red\"},\"line_width\":{\"value\":3},\"x\":{\"field\":\"x\"},\"y\":{\"field\":\"y\"}},\"id\":\"1094\",\"type\":\"Ray\"},{\"attributes\":{\"formatter\":{\"id\":\"1047\"},\"ticker\":{\"id\":\"1016\"}},\"id\":\"1015\",\"type\":\"LinearAxis\"},{\"attributes\":{\"overlay\":{\"id\":\"1025\"}},\"id\":\"1021\",\"type\":\"BoxZoomTool\"},{\"attributes\":{\"angle\":{\"units\":\"rad\",\"value\":1.5707963267948966},\"length\":{\"units\":\"data\",\"value\":0},\"line_color\":{\"value\":\"red\"},\"line_width\":{\"value\":3},\"x\":{\"field\":\"x\"},\"y\":{\"field\":\"y\"}},\"id\":\"1093\",\"type\":\"Ray\"},{\"attributes\":{\"items\":[{\"id\":\"1109\"}]},\"id\":\"1108\",\"type\":\"Legend\"},{\"attributes\":{\"text\":\"\"},\"id\":\"1097\",\"type\":\"Title\"},{\"attributes\":{\"source\":{\"id\":\"1092\"}},\"id\":\"1096\",\"type\":\"CDSView\"},{\"attributes\":{\"formatter\":{\"id\":\"1045\"},\"ticker\":{\"id\":\"1012\"}},\"id\":\"1011\",\"type\":\"LinearAxis\"},{\"attributes\":{},\"id\":\"1099\",\"type\":\"BasicTickFormatter\"},{\"attributes\":{},\"id\":\"1106\",\"type\":\"Selection\"},{\"attributes\":{\"data\":{\"left\":{\"__ndarray__\":\"AAAAAAAAAAAzMzMzMzPjPzMzMzMzM/M/zMzMzMzM/D8zMzMzMzMDQAAAAAAAAAhAzMzMzMzMDEDNzMzMzMwQQDMzMzMzMxNAmZmZmZmZFUA=\",\"dtype\":\"float64\",\"order\":\"little\",\"shape\":[10]},\"right\":{\"__ndarray__\":\"MzMzMzMz4z8zMzMzMzPzP8zMzMzMzPw/MzMzMzMzA0AAAAAAAAAIQMzMzMzMzAxAzczMzMzMEEAzMzMzMzMTQJmZmZmZmRVAAAAAAAAAGEA=\",\"dtype\":\"float64\",\"order\":\"little\",\"shape\":[10]},\"top\":{\"__ndarray__\":\"ERERERERoT/f3d3d3d3NPwAAAAAAAAAAu7u7u7u72z8AAAAAAAAAAJ2ZmZmZmdk/LzMzMzMz0z8AAAAAAAAAABQREREREcE/DRERERERwT8=\",\"dtype\":\"float64\",\"order\":\"little\",\"shape\":[10]}},\"selected\":{\"id\":\"1050\"},\"selection_policy\":{\"id\":\"1049\"}},\"id\":\"1033\",\"type\":\"ColumnDataSource\"},{\"attributes\":{},\"id\":\"1050\",\"type\":\"Selection\"},{\"attributes\":{\"below\":[{\"id\":\"1065\"}],\"center\":[{\"id\":\"1068\"},{\"id\":\"1072\"},{\"id\":\"1108\"}],\"left\":[{\"id\":\"1069\"}],\"renderers\":[{\"id\":\"1090\"},{\"id\":\"1095\"}],\"sizing_mode\":\"scale_both\",\"title\":{\"id\":\"1097\"},\"toolbar\":{\"id\":\"1080\"},\"x_range\":{\"id\":\"1057\"},\"x_scale\":{\"id\":\"1061\"},\"y_range\":{\"id\":\"1059\"},\"y_scale\":{\"id\":\"1063\"}},\"id\":\"1056\",\"subtype\":\"Figure\",\"type\":\"Plot\"},{\"attributes\":{\"label\":{\"value\":\"x\\u0304 = 0.405\"},\"renderers\":[{\"id\":\"1095\"}]},\"id\":\"1109\",\"type\":\"LegendItem\"},{\"attributes\":{},\"id\":\"1009\",\"type\":\"LinearScale\"},{\"attributes\":{\"bottom\":{\"value\":0},\"fill_alpha\":{\"value\":0.1},\"fill_color\":{\"value\":\"#1f77b4\"},\"left\":{\"field\":\"left\"},\"line_alpha\":{\"value\":0.1},\"line_color\":{\"value\":\"white\"},\"right\":{\"field\":\"right\"},\"top\":{\"field\":\"top\"}},\"id\":\"1035\",\"type\":\"Quad\"},{\"attributes\":{},\"id\":\"1049\",\"type\":\"UnionRenderers\"},{\"attributes\":{},\"id\":\"1007\",\"type\":\"LinearScale\"},{\"attributes\":{},\"id\":\"1005\",\"type\":\"DataRange1d\"},{\"attributes\":{},\"id\":\"1003\",\"type\":\"DataRange1d\"},{\"attributes\":{},\"id\":\"1051\",\"type\":\"UnionRenderers\"},{\"attributes\":{},\"id\":\"1020\",\"type\":\"WheelZoomTool\"},{\"attributes\":{\"data\":{\"x\":[2.98],\"y\":[0]},\"selected\":{\"id\":\"1052\"},\"selection_policy\":{\"id\":\"1051\"}},\"id\":\"1038\",\"type\":\"ColumnDataSource\"},{\"attributes\":{},\"id\":\"1047\",\"type\":\"BasicTickFormatter\"},{\"attributes\":{\"bottom_units\":\"screen\",\"fill_alpha\":0.5,\"fill_color\":\"lightgrey\",\"left_units\":\"screen\",\"level\":\"overlay\",\"line_alpha\":1.0,\"line_color\":\"black\",\"line_dash\":[4,4],\"line_width\":2,\"right_units\":\"screen\",\"top_units\":\"screen\"},\"id\":\"1025\",\"type\":\"BoxAnnotation\"},{\"attributes\":{\"items\":[{\"id\":\"1055\"}]},\"id\":\"1054\",\"type\":\"Legend\"},{\"attributes\":{\"data_source\":{\"id\":\"1038\"},\"glyph\":{\"id\":\"1039\"},\"hover_glyph\":null,\"muted_glyph\":null,\"nonselection_glyph\":{\"id\":\"1040\"},\"selection_glyph\":null,\"view\":{\"id\":\"1042\"}},\"id\":\"1041\",\"type\":\"GlyphRenderer\"},{\"attributes\":{\"data\":{\"left\":{\"__ndarray__\":\"AAAAAAAAAABaZDvfT423P1pkO99Pjcc/RIts5/up0T9aZDvfT43XP3A9CtejcN0/RIts5/up4T/P91PjpZvkP1pkO99Pjec/5dAi2/l+6j8=\",\"dtype\":\"float64\",\"order\":\"little\",\"shape\":[10]},\"right\":{\"__ndarray__\":\"WmQ730+Ntz9aZDvfT43HP0SLbOf7qdE/WmQ730+N1z9wPQrXo3DdP0SLbOf7qeE/z/dT46Wb5D9aZDvfT43nP+XQItv5fuo/cT0K16Nw7T8=\",\"dtype\":\"float64\",\"order\":\"little\",\"shape\":[10]},\"top\":{\"__ndarray__\":\"velNb3rT+z/qTW9605sGQAAAAAAAAAAAAAAAAAAAAABPb3rTm94EQAAAAAAAAAAAAAAAAAAAAAD3pje96U3/PwAAAAAAAAAAtulNb3rT+z8=\",\"dtype\":\"float64\",\"order\":\"little\",\"shape\":[10]}},\"selected\":{\"id\":\"1104\"},\"selection_policy\":{\"id\":\"1103\"}},\"id\":\"1087\",\"type\":\"ColumnDataSource\"},{\"attributes\":{},\"id\":\"1024\",\"type\":\"HelpTool\"},{\"attributes\":{},\"id\":\"1022\",\"type\":\"SaveTool\"},{\"attributes\":{},\"id\":\"1052\",\"type\":\"Selection\"},{\"attributes\":{\"data\":{\"x\":[0.405],\"y\":[0]},\"selected\":{\"id\":\"1106\"},\"selection_policy\":{\"id\":\"1105\"}},\"id\":\"1092\",\"type\":\"ColumnDataSource\"},{\"attributes\":{},\"id\":\"1057\",\"type\":\"DataRange1d\"},{\"attributes\":{\"active_drag\":\"auto\",\"active_inspect\":\"auto\",\"active_multi\":null,\"active_scroll\":\"auto\",\"active_tap\":\"auto\",\"tools\":[{\"id\":\"1019\"},{\"id\":\"1020\"},{\"id\":\"1021\"},{\"id\":\"1022\"},{\"id\":\"1023\"},{\"id\":\"1024\"}]},\"id\":\"1026\",\"type\":\"Toolbar\"},{\"attributes\":{\"bottom\":{\"value\":0},\"fill_color\":{\"value\":\"#1f77b4\"},\"left\":{\"field\":\"left\"},\"line_color\":{\"value\":\"white\"},\"right\":{\"field\":\"right\"},\"top\":{\"field\":\"top\"}},\"id\":\"1088\",\"type\":\"Quad\"},{\"attributes\":{},\"id\":\"1059\",\"type\":\"DataRange1d\"},{\"attributes\":{\"formatter\":{\"id\":\"1101\"},\"ticker\":{\"id\":\"1070\"}},\"id\":\"1069\",\"type\":\"LinearAxis\"},{\"attributes\":{\"label\":{\"value\":\"x\\u0304 = 2.98\"},\"renderers\":[{\"id\":\"1041\"}]},\"id\":\"1055\",\"type\":\"LegendItem\"},{\"attributes\":{\"formatter\":{\"id\":\"1099\"},\"ticker\":{\"id\":\"1066\"}},\"id\":\"1065\",\"type\":\"LinearAxis\"},{\"attributes\":{\"axis\":{\"id\":\"1069\"},\"dimension\":1,\"ticker\":null},\"id\":\"1072\",\"type\":\"Grid\"},{\"attributes\":{\"below\":[{\"id\":\"1011\"}],\"center\":[{\"id\":\"1014\"},{\"id\":\"1018\"},{\"id\":\"1054\"}],\"left\":[{\"id\":\"1015\"}],\"renderers\":[{\"id\":\"1036\"},{\"id\":\"1041\"}],\"sizing_mode\":\"scale_both\",\"title\":{\"id\":\"1043\"},\"toolbar\":{\"id\":\"1026\"},\"x_range\":{\"id\":\"1003\"},\"x_scale\":{\"id\":\"1007\"},\"y_range\":{\"id\":\"1005\"},\"y_scale\":{\"id\":\"1009\"}},\"id\":\"1002\",\"subtype\":\"Figure\",\"type\":\"Plot\"},{\"attributes\":{},\"id\":\"1061\",\"type\":\"LinearScale\"},{\"attributes\":{\"bottom\":{\"value\":0},\"fill_alpha\":{\"value\":0.1},\"fill_color\":{\"value\":\"#1f77b4\"},\"left\":{\"field\":\"left\"},\"line_alpha\":{\"value\":0.1},\"line_color\":{\"value\":\"white\"},\"right\":{\"field\":\"right\"},\"top\":{\"field\":\"top\"}},\"id\":\"1089\",\"type\":\"Quad\"},{\"attributes\":{\"axis\":{\"id\":\"1065\"},\"ticker\":null},\"id\":\"1068\",\"type\":\"Grid\"},{\"attributes\":{\"source\":{\"id\":\"1038\"}},\"id\":\"1042\",\"type\":\"CDSView\"},{\"attributes\":{\"text\":\"\"},\"id\":\"1043\",\"type\":\"Title\"},{\"attributes\":{},\"id\":\"1104\",\"type\":\"Selection\"},{\"attributes\":{},\"id\":\"1070\",\"type\":\"BasicTicker\"},{\"attributes\":{},\"id\":\"1073\",\"type\":\"PanTool\"},{\"attributes\":{},\"id\":\"1077\",\"type\":\"ResetTool\"},{\"attributes\":{},\"id\":\"1074\",\"type\":\"WheelZoomTool\"},{\"attributes\":{\"overlay\":{\"id\":\"1079\"}},\"id\":\"1075\",\"type\":\"BoxZoomTool\"},{\"attributes\":{},\"id\":\"1076\",\"type\":\"SaveTool\"},{\"attributes\":{},\"id\":\"1023\",\"type\":\"ResetTool\"},{\"attributes\":{},\"id\":\"1078\",\"type\":\"HelpTool\"},{\"attributes\":{},\"id\":\"1066\",\"type\":\"BasicTicker\"},{\"attributes\":{},\"id\":\"1063\",\"type\":\"LinearScale\"},{\"attributes\":{},\"id\":\"1103\",\"type\":\"UnionRenderers\"},{\"attributes\":{},\"id\":\"1105\",\"type\":\"UnionRenderers\"},{\"attributes\":{},\"id\":\"1101\",\"type\":\"BasicTickFormatter\"}],\"root_ids\":[\"1110\"]},\"title\":\"Bokeh Application\",\"version\":\"2.2.3\"}};\n",
       "  var render_items = [{\"docid\":\"7b9a585d-b27b-47c6-8a81-e067722453e7\",\"root_ids\":[\"1110\"],\"roots\":{\"1110\":\"992755c8-c136-4aac-a229-94440384385b\"}}];\n",
       "  root.Bokeh.embed.embed_items_notebook(docs_json, render_items);\n",
       "\n",
       "  }\n",
       "  if (root.Bokeh !== undefined) {\n",
       "    embed_document(root);\n",
       "  } else {\n",
       "    var attempts = 0;\n",
       "    var timer = setInterval(function(root) {\n",
       "      if (root.Bokeh !== undefined) {\n",
       "        clearInterval(timer);\n",
       "        embed_document(root);\n",
       "      } else {\n",
       "        attempts++;\n",
       "        if (attempts > 100) {\n",
       "          clearInterval(timer);\n",
       "          console.log(\"Bokeh: ERROR: Unable to run BokehJS code because BokehJS library is missing\");\n",
       "        }\n",
       "      }\n",
       "    }, 10, root)\n",
       "  }\n",
       "})(window);"
      ],
      "application/vnd.bokehjs_exec.v0+json": ""
     },
     "metadata": {
      "application/vnd.bokehjs_exec.v0+json": {
       "id": "1110"
      }
     },
     "output_type": "display_data"
    }
   ],
   "source": [
    "def muestra_fde(muestra):\n",
    "    muestra_fde = []\n",
    "    for i in muestra_bin:\n",
    "        v = fde(muestra_bin, i)\n",
    "        muestra_fde.append(v)\n",
    "    return muestra_fde\n",
    "\n",
    "muestra_fde_bin = muestra_fde(muestra_bin)\n",
    "    \n",
    "def media_muestral(muestra):\n",
    "    return sum(muestra) / len(muestra)\n",
    "\n",
    "def varianza_muestral(muestra):\n",
    "    media = media_muestral(muestra)\n",
    "    return sum([(x - media) ** 2 for x in muestra]) / (len(muestra) - 1)\n",
    "\n",
    "media_muestral_bin = round(media_muestral(muestra_bin), 3)\n",
    "media_muestral_fde_bin = round(media_muestral(muestra_fde_bin), 3)\n",
    "varianza_muestral_bin = round(varianza_muestral(muestra_bin), 3)\n",
    "varianza_muestral_fde_bin = round(varianza_muestral(muestra_fde_bin), 3)\n",
    "\n",
    "print(\"Media Muestral Bin(10, 0.3): \", media_muestral_bin)\n",
    "print(\"Media Muestral FDE(Bin(10, 0.3)): \", media_muestral_fde_bin)\n",
    "\n",
    "print(\"Varianza Muestral Bin(10, 0.3): \", varianza_muestral_bin)\n",
    "print(\"Varianza Muestral FDE(Bin(10, 0.3)): \", varianza_muestral_fde_bin)\n",
    "\n",
    "hist1 = crear_histograma(muestra_bin)\n",
    "agregar_media(hist1, media_muestral_bin)\n",
    "\n",
    "hist2 = crear_histograma(muestra_fde_bin)\n",
    "agregar_media(hist2, media_muestral_fde_bin)\n",
    "\n",
    "show(row(hist1, hist2, sizing_mode='scale_both'))"
   ]
  },
  {
   "cell_type": "markdown",
   "metadata": {},
   "source": [
    "### 5) Repetición del experimento<a class=\"anchor\" id=\"p_2_5\"></a>"
   ]
  },
  {
   "cell_type": "code",
   "execution_count": 14,
   "metadata": {},
   "outputs": [
    {
     "name": "stdout",
     "output_type": "stream",
     "text": [
      "2 - Media Muestral Bin(10, 0.3):  2.7\n",
      "2 - Media Muestral FDE(Bin(10, 0.3)):  0.399\n",
      "2 - Varianza Muestral Bin(10, 0.3):  2.01\n",
      "2 - Varianza Muestral FDE(Bin(10, 0.3)):  0.081\n"
     ]
    },
    {
     "data": {
      "text/html": [
       "\n",
       "\n",
       "\n",
       "\n",
       "\n",
       "\n",
       "  <div class=\"bk-root\" id=\"1774a46a-e51a-4488-9b23-06008a572513\" data-root-id=\"1351\"></div>\n"
      ]
     },
     "metadata": {},
     "output_type": "display_data"
    },
    {
     "data": {
      "application/javascript": [
       "(function(root) {\n",
       "  function embed_document(root) {\n",
       "    \n",
       "  var docs_json = {\"44c8ddee-c0fb-4a3a-aaea-3937ff2553f8\":{\"roots\":{\"references\":[{\"attributes\":{\"children\":[{\"id\":\"1243\"},{\"id\":\"1297\"}],\"sizing_mode\":\"scale_both\"},\"id\":\"1351\",\"type\":\"Row\"},{\"attributes\":{},\"id\":\"1253\",\"type\":\"BasicTicker\"},{\"attributes\":{},\"id\":\"1315\",\"type\":\"WheelZoomTool\"},{\"attributes\":{},\"id\":\"1318\",\"type\":\"ResetTool\"},{\"attributes\":{\"overlay\":{\"id\":\"1320\"}},\"id\":\"1316\",\"type\":\"BoxZoomTool\"},{\"attributes\":{\"formatter\":{\"id\":\"1286\"},\"ticker\":{\"id\":\"1253\"}},\"id\":\"1252\",\"type\":\"LinearAxis\"},{\"attributes\":{},\"id\":\"1317\",\"type\":\"SaveTool\"},{\"attributes\":{},\"id\":\"1257\",\"type\":\"BasicTicker\"},{\"attributes\":{\"source\":{\"id\":\"1328\"}},\"id\":\"1332\",\"type\":\"CDSView\"},{\"attributes\":{},\"id\":\"1319\",\"type\":\"HelpTool\"},{\"attributes\":{\"axis\":{\"id\":\"1252\"},\"ticker\":null},\"id\":\"1255\",\"type\":\"Grid\"},{\"attributes\":{\"formatter\":{\"id\":\"1288\"},\"ticker\":{\"id\":\"1257\"}},\"id\":\"1256\",\"type\":\"LinearAxis\"},{\"attributes\":{\"bottom\":{\"value\":0},\"fill_color\":{\"value\":\"#1f77b4\"},\"left\":{\"field\":\"left\"},\"line_color\":{\"value\":\"white\"},\"right\":{\"field\":\"right\"},\"top\":{\"field\":\"top\"}},\"id\":\"1275\",\"type\":\"Quad\"},{\"attributes\":{\"axis\":{\"id\":\"1256\"},\"dimension\":1,\"ticker\":null},\"id\":\"1259\",\"type\":\"Grid\"},{\"attributes\":{\"active_drag\":\"auto\",\"active_inspect\":\"auto\",\"active_multi\":null,\"active_scroll\":\"auto\",\"active_tap\":\"auto\",\"tools\":[{\"id\":\"1314\"},{\"id\":\"1315\"},{\"id\":\"1316\"},{\"id\":\"1317\"},{\"id\":\"1318\"},{\"id\":\"1319\"}]},\"id\":\"1321\",\"type\":\"Toolbar\"},{\"attributes\":{},\"id\":\"1260\",\"type\":\"PanTool\"},{\"attributes\":{\"bottom_units\":\"screen\",\"fill_alpha\":0.5,\"fill_color\":\"lightgrey\",\"left_units\":\"screen\",\"level\":\"overlay\",\"line_alpha\":1.0,\"line_color\":\"black\",\"line_dash\":[4,4],\"line_width\":2,\"right_units\":\"screen\",\"top_units\":\"screen\"},\"id\":\"1320\",\"type\":\"BoxAnnotation\"},{\"attributes\":{},\"id\":\"1264\",\"type\":\"ResetTool\"},{\"attributes\":{},\"id\":\"1261\",\"type\":\"WheelZoomTool\"},{\"attributes\":{\"overlay\":{\"id\":\"1266\"}},\"id\":\"1262\",\"type\":\"BoxZoomTool\"},{\"attributes\":{},\"id\":\"1263\",\"type\":\"SaveTool\"},{\"attributes\":{\"data_source\":{\"id\":\"1328\"},\"glyph\":{\"id\":\"1329\"},\"hover_glyph\":null,\"muted_glyph\":null,\"nonselection_glyph\":{\"id\":\"1330\"},\"selection_glyph\":null,\"view\":{\"id\":\"1332\"}},\"id\":\"1331\",\"type\":\"GlyphRenderer\"},{\"attributes\":{\"data_source\":{\"id\":\"1274\"},\"glyph\":{\"id\":\"1275\"},\"hover_glyph\":null,\"muted_glyph\":null,\"nonselection_glyph\":{\"id\":\"1276\"},\"selection_glyph\":null,\"view\":{\"id\":\"1278\"}},\"id\":\"1277\",\"type\":\"GlyphRenderer\"},{\"attributes\":{},\"id\":\"1265\",\"type\":\"HelpTool\"},{\"attributes\":{\"bottom\":{\"value\":0},\"fill_alpha\":{\"value\":0.1},\"fill_color\":{\"value\":\"#1f77b4\"},\"left\":{\"field\":\"left\"},\"line_alpha\":{\"value\":0.1},\"line_color\":{\"value\":\"white\"},\"right\":{\"field\":\"right\"},\"top\":{\"field\":\"top\"}},\"id\":\"1330\",\"type\":\"Quad\"},{\"attributes\":{\"data_source\":{\"id\":\"1333\"},\"glyph\":{\"id\":\"1334\"},\"hover_glyph\":null,\"muted_glyph\":null,\"nonselection_glyph\":{\"id\":\"1335\"},\"selection_glyph\":null,\"view\":{\"id\":\"1337\"}},\"id\":\"1336\",\"type\":\"GlyphRenderer\"},{\"attributes\":{},\"id\":\"1298\",\"type\":\"DataRange1d\"},{\"attributes\":{\"data\":{\"x\":[0.399],\"y\":[0]},\"selected\":{\"id\":\"1347\"},\"selection_policy\":{\"id\":\"1346\"}},\"id\":\"1333\",\"type\":\"ColumnDataSource\"},{\"attributes\":{\"label\":{\"value\":\"x\\u0304 = 2.7\"},\"renderers\":[{\"id\":\"1282\"}]},\"id\":\"1296\",\"type\":\"LegendItem\"},{\"attributes\":{\"angle\":{\"units\":\"rad\",\"value\":1.5707963267948966},\"length\":{\"units\":\"data\",\"value\":0},\"line_alpha\":{\"value\":0.1},\"line_color\":{\"value\":\"red\"},\"line_width\":{\"value\":3},\"x\":{\"field\":\"x\"},\"y\":{\"field\":\"y\"}},\"id\":\"1335\",\"type\":\"Ray\"},{\"attributes\":{\"active_drag\":\"auto\",\"active_inspect\":\"auto\",\"active_multi\":null,\"active_scroll\":\"auto\",\"active_tap\":\"auto\",\"tools\":[{\"id\":\"1260\"},{\"id\":\"1261\"},{\"id\":\"1262\"},{\"id\":\"1263\"},{\"id\":\"1264\"},{\"id\":\"1265\"}]},\"id\":\"1267\",\"type\":\"Toolbar\"},{\"attributes\":{\"angle\":{\"units\":\"rad\",\"value\":1.5707963267948966},\"length\":{\"units\":\"data\",\"value\":0},\"line_color\":{\"value\":\"red\"},\"line_width\":{\"value\":3},\"x\":{\"field\":\"x\"},\"y\":{\"field\":\"y\"}},\"id\":\"1334\",\"type\":\"Ray\"},{\"attributes\":{\"data\":{\"left\":{\"__ndarray__\":\"AAAAAAAAAAD6fmq8dJO4P/p+arx0k8g/PN9PjZdu0j/6fmq8dJPYP7gehetRuN4/PN9PjZdu4j8bL90kBoHlP/p+arx0k+g/2c73U+Ol6z8=\",\"dtype\":\"float64\",\"order\":\"little\",\"shape\":[10]},\"right\":{\"__ndarray__\":\"+n5qvHSTuD/6fmq8dJPIPzzfT42XbtI/+n5qvHST2D+4HoXrUbjePzzfT42XbuI/Gy/dJAaB5T/6fmq8dJPoP9nO91Pjpes/uB6F61G47j8=\",\"dtype\":\"float64\",\"order\":\"little\",\"shape\":[10]},\"top\":{\"__ndarray__\":\"q6qqqqqqAEAAAAAAAAAAAP7//////wNAAAAAAAAAAABXVVVVVVUHQAAAAAAAAAAAAAAAAAAAAACsqqqqqqoAQAAAAAAAAAAAraqqqqqq6j8=\",\"dtype\":\"float64\",\"order\":\"little\",\"shape\":[10]}},\"selected\":{\"id\":\"1345\"},\"selection_policy\":{\"id\":\"1344\"}},\"id\":\"1328\",\"type\":\"ColumnDataSource\"},{\"attributes\":{\"below\":[{\"id\":\"1306\"}],\"center\":[{\"id\":\"1309\"},{\"id\":\"1313\"},{\"id\":\"1349\"}],\"left\":[{\"id\":\"1310\"}],\"renderers\":[{\"id\":\"1331\"},{\"id\":\"1336\"}],\"sizing_mode\":\"scale_both\",\"title\":{\"id\":\"1338\"},\"toolbar\":{\"id\":\"1321\"},\"x_range\":{\"id\":\"1298\"},\"x_scale\":{\"id\":\"1302\"},\"y_range\":{\"id\":\"1300\"},\"y_scale\":{\"id\":\"1304\"}},\"id\":\"1297\",\"subtype\":\"Figure\",\"type\":\"Plot\"},{\"attributes\":{\"bottom_units\":\"screen\",\"fill_alpha\":0.5,\"fill_color\":\"lightgrey\",\"left_units\":\"screen\",\"level\":\"overlay\",\"line_alpha\":1.0,\"line_color\":\"black\",\"line_dash\":[4,4],\"line_width\":2,\"right_units\":\"screen\",\"top_units\":\"screen\"},\"id\":\"1266\",\"type\":\"BoxAnnotation\"},{\"attributes\":{\"data\":{\"x\":[2.7],\"y\":[0]},\"selected\":{\"id\":\"1293\"},\"selection_policy\":{\"id\":\"1292\"}},\"id\":\"1279\",\"type\":\"ColumnDataSource\"},{\"attributes\":{\"text\":\"\"},\"id\":\"1338\",\"type\":\"Title\"},{\"attributes\":{},\"id\":\"1244\",\"type\":\"DataRange1d\"},{\"attributes\":{\"source\":{\"id\":\"1333\"}},\"id\":\"1337\",\"type\":\"CDSView\"},{\"attributes\":{\"data\":{\"left\":{\"__ndarray__\":\"AAAAAAAAAAAzMzMzMzPjPzMzMzMzM/M/zMzMzMzM/D8zMzMzMzMDQAAAAAAAAAhAzMzMzMzMDEDNzMzMzMwQQDMzMzMzMxNAmZmZmZmZFUA=\",\"dtype\":\"float64\",\"order\":\"little\",\"shape\":[10]},\"right\":{\"__ndarray__\":\"MzMzMzMz4z8zMzMzMzPzP8zMzMzMzPw/MzMzMzMzA0AAAAAAAAAIQMzMzMzMzAxAzczMzMzMEEAzMzMzMzMTQJmZmZmZmRVAAAAAAAAAGEA=\",\"dtype\":\"float64\",\"order\":\"little\",\"shape\":[10]},\"top\":{\"__ndarray__\":\"mpmZmZmZuT/f3d3d3d3NPwAAAAAAAAAAmJmZmZmZ2T8AAAAAAAAAAOPd3d3d3d0/UVVVVVVV1T8AAAAAAAAAABQREREREbE/DRERERERsT8=\",\"dtype\":\"float64\",\"order\":\"little\",\"shape\":[10]}},\"selected\":{\"id\":\"1291\"},\"selection_policy\":{\"id\":\"1290\"}},\"id\":\"1274\",\"type\":\"ColumnDataSource\"},{\"attributes\":{},\"id\":\"1248\",\"type\":\"LinearScale\"},{\"attributes\":{},\"id\":\"1340\",\"type\":\"BasicTickFormatter\"},{\"attributes\":{\"source\":{\"id\":\"1274\"}},\"id\":\"1278\",\"type\":\"CDSView\"},{\"attributes\":{},\"id\":\"1345\",\"type\":\"Selection\"},{\"attributes\":{},\"id\":\"1246\",\"type\":\"DataRange1d\"},{\"attributes\":{\"bottom\":{\"value\":0},\"fill_alpha\":{\"value\":0.1},\"fill_color\":{\"value\":\"#1f77b4\"},\"left\":{\"field\":\"left\"},\"line_alpha\":{\"value\":0.1},\"line_color\":{\"value\":\"white\"},\"right\":{\"field\":\"right\"},\"top\":{\"field\":\"top\"}},\"id\":\"1276\",\"type\":\"Quad\"},{\"attributes\":{},\"id\":\"1250\",\"type\":\"LinearScale\"},{\"attributes\":{},\"id\":\"1342\",\"type\":\"BasicTickFormatter\"},{\"attributes\":{},\"id\":\"1344\",\"type\":\"UnionRenderers\"},{\"attributes\":{},\"id\":\"1300\",\"type\":\"DataRange1d\"},{\"attributes\":{},\"id\":\"1346\",\"type\":\"UnionRenderers\"},{\"attributes\":{},\"id\":\"1347\",\"type\":\"Selection\"},{\"attributes\":{\"items\":[{\"id\":\"1350\"}]},\"id\":\"1349\",\"type\":\"Legend\"},{\"attributes\":{\"data_source\":{\"id\":\"1279\"},\"glyph\":{\"id\":\"1280\"},\"hover_glyph\":null,\"muted_glyph\":null,\"nonselection_glyph\":{\"id\":\"1281\"},\"selection_glyph\":null,\"view\":{\"id\":\"1283\"}},\"id\":\"1282\",\"type\":\"GlyphRenderer\"},{\"attributes\":{\"angle\":{\"units\":\"rad\",\"value\":1.5707963267948966},\"length\":{\"units\":\"data\",\"value\":0},\"line_alpha\":{\"value\":0.1},\"line_color\":{\"value\":\"red\"},\"line_width\":{\"value\":3},\"x\":{\"field\":\"x\"},\"y\":{\"field\":\"y\"}},\"id\":\"1281\",\"type\":\"Ray\"},{\"attributes\":{\"label\":{\"value\":\"x\\u0304 = 0.399\"},\"renderers\":[{\"id\":\"1336\"}]},\"id\":\"1350\",\"type\":\"LegendItem\"},{\"attributes\":{\"angle\":{\"units\":\"rad\",\"value\":1.5707963267948966},\"length\":{\"units\":\"data\",\"value\":0},\"line_color\":{\"value\":\"red\"},\"line_width\":{\"value\":3},\"x\":{\"field\":\"x\"},\"y\":{\"field\":\"y\"}},\"id\":\"1280\",\"type\":\"Ray\"},{\"attributes\":{},\"id\":\"1291\",\"type\":\"Selection\"},{\"attributes\":{\"source\":{\"id\":\"1279\"}},\"id\":\"1283\",\"type\":\"CDSView\"},{\"attributes\":{\"text\":\"\"},\"id\":\"1284\",\"type\":\"Title\"},{\"attributes\":{},\"id\":\"1286\",\"type\":\"BasicTickFormatter\"},{\"attributes\":{},\"id\":\"1292\",\"type\":\"UnionRenderers\"},{\"attributes\":{},\"id\":\"1288\",\"type\":\"BasicTickFormatter\"},{\"attributes\":{},\"id\":\"1293\",\"type\":\"Selection\"},{\"attributes\":{\"items\":[{\"id\":\"1296\"}]},\"id\":\"1295\",\"type\":\"Legend\"},{\"attributes\":{},\"id\":\"1290\",\"type\":\"UnionRenderers\"},{\"attributes\":{},\"id\":\"1302\",\"type\":\"LinearScale\"},{\"attributes\":{},\"id\":\"1304\",\"type\":\"LinearScale\"},{\"attributes\":{},\"id\":\"1307\",\"type\":\"BasicTicker\"},{\"attributes\":{\"formatter\":{\"id\":\"1340\"},\"ticker\":{\"id\":\"1307\"}},\"id\":\"1306\",\"type\":\"LinearAxis\"},{\"attributes\":{},\"id\":\"1311\",\"type\":\"BasicTicker\"},{\"attributes\":{\"below\":[{\"id\":\"1252\"}],\"center\":[{\"id\":\"1255\"},{\"id\":\"1259\"},{\"id\":\"1295\"}],\"left\":[{\"id\":\"1256\"}],\"renderers\":[{\"id\":\"1277\"},{\"id\":\"1282\"}],\"sizing_mode\":\"scale_both\",\"title\":{\"id\":\"1284\"},\"toolbar\":{\"id\":\"1267\"},\"x_range\":{\"id\":\"1244\"},\"x_scale\":{\"id\":\"1248\"},\"y_range\":{\"id\":\"1246\"},\"y_scale\":{\"id\":\"1250\"}},\"id\":\"1243\",\"subtype\":\"Figure\",\"type\":\"Plot\"},{\"attributes\":{\"axis\":{\"id\":\"1306\"},\"ticker\":null},\"id\":\"1309\",\"type\":\"Grid\"},{\"attributes\":{\"formatter\":{\"id\":\"1342\"},\"ticker\":{\"id\":\"1311\"}},\"id\":\"1310\",\"type\":\"LinearAxis\"},{\"attributes\":{\"bottom\":{\"value\":0},\"fill_color\":{\"value\":\"#1f77b4\"},\"left\":{\"field\":\"left\"},\"line_color\":{\"value\":\"white\"},\"right\":{\"field\":\"right\"},\"top\":{\"field\":\"top\"}},\"id\":\"1329\",\"type\":\"Quad\"},{\"attributes\":{\"axis\":{\"id\":\"1310\"},\"dimension\":1,\"ticker\":null},\"id\":\"1313\",\"type\":\"Grid\"},{\"attributes\":{},\"id\":\"1314\",\"type\":\"PanTool\"}],\"root_ids\":[\"1351\"]},\"title\":\"Bokeh Application\",\"version\":\"2.2.3\"}};\n",
       "  var render_items = [{\"docid\":\"44c8ddee-c0fb-4a3a-aaea-3937ff2553f8\",\"root_ids\":[\"1351\"],\"roots\":{\"1351\":\"1774a46a-e51a-4488-9b23-06008a572513\"}}];\n",
       "  root.Bokeh.embed.embed_items_notebook(docs_json, render_items);\n",
       "\n",
       "  }\n",
       "  if (root.Bokeh !== undefined) {\n",
       "    embed_document(root);\n",
       "  } else {\n",
       "    var attempts = 0;\n",
       "    var timer = setInterval(function(root) {\n",
       "      if (root.Bokeh !== undefined) {\n",
       "        clearInterval(timer);\n",
       "        embed_document(root);\n",
       "      } else {\n",
       "        attempts++;\n",
       "        if (attempts > 100) {\n",
       "          clearInterval(timer);\n",
       "          console.log(\"Bokeh: ERROR: Unable to run BokehJS code because BokehJS library is missing\");\n",
       "        }\n",
       "      }\n",
       "    }, 10, root)\n",
       "  }\n",
       "})(window);"
      ],
      "application/vnd.bokehjs_exec.v0+json": ""
     },
     "metadata": {
      "application/vnd.bokehjs_exec.v0+json": {
       "id": "1351"
      }
     },
     "output_type": "display_data"
    },
    {
     "name": "stdout",
     "output_type": "stream",
     "text": [
      "3 - Media Muestral Bin(10, 0.3):  3.22\n",
      "3 - Media Muestral FDE(Bin(10, 0.3)):  0.375\n",
      "3 - Varianza Muestral Bin(10, 0.3):  1.889\n",
      "3 - Varianza Muestral FDE(Bin(10, 0.3)):  0.099\n"
     ]
    },
    {
     "data": {
      "text/html": [
       "\n",
       "\n",
       "\n",
       "\n",
       "\n",
       "\n",
       "  <div class=\"bk-root\" id=\"0a3915be-9f38-4860-af09-277257731f74\" data-root-id=\"1614\"></div>\n"
      ]
     },
     "metadata": {},
     "output_type": "display_data"
    },
    {
     "data": {
      "application/javascript": [
       "(function(root) {\n",
       "  function embed_document(root) {\n",
       "    \n",
       "  var docs_json = {\"daf8a471-f1e5-4e02-a5f8-958cdf551a65\":{\"roots\":{\"references\":[{\"attributes\":{\"children\":[{\"id\":\"1506\"},{\"id\":\"1560\"}],\"sizing_mode\":\"scale_both\"},\"id\":\"1614\",\"type\":\"Row\"},{\"attributes\":{},\"id\":\"1554\",\"type\":\"Selection\"},{\"attributes\":{\"items\":[{\"id\":\"1559\"}]},\"id\":\"1558\",\"type\":\"Legend\"},{\"attributes\":{},\"id\":\"1603\",\"type\":\"BasicTickFormatter\"},{\"attributes\":{},\"id\":\"1553\",\"type\":\"UnionRenderers\"},{\"attributes\":{},\"id\":\"1556\",\"type\":\"Selection\"},{\"attributes\":{\"text\":\"\"},\"id\":\"1601\",\"type\":\"Title\"},{\"attributes\":{\"data_source\":{\"id\":\"1596\"},\"glyph\":{\"id\":\"1597\"},\"hover_glyph\":null,\"muted_glyph\":null,\"nonselection_glyph\":{\"id\":\"1598\"},\"selection_glyph\":null,\"view\":{\"id\":\"1600\"}},\"id\":\"1599\",\"type\":\"GlyphRenderer\"},{\"attributes\":{\"source\":{\"id\":\"1596\"}},\"id\":\"1600\",\"type\":\"CDSView\"},{\"attributes\":{},\"id\":\"1555\",\"type\":\"UnionRenderers\"},{\"attributes\":{\"bottom\":{\"value\":0},\"fill_color\":{\"value\":\"#1f77b4\"},\"left\":{\"field\":\"left\"},\"line_color\":{\"value\":\"white\"},\"right\":{\"field\":\"right\"},\"top\":{\"field\":\"top\"}},\"id\":\"1592\",\"type\":\"Quad\"},{\"attributes\":{\"label\":{\"value\":\"x\\u0304 = 3.22\"},\"renderers\":[{\"id\":\"1545\"}]},\"id\":\"1559\",\"type\":\"LegendItem\"},{\"attributes\":{},\"id\":\"1528\",\"type\":\"HelpTool\"},{\"attributes\":{},\"id\":\"1567\",\"type\":\"LinearScale\"},{\"attributes\":{\"angle\":{\"units\":\"rad\",\"value\":1.5707963267948966},\"length\":{\"units\":\"data\",\"value\":0},\"line_color\":{\"value\":\"red\"},\"line_width\":{\"value\":3},\"x\":{\"field\":\"x\"},\"y\":{\"field\":\"y\"}},\"id\":\"1543\",\"type\":\"Ray\"},{\"attributes\":{\"axis\":{\"id\":\"1569\"},\"ticker\":null},\"id\":\"1572\",\"type\":\"Grid\"},{\"attributes\":{},\"id\":\"1526\",\"type\":\"SaveTool\"},{\"attributes\":{\"bottom\":{\"value\":0},\"fill_alpha\":{\"value\":0.1},\"fill_color\":{\"value\":\"#1f77b4\"},\"left\":{\"field\":\"left\"},\"line_alpha\":{\"value\":0.1},\"line_color\":{\"value\":\"white\"},\"right\":{\"field\":\"right\"},\"top\":{\"field\":\"top\"}},\"id\":\"1539\",\"type\":\"Quad\"},{\"attributes\":{},\"id\":\"1561\",\"type\":\"DataRange1d\"},{\"attributes\":{\"source\":{\"id\":\"1537\"}},\"id\":\"1541\",\"type\":\"CDSView\"},{\"attributes\":{\"bottom\":{\"value\":0},\"fill_color\":{\"value\":\"#1f77b4\"},\"left\":{\"field\":\"left\"},\"line_color\":{\"value\":\"white\"},\"right\":{\"field\":\"right\"},\"top\":{\"field\":\"top\"}},\"id\":\"1538\",\"type\":\"Quad\"},{\"attributes\":{},\"id\":\"1551\",\"type\":\"BasicTickFormatter\"},{\"attributes\":{},\"id\":\"1570\",\"type\":\"BasicTicker\"},{\"attributes\":{},\"id\":\"1565\",\"type\":\"LinearScale\"},{\"attributes\":{\"data_source\":{\"id\":\"1537\"},\"glyph\":{\"id\":\"1538\"},\"hover_glyph\":null,\"muted_glyph\":null,\"nonselection_glyph\":{\"id\":\"1539\"},\"selection_glyph\":null,\"view\":{\"id\":\"1541\"}},\"id\":\"1540\",\"type\":\"GlyphRenderer\"},{\"attributes\":{},\"id\":\"1527\",\"type\":\"ResetTool\"},{\"attributes\":{},\"id\":\"1524\",\"type\":\"WheelZoomTool\"},{\"attributes\":{\"angle\":{\"units\":\"rad\",\"value\":1.5707963267948966},\"length\":{\"units\":\"data\",\"value\":0},\"line_color\":{\"value\":\"red\"},\"line_width\":{\"value\":3},\"x\":{\"field\":\"x\"},\"y\":{\"field\":\"y\"}},\"id\":\"1597\",\"type\":\"Ray\"},{\"attributes\":{\"angle\":{\"units\":\"rad\",\"value\":1.5707963267948966},\"length\":{\"units\":\"data\",\"value\":0},\"line_alpha\":{\"value\":0.1},\"line_color\":{\"value\":\"red\"},\"line_width\":{\"value\":3},\"x\":{\"field\":\"x\"},\"y\":{\"field\":\"y\"}},\"id\":\"1544\",\"type\":\"Ray\"},{\"attributes\":{\"data\":{\"left\":{\"__ndarray__\":\"AAAAAAAAAABKDAIrhxa5P0oMAiuHFsk/OIlBYOXQ0j9KDAIrhxbZP1yPwvUoXN8/OIlBYOXQ4j/ByqFFtvPlP0oMAiuHFuk/001iEFg57D8=\",\"dtype\":\"float64\",\"order\":\"little\",\"shape\":[10]},\"right\":{\"__ndarray__\":\"SgwCK4cWuT9KDAIrhxbJPziJQWDl0NI/SgwCK4cW2T9cj8L1KFzfPziJQWDl0OI/wcqhRbbz5T9KDAIrhxbpP9NNYhBYOew/XI/C9Shc7z8=\",\"dtype\":\"float64\",\"order\":\"little\",\"shape\":[10]},\"top\":{\"__ndarray__\":\"8XIKXk7BC0AAAAAAAAAAAAAAAAAAAAAAWx8a60NjDUAAAAAAAAAAAAAAAAAAAAAAAAAAAAAAAAAWvJyCl1PwP+cUvJyCl/M/isb60Fgf6j8=\",\"dtype\":\"float64\",\"order\":\"little\",\"shape\":[10]}},\"selected\":{\"id\":\"1608\"},\"selection_policy\":{\"id\":\"1607\"}},\"id\":\"1591\",\"type\":\"ColumnDataSource\"},{\"attributes\":{\"overlay\":{\"id\":\"1529\"}},\"id\":\"1525\",\"type\":\"BoxZoomTool\"},{\"attributes\":{\"data\":{\"x\":[0.375],\"y\":[0]},\"selected\":{\"id\":\"1610\"},\"selection_policy\":{\"id\":\"1609\"}},\"id\":\"1596\",\"type\":\"ColumnDataSource\"},{\"attributes\":{},\"id\":\"1582\",\"type\":\"HelpTool\"},{\"attributes\":{},\"id\":\"1563\",\"type\":\"DataRange1d\"},{\"attributes\":{},\"id\":\"1581\",\"type\":\"ResetTool\"},{\"attributes\":{},\"id\":\"1523\",\"type\":\"PanTool\"},{\"attributes\":{},\"id\":\"1608\",\"type\":\"Selection\"},{\"attributes\":{},\"id\":\"1607\",\"type\":\"UnionRenderers\"},{\"attributes\":{\"data\":{\"left\":{\"__ndarray__\":\"AAAAAAAA8D+amZmZmZn5P5qZmZmZmQFAZmZmZmZmBkAzMzMzMzMLQAAAAAAAABBAZmZmZmZmEkDNzMzMzMwUQDMzMzMzMxdAmZmZmZmZGUA=\",\"dtype\":\"float64\",\"order\":\"little\",\"shape\":[10]},\"right\":{\"__ndarray__\":\"mpmZmZmZ+T+amZmZmZkBQGZmZmZmZgZAMzMzMzMzC0AAAAAAAAAQQGZmZmZmZhJAzczMzMzMFEAzMzMzMzMXQJmZmZmZmRlAAAAAAAAAHEA=\",\"dtype\":\"float64\",\"order\":\"little\",\"shape\":[10]},\"top\":{\"__ndarray__\":\"ERERERERsT/////////fPwAAAAAAAAAAMzMzMzMz4z8AAAAAAAAAAFhVVVVVVcU/k5mZmZmZyT8AAAAAAAAAAJ2ZmZmZmbk/DRERERERoT8=\",\"dtype\":\"float64\",\"order\":\"little\",\"shape\":[10]}},\"selected\":{\"id\":\"1554\"},\"selection_policy\":{\"id\":\"1553\"}},\"id\":\"1537\",\"type\":\"ColumnDataSource\"},{\"attributes\":{\"source\":{\"id\":\"1542\"}},\"id\":\"1546\",\"type\":\"CDSView\"},{\"attributes\":{\"bottom\":{\"value\":0},\"fill_alpha\":{\"value\":0.1},\"fill_color\":{\"value\":\"#1f77b4\"},\"left\":{\"field\":\"left\"},\"line_alpha\":{\"value\":0.1},\"line_color\":{\"value\":\"white\"},\"right\":{\"field\":\"right\"},\"top\":{\"field\":\"top\"}},\"id\":\"1593\",\"type\":\"Quad\"},{\"attributes\":{\"axis\":{\"id\":\"1519\"},\"dimension\":1,\"ticker\":null},\"id\":\"1522\",\"type\":\"Grid\"},{\"attributes\":{\"overlay\":{\"id\":\"1583\"}},\"id\":\"1579\",\"type\":\"BoxZoomTool\"},{\"attributes\":{},\"id\":\"1580\",\"type\":\"SaveTool\"},{\"attributes\":{\"label\":{\"value\":\"x\\u0304 = 0.375\"},\"renderers\":[{\"id\":\"1599\"}]},\"id\":\"1613\",\"type\":\"LegendItem\"},{\"attributes\":{},\"id\":\"1578\",\"type\":\"WheelZoomTool\"},{\"attributes\":{\"axis\":{\"id\":\"1515\"},\"ticker\":null},\"id\":\"1518\",\"type\":\"Grid\"},{\"attributes\":{\"formatter\":{\"id\":\"1551\"},\"ticker\":{\"id\":\"1520\"}},\"id\":\"1519\",\"type\":\"LinearAxis\"},{\"attributes\":{},\"id\":\"1549\",\"type\":\"BasicTickFormatter\"},{\"attributes\":{},\"id\":\"1609\",\"type\":\"UnionRenderers\"},{\"attributes\":{\"formatter\":{\"id\":\"1549\"},\"ticker\":{\"id\":\"1516\"}},\"id\":\"1515\",\"type\":\"LinearAxis\"},{\"attributes\":{\"data_source\":{\"id\":\"1591\"},\"glyph\":{\"id\":\"1592\"},\"hover_glyph\":null,\"muted_glyph\":null,\"nonselection_glyph\":{\"id\":\"1593\"},\"selection_glyph\":null,\"view\":{\"id\":\"1595\"}},\"id\":\"1594\",\"type\":\"GlyphRenderer\"},{\"attributes\":{\"items\":[{\"id\":\"1613\"}]},\"id\":\"1612\",\"type\":\"Legend\"},{\"attributes\":{},\"id\":\"1520\",\"type\":\"BasicTicker\"},{\"attributes\":{\"axis\":{\"id\":\"1573\"},\"dimension\":1,\"ticker\":null},\"id\":\"1576\",\"type\":\"Grid\"},{\"attributes\":{\"formatter\":{\"id\":\"1603\"},\"ticker\":{\"id\":\"1570\"}},\"id\":\"1569\",\"type\":\"LinearAxis\"},{\"attributes\":{},\"id\":\"1516\",\"type\":\"BasicTicker\"},{\"attributes\":{\"bottom_units\":\"screen\",\"fill_alpha\":0.5,\"fill_color\":\"lightgrey\",\"left_units\":\"screen\",\"level\":\"overlay\",\"line_alpha\":1.0,\"line_color\":\"black\",\"line_dash\":[4,4],\"line_width\":2,\"right_units\":\"screen\",\"top_units\":\"screen\"},\"id\":\"1583\",\"type\":\"BoxAnnotation\"},{\"attributes\":{},\"id\":\"1513\",\"type\":\"LinearScale\"},{\"attributes\":{},\"id\":\"1577\",\"type\":\"PanTool\"},{\"attributes\":{\"bottom_units\":\"screen\",\"fill_alpha\":0.5,\"fill_color\":\"lightgrey\",\"left_units\":\"screen\",\"level\":\"overlay\",\"line_alpha\":1.0,\"line_color\":\"black\",\"line_dash\":[4,4],\"line_width\":2,\"right_units\":\"screen\",\"top_units\":\"screen\"},\"id\":\"1529\",\"type\":\"BoxAnnotation\"},{\"attributes\":{\"active_drag\":\"auto\",\"active_inspect\":\"auto\",\"active_multi\":null,\"active_scroll\":\"auto\",\"active_tap\":\"auto\",\"tools\":[{\"id\":\"1577\"},{\"id\":\"1578\"},{\"id\":\"1579\"},{\"id\":\"1580\"},{\"id\":\"1581\"},{\"id\":\"1582\"}]},\"id\":\"1584\",\"type\":\"Toolbar\"},{\"attributes\":{},\"id\":\"1610\",\"type\":\"Selection\"},{\"attributes\":{},\"id\":\"1507\",\"type\":\"DataRange1d\"},{\"attributes\":{\"below\":[{\"id\":\"1569\"}],\"center\":[{\"id\":\"1572\"},{\"id\":\"1576\"},{\"id\":\"1612\"}],\"left\":[{\"id\":\"1573\"}],\"renderers\":[{\"id\":\"1594\"},{\"id\":\"1599\"}],\"sizing_mode\":\"scale_both\",\"title\":{\"id\":\"1601\"},\"toolbar\":{\"id\":\"1584\"},\"x_range\":{\"id\":\"1561\"},\"x_scale\":{\"id\":\"1565\"},\"y_range\":{\"id\":\"1563\"},\"y_scale\":{\"id\":\"1567\"}},\"id\":\"1560\",\"subtype\":\"Figure\",\"type\":\"Plot\"},{\"attributes\":{\"source\":{\"id\":\"1591\"}},\"id\":\"1595\",\"type\":\"CDSView\"},{\"attributes\":{\"below\":[{\"id\":\"1515\"}],\"center\":[{\"id\":\"1518\"},{\"id\":\"1522\"},{\"id\":\"1558\"}],\"left\":[{\"id\":\"1519\"}],\"renderers\":[{\"id\":\"1540\"},{\"id\":\"1545\"}],\"sizing_mode\":\"scale_both\",\"title\":{\"id\":\"1547\"},\"toolbar\":{\"id\":\"1530\"},\"x_range\":{\"id\":\"1507\"},\"x_scale\":{\"id\":\"1511\"},\"y_range\":{\"id\":\"1509\"},\"y_scale\":{\"id\":\"1513\"}},\"id\":\"1506\",\"subtype\":\"Figure\",\"type\":\"Plot\"},{\"attributes\":{},\"id\":\"1511\",\"type\":\"LinearScale\"},{\"attributes\":{},\"id\":\"1574\",\"type\":\"BasicTicker\"},{\"attributes\":{},\"id\":\"1509\",\"type\":\"DataRange1d\"},{\"attributes\":{\"active_drag\":\"auto\",\"active_inspect\":\"auto\",\"active_multi\":null,\"active_scroll\":\"auto\",\"active_tap\":\"auto\",\"tools\":[{\"id\":\"1523\"},{\"id\":\"1524\"},{\"id\":\"1525\"},{\"id\":\"1526\"},{\"id\":\"1527\"},{\"id\":\"1528\"}]},\"id\":\"1530\",\"type\":\"Toolbar\"},{\"attributes\":{\"formatter\":{\"id\":\"1605\"},\"ticker\":{\"id\":\"1574\"}},\"id\":\"1573\",\"type\":\"LinearAxis\"},{\"attributes\":{\"data_source\":{\"id\":\"1542\"},\"glyph\":{\"id\":\"1543\"},\"hover_glyph\":null,\"muted_glyph\":null,\"nonselection_glyph\":{\"id\":\"1544\"},\"selection_glyph\":null,\"view\":{\"id\":\"1546\"}},\"id\":\"1545\",\"type\":\"GlyphRenderer\"},{\"attributes\":{\"angle\":{\"units\":\"rad\",\"value\":1.5707963267948966},\"length\":{\"units\":\"data\",\"value\":0},\"line_alpha\":{\"value\":0.1},\"line_color\":{\"value\":\"red\"},\"line_width\":{\"value\":3},\"x\":{\"field\":\"x\"},\"y\":{\"field\":\"y\"}},\"id\":\"1598\",\"type\":\"Ray\"},{\"attributes\":{},\"id\":\"1605\",\"type\":\"BasicTickFormatter\"},{\"attributes\":{\"text\":\"\"},\"id\":\"1547\",\"type\":\"Title\"},{\"attributes\":{\"data\":{\"x\":[3.22],\"y\":[0]},\"selected\":{\"id\":\"1556\"},\"selection_policy\":{\"id\":\"1555\"}},\"id\":\"1542\",\"type\":\"ColumnDataSource\"}],\"root_ids\":[\"1614\"]},\"title\":\"Bokeh Application\",\"version\":\"2.2.3\"}};\n",
       "  var render_items = [{\"docid\":\"daf8a471-f1e5-4e02-a5f8-958cdf551a65\",\"root_ids\":[\"1614\"],\"roots\":{\"1614\":\"0a3915be-9f38-4860-af09-277257731f74\"}}];\n",
       "  root.Bokeh.embed.embed_items_notebook(docs_json, render_items);\n",
       "\n",
       "  }\n",
       "  if (root.Bokeh !== undefined) {\n",
       "    embed_document(root);\n",
       "  } else {\n",
       "    var attempts = 0;\n",
       "    var timer = setInterval(function(root) {\n",
       "      if (root.Bokeh !== undefined) {\n",
       "        clearInterval(timer);\n",
       "        embed_document(root);\n",
       "      } else {\n",
       "        attempts++;\n",
       "        if (attempts > 100) {\n",
       "          clearInterval(timer);\n",
       "          console.log(\"Bokeh: ERROR: Unable to run BokehJS code because BokehJS library is missing\");\n",
       "        }\n",
       "      }\n",
       "    }, 10, root)\n",
       "  }\n",
       "})(window);"
      ],
      "application/vnd.bokehjs_exec.v0+json": ""
     },
     "metadata": {
      "application/vnd.bokehjs_exec.v0+json": {
       "id": "1614"
      }
     },
     "output_type": "display_data"
    }
   ],
   "source": [
    "# Primera repetición\n",
    "muestra_bin = muestra_gen(50, binomial_gen, 10, 0.3)\n",
    "muestra_fde_bin = muestra_fde(muestra_bin)\n",
    "\n",
    "\n",
    "media_muestral_bin = round(media_muestral(muestra_bin), 3)\n",
    "media_muestral_fde_bin = round(media_muestral(muestra_fde_bin), 3)\n",
    "varianza_muestral_bin = round(varianza_muestral(muestra_bin), 3)\n",
    "varianza_muestral_fde_bin = round(varianza_muestral(muestra_fde_bin), 3)\n",
    "\n",
    "print(\"2 - Media Muestral Bin(10, 0.3): \", media_muestral_bin)\n",
    "print(\"2 - Media Muestral FDE(Bin(10, 0.3)): \", media_muestral_fde_bin)\n",
    "\n",
    "print(\"2 - Varianza Muestral Bin(10, 0.3): \", varianza_muestral_bin)\n",
    "print(\"2 - Varianza Muestral FDE(Bin(10, 0.3)): \", varianza_muestral_fde_bin)\n",
    "\n",
    "hist1 = crear_histograma(muestra_bin)\n",
    "agregar_media(hist1, media_muestral_bin)\n",
    "\n",
    "hist2 = crear_histograma(muestra_fde_bin)\n",
    "agregar_media(hist2, media_muestral_fde_bin)\n",
    "\n",
    "show(row(hist1, hist2, sizing_mode='scale_both'))\n",
    "\n",
    "# Segunda repetición\n",
    "muestra_bin = muestra_gen(50, binomial_gen, 10, 0.3)\n",
    "muestra_fde_bin = muestra_fde(muestra_bin)\n",
    "\n",
    "media_muestral_bin = round(media_muestral(muestra_bin), 3)\n",
    "media_muestral_fde_bin = round(media_muestral(muestra_fde_bin), 3)\n",
    "varianza_muestral_bin = round(varianza_muestral(muestra_bin), 3)\n",
    "varianza_muestral_fde_bin = round(varianza_muestral(muestra_fde_bin), 3)\n",
    "\n",
    "print(\"3 - Media Muestral Bin(10, 0.3): \", media_muestral_bin)\n",
    "print(\"3 - Media Muestral FDE(Bin(10, 0.3)): \", media_muestral_fde_bin)\n",
    "\n",
    "print(\"3 - Varianza Muestral Bin(10, 0.3): \", varianza_muestral_bin)\n",
    "print(\"3 - Varianza Muestral FDE(Bin(10, 0.3)): \", varianza_muestral_fde_bin)\n",
    "\n",
    "hist1 = crear_histograma(muestra_bin)\n",
    "agregar_media(hist1, media_muestral_bin)\n",
    "\n",
    "hist2 = crear_histograma(muestra_fde_bin)\n",
    "agregar_media(hist2, media_muestral_fde_bin)\n",
    "\n",
    "show(row(hist1, hist2, sizing_mode='scale_both'))"
   ]
  },
  {
   "cell_type": "markdown",
   "metadata": {},
   "source": [
    "## Parte 4: Estadística inferencial<a class=\"anchor\" id=\"parte_4\"></a>"
   ]
  },
  {
   "cell_type": "code",
   "execution_count": 15,
   "metadata": {},
   "outputs": [
    {
     "name": "stdout",
     "output_type": "stream",
     "text": [
      "Media Muestral N(100, 5), n=10:  99.245\n",
      "Media Muestral N(100, 5), n=30:  99.728\n",
      "Varianza Muestral N(100, 5), n=10:  2.118\n",
      "Varianza Muestral N(100, 5), n=30:  5.539\n",
      "[98.927, 100.528]\n",
      "[98.781, 100.675]\n",
      "[98.893, 100.563]\n",
      "[98.723, 100.733]\n"
     ]
    }
   ],
   "source": [
    "muestra_N_100_5_10 = muestra_gen(10, normal_gen, 100, 5)\n",
    "muestra_N_100_5_30 = muestra_gen(30, normal_gen, 100, 5)\n",
    "print(\"Media Muestral N(100, 5), n=10: \", round(media_muestral(muestra_N_100_5_10), 3))\n",
    "print(\"Media Muestral N(100, 5), n=30: \", round(media_muestral(muestra_N_100_5_30), 3))\n",
    "print(\"Varianza Muestral N(100, 5), n=10: \", round(varianza_muestral(muestra_N_100_5_10), 3))\n",
    "print(\"Varianza Muestral N(100, 5), n=30: \", round(varianza_muestral(muestra_N_100_5_30), 3))\n",
    "\n",
    "def intervalo_de_confianza_mu_varianza_conocida(nivel_porcentaje, muestra, varianza):\n",
    "    if nivel_porcentaje == 95:\n",
    "        z = 1.96\n",
    "    if nivel_porcentaje == 98:\n",
    "        z = 2.32\n",
    "    n = len(muestra)\n",
    "    σ = math.sqrt(varianza)\n",
    "    limite_inferior = round(media_muestral(muestra) - z * (σ / math.sqrt(n)), 3)\n",
    "    limite_superior = round(media_muestral(muestra) + z * (σ / math.sqrt(n)), 3)\n",
    "    return [limite_inferior, limite_superior]\n",
    "\n",
    "print(intervalo_de_confianza_mu_varianza_conocida(95, muestra_N_100_5_30, 5))\n",
    "print(intervalo_de_confianza_mu_varianza_conocida(98, muestra_N_100_5_30, 5))\n",
    "\n",
    "def intervalo_de_confianza_mu_varianza_desconocida(nivel_porcentaje, muestra, S_2):\n",
    "    n = len(muestra)\n",
    "    if nivel_porcentaje == 95:\n",
    "        if n == 10:\n",
    "            t = 2.262\n",
    "        if n == 30:\n",
    "            t = 2.045\n",
    "    if nivel_porcentaje == 98:\n",
    "        if n == 10:\n",
    "            t = 2.821\n",
    "        if n == 30:\n",
    "            t = 2.462\n",
    "    S = math.sqrt(S_2)\n",
    "    limite_inferior = round(media_muestral(muestra) - t * (S / math.sqrt(n)), 3)\n",
    "    limite_superior = round(media_muestral(muestra) + t * (S / math.sqrt(n)), 3)\n",
    "    return [limite_inferior, limite_superior]\n",
    "\n",
    "print(intervalo_de_confianza_mu_varianza_desconocida(95, muestra_N_100_5_30, 5))\n",
    "print(intervalo_de_confianza_mu_varianza_desconocida(98, muestra_N_100_5_30, 5))\n"
   ]
  },
  {
   "cell_type": "markdown",
   "metadata": {},
   "source": [
    "## Prueba histograma"
   ]
  },
  {
   "cell_type": "code",
   "execution_count": 16,
   "metadata": {},
   "outputs": [
    {
     "data": {
      "text/html": [
       "\n",
       "\n",
       "\n",
       "\n",
       "\n",
       "\n",
       "  <div class=\"bk-root\" id=\"49a6126b-a272-4d38-853a-73d900d773e6\" data-root-id=\"1791\"></div>\n"
      ]
     },
     "metadata": {},
     "output_type": "display_data"
    },
    {
     "data": {
      "application/javascript": [
       "(function(root) {\n",
       "  function embed_document(root) {\n",
       "    \n",
       "  var docs_json = {\"f7321030-9efc-4aec-8fd4-7393d65c9afc\":{\"roots\":{\"references\":[{\"attributes\":{\"below\":[{\"id\":\"1800\"}],\"center\":[{\"id\":\"1803\"},{\"id\":\"1807\"}],\"left\":[{\"id\":\"1804\"}],\"renderers\":[{\"id\":\"1825\"}],\"title\":{\"id\":\"1893\"},\"toolbar\":{\"id\":\"1815\"},\"x_range\":{\"id\":\"1792\"},\"x_scale\":{\"id\":\"1796\"},\"y_range\":{\"id\":\"1794\"},\"y_scale\":{\"id\":\"1798\"}},\"id\":\"1791\",\"subtype\":\"Figure\",\"type\":\"Plot\"},{\"attributes\":{\"data\":{\"left\":{\"__ndarray__\":\"cuNLezq7CsCIln8qLrAFwJ1Js9khpQDAZfnNESs0978gv2rgJDzqv+At5nTOP8i/aFDvS3s43D/wbZR0NyTxP8QHLRZQOvs/zNDiWzSoAkA=\",\"dtype\":\"float64\",\"order\":\"little\",\"shape\":[10]},\"right\":{\"__ndarray__\":\"iJZ/Ki6wBcCdSbPZIaUAwGX5zRErNPe/IL9q4CQ86r/gLeZ0zj/Iv2hQ70t7ONw/8G2UdDck8T/EBy0WUDr7P8zQ4ls0qAJAuB2vrECzB0A=\",\"dtype\":\"float64\",\"order\":\"little\",\"shape\":[10]},\"top\":{\"__ndarray__\":\"0Klh+Bd+cz/MqWH4F36TP1V706CJLbk/e0mG9WDNyj86GXwsyaPWP4O14dV349k/m29TwynI0j8zj9t4NkbCP/d3FE3vHaU/yKlh+Bd+kz8=\",\"dtype\":\"float64\",\"order\":\"little\",\"shape\":[10]}},\"selected\":{\"id\":\"1900\"},\"selection_policy\":{\"id\":\"1899\"}},\"id\":\"1822\",\"type\":\"ColumnDataSource\"},{\"attributes\":{},\"id\":\"1895\",\"type\":\"BasicTickFormatter\"},{\"attributes\":{},\"id\":\"1796\",\"type\":\"LinearScale\"},{\"attributes\":{},\"id\":\"1897\",\"type\":\"BasicTickFormatter\"},{\"attributes\":{\"formatter\":{\"id\":\"1897\"},\"ticker\":{\"id\":\"1805\"}},\"id\":\"1804\",\"type\":\"LinearAxis\"},{\"attributes\":{},\"id\":\"1811\",\"type\":\"SaveTool\"},{\"attributes\":{\"text\":\"\"},\"id\":\"1893\",\"type\":\"Title\"},{\"attributes\":{},\"id\":\"1899\",\"type\":\"UnionRenderers\"},{\"attributes\":{},\"id\":\"1798\",\"type\":\"LinearScale\"},{\"attributes\":{\"axis\":{\"id\":\"1800\"},\"ticker\":null},\"id\":\"1803\",\"type\":\"Grid\"},{\"attributes\":{},\"id\":\"1792\",\"type\":\"DataRange1d\"},{\"attributes\":{\"bottom\":{\"value\":0},\"fill_alpha\":{\"value\":0.1},\"fill_color\":{\"value\":\"#1f77b4\"},\"left\":{\"field\":\"left\"},\"line_alpha\":{\"value\":0.1},\"line_color\":{\"value\":\"white\"},\"right\":{\"field\":\"right\"},\"top\":{\"field\":\"top\"}},\"id\":\"1824\",\"type\":\"Quad\"},{\"attributes\":{},\"id\":\"1812\",\"type\":\"ResetTool\"},{\"attributes\":{\"active_drag\":\"auto\",\"active_inspect\":\"auto\",\"active_multi\":null,\"active_scroll\":\"auto\",\"active_tap\":\"auto\",\"tools\":[{\"id\":\"1808\"},{\"id\":\"1809\"},{\"id\":\"1810\"},{\"id\":\"1811\"},{\"id\":\"1812\"},{\"id\":\"1813\"}]},\"id\":\"1815\",\"type\":\"Toolbar\"},{\"attributes\":{\"source\":{\"id\":\"1822\"}},\"id\":\"1826\",\"type\":\"CDSView\"},{\"attributes\":{\"axis\":{\"id\":\"1804\"},\"dimension\":1,\"ticker\":null},\"id\":\"1807\",\"type\":\"Grid\"},{\"attributes\":{},\"id\":\"1805\",\"type\":\"BasicTicker\"},{\"attributes\":{},\"id\":\"1813\",\"type\":\"HelpTool\"},{\"attributes\":{},\"id\":\"1801\",\"type\":\"BasicTicker\"},{\"attributes\":{},\"id\":\"1808\",\"type\":\"PanTool\"},{\"attributes\":{\"bottom\":{\"value\":0},\"fill_color\":{\"value\":\"#1f77b4\"},\"left\":{\"field\":\"left\"},\"line_color\":{\"value\":\"white\"},\"right\":{\"field\":\"right\"},\"top\":{\"field\":\"top\"}},\"id\":\"1823\",\"type\":\"Quad\"},{\"attributes\":{\"data_source\":{\"id\":\"1822\"},\"glyph\":{\"id\":\"1823\"},\"hover_glyph\":null,\"muted_glyph\":null,\"nonselection_glyph\":{\"id\":\"1824\"},\"selection_glyph\":null,\"view\":{\"id\":\"1826\"}},\"id\":\"1825\",\"type\":\"GlyphRenderer\"},{\"attributes\":{\"overlay\":{\"id\":\"1814\"}},\"id\":\"1810\",\"type\":\"BoxZoomTool\"},{\"attributes\":{\"bottom_units\":\"screen\",\"fill_alpha\":0.5,\"fill_color\":\"lightgrey\",\"left_units\":\"screen\",\"level\":\"overlay\",\"line_alpha\":1.0,\"line_color\":\"black\",\"line_dash\":[4,4],\"line_width\":2,\"right_units\":\"screen\",\"top_units\":\"screen\"},\"id\":\"1814\",\"type\":\"BoxAnnotation\"},{\"attributes\":{},\"id\":\"1794\",\"type\":\"DataRange1d\"},{\"attributes\":{},\"id\":\"1809\",\"type\":\"WheelZoomTool\"},{\"attributes\":{},\"id\":\"1900\",\"type\":\"Selection\"},{\"attributes\":{\"formatter\":{\"id\":\"1895\"},\"ticker\":{\"id\":\"1801\"}},\"id\":\"1800\",\"type\":\"LinearAxis\"}],\"root_ids\":[\"1791\"]},\"title\":\"Bokeh Application\",\"version\":\"2.2.3\"}};\n",
       "  var render_items = [{\"docid\":\"f7321030-9efc-4aec-8fd4-7393d65c9afc\",\"root_ids\":[\"1791\"],\"roots\":{\"1791\":\"49a6126b-a272-4d38-853a-73d900d773e6\"}}];\n",
       "  root.Bokeh.embed.embed_items_notebook(docs_json, render_items);\n",
       "\n",
       "  }\n",
       "  if (root.Bokeh !== undefined) {\n",
       "    embed_document(root);\n",
       "  } else {\n",
       "    var attempts = 0;\n",
       "    var timer = setInterval(function(root) {\n",
       "      if (root.Bokeh !== undefined) {\n",
       "        clearInterval(timer);\n",
       "        embed_document(root);\n",
       "      } else {\n",
       "        attempts++;\n",
       "        if (attempts > 100) {\n",
       "          clearInterval(timer);\n",
       "          console.log(\"Bokeh: ERROR: Unable to run BokehJS code because BokehJS library is missing\");\n",
       "        }\n",
       "      }\n",
       "    }, 10, root)\n",
       "  }\n",
       "})(window);"
      ],
      "application/vnd.bokehjs_exec.v0+json": ""
     },
     "metadata": {
      "application/vnd.bokehjs_exec.v0+json": {
       "id": "1791"
      }
     },
     "output_type": "display_data"
    },
    {
     "data": {
      "text/html": [
       "\n",
       "\n",
       "\n",
       "\n",
       "\n",
       "\n",
       "  <div class=\"bk-root\" id=\"d7eeabf7-5631-45de-ad8e-5c6f70ad735a\" data-root-id=\"1983\"></div>\n"
      ]
     },
     "metadata": {},
     "output_type": "display_data"
    },
    {
     "data": {
      "application/javascript": [
       "(function(root) {\n",
       "  function embed_document(root) {\n",
       "    \n",
       "  var docs_json = {\"c03e5b99-a6f1-48bf-96c5-3eecb5be05a6\":{\"roots\":{\"references\":[{\"attributes\":{\"children\":[{\"id\":\"1791\"},{\"id\":\"1947\"}],\"sizing_mode\":\"scale_both\"},\"id\":\"1983\",\"type\":\"Row\"},{\"attributes\":{\"data\":{\"left\":{\"__ndarray__\":\"cuNLezq7CsCIln8qLrAFwJ1Js9khpQDAZfnNESs0978gv2rgJDzqv+At5nTOP8i/aFDvS3s43D/wbZR0NyTxP8QHLRZQOvs/zNDiWzSoAkA=\",\"dtype\":\"float64\",\"order\":\"little\",\"shape\":[10]},\"right\":{\"__ndarray__\":\"iJZ/Ki6wBcCdSbPZIaUAwGX5zRErNPe/IL9q4CQ86r/gLeZ0zj/Iv2hQ70t7ONw/8G2UdDck8T/EBy0WUDr7P8zQ4ls0qAJAuB2vrECzB0A=\",\"dtype\":\"float64\",\"order\":\"little\",\"shape\":[10]},\"top\":{\"__ndarray__\":\"0Klh+Bd+cz/MqWH4F36TP1V706CJLbk/e0mG9WDNyj86GXwsyaPWP4O14dV349k/m29TwynI0j8zj9t4NkbCP/d3FE3vHaU/yKlh+Bd+kz8=\",\"dtype\":\"float64\",\"order\":\"little\",\"shape\":[10]}},\"selected\":{\"id\":\"1900\"},\"selection_policy\":{\"id\":\"1899\"}},\"id\":\"1822\",\"type\":\"ColumnDataSource\"},{\"attributes\":{\"formatter\":{\"id\":\"2069\"},\"ticker\":{\"id\":\"1961\"}},\"id\":\"1960\",\"type\":\"LinearAxis\"},{\"attributes\":{},\"id\":\"1895\",\"type\":\"BasicTickFormatter\"},{\"attributes\":{},\"id\":\"1796\",\"type\":\"LinearScale\"},{\"attributes\":{},\"id\":\"1897\",\"type\":\"BasicTickFormatter\"},{\"attributes\":{},\"id\":\"1967\",\"type\":\"SaveTool\"},{\"attributes\":{\"axis\":{\"id\":\"1960\"},\"dimension\":1,\"ticker\":null},\"id\":\"1963\",\"type\":\"Grid\"},{\"attributes\":{\"formatter\":{\"id\":\"1897\"},\"ticker\":{\"id\":\"1805\"}},\"id\":\"1804\",\"type\":\"LinearAxis\"},{\"attributes\":{},\"id\":\"1811\",\"type\":\"SaveTool\"},{\"attributes\":{\"data_source\":{\"id\":\"1978\"},\"glyph\":{\"id\":\"1979\"},\"hover_glyph\":null,\"muted_glyph\":null,\"nonselection_glyph\":{\"id\":\"1980\"},\"selection_glyph\":null,\"view\":{\"id\":\"1982\"}},\"id\":\"1981\",\"type\":\"GlyphRenderer\"},{\"attributes\":{},\"id\":\"1950\",\"type\":\"DataRange1d\"},{\"attributes\":{},\"id\":\"1969\",\"type\":\"HelpTool\"},{\"attributes\":{\"text\":\"\"},\"id\":\"1893\",\"type\":\"Title\"},{\"attributes\":{\"overlay\":{\"id\":\"1970\"}},\"id\":\"1966\",\"type\":\"BoxZoomTool\"},{\"attributes\":{},\"id\":\"1899\",\"type\":\"UnionRenderers\"},{\"attributes\":{},\"id\":\"2074\",\"type\":\"UnionRenderers\"},{\"attributes\":{},\"id\":\"1798\",\"type\":\"LinearScale\"},{\"attributes\":{\"axis\":{\"id\":\"1800\"},\"ticker\":null},\"id\":\"1803\",\"type\":\"Grid\"},{\"attributes\":{},\"id\":\"1792\",\"type\":\"DataRange1d\"},{\"attributes\":{},\"id\":\"1957\",\"type\":\"BasicTicker\"},{\"attributes\":{\"bottom\":{\"value\":0},\"fill_alpha\":{\"value\":0.1},\"fill_color\":{\"value\":\"#1f77b4\"},\"left\":{\"field\":\"left\"},\"line_alpha\":{\"value\":0.1},\"line_color\":{\"value\":\"white\"},\"right\":{\"field\":\"right\"},\"top\":{\"field\":\"top\"}},\"id\":\"1824\",\"type\":\"Quad\"},{\"attributes\":{},\"id\":\"1812\",\"type\":\"ResetTool\"},{\"attributes\":{\"active_drag\":\"auto\",\"active_inspect\":\"auto\",\"active_multi\":null,\"active_scroll\":\"auto\",\"active_tap\":\"auto\",\"tools\":[{\"id\":\"1808\"},{\"id\":\"1809\"},{\"id\":\"1810\"},{\"id\":\"1811\"},{\"id\":\"1812\"},{\"id\":\"1813\"}]},\"id\":\"1815\",\"type\":\"Toolbar\"},{\"attributes\":{\"active_drag\":\"auto\",\"active_inspect\":\"auto\",\"active_multi\":null,\"active_scroll\":\"auto\",\"active_tap\":\"auto\",\"tools\":[{\"id\":\"1964\"},{\"id\":\"1965\"},{\"id\":\"1966\"},{\"id\":\"1967\"},{\"id\":\"1968\"},{\"id\":\"1969\"}]},\"id\":\"1971\",\"type\":\"Toolbar\"},{\"attributes\":{\"source\":{\"id\":\"1822\"}},\"id\":\"1826\",\"type\":\"CDSView\"},{\"attributes\":{},\"id\":\"1952\",\"type\":\"LinearScale\"},{\"attributes\":{\"axis\":{\"id\":\"1804\"},\"dimension\":1,\"ticker\":null},\"id\":\"1807\",\"type\":\"Grid\"},{\"attributes\":{\"below\":[{\"id\":\"1800\"}],\"center\":[{\"id\":\"1803\"},{\"id\":\"1807\"}],\"left\":[{\"id\":\"1804\"}],\"renderers\":[{\"id\":\"1825\"}],\"sizing_mode\":\"scale_both\",\"title\":{\"id\":\"1893\"},\"toolbar\":{\"id\":\"1815\"},\"x_range\":{\"id\":\"1792\"},\"x_scale\":{\"id\":\"1796\"},\"y_range\":{\"id\":\"1794\"},\"y_scale\":{\"id\":\"1798\"}},\"id\":\"1791\",\"subtype\":\"Figure\",\"type\":\"Plot\"},{\"attributes\":{},\"id\":\"1805\",\"type\":\"BasicTicker\"},{\"attributes\":{},\"id\":\"1813\",\"type\":\"HelpTool\"},{\"attributes\":{\"bottom\":{\"value\":0},\"fill_alpha\":{\"value\":0.1},\"fill_color\":{\"value\":\"#1f77b4\"},\"left\":{\"field\":\"left\"},\"line_alpha\":{\"value\":0.1},\"line_color\":{\"value\":\"white\"},\"right\":{\"field\":\"right\"},\"top\":{\"field\":\"top\"}},\"id\":\"1980\",\"type\":\"Quad\"},{\"attributes\":{},\"id\":\"2067\",\"type\":\"BasicTickFormatter\"},{\"attributes\":{\"data\":{\"left\":{\"__ndarray__\":\"cuNLezq7CsBZo6HiWocGwEBj90l7UwLAUEaaYjc//L8exkUxeNfzv9iL4v9x3+a/4C3mdM4/yL/Y6d6KFX/VP1B1GCgJj+s/2LpgxUMv9j8MO7X2Apf+P57dBBRhfwNA\",\"dtype\":\"float64\",\"order\":\"little\",\"shape\":[12]},\"right\":{\"__ndarray__\":\"WaOh4lqHBsBAY/dJe1MCwFBGmmI3P/y/HsZFMXjX87/Yi+L/cd/mv+At5nTOP8i/2OneihV/1T9QdRgoCY/rP9i6YMVDL/Y/DDu19gKX/j+e3QQUYX8DQLgdr6xAswdA\",\"dtype\":\"float64\",\"order\":\"little\",\"shape\":[12]},\"top\":{\"__ndarray__\":\"XGWowxxkdz9cZajDHGSHP9bPwMGiQ6w/aDE4EzRTwD/+0kaGxLDQP6n583a8Jdc/aleX3L4Y2T+j+fN2vCXXP/9/LkP+m8g/c7bWkJtqtj8lnexflJGgP3TcNVomMI8/\",\"dtype\":\"float64\",\"order\":\"little\",\"shape\":[12]}},\"selected\":{\"id\":\"2075\"},\"selection_policy\":{\"id\":\"2074\"}},\"id\":\"1978\",\"type\":\"ColumnDataSource\"},{\"attributes\":{\"below\":[{\"id\":\"1956\"}],\"center\":[{\"id\":\"1959\"},{\"id\":\"1963\"}],\"left\":[{\"id\":\"1960\"}],\"renderers\":[{\"id\":\"1981\"}],\"sizing_mode\":\"scale_both\",\"title\":{\"id\":\"2061\"},\"toolbar\":{\"id\":\"1971\"},\"x_range\":{\"id\":\"1948\"},\"x_scale\":{\"id\":\"1952\"},\"y_range\":{\"id\":\"1950\"},\"y_scale\":{\"id\":\"1954\"}},\"id\":\"1947\",\"subtype\":\"Figure\",\"type\":\"Plot\"},{\"attributes\":{\"source\":{\"id\":\"1978\"}},\"id\":\"1982\",\"type\":\"CDSView\"},{\"attributes\":{},\"id\":\"1954\",\"type\":\"LinearScale\"},{\"attributes\":{},\"id\":\"2069\",\"type\":\"BasicTickFormatter\"},{\"attributes\":{},\"id\":\"1801\",\"type\":\"BasicTicker\"},{\"attributes\":{},\"id\":\"1808\",\"type\":\"PanTool\"},{\"attributes\":{},\"id\":\"1961\",\"type\":\"BasicTicker\"},{\"attributes\":{},\"id\":\"1968\",\"type\":\"ResetTool\"},{\"attributes\":{\"text\":\"\"},\"id\":\"2061\",\"type\":\"Title\"},{\"attributes\":{\"bottom\":{\"value\":0},\"fill_color\":{\"value\":\"#1f77b4\"},\"left\":{\"field\":\"left\"},\"line_color\":{\"value\":\"white\"},\"right\":{\"field\":\"right\"},\"top\":{\"field\":\"top\"}},\"id\":\"1823\",\"type\":\"Quad\"},{\"attributes\":{\"data_source\":{\"id\":\"1822\"},\"glyph\":{\"id\":\"1823\"},\"hover_glyph\":null,\"muted_glyph\":null,\"nonselection_glyph\":{\"id\":\"1824\"},\"selection_glyph\":null,\"view\":{\"id\":\"1826\"}},\"id\":\"1825\",\"type\":\"GlyphRenderer\"},{\"attributes\":{\"formatter\":{\"id\":\"2067\"},\"ticker\":{\"id\":\"1957\"}},\"id\":\"1956\",\"type\":\"LinearAxis\"},{\"attributes\":{},\"id\":\"1965\",\"type\":\"WheelZoomTool\"},{\"attributes\":{\"bottom_units\":\"screen\",\"fill_alpha\":0.5,\"fill_color\":\"lightgrey\",\"left_units\":\"screen\",\"level\":\"overlay\",\"line_alpha\":1.0,\"line_color\":\"black\",\"line_dash\":[4,4],\"line_width\":2,\"right_units\":\"screen\",\"top_units\":\"screen\"},\"id\":\"1970\",\"type\":\"BoxAnnotation\"},{\"attributes\":{\"axis\":{\"id\":\"1956\"},\"ticker\":null},\"id\":\"1959\",\"type\":\"Grid\"},{\"attributes\":{\"overlay\":{\"id\":\"1814\"}},\"id\":\"1810\",\"type\":\"BoxZoomTool\"},{\"attributes\":{\"bottom\":{\"value\":0},\"fill_color\":{\"value\":\"#1f77b4\"},\"left\":{\"field\":\"left\"},\"line_color\":{\"value\":\"white\"},\"right\":{\"field\":\"right\"},\"top\":{\"field\":\"top\"}},\"id\":\"1979\",\"type\":\"Quad\"},{\"attributes\":{\"bottom_units\":\"screen\",\"fill_alpha\":0.5,\"fill_color\":\"lightgrey\",\"left_units\":\"screen\",\"level\":\"overlay\",\"line_alpha\":1.0,\"line_color\":\"black\",\"line_dash\":[4,4],\"line_width\":2,\"right_units\":\"screen\",\"top_units\":\"screen\"},\"id\":\"1814\",\"type\":\"BoxAnnotation\"},{\"attributes\":{},\"id\":\"1794\",\"type\":\"DataRange1d\"},{\"attributes\":{},\"id\":\"1948\",\"type\":\"DataRange1d\"},{\"attributes\":{},\"id\":\"2075\",\"type\":\"Selection\"},{\"attributes\":{},\"id\":\"1809\",\"type\":\"WheelZoomTool\"},{\"attributes\":{},\"id\":\"1900\",\"type\":\"Selection\"},{\"attributes\":{\"formatter\":{\"id\":\"1895\"},\"ticker\":{\"id\":\"1801\"}},\"id\":\"1800\",\"type\":\"LinearAxis\"},{\"attributes\":{},\"id\":\"1964\",\"type\":\"PanTool\"}],\"root_ids\":[\"1983\"]},\"title\":\"Bokeh Application\",\"version\":\"2.2.3\"}};\n",
       "  var render_items = [{\"docid\":\"c03e5b99-a6f1-48bf-96c5-3eecb5be05a6\",\"root_ids\":[\"1983\"],\"roots\":{\"1983\":\"d7eeabf7-5631-45de-ad8e-5c6f70ad735a\"}}];\n",
       "  root.Bokeh.embed.embed_items_notebook(docs_json, render_items);\n",
       "\n",
       "  }\n",
       "  if (root.Bokeh !== undefined) {\n",
       "    embed_document(root);\n",
       "  } else {\n",
       "    var attempts = 0;\n",
       "    var timer = setInterval(function(root) {\n",
       "      if (root.Bokeh !== undefined) {\n",
       "        clearInterval(timer);\n",
       "        embed_document(root);\n",
       "      } else {\n",
       "        attempts++;\n",
       "        if (attempts > 100) {\n",
       "          clearInterval(timer);\n",
       "          console.log(\"Bokeh: ERROR: Unable to run BokehJS code because BokehJS library is missing\");\n",
       "        }\n",
       "      }\n",
       "    }, 10, root)\n",
       "  }\n",
       "})(window);"
      ],
      "application/vnd.bokehjs_exec.v0+json": ""
     },
     "metadata": {
      "application/vnd.bokehjs_exec.v0+json": {
       "id": "1983"
      }
     },
     "output_type": "display_data"
    }
   ],
   "source": [
    "muestra_normal_estandar_1000 = muestra_gen(1000, std_normal_gen)\n",
    "histograma = crear_histograma(muestra_normal_estandar_1000)\n",
    "show(histograma)\n",
    "\n",
    "# También se puede mostrar en una fila varios histogramas\n",
    "histograma_con_ancho = crear_histograma(muestra_normal_estandar_1000, 0.5)\n",
    "show(row(histograma, histograma_con_ancho, sizing_mode='scale_both'))"
   ]
  },
  {
   "cell_type": "markdown",
   "metadata": {},
   "source": [
    "## Bibliografía<a class=\"anchor\" id=\"bibliografia\"></a>"
   ]
  }
 ],
 "metadata": {
  "kernelspec": {
   "display_name": "Python 3",
   "language": "python",
   "name": "python3"
  },
  "language_info": {
   "codemirror_mode": {
    "name": "ipython",
    "version": 3
   },
   "file_extension": ".py",
   "mimetype": "text/x-python",
   "name": "python",
   "nbconvert_exporter": "python",
   "pygments_lexer": "ipython3",
   "version": "3.7.4"
  }
 },
 "nbformat": 4,
 "nbformat_minor": 4
}
