{
 "cells": [
  {
   "cell_type": "markdown",
   "metadata": {},
   "source": [
    "<center>\n",
    "    <h1>\n",
    "            Probabilidad y Estadística\n",
    "    </h1>\n",
    "    <h2>\n",
    "            Trabajo Práctico\n",
    "    </h2>\n",
    "</center>\n",
    "\n",
    "<table>\n",
    "<thead>\n",
    "  <tr>\n",
    "    <th>Integrante</th>\n",
    "    <th>Legajo</th>\n",
    "  </tr>\n",
    "</thead>\n",
    "<tbody>\n",
    "  <tr>\n",
    "    <td>Cintia Capece</td>\n",
    "    <td>xxxxx</td>\n",
    "  </tr>\n",
    "  <tr>\n",
    "    <td>Nicolás Bellesi</td>\n",
    "    <td>xxxxx</td>\n",
    "  </tr>\n",
    "  <tr>\n",
    "    <td>Lucas Nevado</td>\n",
    "    <td>40768</td>\n",
    "  </tr>\n",
    "</tbody>\n",
    "</table>"
   ]
  },
  {
   "cell_type": "markdown",
   "metadata": {},
   "source": [
    "## Índice\n",
    "\n",
    "* [Setup](#setup)\n",
    "* [Parte 1: Simulación](#parte_1)\n",
    "    * [1.1 Generador Bernoulli](#p_1_1)\n",
    "    * [1.2 Generador Binomial](#p_1_2)\n",
    "    * [1.3 Generador Exponencial](#p_1_3)\n",
    "    * [1.4 Generador Normal (y Normal Estándar)](#p_1_4)\n",
    "* [Parte 2: Estadística descriptiva](#parte_2)\n",
    "    * [2.3 Muestra n=50 Bin(10, 0.3) y función de distribución empírica](#p_2_3)\n",
    "    * [2.4 Nueva muestra a partir de la función de distribución empírica. Media y varianza muestral](#p_2_4)\n",
    "    * [2.5 Repetición del experimento](#p_2_5)\n",
    "* [Bibliografía](#bibliografia)\n",
    "\n",
    "---"
   ]
  },
  {
   "cell_type": "markdown",
   "metadata": {},
   "source": [
    "## Setup<a class=\"anchor\" id=\"setup\"></a>"
   ]
  },
  {
   "cell_type": "code",
   "execution_count": 16,
   "metadata": {},
   "outputs": [
    {
     "data": {
      "text/html": [
       "\n",
       "    <div class=\"bk-root\">\n",
       "        <a href=\"https://bokeh.org\" target=\"_blank\" class=\"bk-logo bk-logo-small bk-logo-notebook\"></a>\n",
       "        <span id=\"1957\">Loading BokehJS ...</span>\n",
       "    </div>"
      ]
     },
     "metadata": {},
     "output_type": "display_data"
    },
    {
     "data": {
      "application/javascript": [
       "\n",
       "(function(root) {\n",
       "  function now() {\n",
       "    return new Date();\n",
       "  }\n",
       "\n",
       "  var force = true;\n",
       "\n",
       "  if (typeof root._bokeh_onload_callbacks === \"undefined\" || force === true) {\n",
       "    root._bokeh_onload_callbacks = [];\n",
       "    root._bokeh_is_loading = undefined;\n",
       "  }\n",
       "\n",
       "  var JS_MIME_TYPE = 'application/javascript';\n",
       "  var HTML_MIME_TYPE = 'text/html';\n",
       "  var EXEC_MIME_TYPE = 'application/vnd.bokehjs_exec.v0+json';\n",
       "  var CLASS_NAME = 'output_bokeh rendered_html';\n",
       "\n",
       "  /**\n",
       "   * Render data to the DOM node\n",
       "   */\n",
       "  function render(props, node) {\n",
       "    var script = document.createElement(\"script\");\n",
       "    node.appendChild(script);\n",
       "  }\n",
       "\n",
       "  /**\n",
       "   * Handle when an output is cleared or removed\n",
       "   */\n",
       "  function handleClearOutput(event, handle) {\n",
       "    var cell = handle.cell;\n",
       "\n",
       "    var id = cell.output_area._bokeh_element_id;\n",
       "    var server_id = cell.output_area._bokeh_server_id;\n",
       "    // Clean up Bokeh references\n",
       "    if (id != null && id in Bokeh.index) {\n",
       "      Bokeh.index[id].model.document.clear();\n",
       "      delete Bokeh.index[id];\n",
       "    }\n",
       "\n",
       "    if (server_id !== undefined) {\n",
       "      // Clean up Bokeh references\n",
       "      var cmd = \"from bokeh.io.state import curstate; print(curstate().uuid_to_server['\" + server_id + \"'].get_sessions()[0].document.roots[0]._id)\";\n",
       "      cell.notebook.kernel.execute(cmd, {\n",
       "        iopub: {\n",
       "          output: function(msg) {\n",
       "            var id = msg.content.text.trim();\n",
       "            if (id in Bokeh.index) {\n",
       "              Bokeh.index[id].model.document.clear();\n",
       "              delete Bokeh.index[id];\n",
       "            }\n",
       "          }\n",
       "        }\n",
       "      });\n",
       "      // Destroy server and session\n",
       "      var cmd = \"import bokeh.io.notebook as ion; ion.destroy_server('\" + server_id + \"')\";\n",
       "      cell.notebook.kernel.execute(cmd);\n",
       "    }\n",
       "  }\n",
       "\n",
       "  /**\n",
       "   * Handle when a new output is added\n",
       "   */\n",
       "  function handleAddOutput(event, handle) {\n",
       "    var output_area = handle.output_area;\n",
       "    var output = handle.output;\n",
       "\n",
       "    // limit handleAddOutput to display_data with EXEC_MIME_TYPE content only\n",
       "    if ((output.output_type != \"display_data\") || (!output.data.hasOwnProperty(EXEC_MIME_TYPE))) {\n",
       "      return\n",
       "    }\n",
       "\n",
       "    var toinsert = output_area.element.find(\".\" + CLASS_NAME.split(' ')[0]);\n",
       "\n",
       "    if (output.metadata[EXEC_MIME_TYPE][\"id\"] !== undefined) {\n",
       "      toinsert[toinsert.length - 1].firstChild.textContent = output.data[JS_MIME_TYPE];\n",
       "      // store reference to embed id on output_area\n",
       "      output_area._bokeh_element_id = output.metadata[EXEC_MIME_TYPE][\"id\"];\n",
       "    }\n",
       "    if (output.metadata[EXEC_MIME_TYPE][\"server_id\"] !== undefined) {\n",
       "      var bk_div = document.createElement(\"div\");\n",
       "      bk_div.innerHTML = output.data[HTML_MIME_TYPE];\n",
       "      var script_attrs = bk_div.children[0].attributes;\n",
       "      for (var i = 0; i < script_attrs.length; i++) {\n",
       "        toinsert[toinsert.length - 1].firstChild.setAttribute(script_attrs[i].name, script_attrs[i].value);\n",
       "        toinsert[toinsert.length - 1].firstChild.textContent = bk_div.children[0].textContent\n",
       "      }\n",
       "      // store reference to server id on output_area\n",
       "      output_area._bokeh_server_id = output.metadata[EXEC_MIME_TYPE][\"server_id\"];\n",
       "    }\n",
       "  }\n",
       "\n",
       "  function register_renderer(events, OutputArea) {\n",
       "\n",
       "    function append_mime(data, metadata, element) {\n",
       "      // create a DOM node to render to\n",
       "      var toinsert = this.create_output_subarea(\n",
       "        metadata,\n",
       "        CLASS_NAME,\n",
       "        EXEC_MIME_TYPE\n",
       "      );\n",
       "      this.keyboard_manager.register_events(toinsert);\n",
       "      // Render to node\n",
       "      var props = {data: data, metadata: metadata[EXEC_MIME_TYPE]};\n",
       "      render(props, toinsert[toinsert.length - 1]);\n",
       "      element.append(toinsert);\n",
       "      return toinsert\n",
       "    }\n",
       "\n",
       "    /* Handle when an output is cleared or removed */\n",
       "    events.on('clear_output.CodeCell', handleClearOutput);\n",
       "    events.on('delete.Cell', handleClearOutput);\n",
       "\n",
       "    /* Handle when a new output is added */\n",
       "    events.on('output_added.OutputArea', handleAddOutput);\n",
       "\n",
       "    /**\n",
       "     * Register the mime type and append_mime function with output_area\n",
       "     */\n",
       "    OutputArea.prototype.register_mime_type(EXEC_MIME_TYPE, append_mime, {\n",
       "      /* Is output safe? */\n",
       "      safe: true,\n",
       "      /* Index of renderer in `output_area.display_order` */\n",
       "      index: 0\n",
       "    });\n",
       "  }\n",
       "\n",
       "  // register the mime type if in Jupyter Notebook environment and previously unregistered\n",
       "  if (root.Jupyter !== undefined) {\n",
       "    var events = require('base/js/events');\n",
       "    var OutputArea = require('notebook/js/outputarea').OutputArea;\n",
       "\n",
       "    if (OutputArea.prototype.mime_types().indexOf(EXEC_MIME_TYPE) == -1) {\n",
       "      register_renderer(events, OutputArea);\n",
       "    }\n",
       "  }\n",
       "\n",
       "  \n",
       "  if (typeof (root._bokeh_timeout) === \"undefined\" || force === true) {\n",
       "    root._bokeh_timeout = Date.now() + 5000;\n",
       "    root._bokeh_failed_load = false;\n",
       "  }\n",
       "\n",
       "  var NB_LOAD_WARNING = {'data': {'text/html':\n",
       "     \"<div style='background-color: #fdd'>\\n\"+\n",
       "     \"<p>\\n\"+\n",
       "     \"BokehJS does not appear to have successfully loaded. If loading BokehJS from CDN, this \\n\"+\n",
       "     \"may be due to a slow or bad network connection. Possible fixes:\\n\"+\n",
       "     \"</p>\\n\"+\n",
       "     \"<ul>\\n\"+\n",
       "     \"<li>re-rerun `output_notebook()` to attempt to load from CDN again, or</li>\\n\"+\n",
       "     \"<li>use INLINE resources instead, as so:</li>\\n\"+\n",
       "     \"</ul>\\n\"+\n",
       "     \"<code>\\n\"+\n",
       "     \"from bokeh.resources import INLINE\\n\"+\n",
       "     \"output_notebook(resources=INLINE)\\n\"+\n",
       "     \"</code>\\n\"+\n",
       "     \"</div>\"}};\n",
       "\n",
       "  function display_loaded() {\n",
       "    var el = document.getElementById(\"1957\");\n",
       "    if (el != null) {\n",
       "      el.textContent = \"BokehJS is loading...\";\n",
       "    }\n",
       "    if (root.Bokeh !== undefined) {\n",
       "      if (el != null) {\n",
       "        el.textContent = \"BokehJS \" + root.Bokeh.version + \" successfully loaded.\";\n",
       "      }\n",
       "    } else if (Date.now() < root._bokeh_timeout) {\n",
       "      setTimeout(display_loaded, 100)\n",
       "    }\n",
       "  }\n",
       "\n",
       "\n",
       "  function run_callbacks() {\n",
       "    try {\n",
       "      root._bokeh_onload_callbacks.forEach(function(callback) {\n",
       "        if (callback != null)\n",
       "          callback();\n",
       "      });\n",
       "    } finally {\n",
       "      delete root._bokeh_onload_callbacks\n",
       "    }\n",
       "    console.debug(\"Bokeh: all callbacks have finished\");\n",
       "  }\n",
       "\n",
       "  function load_libs(css_urls, js_urls, callback) {\n",
       "    if (css_urls == null) css_urls = [];\n",
       "    if (js_urls == null) js_urls = [];\n",
       "\n",
       "    root._bokeh_onload_callbacks.push(callback);\n",
       "    if (root._bokeh_is_loading > 0) {\n",
       "      console.debug(\"Bokeh: BokehJS is being loaded, scheduling callback at\", now());\n",
       "      return null;\n",
       "    }\n",
       "    if (js_urls == null || js_urls.length === 0) {\n",
       "      run_callbacks();\n",
       "      return null;\n",
       "    }\n",
       "    console.debug(\"Bokeh: BokehJS not loaded, scheduling load and callback at\", now());\n",
       "    root._bokeh_is_loading = css_urls.length + js_urls.length;\n",
       "\n",
       "    function on_load() {\n",
       "      root._bokeh_is_loading--;\n",
       "      if (root._bokeh_is_loading === 0) {\n",
       "        console.debug(\"Bokeh: all BokehJS libraries/stylesheets loaded\");\n",
       "        run_callbacks()\n",
       "      }\n",
       "    }\n",
       "\n",
       "    function on_error() {\n",
       "      console.error(\"failed to load \" + url);\n",
       "    }\n",
       "\n",
       "    for (var i = 0; i < css_urls.length; i++) {\n",
       "      var url = css_urls[i];\n",
       "      const element = document.createElement(\"link\");\n",
       "      element.onload = on_load;\n",
       "      element.onerror = on_error;\n",
       "      element.rel = \"stylesheet\";\n",
       "      element.type = \"text/css\";\n",
       "      element.href = url;\n",
       "      console.debug(\"Bokeh: injecting link tag for BokehJS stylesheet: \", url);\n",
       "      document.body.appendChild(element);\n",
       "    }\n",
       "\n",
       "    const hashes = {\"https://cdn.bokeh.org/bokeh/release/bokeh-2.2.3.min.js\": \"T2yuo9Oe71Cz/I4X9Ac5+gpEa5a8PpJCDlqKYO0CfAuEszu1JrXLl8YugMqYe3sM\", \"https://cdn.bokeh.org/bokeh/release/bokeh-widgets-2.2.3.min.js\": \"98GDGJ0kOMCUMUePhksaQ/GYgB3+NH9h996V88sh3aOiUNX3N+fLXAtry6xctSZ6\", \"https://cdn.bokeh.org/bokeh/release/bokeh-tables-2.2.3.min.js\": \"89bArO+nlbP3sgakeHjCo1JYxYR5wufVgA3IbUvDY+K7w4zyxJqssu7wVnfeKCq8\"};\n",
       "\n",
       "    for (var i = 0; i < js_urls.length; i++) {\n",
       "      var url = js_urls[i];\n",
       "      var element = document.createElement('script');\n",
       "      element.onload = on_load;\n",
       "      element.onerror = on_error;\n",
       "      element.async = false;\n",
       "      element.src = url;\n",
       "      if (url in hashes) {\n",
       "        element.crossOrigin = \"anonymous\";\n",
       "        element.integrity = \"sha384-\" + hashes[url];\n",
       "      }\n",
       "      console.debug(\"Bokeh: injecting script tag for BokehJS library: \", url);\n",
       "      document.head.appendChild(element);\n",
       "    }\n",
       "  };\n",
       "\n",
       "  function inject_raw_css(css) {\n",
       "    const element = document.createElement(\"style\");\n",
       "    element.appendChild(document.createTextNode(css));\n",
       "    document.body.appendChild(element);\n",
       "  }\n",
       "\n",
       "  \n",
       "  var js_urls = [\"https://cdn.bokeh.org/bokeh/release/bokeh-2.2.3.min.js\", \"https://cdn.bokeh.org/bokeh/release/bokeh-widgets-2.2.3.min.js\", \"https://cdn.bokeh.org/bokeh/release/bokeh-tables-2.2.3.min.js\"];\n",
       "  var css_urls = [];\n",
       "  \n",
       "\n",
       "  var inline_js = [\n",
       "    function(Bokeh) {\n",
       "      Bokeh.set_log_level(\"info\");\n",
       "    },\n",
       "    function(Bokeh) {\n",
       "    \n",
       "    \n",
       "    }\n",
       "  ];\n",
       "\n",
       "  function run_inline_js() {\n",
       "    \n",
       "    if (root.Bokeh !== undefined || force === true) {\n",
       "      \n",
       "    for (var i = 0; i < inline_js.length; i++) {\n",
       "      inline_js[i].call(root, root.Bokeh);\n",
       "    }\n",
       "    if (force === true) {\n",
       "        display_loaded();\n",
       "      }} else if (Date.now() < root._bokeh_timeout) {\n",
       "      setTimeout(run_inline_js, 100);\n",
       "    } else if (!root._bokeh_failed_load) {\n",
       "      console.log(\"Bokeh: BokehJS failed to load within specified timeout.\");\n",
       "      root._bokeh_failed_load = true;\n",
       "    } else if (force !== true) {\n",
       "      var cell = $(document.getElementById(\"1957\")).parents('.cell').data().cell;\n",
       "      cell.output_area.append_execute_result(NB_LOAD_WARNING)\n",
       "    }\n",
       "\n",
       "  }\n",
       "\n",
       "  if (root._bokeh_is_loading === 0) {\n",
       "    console.debug(\"Bokeh: BokehJS loaded, going straight to plotting\");\n",
       "    run_inline_js();\n",
       "  } else {\n",
       "    load_libs(css_urls, js_urls, function() {\n",
       "      console.debug(\"Bokeh: BokehJS plotting callback run at\", now());\n",
       "      run_inline_js();\n",
       "    });\n",
       "  }\n",
       "}(window));"
      ],
      "application/vnd.bokehjs_load.v0+json": "\n(function(root) {\n  function now() {\n    return new Date();\n  }\n\n  var force = true;\n\n  if (typeof root._bokeh_onload_callbacks === \"undefined\" || force === true) {\n    root._bokeh_onload_callbacks = [];\n    root._bokeh_is_loading = undefined;\n  }\n\n  \n\n  \n  if (typeof (root._bokeh_timeout) === \"undefined\" || force === true) {\n    root._bokeh_timeout = Date.now() + 5000;\n    root._bokeh_failed_load = false;\n  }\n\n  var NB_LOAD_WARNING = {'data': {'text/html':\n     \"<div style='background-color: #fdd'>\\n\"+\n     \"<p>\\n\"+\n     \"BokehJS does not appear to have successfully loaded. If loading BokehJS from CDN, this \\n\"+\n     \"may be due to a slow or bad network connection. Possible fixes:\\n\"+\n     \"</p>\\n\"+\n     \"<ul>\\n\"+\n     \"<li>re-rerun `output_notebook()` to attempt to load from CDN again, or</li>\\n\"+\n     \"<li>use INLINE resources instead, as so:</li>\\n\"+\n     \"</ul>\\n\"+\n     \"<code>\\n\"+\n     \"from bokeh.resources import INLINE\\n\"+\n     \"output_notebook(resources=INLINE)\\n\"+\n     \"</code>\\n\"+\n     \"</div>\"}};\n\n  function display_loaded() {\n    var el = document.getElementById(\"1957\");\n    if (el != null) {\n      el.textContent = \"BokehJS is loading...\";\n    }\n    if (root.Bokeh !== undefined) {\n      if (el != null) {\n        el.textContent = \"BokehJS \" + root.Bokeh.version + \" successfully loaded.\";\n      }\n    } else if (Date.now() < root._bokeh_timeout) {\n      setTimeout(display_loaded, 100)\n    }\n  }\n\n\n  function run_callbacks() {\n    try {\n      root._bokeh_onload_callbacks.forEach(function(callback) {\n        if (callback != null)\n          callback();\n      });\n    } finally {\n      delete root._bokeh_onload_callbacks\n    }\n    console.debug(\"Bokeh: all callbacks have finished\");\n  }\n\n  function load_libs(css_urls, js_urls, callback) {\n    if (css_urls == null) css_urls = [];\n    if (js_urls == null) js_urls = [];\n\n    root._bokeh_onload_callbacks.push(callback);\n    if (root._bokeh_is_loading > 0) {\n      console.debug(\"Bokeh: BokehJS is being loaded, scheduling callback at\", now());\n      return null;\n    }\n    if (js_urls == null || js_urls.length === 0) {\n      run_callbacks();\n      return null;\n    }\n    console.debug(\"Bokeh: BokehJS not loaded, scheduling load and callback at\", now());\n    root._bokeh_is_loading = css_urls.length + js_urls.length;\n\n    function on_load() {\n      root._bokeh_is_loading--;\n      if (root._bokeh_is_loading === 0) {\n        console.debug(\"Bokeh: all BokehJS libraries/stylesheets loaded\");\n        run_callbacks()\n      }\n    }\n\n    function on_error() {\n      console.error(\"failed to load \" + url);\n    }\n\n    for (var i = 0; i < css_urls.length; i++) {\n      var url = css_urls[i];\n      const element = document.createElement(\"link\");\n      element.onload = on_load;\n      element.onerror = on_error;\n      element.rel = \"stylesheet\";\n      element.type = \"text/css\";\n      element.href = url;\n      console.debug(\"Bokeh: injecting link tag for BokehJS stylesheet: \", url);\n      document.body.appendChild(element);\n    }\n\n    const hashes = {\"https://cdn.bokeh.org/bokeh/release/bokeh-2.2.3.min.js\": \"T2yuo9Oe71Cz/I4X9Ac5+gpEa5a8PpJCDlqKYO0CfAuEszu1JrXLl8YugMqYe3sM\", \"https://cdn.bokeh.org/bokeh/release/bokeh-widgets-2.2.3.min.js\": \"98GDGJ0kOMCUMUePhksaQ/GYgB3+NH9h996V88sh3aOiUNX3N+fLXAtry6xctSZ6\", \"https://cdn.bokeh.org/bokeh/release/bokeh-tables-2.2.3.min.js\": \"89bArO+nlbP3sgakeHjCo1JYxYR5wufVgA3IbUvDY+K7w4zyxJqssu7wVnfeKCq8\"};\n\n    for (var i = 0; i < js_urls.length; i++) {\n      var url = js_urls[i];\n      var element = document.createElement('script');\n      element.onload = on_load;\n      element.onerror = on_error;\n      element.async = false;\n      element.src = url;\n      if (url in hashes) {\n        element.crossOrigin = \"anonymous\";\n        element.integrity = \"sha384-\" + hashes[url];\n      }\n      console.debug(\"Bokeh: injecting script tag for BokehJS library: \", url);\n      document.head.appendChild(element);\n    }\n  };\n\n  function inject_raw_css(css) {\n    const element = document.createElement(\"style\");\n    element.appendChild(document.createTextNode(css));\n    document.body.appendChild(element);\n  }\n\n  \n  var js_urls = [\"https://cdn.bokeh.org/bokeh/release/bokeh-2.2.3.min.js\", \"https://cdn.bokeh.org/bokeh/release/bokeh-widgets-2.2.3.min.js\", \"https://cdn.bokeh.org/bokeh/release/bokeh-tables-2.2.3.min.js\"];\n  var css_urls = [];\n  \n\n  var inline_js = [\n    function(Bokeh) {\n      Bokeh.set_log_level(\"info\");\n    },\n    function(Bokeh) {\n    \n    \n    }\n  ];\n\n  function run_inline_js() {\n    \n    if (root.Bokeh !== undefined || force === true) {\n      \n    for (var i = 0; i < inline_js.length; i++) {\n      inline_js[i].call(root, root.Bokeh);\n    }\n    if (force === true) {\n        display_loaded();\n      }} else if (Date.now() < root._bokeh_timeout) {\n      setTimeout(run_inline_js, 100);\n    } else if (!root._bokeh_failed_load) {\n      console.log(\"Bokeh: BokehJS failed to load within specified timeout.\");\n      root._bokeh_failed_load = true;\n    } else if (force !== true) {\n      var cell = $(document.getElementById(\"1957\")).parents('.cell').data().cell;\n      cell.output_area.append_execute_result(NB_LOAD_WARNING)\n    }\n\n  }\n\n  if (root._bokeh_is_loading === 0) {\n    console.debug(\"Bokeh: BokehJS loaded, going straight to plotting\");\n    run_inline_js();\n  } else {\n    load_libs(css_urls, js_urls, function() {\n      console.debug(\"Bokeh: BokehJS plotting callback run at\", now());\n      run_inline_js();\n    });\n  }\n}(window));"
     },
     "metadata": {},
     "output_type": "display_data"
    }
   ],
   "source": [
    "import random\n",
    "import math\n",
    "import numpy as np\n",
    "from bokeh.io import output_notebook\n",
    "from bokeh.plotting import figure, show\n",
    "from bokeh.layouts import row\n",
    "from bokeh.models import Span\n",
    "\n",
    "\n",
    "output_notebook()\n",
    "\n",
    "def muestra_gen(muestra_tam, distribucion_gen, *distribucion_args):\n",
    "    \"\"\"\n",
    "    muestra_tam: Tamaño de la muestra\n",
    "    distribucion_gen: Generador de una distribución, ej: exponencial_gen\n",
    "    distribucion_args: Argumentos necesarios para la distribución, ej: 0.5\n",
    "    \"\"\"\n",
    "    muestra = []\n",
    "    for i in range(muestra_tam):\n",
    "        valor = distribucion_gen(*distribucion_args)\n",
    "        muestra.append(valor)\n",
    "\n",
    "    return muestra\n",
    "\n",
    "def crear_histograma(muestra, ancho_de_banda = 0):\n",
    "    \"\"\"\n",
    "    A partir de una muestra, devuelve una histograma de bokeh\n",
    "    El ancho de banda es opcional\n",
    "    \"\"\"\n",
    "    if ancho_de_banda == 0:\n",
    "        hist, edges = np.histogram(muestra, density=True)\n",
    "    else:\n",
    "        hist, edges = np.histogram(muestra, density=True, bins=math.floor((max(muestra) - min(muestra)) / ancho_de_banda))\n",
    "\n",
    "    p = figure()\n",
    "    p.quad(top=hist, bottom=0, left=edges[:-1], right=edges[1:], line_color=\"white\")\n",
    "    return p"
   ]
  },
  {
   "cell_type": "markdown",
   "metadata": {},
   "source": [
    "## Parte 1: Simulación<a class=\"anchor\" id=\"parte_1\"></a>"
   ]
  },
  {
   "cell_type": "markdown",
   "metadata": {},
   "source": [
    "### 1) Generador Bernoulli<a class=\"anchor\" id=\"p_1_1\"></a>"
   ]
  },
  {
   "cell_type": "code",
   "execution_count": 17,
   "metadata": {},
   "outputs": [],
   "source": [
    "def bernoulli_gen(p):\n",
    "    uniforme = random.uniform(0, 1)\n",
    "    if uniforme < p:\n",
    "        return 1\n",
    "    else:\n",
    "        return 0"
   ]
  },
  {
   "cell_type": "code",
   "execution_count": 18,
   "metadata": {},
   "outputs": [
    {
     "data": {
      "text/plain": [
       "1"
      ]
     },
     "execution_count": 18,
     "metadata": {},
     "output_type": "execute_result"
    }
   ],
   "source": [
    "bernoulli_gen(0.75)"
   ]
  },
  {
   "cell_type": "markdown",
   "metadata": {},
   "source": [
    "### 2) Generador Binomial<a class=\"anchor\" id=\"p_1_2\"></a>"
   ]
  },
  {
   "cell_type": "code",
   "execution_count": 19,
   "metadata": {},
   "outputs": [],
   "source": [
    "def binomial_gen(n, p):\n",
    "    exitos = 0\n",
    "    for i in range(n):\n",
    "        exitos += bernoulli_gen(p)\n",
    "\n",
    "    return exitos"
   ]
  },
  {
   "cell_type": "code",
   "execution_count": 20,
   "metadata": {},
   "outputs": [
    {
     "data": {
      "text/plain": [
       "5"
      ]
     },
     "execution_count": 20,
     "metadata": {},
     "output_type": "execute_result"
    }
   ],
   "source": [
    "binomial_gen(10, 0.5)"
   ]
  },
  {
   "cell_type": "markdown",
   "metadata": {},
   "source": [
    "### 3) Generador Exponencial<a class=\"anchor\" id=\"p_1_3\"></a>"
   ]
  },
  {
   "cell_type": "code",
   "execution_count": 21,
   "metadata": {},
   "outputs": [],
   "source": [
    "def exponencial_gen(λ):\n",
    "    \"\"\"\n",
    "    Utilizamos el método de la función inversa\n",
    "    \"\"\"\n",
    "    uniforme = random.uniform(0, 1)\n",
    "    \n",
    "    exponencial = - (1 / λ) * math.log(uniforme)\n",
    "\n",
    "    return exponencial"
   ]
  },
  {
   "cell_type": "code",
   "execution_count": 22,
   "metadata": {},
   "outputs": [
    {
     "data": {
      "text/plain": [
       "0.02120838105015424"
      ]
     },
     "execution_count": 22,
     "metadata": {},
     "output_type": "execute_result"
    }
   ],
   "source": [
    "exponencial_gen(3)"
   ]
  },
  {
   "cell_type": "markdown",
   "metadata": {},
   "source": [
    "### 4) Generador Normal (y Normal Estándar)<a class=\"anchor\" id=\"p_1_4\"></a>"
   ]
  },
  {
   "cell_type": "code",
   "execution_count": 23,
   "metadata": {},
   "outputs": [],
   "source": [
    "def std_normal_gen():\n",
    "    \"\"\"\n",
    "    Utilizamos el método de Box-Muller\n",
    "    \"\"\"\n",
    "    uniforme_U = random.uniform(0, 1)\n",
    "    uniforme_V = random.uniform(0, 1)\n",
    "\n",
    "    std_normal = math.sqrt(-2 * math.log(uniforme_U)) * math.cos(2 * math.pi * uniforme_V)\n",
    "    \n",
    "    return std_normal"
   ]
  },
  {
   "cell_type": "code",
   "execution_count": 24,
   "metadata": {},
   "outputs": [
    {
     "data": {
      "text/plain": [
       "-1.0946960449066336"
      ]
     },
     "execution_count": 24,
     "metadata": {},
     "output_type": "execute_result"
    }
   ],
   "source": [
    "std_normal_gen()"
   ]
  },
  {
   "cell_type": "code",
   "execution_count": 25,
   "metadata": {},
   "outputs": [],
   "source": [
    "def normal_gen(μ = 0, σ = 1):\n",
    "    normal = std_normal_gen() * σ + μ\n",
    "\n",
    "    return normal"
   ]
  },
  {
   "cell_type": "code",
   "execution_count": 26,
   "metadata": {},
   "outputs": [
    {
     "data": {
      "text/plain": [
       "1.1665539665497244"
      ]
     },
     "execution_count": 26,
     "metadata": {},
     "output_type": "execute_result"
    }
   ],
   "source": [
    "normal_gen(1, 1)"
   ]
  },
  {
   "cell_type": "markdown",
   "metadata": {},
   "source": []
  },
  {
   "cell_type": "code",
   "execution_count": null,
   "metadata": {},
   "outputs": [],
   "source": []
  },
  {
   "cell_type": "markdown",
   "metadata": {},
   "source": [
    "### 3) Muestra n=50 Bin(10, 0.3) y función de distribución empírica<a class=\"anchor\" id=\"p_2_3\"></a>"
   ]
  },
  {
   "cell_type": "code",
   "execution_count": 27,
   "metadata": {},
   "outputs": [
    {
     "data": {
      "text/plain": [
       "0.34"
      ]
     },
     "execution_count": 27,
     "metadata": {},
     "output_type": "execute_result"
    }
   ],
   "source": [
    "muestra_bin = muestra_gen(50, binomial_gen, 10, 0.3)\n",
    "\n",
    "def fde(muestra, x):\n",
    "    muestra_ordenada = np.sort(muestra)\n",
    "    N = muestra_ordenada.size\n",
    "    return np.searchsorted(muestra_ordenada, x) / N\n",
    "\n",
    "fde(muestra_bin, 3)"
   ]
  },
  {
   "cell_type": "markdown",
   "metadata": {},
   "source": [
    "### 4) Nueva muestra a partir de la función de distribución empírica. Media y varianza muestral<a class=\"anchor\" id=\"p_2_4\"></a>"
   ]
  },
  {
   "cell_type": "code",
   "execution_count": 28,
   "metadata": {},
   "outputs": [
    {
     "name": "stdout",
     "output_type": "stream",
     "text": [
      "Media Muestral Bin(10, 0.3):  2.8\n",
      "Media Muestral FDE(Bin(10, 0.3)):  0.373\n",
      "Varianza Muestral Bin(10, 0.3):  1.48\n",
      "Varianza Muestral FDE(Bin(10, 0.3)):  0.082\n"
     ]
    },
    {
     "data": {
      "text/html": [
       "\n",
       "\n",
       "\n",
       "\n",
       "\n",
       "\n",
       "  <div class=\"bk-root\" id=\"8a8957d0-9f77-44ba-92b5-9aabfd1bf5b3\" data-root-id=\"2032\"></div>\n"
      ]
     },
     "metadata": {},
     "output_type": "display_data"
    },
    {
     "data": {
      "application/javascript": [
       "(function(root) {\n",
       "  function embed_document(root) {\n",
       "    \n",
       "  var docs_json = {\"43b67ef0-e081-4447-98dc-a8bc8d60a861\":{\"roots\":{\"references\":[{\"attributes\":{\"children\":[{\"id\":\"1958\"},{\"id\":\"1995\"}],\"sizing_mode\":\"scale_both\"},\"id\":\"2032\",\"type\":\"Row\"},{\"attributes\":{\"axis\":{\"id\":\"1967\"},\"ticker\":null},\"id\":\"1970\",\"type\":\"Grid\"},{\"attributes\":{},\"id\":\"2009\",\"type\":\"BasicTicker\"},{\"attributes\":{\"active_drag\":\"auto\",\"active_inspect\":\"auto\",\"active_multi\":null,\"active_scroll\":\"auto\",\"active_tap\":\"auto\",\"tools\":[{\"id\":\"1975\"},{\"id\":\"1976\"},{\"id\":\"1977\"},{\"id\":\"1978\"},{\"id\":\"1979\"},{\"id\":\"1980\"}]},\"id\":\"1982\",\"type\":\"Toolbar\"},{\"attributes\":{},\"id\":\"1968\",\"type\":\"BasicTicker\"},{\"attributes\":{\"axis\":{\"id\":\"1971\"},\"dimension\":1,\"ticker\":null},\"id\":\"1974\",\"type\":\"Grid\"},{\"attributes\":{\"axis\":{\"id\":\"2004\"},\"ticker\":null},\"id\":\"2007\",\"type\":\"Grid\"},{\"attributes\":{},\"id\":\"1963\",\"type\":\"LinearScale\"},{\"attributes\":{\"bottom_units\":\"screen\",\"fill_alpha\":0.5,\"fill_color\":\"lightgrey\",\"left_units\":\"screen\",\"level\":\"overlay\",\"line_alpha\":1.0,\"line_color\":\"black\",\"line_dash\":[4,4],\"line_width\":2,\"right_units\":\"screen\",\"top_units\":\"screen\"},\"id\":\"1981\",\"type\":\"BoxAnnotation\"},{\"attributes\":{\"active_drag\":\"auto\",\"active_inspect\":\"auto\",\"active_multi\":null,\"active_scroll\":\"auto\",\"active_tap\":\"auto\",\"tools\":[{\"id\":\"2012\"},{\"id\":\"2013\"},{\"id\":\"2014\"},{\"id\":\"2015\"},{\"id\":\"2016\"},{\"id\":\"2017\"}]},\"id\":\"2019\",\"type\":\"Toolbar\"},{\"attributes\":{},\"id\":\"2120\",\"type\":\"BasicTickFormatter\"},{\"attributes\":{\"text\":\"\"},\"id\":\"2116\",\"type\":\"Title\"},{\"attributes\":{\"axis\":{\"id\":\"2008\"},\"dimension\":1,\"ticker\":null},\"id\":\"2011\",\"type\":\"Grid\"},{\"attributes\":{\"bottom\":{\"value\":0},\"fill_alpha\":{\"value\":0.1},\"fill_color\":{\"value\":\"#1f77b4\"},\"left\":{\"field\":\"left\"},\"line_alpha\":{\"value\":0.1},\"line_color\":{\"value\":\"white\"},\"right\":{\"field\":\"right\"},\"top\":{\"field\":\"top\"}},\"id\":\"1991\",\"type\":\"Quad\"},{\"attributes\":{},\"id\":\"1959\",\"type\":\"DataRange1d\"},{\"attributes\":{\"text\":\"\"},\"id\":\"2114\",\"type\":\"Title\"},{\"attributes\":{\"data\":{\"left\":{\"__ndarray__\":\"AAAAAAAA8D9mZmZmZmb2P83MzMzMzPw/mpmZmZmZAUDNzMzMzMwEQAAAAAAAAAhANDMzMzMzC0BnZmZmZmYOQM3MzMzMzBBAZmZmZmZmEkA=\",\"dtype\":\"float64\",\"order\":\"little\",\"shape\":[10]},\"right\":{\"__ndarray__\":\"ZmZmZmZm9j/NzMzMzMz8P5qZmZmZmQFAzczMzMzMBEAAAAAAAAAIQDQzMzMzMwtAZ2ZmZmZmDkDNzMzMzMwQQGZmZmZmZhJAAAAAAAAAFEA=\",\"dtype\":\"float64\",\"order\":\"little\",\"shape\":[10]},\"top\":{\"__ndarray__\":\"m5mZmZmZ4T8AAAAAAAAAADEzMzMzM9M/AAAAAAAAAAAAAAAAAAAAAF9mZmZmZu4/AAAAAAAAAAABAAAAAADgPwAAAAAAAAAAk5mZmZmZyT8=\",\"dtype\":\"float64\",\"order\":\"little\",\"shape\":[10]}},\"selected\":{\"id\":\"2126\"},\"selection_policy\":{\"id\":\"2127\"}},\"id\":\"1989\",\"type\":\"ColumnDataSource\"},{\"attributes\":{},\"id\":\"2118\",\"type\":\"BasicTickFormatter\"},{\"attributes\":{},\"id\":\"2000\",\"type\":\"LinearScale\"},{\"attributes\":{},\"id\":\"1975\",\"type\":\"PanTool\"},{\"attributes\":{\"data\":{\"left\":{\"__ndarray__\":\"AAAAAAAAAABaZDvfT423P1pkO99Pjcc/RIts5/up0T9aZDvfT43XP3A9CtejcN0/RIts5/up4T/P91PjpZvkP1pkO99Pjec/5dAi2/l+6j8=\",\"dtype\":\"float64\",\"order\":\"little\",\"shape\":[10]},\"right\":{\"__ndarray__\":\"WmQ730+Ntz9aZDvfT43HP0SLbOf7qdE/WmQ730+N1z9wPQrXo3DdP0SLbOf7qeE/z/dT46Wb5D9aZDvfT43nP+XQItv5fuo/cT0K16Nw7T8=\",\"dtype\":\"float64\",\"order\":\"little\",\"shape\":[10]},\"top\":{\"__ndarray__\":\"spCFLGQhA0AAAAAAAAAAAE1vetOb3vQ/ykIWspCFEEAAAAAAAAAAAAAAAAAAAAAAAAAAAAAAAAAYspCFLGQBQAAAAAAAAAAAtulNb3rT6z8=\",\"dtype\":\"float64\",\"order\":\"little\",\"shape\":[10]}},\"selected\":{\"id\":\"2129\"},\"selection_policy\":{\"id\":\"2130\"}},\"id\":\"2026\",\"type\":\"ColumnDataSource\"},{\"attributes\":{},\"id\":\"1979\",\"type\":\"ResetTool\"},{\"attributes\":{\"bottom_units\":\"screen\",\"fill_alpha\":0.5,\"fill_color\":\"lightgrey\",\"left_units\":\"screen\",\"level\":\"overlay\",\"line_alpha\":1.0,\"line_color\":\"black\",\"line_dash\":[4,4],\"line_width\":2,\"right_units\":\"screen\",\"top_units\":\"screen\"},\"id\":\"2018\",\"type\":\"BoxAnnotation\"},{\"attributes\":{},\"id\":\"1976\",\"type\":\"WheelZoomTool\"},{\"attributes\":{\"source\":{\"id\":\"2026\"}},\"id\":\"2030\",\"type\":\"CDSView\"},{\"attributes\":{},\"id\":\"2124\",\"type\":\"BasicTickFormatter\"},{\"attributes\":{\"overlay\":{\"id\":\"1981\"}},\"id\":\"1977\",\"type\":\"BoxZoomTool\"},{\"attributes\":{\"below\":[{\"id\":\"2004\"}],\"center\":[{\"id\":\"2007\"},{\"id\":\"2011\"}],\"left\":[{\"id\":\"2008\"}],\"renderers\":[{\"id\":\"2029\"},{\"id\":\"2031\"}],\"sizing_mode\":\"scale_both\",\"title\":{\"id\":\"2116\"},\"toolbar\":{\"id\":\"2019\"},\"x_range\":{\"id\":\"1996\"},\"x_scale\":{\"id\":\"2000\"},\"y_range\":{\"id\":\"1998\"},\"y_scale\":{\"id\":\"2002\"}},\"id\":\"1995\",\"subtype\":\"Figure\",\"type\":\"Plot\"},{\"attributes\":{},\"id\":\"1978\",\"type\":\"SaveTool\"},{\"attributes\":{},\"id\":\"2122\",\"type\":\"BasicTickFormatter\"},{\"attributes\":{},\"id\":\"2012\",\"type\":\"PanTool\"},{\"attributes\":{},\"id\":\"2016\",\"type\":\"ResetTool\"},{\"attributes\":{},\"id\":\"2013\",\"type\":\"WheelZoomTool\"},{\"attributes\":{},\"id\":\"2130\",\"type\":\"UnionRenderers\"},{\"attributes\":{\"data_source\":{\"id\":\"1989\"},\"glyph\":{\"id\":\"1990\"},\"hover_glyph\":null,\"muted_glyph\":null,\"nonselection_glyph\":{\"id\":\"1991\"},\"selection_glyph\":null,\"view\":{\"id\":\"1993\"}},\"id\":\"1992\",\"type\":\"GlyphRenderer\"},{\"attributes\":{\"bottom\":{\"value\":0},\"fill_color\":{\"value\":\"#1f77b4\"},\"left\":{\"field\":\"left\"},\"line_color\":{\"value\":\"white\"},\"right\":{\"field\":\"right\"},\"top\":{\"field\":\"top\"}},\"id\":\"1990\",\"type\":\"Quad\"},{\"attributes\":{},\"id\":\"1972\",\"type\":\"BasicTicker\"},{\"attributes\":{\"overlay\":{\"id\":\"2018\"}},\"id\":\"2014\",\"type\":\"BoxZoomTool\"},{\"attributes\":{},\"id\":\"1980\",\"type\":\"HelpTool\"},{\"attributes\":{},\"id\":\"2127\",\"type\":\"UnionRenderers\"},{\"attributes\":{\"source\":{\"id\":\"1989\"}},\"id\":\"1993\",\"type\":\"CDSView\"},{\"attributes\":{},\"id\":\"2015\",\"type\":\"SaveTool\"},{\"attributes\":{},\"id\":\"2126\",\"type\":\"Selection\"},{\"attributes\":{\"below\":[{\"id\":\"1967\"}],\"center\":[{\"id\":\"1970\"},{\"id\":\"1974\"}],\"left\":[{\"id\":\"1971\"}],\"renderers\":[{\"id\":\"1992\"},{\"id\":\"1994\"}],\"sizing_mode\":\"scale_both\",\"title\":{\"id\":\"2114\"},\"toolbar\":{\"id\":\"1982\"},\"x_range\":{\"id\":\"1959\"},\"x_scale\":{\"id\":\"1963\"},\"y_range\":{\"id\":\"1961\"},\"y_scale\":{\"id\":\"1965\"}},\"id\":\"1958\",\"subtype\":\"Figure\",\"type\":\"Plot\"},{\"attributes\":{\"bottom\":{\"value\":0},\"fill_color\":{\"value\":\"#1f77b4\"},\"left\":{\"field\":\"left\"},\"line_color\":{\"value\":\"white\"},\"right\":{\"field\":\"right\"},\"top\":{\"field\":\"top\"}},\"id\":\"2027\",\"type\":\"Quad\"},{\"attributes\":{\"dimension\":\"height\",\"line_color\":\"red\",\"line_width\":3,\"location\":0.3731999999999999},\"id\":\"2031\",\"type\":\"Span\"},{\"attributes\":{\"bottom\":{\"value\":0},\"fill_alpha\":{\"value\":0.1},\"fill_color\":{\"value\":\"#1f77b4\"},\"left\":{\"field\":\"left\"},\"line_alpha\":{\"value\":0.1},\"line_color\":{\"value\":\"white\"},\"right\":{\"field\":\"right\"},\"top\":{\"field\":\"top\"}},\"id\":\"2028\",\"type\":\"Quad\"},{\"attributes\":{\"formatter\":{\"id\":\"2120\"},\"ticker\":{\"id\":\"1968\"}},\"id\":\"1967\",\"type\":\"LinearAxis\"},{\"attributes\":{\"formatter\":{\"id\":\"2118\"},\"ticker\":{\"id\":\"1972\"}},\"id\":\"1971\",\"type\":\"LinearAxis\"},{\"attributes\":{},\"id\":\"1996\",\"type\":\"DataRange1d\"},{\"attributes\":{\"formatter\":{\"id\":\"2124\"},\"ticker\":{\"id\":\"2005\"}},\"id\":\"2004\",\"type\":\"LinearAxis\"},{\"attributes\":{},\"id\":\"2017\",\"type\":\"HelpTool\"},{\"attributes\":{},\"id\":\"2129\",\"type\":\"Selection\"},{\"attributes\":{\"dimension\":\"height\",\"line_color\":\"red\",\"line_width\":3,\"location\":2.8},\"id\":\"1994\",\"type\":\"Span\"},{\"attributes\":{\"data_source\":{\"id\":\"2026\"},\"glyph\":{\"id\":\"2027\"},\"hover_glyph\":null,\"muted_glyph\":null,\"nonselection_glyph\":{\"id\":\"2028\"},\"selection_glyph\":null,\"view\":{\"id\":\"2030\"}},\"id\":\"2029\",\"type\":\"GlyphRenderer\"},{\"attributes\":{},\"id\":\"1961\",\"type\":\"DataRange1d\"},{\"attributes\":{},\"id\":\"2005\",\"type\":\"BasicTicker\"},{\"attributes\":{},\"id\":\"1965\",\"type\":\"LinearScale\"},{\"attributes\":{},\"id\":\"2002\",\"type\":\"LinearScale\"},{\"attributes\":{},\"id\":\"1998\",\"type\":\"DataRange1d\"},{\"attributes\":{\"formatter\":{\"id\":\"2122\"},\"ticker\":{\"id\":\"2009\"}},\"id\":\"2008\",\"type\":\"LinearAxis\"}],\"root_ids\":[\"2032\"]},\"title\":\"Bokeh Application\",\"version\":\"2.2.3\"}};\n",
       "  var render_items = [{\"docid\":\"43b67ef0-e081-4447-98dc-a8bc8d60a861\",\"root_ids\":[\"2032\"],\"roots\":{\"2032\":\"8a8957d0-9f77-44ba-92b5-9aabfd1bf5b3\"}}];\n",
       "  root.Bokeh.embed.embed_items_notebook(docs_json, render_items);\n",
       "\n",
       "  }\n",
       "  if (root.Bokeh !== undefined) {\n",
       "    embed_document(root);\n",
       "  } else {\n",
       "    var attempts = 0;\n",
       "    var timer = setInterval(function(root) {\n",
       "      if (root.Bokeh !== undefined) {\n",
       "        clearInterval(timer);\n",
       "        embed_document(root);\n",
       "      } else {\n",
       "        attempts++;\n",
       "        if (attempts > 100) {\n",
       "          clearInterval(timer);\n",
       "          console.log(\"Bokeh: ERROR: Unable to run BokehJS code because BokehJS library is missing\");\n",
       "        }\n",
       "      }\n",
       "    }, 10, root)\n",
       "  }\n",
       "})(window);"
      ],
      "application/vnd.bokehjs_exec.v0+json": ""
     },
     "metadata": {
      "application/vnd.bokehjs_exec.v0+json": {
       "id": "2032"
      }
     },
     "output_type": "display_data"
    }
   ],
   "source": [
    "def muestra_fde(muestra):\n",
    "    muestra_fde = []\n",
    "    for i in muestra_bin:\n",
    "        v = fde(muestra_bin, i)\n",
    "        muestra_fde.append(v)\n",
    "    return muestra_fde\n",
    "\n",
    "muestra_fde_bin = muestra_fde(muestra_bin)\n",
    "    \n",
    "def media_muestral(muestra):\n",
    "    return sum(muestra) / len(muestra)\n",
    "\n",
    "def varianza_muestral(muestra):\n",
    "    return (sum([x ** 2 for x in muestra]) / len(muestra)) - (media_muestral(muestra) ** 2)\n",
    "\n",
    "print(\"Media Muestral Bin(10, 0.3): \", round(media_muestral(muestra_bin), 3))\n",
    "print(\"Media Muestral FDE(Bin(10, 0.3)): \", round(media_muestral(muestra_fde_bin), 3))\n",
    "\n",
    "print(\"Varianza Muestral Bin(10, 0.3): \", round(varianza_muestral(muestra_bin), 3))\n",
    "print(\"Varianza Muestral FDE(Bin(10, 0.3)): \", round(varianza_muestral(muestra_fde_bin), 3))\n",
    "\n",
    "hist1 = crear_histograma(muestra_bin)\n",
    "linea_media_muestral_bin = Span(location= media_muestral(muestra_bin), dimension='height', line_color='red', line_width=3)\n",
    "hist1.renderers.extend([linea_media_muestral_bin])\n",
    "\n",
    "hist2 = crear_histograma(muestra_fde_bin)\n",
    "linea_media_muestral_fde = Span(location= media_muestral(muestra_fde_bin), dimension='height', line_color='red', line_width=3)\n",
    "hist2.renderers.extend([linea_media_muestral_fde])\n",
    "\n",
    "show(row(hist1, hist2, sizing_mode='scale_both'))"
   ]
  },
  {
   "cell_type": "markdown",
   "metadata": {},
   "source": [
    "### 5) Repetición del experimento<a class=\"anchor\" id=\"p_2_5\"></a>"
   ]
  },
  {
   "cell_type": "code",
   "execution_count": 29,
   "metadata": {},
   "outputs": [
    {
     "name": "stdout",
     "output_type": "stream",
     "text": [
      "2 - Media Muestral Bin(10, 0.3):  3.02\n",
      "2 - Media Muestral FDE(Bin(10, 0.3)):  0.391\n",
      "2 - Varianza Muestral Bin(10, 0.3):  1.58\n",
      "2 - Varianza Muestral FDE(Bin(10, 0.3)):  0.076\n"
     ]
    },
    {
     "data": {
      "text/html": [
       "\n",
       "\n",
       "\n",
       "\n",
       "\n",
       "\n",
       "  <div class=\"bk-root\" id=\"56523010-963a-467c-af73-fc954fdba676\" data-root-id=\"2296\"></div>\n"
      ]
     },
     "metadata": {},
     "output_type": "display_data"
    },
    {
     "data": {
      "application/javascript": [
       "(function(root) {\n",
       "  function embed_document(root) {\n",
       "    \n",
       "  var docs_json = {\"e65a3ba9-a926-4778-af0c-9e44f15b7303\":{\"roots\":{\"references\":[{\"attributes\":{\"children\":[{\"id\":\"2222\"},{\"id\":\"2259\"}],\"sizing_mode\":\"scale_both\"},\"id\":\"2296\",\"type\":\"Row\"},{\"attributes\":{},\"id\":\"2280\",\"type\":\"ResetTool\"},{\"attributes\":{},\"id\":\"2262\",\"type\":\"DataRange1d\"},{\"attributes\":{},\"id\":\"2236\",\"type\":\"BasicTicker\"},{\"attributes\":{},\"id\":\"2277\",\"type\":\"WheelZoomTool\"},{\"attributes\":{\"below\":[{\"id\":\"2231\"}],\"center\":[{\"id\":\"2234\"},{\"id\":\"2238\"}],\"left\":[{\"id\":\"2235\"}],\"renderers\":[{\"id\":\"2256\"},{\"id\":\"2258\"}],\"sizing_mode\":\"scale_both\",\"title\":{\"id\":\"2396\"},\"toolbar\":{\"id\":\"2246\"},\"x_range\":{\"id\":\"2223\"},\"x_scale\":{\"id\":\"2227\"},\"y_range\":{\"id\":\"2225\"},\"y_scale\":{\"id\":\"2229\"}},\"id\":\"2222\",\"subtype\":\"Figure\",\"type\":\"Plot\"},{\"attributes\":{\"formatter\":{\"id\":\"2400\"},\"ticker\":{\"id\":\"2236\"}},\"id\":\"2235\",\"type\":\"LinearAxis\"},{\"attributes\":{\"overlay\":{\"id\":\"2282\"}},\"id\":\"2278\",\"type\":\"BoxZoomTool\"},{\"attributes\":{},\"id\":\"2264\",\"type\":\"LinearScale\"},{\"attributes\":{\"data\":{\"left\":{\"__ndarray__\":\"AAAAAAAAAAAAAAAAAADgPwAAAAAAAPA/AAAAAAAA+D8AAAAAAAAAQAAAAAAAAARAAAAAAAAACEAAAAAAAAAMQAAAAAAAABBAAAAAAAAAEkA=\",\"dtype\":\"float64\",\"order\":\"little\",\"shape\":[10]},\"right\":{\"__ndarray__\":\"AAAAAAAA4D8AAAAAAADwPwAAAAAAAPg/AAAAAAAAAEAAAAAAAAAEQAAAAAAAAAhAAAAAAAAADEAAAAAAAAAQQAAAAAAAABJAAAAAAAAAFEA=\",\"dtype\":\"float64\",\"order\":\"little\",\"shape\":[10]},\"top\":{\"__ndarray__\":\"exSuR+F6pD8AAAAAAAAAAJqZmZmZmck/AAAAAAAAAAC4HoXrUbjePwAAAAAAAAAAuB6F61G43j8AAAAAAAAAAOxRuB6F6+E/uB6F61G4zj8=\",\"dtype\":\"float64\",\"order\":\"little\",\"shape\":[10]}},\"selected\":{\"id\":\"2408\"},\"selection_policy\":{\"id\":\"2409\"}},\"id\":\"2253\",\"type\":\"ColumnDataSource\"},{\"attributes\":{},\"id\":\"2227\",\"type\":\"LinearScale\"},{\"attributes\":{},\"id\":\"2279\",\"type\":\"SaveTool\"},{\"attributes\":{\"dimension\":\"height\",\"line_color\":\"red\",\"line_width\":3,\"location\":3.02},\"id\":\"2258\",\"type\":\"Span\"},{\"attributes\":{},\"id\":\"2266\",\"type\":\"LinearScale\"},{\"attributes\":{},\"id\":\"2400\",\"type\":\"BasicTickFormatter\"},{\"attributes\":{\"data_source\":{\"id\":\"2290\"},\"glyph\":{\"id\":\"2291\"},\"hover_glyph\":null,\"muted_glyph\":null,\"nonselection_glyph\":{\"id\":\"2292\"},\"selection_glyph\":null,\"view\":{\"id\":\"2294\"}},\"id\":\"2293\",\"type\":\"GlyphRenderer\"},{\"attributes\":{\"active_drag\":\"auto\",\"active_inspect\":\"auto\",\"active_multi\":null,\"active_scroll\":\"auto\",\"active_tap\":\"auto\",\"tools\":[{\"id\":\"2239\"},{\"id\":\"2240\"},{\"id\":\"2241\"},{\"id\":\"2242\"},{\"id\":\"2243\"},{\"id\":\"2244\"}]},\"id\":\"2246\",\"type\":\"Toolbar\"},{\"attributes\":{},\"id\":\"2269\",\"type\":\"BasicTicker\"},{\"attributes\":{},\"id\":\"2281\",\"type\":\"HelpTool\"},{\"attributes\":{\"axis\":{\"id\":\"2235\"},\"dimension\":1,\"ticker\":null},\"id\":\"2238\",\"type\":\"Grid\"},{\"attributes\":{\"source\":{\"id\":\"2290\"}},\"id\":\"2294\",\"type\":\"CDSView\"},{\"attributes\":{\"formatter\":{\"id\":\"2406\"},\"ticker\":{\"id\":\"2269\"}},\"id\":\"2268\",\"type\":\"LinearAxis\"},{\"attributes\":{},\"id\":\"2408\",\"type\":\"Selection\"},{\"attributes\":{\"text\":\"\"},\"id\":\"2396\",\"type\":\"Title\"},{\"attributes\":{},\"id\":\"2273\",\"type\":\"BasicTicker\"},{\"attributes\":{\"bottom_units\":\"screen\",\"fill_alpha\":0.5,\"fill_color\":\"lightgrey\",\"left_units\":\"screen\",\"level\":\"overlay\",\"line_alpha\":1.0,\"line_color\":\"black\",\"line_dash\":[4,4],\"line_width\":2,\"right_units\":\"screen\",\"top_units\":\"screen\"},\"id\":\"2245\",\"type\":\"BoxAnnotation\"},{\"attributes\":{\"source\":{\"id\":\"2253\"}},\"id\":\"2257\",\"type\":\"CDSView\"},{\"attributes\":{\"text\":\"\"},\"id\":\"2398\",\"type\":\"Title\"},{\"attributes\":{\"axis\":{\"id\":\"2268\"},\"ticker\":null},\"id\":\"2271\",\"type\":\"Grid\"},{\"attributes\":{\"formatter\":{\"id\":\"2404\"},\"ticker\":{\"id\":\"2273\"}},\"id\":\"2272\",\"type\":\"LinearAxis\"},{\"attributes\":{\"bottom\":{\"value\":0},\"fill_color\":{\"value\":\"#1f77b4\"},\"left\":{\"field\":\"left\"},\"line_color\":{\"value\":\"white\"},\"right\":{\"field\":\"right\"},\"top\":{\"field\":\"top\"}},\"id\":\"2254\",\"type\":\"Quad\"},{\"attributes\":{},\"id\":\"2223\",\"type\":\"DataRange1d\"},{\"attributes\":{},\"id\":\"2239\",\"type\":\"PanTool\"},{\"attributes\":{},\"id\":\"2225\",\"type\":\"DataRange1d\"},{\"attributes\":{},\"id\":\"2243\",\"type\":\"ResetTool\"},{\"attributes\":{\"bottom\":{\"value\":0},\"fill_alpha\":{\"value\":0.1},\"fill_color\":{\"value\":\"#1f77b4\"},\"left\":{\"field\":\"left\"},\"line_alpha\":{\"value\":0.1},\"line_color\":{\"value\":\"white\"},\"right\":{\"field\":\"right\"},\"top\":{\"field\":\"top\"}},\"id\":\"2292\",\"type\":\"Quad\"},{\"attributes\":{\"axis\":{\"id\":\"2231\"},\"ticker\":null},\"id\":\"2234\",\"type\":\"Grid\"},{\"attributes\":{},\"id\":\"2240\",\"type\":\"WheelZoomTool\"},{\"attributes\":{},\"id\":\"2409\",\"type\":\"UnionRenderers\"},{\"attributes\":{\"overlay\":{\"id\":\"2245\"}},\"id\":\"2241\",\"type\":\"BoxZoomTool\"},{\"attributes\":{},\"id\":\"2412\",\"type\":\"UnionRenderers\"},{\"attributes\":{\"active_drag\":\"auto\",\"active_inspect\":\"auto\",\"active_multi\":null,\"active_scroll\":\"auto\",\"active_tap\":\"auto\",\"tools\":[{\"id\":\"2276\"},{\"id\":\"2277\"},{\"id\":\"2278\"},{\"id\":\"2279\"},{\"id\":\"2280\"},{\"id\":\"2281\"}]},\"id\":\"2283\",\"type\":\"Toolbar\"},{\"attributes\":{\"data_source\":{\"id\":\"2253\"},\"glyph\":{\"id\":\"2254\"},\"hover_glyph\":null,\"muted_glyph\":null,\"nonselection_glyph\":{\"id\":\"2255\"},\"selection_glyph\":null,\"view\":{\"id\":\"2257\"}},\"id\":\"2256\",\"type\":\"GlyphRenderer\"},{\"attributes\":{},\"id\":\"2242\",\"type\":\"SaveTool\"},{\"attributes\":{},\"id\":\"2229\",\"type\":\"LinearScale\"},{\"attributes\":{\"axis\":{\"id\":\"2272\"},\"dimension\":1,\"ticker\":null},\"id\":\"2275\",\"type\":\"Grid\"},{\"attributes\":{},\"id\":\"2402\",\"type\":\"BasicTickFormatter\"},{\"attributes\":{},\"id\":\"2411\",\"type\":\"Selection\"},{\"attributes\":{\"below\":[{\"id\":\"2268\"}],\"center\":[{\"id\":\"2271\"},{\"id\":\"2275\"}],\"left\":[{\"id\":\"2272\"}],\"renderers\":[{\"id\":\"2293\"},{\"id\":\"2295\"}],\"sizing_mode\":\"scale_both\",\"title\":{\"id\":\"2398\"},\"toolbar\":{\"id\":\"2283\"},\"x_range\":{\"id\":\"2260\"},\"x_scale\":{\"id\":\"2264\"},\"y_range\":{\"id\":\"2262\"},\"y_scale\":{\"id\":\"2266\"}},\"id\":\"2259\",\"subtype\":\"Figure\",\"type\":\"Plot\"},{\"attributes\":{\"bottom\":{\"value\":0},\"fill_alpha\":{\"value\":0.1},\"fill_color\":{\"value\":\"#1f77b4\"},\"left\":{\"field\":\"left\"},\"line_alpha\":{\"value\":0.1},\"line_color\":{\"value\":\"white\"},\"right\":{\"field\":\"right\"},\"top\":{\"field\":\"top\"}},\"id\":\"2255\",\"type\":\"Quad\"},{\"attributes\":{},\"id\":\"2232\",\"type\":\"BasicTicker\"},{\"attributes\":{},\"id\":\"2404\",\"type\":\"BasicTickFormatter\"},{\"attributes\":{},\"id\":\"2406\",\"type\":\"BasicTickFormatter\"},{\"attributes\":{},\"id\":\"2244\",\"type\":\"HelpTool\"},{\"attributes\":{\"data\":{\"left\":{\"__ndarray__\":\"AAAAAAAAAAC6SQwCK4e2P7pJDAIrh8Y/TDeJQWDl0D+6SQwCK4fWPyhcj8L1KNw/TDeJQWDl4D+DwMqhRbbjP7pJDAIrh+Y/8dJNYhBY6T8=\",\"dtype\":\"float64\",\"order\":\"little\",\"shape\":[10]},\"right\":{\"__ndarray__\":\"ukkMAiuHtj+6SQwCK4fGP0w3iUFg5dA/ukkMAiuH1j8oXI/C9SjcP0w3iUFg5eA/g8DKoUW24z+6SQwCK4fmP/HSTWIQWOk/KVyPwvUo7D8=\",\"dtype\":\"float64\",\"order\":\"little\",\"shape\":[10]},\"top\":{\"__ndarray__\":\"0kUXXXTR9T/SRRdddNEFQAAAAAAAAAAAAAAAAAAAAADTRRdddNEFQAAAAAAAAAAAd9FFF110CUAAAAAAAAAAAAAAAAAAAAAAzEUXXXTR9T8=\",\"dtype\":\"float64\",\"order\":\"little\",\"shape\":[10]}},\"selected\":{\"id\":\"2411\"},\"selection_policy\":{\"id\":\"2412\"}},\"id\":\"2290\",\"type\":\"ColumnDataSource\"},{\"attributes\":{\"bottom_units\":\"screen\",\"fill_alpha\":0.5,\"fill_color\":\"lightgrey\",\"left_units\":\"screen\",\"level\":\"overlay\",\"line_alpha\":1.0,\"line_color\":\"black\",\"line_dash\":[4,4],\"line_width\":2,\"right_units\":\"screen\",\"top_units\":\"screen\"},\"id\":\"2282\",\"type\":\"BoxAnnotation\"},{\"attributes\":{\"formatter\":{\"id\":\"2402\"},\"ticker\":{\"id\":\"2232\"}},\"id\":\"2231\",\"type\":\"LinearAxis\"},{\"attributes\":{\"dimension\":\"height\",\"line_color\":\"red\",\"line_width\":3,\"location\":0.3908},\"id\":\"2295\",\"type\":\"Span\"},{\"attributes\":{\"bottom\":{\"value\":0},\"fill_color\":{\"value\":\"#1f77b4\"},\"left\":{\"field\":\"left\"},\"line_color\":{\"value\":\"white\"},\"right\":{\"field\":\"right\"},\"top\":{\"field\":\"top\"}},\"id\":\"2291\",\"type\":\"Quad\"},{\"attributes\":{},\"id\":\"2260\",\"type\":\"DataRange1d\"},{\"attributes\":{},\"id\":\"2276\",\"type\":\"PanTool\"}],\"root_ids\":[\"2296\"]},\"title\":\"Bokeh Application\",\"version\":\"2.2.3\"}};\n",
       "  var render_items = [{\"docid\":\"e65a3ba9-a926-4778-af0c-9e44f15b7303\",\"root_ids\":[\"2296\"],\"roots\":{\"2296\":\"56523010-963a-467c-af73-fc954fdba676\"}}];\n",
       "  root.Bokeh.embed.embed_items_notebook(docs_json, render_items);\n",
       "\n",
       "  }\n",
       "  if (root.Bokeh !== undefined) {\n",
       "    embed_document(root);\n",
       "  } else {\n",
       "    var attempts = 0;\n",
       "    var timer = setInterval(function(root) {\n",
       "      if (root.Bokeh !== undefined) {\n",
       "        clearInterval(timer);\n",
       "        embed_document(root);\n",
       "      } else {\n",
       "        attempts++;\n",
       "        if (attempts > 100) {\n",
       "          clearInterval(timer);\n",
       "          console.log(\"Bokeh: ERROR: Unable to run BokehJS code because BokehJS library is missing\");\n",
       "        }\n",
       "      }\n",
       "    }, 10, root)\n",
       "  }\n",
       "})(window);"
      ],
      "application/vnd.bokehjs_exec.v0+json": ""
     },
     "metadata": {
      "application/vnd.bokehjs_exec.v0+json": {
       "id": "2296"
      }
     },
     "output_type": "display_data"
    },
    {
     "name": "stdout",
     "output_type": "stream",
     "text": [
      "3 - Media Muestral Bin(10, 0.3):  2.9\n",
      "3 - Media Muestral FDE(Bin(10, 0.3)):  0.399\n",
      "3 - Varianza Muestral Bin(10, 0.3):  2.25\n",
      "3 - Varianza Muestral FDE(Bin(10, 0.3)):  0.081\n"
     ]
    },
    {
     "data": {
      "text/html": [
       "\n",
       "\n",
       "\n",
       "\n",
       "\n",
       "\n",
       "  <div class=\"bk-root\" id=\"dfbd3a68-06cb-4f35-8269-3f56df9d9198\" data-root-id=\"2578\"></div>\n"
      ]
     },
     "metadata": {},
     "output_type": "display_data"
    },
    {
     "data": {
      "application/javascript": [
       "(function(root) {\n",
       "  function embed_document(root) {\n",
       "    \n",
       "  var docs_json = {\"8a822165-8ab2-482f-8ab0-1c3016eea174\":{\"roots\":{\"references\":[{\"attributes\":{\"children\":[{\"id\":\"2504\"},{\"id\":\"2541\"}],\"sizing_mode\":\"scale_both\"},\"id\":\"2578\",\"type\":\"Row\"},{\"attributes\":{\"data_source\":{\"id\":\"2572\"},\"glyph\":{\"id\":\"2573\"},\"hover_glyph\":null,\"muted_glyph\":null,\"nonselection_glyph\":{\"id\":\"2574\"},\"selection_glyph\":null,\"view\":{\"id\":\"2576\"}},\"id\":\"2575\",\"type\":\"GlyphRenderer\"},{\"attributes\":{\"active_drag\":\"auto\",\"active_inspect\":\"auto\",\"active_multi\":null,\"active_scroll\":\"auto\",\"active_tap\":\"auto\",\"tools\":[{\"id\":\"2521\"},{\"id\":\"2522\"},{\"id\":\"2523\"},{\"id\":\"2524\"},{\"id\":\"2525\"},{\"id\":\"2526\"}]},\"id\":\"2528\",\"type\":\"Toolbar\"},{\"attributes\":{\"text\":\"\"},\"id\":\"2696\",\"type\":\"Title\"},{\"attributes\":{\"dimension\":\"height\",\"line_color\":\"red\",\"line_width\":3,\"location\":0.39879999999999965},\"id\":\"2577\",\"type\":\"Span\"},{\"attributes\":{\"data\":{\"left\":{\"__ndarray__\":\"AAAAAAAAAABKDAIrhxa5P0oMAiuHFsk/OIlBYOXQ0j9KDAIrhxbZP1yPwvUoXN8/OIlBYOXQ4j/ByqFFtvPlP0oMAiuHFuk/001iEFg57D8=\",\"dtype\":\"float64\",\"order\":\"little\",\"shape\":[10]},\"right\":{\"__ndarray__\":\"SgwCK4cWuT9KDAIrhxbJPziJQWDl0NI/SgwCK4cW2T9cj8L1KFzfPziJQWDl0OI/wcqhRbbz5T9KDAIrhxbpP9NNYhBYOew/XI/C9Shc7z8=\",\"dtype\":\"float64\",\"order\":\"little\",\"shape\":[10]},\"top\":{\"__ndarray__\":\"WB8a60Nj/T9YHxrrQ2P9PwAAAAAAAAAA8nIKXk7BC0AAAAAAAAAAAAAAAAAAAAAAAAAAAAAAAACKxvrQWB/6Pxa8nIKXU/A/isb60Fgf2j8=\",\"dtype\":\"float64\",\"order\":\"little\",\"shape\":[10]}},\"selected\":{\"id\":\"2711\"},\"selection_policy\":{\"id\":\"2712\"}},\"id\":\"2572\",\"type\":\"ColumnDataSource\"},{\"attributes\":{},\"id\":\"2542\",\"type\":\"DataRange1d\"},{\"attributes\":{},\"id\":\"2702\",\"type\":\"BasicTickFormatter\"},{\"attributes\":{\"formatter\":{\"id\":\"2700\"},\"ticker\":{\"id\":\"2518\"}},\"id\":\"2517\",\"type\":\"LinearAxis\"},{\"attributes\":{\"axis\":{\"id\":\"2517\"},\"dimension\":1,\"ticker\":null},\"id\":\"2520\",\"type\":\"Grid\"},{\"attributes\":{},\"id\":\"2546\",\"type\":\"LinearScale\"},{\"attributes\":{},\"id\":\"2558\",\"type\":\"PanTool\"},{\"attributes\":{},\"id\":\"2562\",\"type\":\"ResetTool\"},{\"attributes\":{\"text\":\"\"},\"id\":\"2698\",\"type\":\"Title\"},{\"attributes\":{},\"id\":\"2544\",\"type\":\"DataRange1d\"},{\"attributes\":{\"bottom\":{\"value\":0},\"fill_alpha\":{\"value\":0.1},\"fill_color\":{\"value\":\"#1f77b4\"},\"left\":{\"field\":\"left\"},\"line_alpha\":{\"value\":0.1},\"line_color\":{\"value\":\"white\"},\"right\":{\"field\":\"right\"},\"top\":{\"field\":\"top\"}},\"id\":\"2537\",\"type\":\"Quad\"},{\"attributes\":{},\"id\":\"2559\",\"type\":\"WheelZoomTool\"},{\"attributes\":{},\"id\":\"2700\",\"type\":\"BasicTickFormatter\"},{\"attributes\":{\"overlay\":{\"id\":\"2564\"}},\"id\":\"2560\",\"type\":\"BoxZoomTool\"},{\"attributes\":{},\"id\":\"2524\",\"type\":\"SaveTool\"},{\"attributes\":{},\"id\":\"2706\",\"type\":\"BasicTickFormatter\"},{\"attributes\":{},\"id\":\"2561\",\"type\":\"SaveTool\"},{\"attributes\":{\"source\":{\"id\":\"2572\"}},\"id\":\"2576\",\"type\":\"CDSView\"},{\"attributes\":{},\"id\":\"2548\",\"type\":\"LinearScale\"},{\"attributes\":{\"overlay\":{\"id\":\"2527\"}},\"id\":\"2523\",\"type\":\"BoxZoomTool\"},{\"attributes\":{\"data_source\":{\"id\":\"2535\"},\"glyph\":{\"id\":\"2536\"},\"hover_glyph\":null,\"muted_glyph\":null,\"nonselection_glyph\":{\"id\":\"2537\"},\"selection_glyph\":null,\"view\":{\"id\":\"2539\"}},\"id\":\"2538\",\"type\":\"GlyphRenderer\"},{\"attributes\":{},\"id\":\"2522\",\"type\":\"WheelZoomTool\"},{\"attributes\":{},\"id\":\"2704\",\"type\":\"BasicTickFormatter\"},{\"attributes\":{\"data\":{\"left\":{\"__ndarray__\":\"AAAAAAAAAABmZmZmZmbmP2ZmZmZmZvY/zMzMzMzMAEBmZmZmZmYGQAAAAAAAAAxAzMzMzMzMEECZmZmZmZkTQGZmZmZmZhZAMzMzMzMzGUA=\",\"dtype\":\"float64\",\"order\":\"little\",\"shape\":[10]},\"right\":{\"__ndarray__\":\"ZmZmZmZm5j9mZmZmZmb2P8zMzMzMzABAZmZmZmZmBkAAAAAAAAAMQMzMzMzMzBBAmZmZmZmZE0BmZmZmZmYWQDMzMzMzMxlAAAAAAAAAHEA=\",\"dtype\":\"float64\",\"order\":\"little\",\"shape\":[10]},\"top\":{\"__ndarray__\":\"Fl/xFV/xtT8WX/EVX/HFP1IHdVAHddA/AAAAAAAAAABd8RVf8RXfPyXUQR3UQc0/AAAAAAAAAACRJEmSJEnCPxvUQR3UQZ0/G9RBHdRBnT8=\",\"dtype\":\"float64\",\"order\":\"little\",\"shape\":[10]}},\"selected\":{\"id\":\"2708\"},\"selection_policy\":{\"id\":\"2709\"}},\"id\":\"2535\",\"type\":\"ColumnDataSource\"},{\"attributes\":{},\"id\":\"2518\",\"type\":\"BasicTicker\"},{\"attributes\":{},\"id\":\"2525\",\"type\":\"ResetTool\"},{\"attributes\":{},\"id\":\"2551\",\"type\":\"BasicTicker\"},{\"attributes\":{},\"id\":\"2521\",\"type\":\"PanTool\"},{\"attributes\":{},\"id\":\"2563\",\"type\":\"HelpTool\"},{\"attributes\":{},\"id\":\"2712\",\"type\":\"UnionRenderers\"},{\"attributes\":{\"below\":[{\"id\":\"2513\"}],\"center\":[{\"id\":\"2516\"},{\"id\":\"2520\"}],\"left\":[{\"id\":\"2517\"}],\"renderers\":[{\"id\":\"2538\"},{\"id\":\"2540\"}],\"sizing_mode\":\"scale_both\",\"title\":{\"id\":\"2696\"},\"toolbar\":{\"id\":\"2528\"},\"x_range\":{\"id\":\"2505\"},\"x_scale\":{\"id\":\"2509\"},\"y_range\":{\"id\":\"2507\"},\"y_scale\":{\"id\":\"2511\"}},\"id\":\"2504\",\"subtype\":\"Figure\",\"type\":\"Plot\"},{\"attributes\":{\"formatter\":{\"id\":\"2706\"},\"ticker\":{\"id\":\"2551\"}},\"id\":\"2550\",\"type\":\"LinearAxis\"},{\"attributes\":{\"active_drag\":\"auto\",\"active_inspect\":\"auto\",\"active_multi\":null,\"active_scroll\":\"auto\",\"active_tap\":\"auto\",\"tools\":[{\"id\":\"2558\"},{\"id\":\"2559\"},{\"id\":\"2560\"},{\"id\":\"2561\"},{\"id\":\"2562\"},{\"id\":\"2563\"}]},\"id\":\"2565\",\"type\":\"Toolbar\"},{\"attributes\":{},\"id\":\"2709\",\"type\":\"UnionRenderers\"},{\"attributes\":{\"axis\":{\"id\":\"2513\"},\"ticker\":null},\"id\":\"2516\",\"type\":\"Grid\"},{\"attributes\":{},\"id\":\"2555\",\"type\":\"BasicTicker\"},{\"attributes\":{},\"id\":\"2708\",\"type\":\"Selection\"},{\"attributes\":{\"bottom_units\":\"screen\",\"fill_alpha\":0.5,\"fill_color\":\"lightgrey\",\"left_units\":\"screen\",\"level\":\"overlay\",\"line_alpha\":1.0,\"line_color\":\"black\",\"line_dash\":[4,4],\"line_width\":2,\"right_units\":\"screen\",\"top_units\":\"screen\"},\"id\":\"2564\",\"type\":\"BoxAnnotation\"},{\"attributes\":{},\"id\":\"2526\",\"type\":\"HelpTool\"},{\"attributes\":{\"bottom_units\":\"screen\",\"fill_alpha\":0.5,\"fill_color\":\"lightgrey\",\"left_units\":\"screen\",\"level\":\"overlay\",\"line_alpha\":1.0,\"line_color\":\"black\",\"line_dash\":[4,4],\"line_width\":2,\"right_units\":\"screen\",\"top_units\":\"screen\"},\"id\":\"2527\",\"type\":\"BoxAnnotation\"},{\"attributes\":{\"axis\":{\"id\":\"2550\"},\"ticker\":null},\"id\":\"2553\",\"type\":\"Grid\"},{\"attributes\":{},\"id\":\"2505\",\"type\":\"DataRange1d\"},{\"attributes\":{\"formatter\":{\"id\":\"2704\"},\"ticker\":{\"id\":\"2555\"}},\"id\":\"2554\",\"type\":\"LinearAxis\"},{\"attributes\":{},\"id\":\"2711\",\"type\":\"Selection\"},{\"attributes\":{\"formatter\":{\"id\":\"2702\"},\"ticker\":{\"id\":\"2514\"}},\"id\":\"2513\",\"type\":\"LinearAxis\"},{\"attributes\":{\"bottom\":{\"value\":0},\"fill_color\":{\"value\":\"#1f77b4\"},\"left\":{\"field\":\"left\"},\"line_color\":{\"value\":\"white\"},\"right\":{\"field\":\"right\"},\"top\":{\"field\":\"top\"}},\"id\":\"2573\",\"type\":\"Quad\"},{\"attributes\":{},\"id\":\"2509\",\"type\":\"LinearScale\"},{\"attributes\":{\"source\":{\"id\":\"2535\"}},\"id\":\"2539\",\"type\":\"CDSView\"},{\"attributes\":{},\"id\":\"2507\",\"type\":\"DataRange1d\"},{\"attributes\":{},\"id\":\"2514\",\"type\":\"BasicTicker\"},{\"attributes\":{\"bottom\":{\"value\":0},\"fill_alpha\":{\"value\":0.1},\"fill_color\":{\"value\":\"#1f77b4\"},\"left\":{\"field\":\"left\"},\"line_alpha\":{\"value\":0.1},\"line_color\":{\"value\":\"white\"},\"right\":{\"field\":\"right\"},\"top\":{\"field\":\"top\"}},\"id\":\"2574\",\"type\":\"Quad\"},{\"attributes\":{\"dimension\":\"height\",\"line_color\":\"red\",\"line_width\":3,\"location\":2.9},\"id\":\"2540\",\"type\":\"Span\"},{\"attributes\":{\"below\":[{\"id\":\"2550\"}],\"center\":[{\"id\":\"2553\"},{\"id\":\"2557\"}],\"left\":[{\"id\":\"2554\"}],\"renderers\":[{\"id\":\"2575\"},{\"id\":\"2577\"}],\"sizing_mode\":\"scale_both\",\"title\":{\"id\":\"2698\"},\"toolbar\":{\"id\":\"2565\"},\"x_range\":{\"id\":\"2542\"},\"x_scale\":{\"id\":\"2546\"},\"y_range\":{\"id\":\"2544\"},\"y_scale\":{\"id\":\"2548\"}},\"id\":\"2541\",\"subtype\":\"Figure\",\"type\":\"Plot\"},{\"attributes\":{\"axis\":{\"id\":\"2554\"},\"dimension\":1,\"ticker\":null},\"id\":\"2557\",\"type\":\"Grid\"},{\"attributes\":{},\"id\":\"2511\",\"type\":\"LinearScale\"},{\"attributes\":{\"bottom\":{\"value\":0},\"fill_color\":{\"value\":\"#1f77b4\"},\"left\":{\"field\":\"left\"},\"line_color\":{\"value\":\"white\"},\"right\":{\"field\":\"right\"},\"top\":{\"field\":\"top\"}},\"id\":\"2536\",\"type\":\"Quad\"}],\"root_ids\":[\"2578\"]},\"title\":\"Bokeh Application\",\"version\":\"2.2.3\"}};\n",
       "  var render_items = [{\"docid\":\"8a822165-8ab2-482f-8ab0-1c3016eea174\",\"root_ids\":[\"2578\"],\"roots\":{\"2578\":\"dfbd3a68-06cb-4f35-8269-3f56df9d9198\"}}];\n",
       "  root.Bokeh.embed.embed_items_notebook(docs_json, render_items);\n",
       "\n",
       "  }\n",
       "  if (root.Bokeh !== undefined) {\n",
       "    embed_document(root);\n",
       "  } else {\n",
       "    var attempts = 0;\n",
       "    var timer = setInterval(function(root) {\n",
       "      if (root.Bokeh !== undefined) {\n",
       "        clearInterval(timer);\n",
       "        embed_document(root);\n",
       "      } else {\n",
       "        attempts++;\n",
       "        if (attempts > 100) {\n",
       "          clearInterval(timer);\n",
       "          console.log(\"Bokeh: ERROR: Unable to run BokehJS code because BokehJS library is missing\");\n",
       "        }\n",
       "      }\n",
       "    }, 10, root)\n",
       "  }\n",
       "})(window);"
      ],
      "application/vnd.bokehjs_exec.v0+json": ""
     },
     "metadata": {
      "application/vnd.bokehjs_exec.v0+json": {
       "id": "2578"
      }
     },
     "output_type": "display_data"
    }
   ],
   "source": [
    "# Primera repetición\n",
    "muestra_bin = muestra_gen(50, binomial_gen, 10, 0.3)\n",
    "muestra_fde_bin = muestra_fde(muestra_bin)\n",
    "\n",
    "print(\"2 - Media Muestral Bin(10, 0.3): \", round(media_muestral(muestra_bin), 3))\n",
    "print(\"2 - Media Muestral FDE(Bin(10, 0.3)): \", round(media_muestral(muestra_fde_bin), 3))\n",
    "\n",
    "print(\"2 - Varianza Muestral Bin(10, 0.3): \", round(varianza_muestral(muestra_bin), 3))\n",
    "print(\"2 - Varianza Muestral FDE(Bin(10, 0.3)): \", round(varianza_muestral(muestra_fde_bin), 3))\n",
    "\n",
    "hist1 = crear_histograma(muestra_bin)\n",
    "linea_media_muestral_bin = Span(location= media_muestral(muestra_bin), dimension='height', line_color='red', line_width=3)\n",
    "hist1.renderers.extend([linea_media_muestral_bin])\n",
    "\n",
    "hist2 = crear_histograma(muestra_fde_bin)\n",
    "linea_media_muestral_fde = Span(location= media_muestral(muestra_fde_bin), dimension='height', line_color='red', line_width=3)\n",
    "hist2.renderers.extend([linea_media_muestral_fde])\n",
    "\n",
    "show(row(hist1, hist2, sizing_mode='scale_both'))\n",
    "\n",
    "# Segunda repetición\n",
    "muestra_bin = muestra_gen(50, binomial_gen, 10, 0.3)\n",
    "muestra_fde_bin = muestra_fde(muestra_bin)\n",
    "\n",
    "print(\"3 - Media Muestral Bin(10, 0.3): \", round(media_muestral(muestra_bin), 3))\n",
    "print(\"3 - Media Muestral FDE(Bin(10, 0.3)): \", round(media_muestral(muestra_fde_bin), 3))\n",
    "\n",
    "print(\"3 - Varianza Muestral Bin(10, 0.3): \", round(varianza_muestral(muestra_bin), 3))\n",
    "print(\"3 - Varianza Muestral FDE(Bin(10, 0.3)): \", round(varianza_muestral(muestra_fde_bin), 3))\n",
    "\n",
    "hist1 = crear_histograma(muestra_bin)\n",
    "linea_media_muestral_bin = Span(location= media_muestral(muestra_bin), dimension='height', line_color='red', line_width=3)\n",
    "hist1.renderers.extend([linea_media_muestral_bin])\n",
    "\n",
    "hist2 = crear_histograma(muestra_fde_bin)\n",
    "linea_media_muestral_fde = Span(location= media_muestral(muestra_fde_bin), dimension='height', line_color='red', line_width=3)\n",
    "hist2.renderers.extend([linea_media_muestral_fde])\n",
    "\n",
    "show(row(hist1, hist2, sizing_mode='scale_both'))"
   ]
  },
  {
   "cell_type": "markdown",
   "metadata": {},
   "source": [
    "## Prueba histograma"
   ]
  },
  {
   "cell_type": "code",
   "execution_count": 30,
   "metadata": {},
   "outputs": [
    {
     "data": {
      "text/html": [
       "\n",
       "\n",
       "\n",
       "\n",
       "\n",
       "\n",
       "  <div class=\"bk-root\" id=\"ce991d7f-f6b3-4b24-befe-7a292189716c\" data-root-id=\"2804\"></div>\n"
      ]
     },
     "metadata": {},
     "output_type": "display_data"
    },
    {
     "data": {
      "application/javascript": [
       "(function(root) {\n",
       "  function embed_document(root) {\n",
       "    \n",
       "  var docs_json = {\"94d22ca5-a6b8-49b1-ac6e-48c52d397dd4\":{\"roots\":{\"references\":[{\"attributes\":{\"below\":[{\"id\":\"2813\"}],\"center\":[{\"id\":\"2816\"},{\"id\":\"2820\"}],\"left\":[{\"id\":\"2817\"}],\"renderers\":[{\"id\":\"2838\"}],\"title\":{\"id\":\"2975\"},\"toolbar\":{\"id\":\"2828\"},\"x_range\":{\"id\":\"2805\"},\"x_scale\":{\"id\":\"2809\"},\"y_range\":{\"id\":\"2807\"},\"y_scale\":{\"id\":\"2811\"}},\"id\":\"2804\",\"subtype\":\"Figure\",\"type\":\"Plot\"},{\"attributes\":{},\"id\":\"2825\",\"type\":\"ResetTool\"},{\"attributes\":{\"source\":{\"id\":\"2835\"}},\"id\":\"2839\",\"type\":\"CDSView\"},{\"attributes\":{},\"id\":\"2814\",\"type\":\"BasicTicker\"},{\"attributes\":{},\"id\":\"2805\",\"type\":\"DataRange1d\"},{\"attributes\":{\"formatter\":{\"id\":\"2979\"},\"ticker\":{\"id\":\"2814\"}},\"id\":\"2813\",\"type\":\"LinearAxis\"},{\"attributes\":{\"overlay\":{\"id\":\"2827\"}},\"id\":\"2823\",\"type\":\"BoxZoomTool\"},{\"attributes\":{\"formatter\":{\"id\":\"2977\"},\"ticker\":{\"id\":\"2818\"}},\"id\":\"2817\",\"type\":\"LinearAxis\"},{\"attributes\":{\"axis\":{\"id\":\"2813\"},\"ticker\":null},\"id\":\"2816\",\"type\":\"Grid\"},{\"attributes\":{\"bottom_units\":\"screen\",\"fill_alpha\":0.5,\"fill_color\":\"lightgrey\",\"left_units\":\"screen\",\"level\":\"overlay\",\"line_alpha\":1.0,\"line_color\":\"black\",\"line_dash\":[4,4],\"line_width\":2,\"right_units\":\"screen\",\"top_units\":\"screen\"},\"id\":\"2827\",\"type\":\"BoxAnnotation\"},{\"attributes\":{},\"id\":\"2811\",\"type\":\"LinearScale\"},{\"attributes\":{\"text\":\"\"},\"id\":\"2975\",\"type\":\"Title\"},{\"attributes\":{},\"id\":\"2809\",\"type\":\"LinearScale\"},{\"attributes\":{},\"id\":\"2826\",\"type\":\"HelpTool\"},{\"attributes\":{\"data_source\":{\"id\":\"2835\"},\"glyph\":{\"id\":\"2836\"},\"hover_glyph\":null,\"muted_glyph\":null,\"nonselection_glyph\":{\"id\":\"2837\"},\"selection_glyph\":null,\"view\":{\"id\":\"2839\"}},\"id\":\"2838\",\"type\":\"GlyphRenderer\"},{\"attributes\":{\"bottom\":{\"value\":0},\"fill_color\":{\"value\":\"#1f77b4\"},\"left\":{\"field\":\"left\"},\"line_color\":{\"value\":\"white\"},\"right\":{\"field\":\"right\"},\"top\":{\"field\":\"top\"}},\"id\":\"2836\",\"type\":\"Quad\"},{\"attributes\":{},\"id\":\"2979\",\"type\":\"BasicTickFormatter\"},{\"attributes\":{},\"id\":\"2821\",\"type\":\"PanTool\"},{\"attributes\":{},\"id\":\"2822\",\"type\":\"WheelZoomTool\"},{\"attributes\":{},\"id\":\"2818\",\"type\":\"BasicTicker\"},{\"attributes\":{\"bottom\":{\"value\":0},\"fill_alpha\":{\"value\":0.1},\"fill_color\":{\"value\":\"#1f77b4\"},\"left\":{\"field\":\"left\"},\"line_alpha\":{\"value\":0.1},\"line_color\":{\"value\":\"white\"},\"right\":{\"field\":\"right\"},\"top\":{\"field\":\"top\"}},\"id\":\"2837\",\"type\":\"Quad\"},{\"attributes\":{\"active_drag\":\"auto\",\"active_inspect\":\"auto\",\"active_multi\":null,\"active_scroll\":\"auto\",\"active_tap\":\"auto\",\"tools\":[{\"id\":\"2821\"},{\"id\":\"2822\"},{\"id\":\"2823\"},{\"id\":\"2824\"},{\"id\":\"2825\"},{\"id\":\"2826\"}]},\"id\":\"2828\",\"type\":\"Toolbar\"},{\"attributes\":{\"axis\":{\"id\":\"2817\"},\"dimension\":1,\"ticker\":null},\"id\":\"2820\",\"type\":\"Grid\"},{\"attributes\":{},\"id\":\"2982\",\"type\":\"UnionRenderers\"},{\"attributes\":{},\"id\":\"2824\",\"type\":\"SaveTool\"},{\"attributes\":{\"data\":{\"left\":{\"__ndarray__\":\"RPo+ZgKjBcDUiIo966oAwMourCmoZfe/1peGsPPq6r9gSNM2XCrMv1DnOSqLq9k/slz3GxFb8D+QP2BtP0v6PziRZN+2HQJAqAIZCM4VB0A=\",\"dtype\":\"float64\",\"order\":\"little\",\"shape\":[10]},\"right\":{\"__ndarray__\":\"1IiKPeuqAMDKLqwpqGX3v9aXhrDz6uq/YEjTNlwqzL9Q5zkqi6vZP7Jc9xsRW/A/kD9gbT9L+j84kWTfth0CQKgCGQjOFQdAGXTNMOUNDEA=\",\"dtype\":\"float64\",\"order\":\"little\",\"shape\":[10]},\"top\":{\"__ndarray__\":\"ujuv4msikj80oHI2jue3P/Vq/uPRhcg/BpxS6zb90z8QRO94GvfZP9Q9P4iXF9Q/cdXmiEpJxz9gLUr7Zk+xPyJ1Q4B/bpU/aVh5sXXIcz8=\",\"dtype\":\"float64\",\"order\":\"little\",\"shape\":[10]}},\"selected\":{\"id\":\"2981\"},\"selection_policy\":{\"id\":\"2982\"}},\"id\":\"2835\",\"type\":\"ColumnDataSource\"},{\"attributes\":{},\"id\":\"2981\",\"type\":\"Selection\"},{\"attributes\":{},\"id\":\"2807\",\"type\":\"DataRange1d\"},{\"attributes\":{},\"id\":\"2977\",\"type\":\"BasicTickFormatter\"}],\"root_ids\":[\"2804\"]},\"title\":\"Bokeh Application\",\"version\":\"2.2.3\"}};\n",
       "  var render_items = [{\"docid\":\"94d22ca5-a6b8-49b1-ac6e-48c52d397dd4\",\"root_ids\":[\"2804\"],\"roots\":{\"2804\":\"ce991d7f-f6b3-4b24-befe-7a292189716c\"}}];\n",
       "  root.Bokeh.embed.embed_items_notebook(docs_json, render_items);\n",
       "\n",
       "  }\n",
       "  if (root.Bokeh !== undefined) {\n",
       "    embed_document(root);\n",
       "  } else {\n",
       "    var attempts = 0;\n",
       "    var timer = setInterval(function(root) {\n",
       "      if (root.Bokeh !== undefined) {\n",
       "        clearInterval(timer);\n",
       "        embed_document(root);\n",
       "      } else {\n",
       "        attempts++;\n",
       "        if (attempts > 100) {\n",
       "          clearInterval(timer);\n",
       "          console.log(\"Bokeh: ERROR: Unable to run BokehJS code because BokehJS library is missing\");\n",
       "        }\n",
       "      }\n",
       "    }, 10, root)\n",
       "  }\n",
       "})(window);"
      ],
      "application/vnd.bokehjs_exec.v0+json": ""
     },
     "metadata": {
      "application/vnd.bokehjs_exec.v0+json": {
       "id": "2804"
      }
     },
     "output_type": "display_data"
    },
    {
     "data": {
      "text/html": [
       "\n",
       "\n",
       "\n",
       "\n",
       "\n",
       "\n",
       "  <div class=\"bk-root\" id=\"ff217d67-662b-43df-bcad-3ccbdd90b6c2\" data-root-id=\"3065\"></div>\n"
      ]
     },
     "metadata": {},
     "output_type": "display_data"
    },
    {
     "data": {
      "application/javascript": [
       "(function(root) {\n",
       "  function embed_document(root) {\n",
       "    \n",
       "  var docs_json = {\"ac24da3e-664a-4ae2-9b48-10f0bf7673dc\":{\"roots\":{\"references\":[{\"attributes\":{\"children\":[{\"id\":\"2804\"},{\"id\":\"3029\"}],\"sizing_mode\":\"scale_both\"},\"id\":\"3065\",\"type\":\"Row\"},{\"attributes\":{\"text\":\"\"},\"id\":\"3212\",\"type\":\"Title\"},{\"attributes\":{},\"id\":\"2825\",\"type\":\"ResetTool\"},{\"attributes\":{},\"id\":\"3046\",\"type\":\"PanTool\"},{\"attributes\":{\"bottom_units\":\"screen\",\"fill_alpha\":0.5,\"fill_color\":\"lightgrey\",\"left_units\":\"screen\",\"level\":\"overlay\",\"line_alpha\":1.0,\"line_color\":\"black\",\"line_dash\":[4,4],\"line_width\":2,\"right_units\":\"screen\",\"top_units\":\"screen\"},\"id\":\"3052\",\"type\":\"BoxAnnotation\"},{\"attributes\":{\"source\":{\"id\":\"2835\"}},\"id\":\"2839\",\"type\":\"CDSView\"},{\"attributes\":{},\"id\":\"2814\",\"type\":\"BasicTicker\"},{\"attributes\":{},\"id\":\"3226\",\"type\":\"UnionRenderers\"},{\"attributes\":{},\"id\":\"2805\",\"type\":\"DataRange1d\"},{\"attributes\":{\"formatter\":{\"id\":\"3220\"},\"ticker\":{\"id\":\"3039\"}},\"id\":\"3038\",\"type\":\"LinearAxis\"},{\"attributes\":{},\"id\":\"3050\",\"type\":\"ResetTool\"},{\"attributes\":{\"formatter\":{\"id\":\"2979\"},\"ticker\":{\"id\":\"2814\"}},\"id\":\"2813\",\"type\":\"LinearAxis\"},{\"attributes\":{\"overlay\":{\"id\":\"2827\"}},\"id\":\"2823\",\"type\":\"BoxZoomTool\"},{\"attributes\":{},\"id\":\"3049\",\"type\":\"SaveTool\"},{\"attributes\":{\"formatter\":{\"id\":\"2977\"},\"ticker\":{\"id\":\"2818\"}},\"id\":\"2817\",\"type\":\"LinearAxis\"},{\"attributes\":{\"axis\":{\"id\":\"2813\"},\"ticker\":null},\"id\":\"2816\",\"type\":\"Grid\"},{\"attributes\":{},\"id\":\"3030\",\"type\":\"DataRange1d\"},{\"attributes\":{},\"id\":\"2977\",\"type\":\"BasicTickFormatter\"},{\"attributes\":{\"data\":{\"left\":{\"__ndarray__\":\"RPo+ZgKjBcC8m6gZ734BwGl6JJq3tfq/Wr33AJFt8r+UAJbP1Erkv6Az5Ok81L2/UOc5Kour2T/IbXbHEmbtP/Tz5/wv+/Y/BLEUllZD/z8Kt6CXvsUDQJIVN+TR6QdA\",\"dtype\":\"float64\",\"order\":\"little\",\"shape\":[12]},\"right\":{\"__ndarray__\":\"vJuoGe9+AcBpeiSat7X6v1q99wCRbfK/lACWz9RK5L+gM+TpPNS9v1DnOSqLq9k/yG12xxJm7T/08+f8L/v2PwSxFJZWQ/8/Cregl77FA0CSFTfk0ekHQBl0zTDlDQxA\",\"dtype\":\"float64\",\"order\":\"little\",\"shape\":[12]},\"top\":{\"__ndarray__\":\"ZhXdXj6yiz8BpfYQoEyyPz+UTzwSR8Q/1chf/xMuzT+TZT0iNgLWP/5hWr5oNto/DNAlx67F1D+vu5uOU/TKP4mu1x2Turg/BY2JdHevrD/i8461IqePP+rzjrUip28/\",\"dtype\":\"float64\",\"order\":\"little\",\"shape\":[12]}},\"selected\":{\"id\":\"3225\"},\"selection_policy\":{\"id\":\"3226\"}},\"id\":\"3060\",\"type\":\"ColumnDataSource\"},{\"attributes\":{\"bottom_units\":\"screen\",\"fill_alpha\":0.5,\"fill_color\":\"lightgrey\",\"left_units\":\"screen\",\"level\":\"overlay\",\"line_alpha\":1.0,\"line_color\":\"black\",\"line_dash\":[4,4],\"line_width\":2,\"right_units\":\"screen\",\"top_units\":\"screen\"},\"id\":\"2827\",\"type\":\"BoxAnnotation\"},{\"attributes\":{},\"id\":\"2811\",\"type\":\"LinearScale\"},{\"attributes\":{},\"id\":\"3032\",\"type\":\"DataRange1d\"},{\"attributes\":{\"bottom\":{\"value\":0},\"fill_color\":{\"value\":\"#1f77b4\"},\"left\":{\"field\":\"left\"},\"line_color\":{\"value\":\"white\"},\"right\":{\"field\":\"right\"},\"top\":{\"field\":\"top\"}},\"id\":\"3061\",\"type\":\"Quad\"},{\"attributes\":{\"formatter\":{\"id\":\"3218\"},\"ticker\":{\"id\":\"3043\"}},\"id\":\"3042\",\"type\":\"LinearAxis\"},{\"attributes\":{\"overlay\":{\"id\":\"3052\"}},\"id\":\"3048\",\"type\":\"BoxZoomTool\"},{\"attributes\":{},\"id\":\"3051\",\"type\":\"HelpTool\"},{\"attributes\":{\"text\":\"\"},\"id\":\"2975\",\"type\":\"Title\"},{\"attributes\":{\"data_source\":{\"id\":\"3060\"},\"glyph\":{\"id\":\"3061\"},\"hover_glyph\":null,\"muted_glyph\":null,\"nonselection_glyph\":{\"id\":\"3062\"},\"selection_glyph\":null,\"view\":{\"id\":\"3064\"}},\"id\":\"3063\",\"type\":\"GlyphRenderer\"},{\"attributes\":{},\"id\":\"2809\",\"type\":\"LinearScale\"},{\"attributes\":{\"axis\":{\"id\":\"3038\"},\"ticker\":null},\"id\":\"3041\",\"type\":\"Grid\"},{\"attributes\":{\"active_drag\":\"auto\",\"active_inspect\":\"auto\",\"active_multi\":null,\"active_scroll\":\"auto\",\"active_tap\":\"auto\",\"tools\":[{\"id\":\"3046\"},{\"id\":\"3047\"},{\"id\":\"3048\"},{\"id\":\"3049\"},{\"id\":\"3050\"},{\"id\":\"3051\"}]},\"id\":\"3053\",\"type\":\"Toolbar\"},{\"attributes\":{},\"id\":\"2826\",\"type\":\"HelpTool\"},{\"attributes\":{\"data_source\":{\"id\":\"2835\"},\"glyph\":{\"id\":\"2836\"},\"hover_glyph\":null,\"muted_glyph\":null,\"nonselection_glyph\":{\"id\":\"2837\"},\"selection_glyph\":null,\"view\":{\"id\":\"2839\"}},\"id\":\"2838\",\"type\":\"GlyphRenderer\"},{\"attributes\":{\"bottom\":{\"value\":0},\"fill_color\":{\"value\":\"#1f77b4\"},\"left\":{\"field\":\"left\"},\"line_color\":{\"value\":\"white\"},\"right\":{\"field\":\"right\"},\"top\":{\"field\":\"top\"}},\"id\":\"2836\",\"type\":\"Quad\"},{\"attributes\":{},\"id\":\"2979\",\"type\":\"BasicTickFormatter\"},{\"attributes\":{},\"id\":\"2821\",\"type\":\"PanTool\"},{\"attributes\":{},\"id\":\"2822\",\"type\":\"WheelZoomTool\"},{\"attributes\":{\"bottom\":{\"value\":0},\"fill_alpha\":{\"value\":0.1},\"fill_color\":{\"value\":\"#1f77b4\"},\"left\":{\"field\":\"left\"},\"line_alpha\":{\"value\":0.1},\"line_color\":{\"value\":\"white\"},\"right\":{\"field\":\"right\"},\"top\":{\"field\":\"top\"}},\"id\":\"3062\",\"type\":\"Quad\"},{\"attributes\":{},\"id\":\"3043\",\"type\":\"BasicTicker\"},{\"attributes\":{},\"id\":\"3225\",\"type\":\"Selection\"},{\"attributes\":{\"axis\":{\"id\":\"3042\"},\"dimension\":1,\"ticker\":null},\"id\":\"3045\",\"type\":\"Grid\"},{\"attributes\":{},\"id\":\"3034\",\"type\":\"LinearScale\"},{\"attributes\":{},\"id\":\"2818\",\"type\":\"BasicTicker\"},{\"attributes\":{},\"id\":\"3039\",\"type\":\"BasicTicker\"},{\"attributes\":{\"bottom\":{\"value\":0},\"fill_alpha\":{\"value\":0.1},\"fill_color\":{\"value\":\"#1f77b4\"},\"left\":{\"field\":\"left\"},\"line_alpha\":{\"value\":0.1},\"line_color\":{\"value\":\"white\"},\"right\":{\"field\":\"right\"},\"top\":{\"field\":\"top\"}},\"id\":\"2837\",\"type\":\"Quad\"},{\"attributes\":{},\"id\":\"3218\",\"type\":\"BasicTickFormatter\"},{\"attributes\":{\"below\":[{\"id\":\"2813\"}],\"center\":[{\"id\":\"2816\"},{\"id\":\"2820\"}],\"left\":[{\"id\":\"2817\"}],\"renderers\":[{\"id\":\"2838\"}],\"sizing_mode\":\"scale_both\",\"title\":{\"id\":\"2975\"},\"toolbar\":{\"id\":\"2828\"},\"x_range\":{\"id\":\"2805\"},\"x_scale\":{\"id\":\"2809\"},\"y_range\":{\"id\":\"2807\"},\"y_scale\":{\"id\":\"2811\"}},\"id\":\"2804\",\"subtype\":\"Figure\",\"type\":\"Plot\"},{\"attributes\":{\"active_drag\":\"auto\",\"active_inspect\":\"auto\",\"active_multi\":null,\"active_scroll\":\"auto\",\"active_tap\":\"auto\",\"tools\":[{\"id\":\"2821\"},{\"id\":\"2822\"},{\"id\":\"2823\"},{\"id\":\"2824\"},{\"id\":\"2825\"},{\"id\":\"2826\"}]},\"id\":\"2828\",\"type\":\"Toolbar\"},{\"attributes\":{},\"id\":\"2982\",\"type\":\"UnionRenderers\"},{\"attributes\":{},\"id\":\"3036\",\"type\":\"LinearScale\"},{\"attributes\":{},\"id\":\"2824\",\"type\":\"SaveTool\"},{\"attributes\":{},\"id\":\"3047\",\"type\":\"WheelZoomTool\"},{\"attributes\":{\"data\":{\"left\":{\"__ndarray__\":\"RPo+ZgKjBcDUiIo966oAwMourCmoZfe/1peGsPPq6r9gSNM2XCrMv1DnOSqLq9k/slz3GxFb8D+QP2BtP0v6PziRZN+2HQJAqAIZCM4VB0A=\",\"dtype\":\"float64\",\"order\":\"little\",\"shape\":[10]},\"right\":{\"__ndarray__\":\"1IiKPeuqAMDKLqwpqGX3v9aXhrDz6uq/YEjTNlwqzL9Q5zkqi6vZP7Jc9xsRW/A/kD9gbT9L+j84kWTfth0CQKgCGQjOFQdAGXTNMOUNDEA=\",\"dtype\":\"float64\",\"order\":\"little\",\"shape\":[10]},\"top\":{\"__ndarray__\":\"ujuv4msikj80oHI2jue3P/Vq/uPRhcg/BpxS6zb90z8QRO94GvfZP9Q9P4iXF9Q/cdXmiEpJxz9gLUr7Zk+xPyJ1Q4B/bpU/aVh5sXXIcz8=\",\"dtype\":\"float64\",\"order\":\"little\",\"shape\":[10]}},\"selected\":{\"id\":\"2981\"},\"selection_policy\":{\"id\":\"2982\"}},\"id\":\"2835\",\"type\":\"ColumnDataSource\"},{\"attributes\":{\"source\":{\"id\":\"3060\"}},\"id\":\"3064\",\"type\":\"CDSView\"},{\"attributes\":{},\"id\":\"3220\",\"type\":\"BasicTickFormatter\"},{\"attributes\":{},\"id\":\"2981\",\"type\":\"Selection\"},{\"attributes\":{},\"id\":\"2807\",\"type\":\"DataRange1d\"},{\"attributes\":{\"below\":[{\"id\":\"3038\"}],\"center\":[{\"id\":\"3041\"},{\"id\":\"3045\"}],\"left\":[{\"id\":\"3042\"}],\"renderers\":[{\"id\":\"3063\"}],\"sizing_mode\":\"scale_both\",\"title\":{\"id\":\"3212\"},\"toolbar\":{\"id\":\"3053\"},\"x_range\":{\"id\":\"3030\"},\"x_scale\":{\"id\":\"3034\"},\"y_range\":{\"id\":\"3032\"},\"y_scale\":{\"id\":\"3036\"}},\"id\":\"3029\",\"subtype\":\"Figure\",\"type\":\"Plot\"},{\"attributes\":{\"axis\":{\"id\":\"2817\"},\"dimension\":1,\"ticker\":null},\"id\":\"2820\",\"type\":\"Grid\"}],\"root_ids\":[\"3065\"]},\"title\":\"Bokeh Application\",\"version\":\"2.2.3\"}};\n",
       "  var render_items = [{\"docid\":\"ac24da3e-664a-4ae2-9b48-10f0bf7673dc\",\"root_ids\":[\"3065\"],\"roots\":{\"3065\":\"ff217d67-662b-43df-bcad-3ccbdd90b6c2\"}}];\n",
       "  root.Bokeh.embed.embed_items_notebook(docs_json, render_items);\n",
       "\n",
       "  }\n",
       "  if (root.Bokeh !== undefined) {\n",
       "    embed_document(root);\n",
       "  } else {\n",
       "    var attempts = 0;\n",
       "    var timer = setInterval(function(root) {\n",
       "      if (root.Bokeh !== undefined) {\n",
       "        clearInterval(timer);\n",
       "        embed_document(root);\n",
       "      } else {\n",
       "        attempts++;\n",
       "        if (attempts > 100) {\n",
       "          clearInterval(timer);\n",
       "          console.log(\"Bokeh: ERROR: Unable to run BokehJS code because BokehJS library is missing\");\n",
       "        }\n",
       "      }\n",
       "    }, 10, root)\n",
       "  }\n",
       "})(window);"
      ],
      "application/vnd.bokehjs_exec.v0+json": ""
     },
     "metadata": {
      "application/vnd.bokehjs_exec.v0+json": {
       "id": "3065"
      }
     },
     "output_type": "display_data"
    }
   ],
   "source": [
    "muestra_normal_estandar_1000 = muestra_gen(1000, std_normal_gen)\n",
    "histograma = crear_histograma(muestra_normal_estandar_1000)\n",
    "show(histograma)\n",
    "\n",
    "# También se puede mostrar en una fila varios histogramas\n",
    "histograma_con_ancho = crear_histograma(muestra_normal_estandar_1000, 0.5)\n",
    "show(row(histograma, histograma_con_ancho, sizing_mode='scale_both'))"
   ]
  },
  {
   "cell_type": "markdown",
   "metadata": {},
   "source": [
    "## Bibliografía<a class=\"anchor\" id=\"bibliografia\"></a>"
   ]
  }
 ],
 "metadata": {
  "kernelspec": {
   "display_name": "Python 3",
   "language": "python",
   "name": "python3"
  },
  "language_info": {
   "codemirror_mode": {
    "name": "ipython",
    "version": 3
   },
   "file_extension": ".py",
   "mimetype": "text/x-python",
   "name": "python",
   "nbconvert_exporter": "python",
   "pygments_lexer": "ipython3",
   "version": "3.7.4"
  }
 },
 "nbformat": 4,
 "nbformat_minor": 4
}
